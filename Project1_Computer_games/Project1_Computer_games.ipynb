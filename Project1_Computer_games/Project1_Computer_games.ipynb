{
 "cells": [
  {
   "cell_type": "markdown",
   "metadata": {},
   "source": [
    "# Сборный проект\n",
    "\n",
    " Цель: Выявление закономерностей, которые определяют успешность игры."
   ]
  },
  {
   "cell_type": "markdown",
   "metadata": {},
   "source": [
    "Описание: Вы работаете в интернет-магазине «Стримчик», который продаёт по всему миру компьютерные игры. Из открытых источников доступны исторические данные о продажах игр, оценки пользователей и экспертов, жанры и платформы (например, Xbox или PlayStation). Вам нужно выявить определяющие успешность игры закономерности. Это позволит сделать ставку на потенциально популярный продукт и спланировать рекламные кампании.\n",
    "Перед вами данные до 2016 года. Представим, что сейчас декабрь 2016 г., и вы планируете кампанию на 2017-й. Нужно отработать принцип работы с данными. Неважно, прогнозируете ли вы продажи на 2017 год по данным 2016-го или же 2027-й — по данным 2026 года.\n",
    "В наборе данных попадается аббревиатура ESRB (Entertainment Software Rating Board) — это ассоциация, определяющая возрастной рейтинг компьютерных игр. ESRB оценивает игровой контент и присваивает ему подходящую возрастную категорию, например, «Для взрослых», «Для детей младшего возраста» или «Для подростков».\n"
   ]
  },
  {
   "cell_type": "markdown",
   "metadata": {},
   "source": [
    "Выявление закономерностей включает этапы \n",
    "\n",
    "###  Oбзор данных\n",
    "\n",
    "### Предобработка данных\n",
    "\n",
    "### Исследовательский анализ данных\n",
    "\n",
    "• Анализ количества выпущенных игр за разные годы.\n",
    "\n",
    "• Динамика продаж по платформам.\n",
    "\n",
    "• Определение актуального периода для построения прогноза на 2017 год.\n",
    "\n",
    "• Изучение платформ - лидеров по продажам, их потенциальной прибыльности.\n",
    "\n",
    "• Влияние на продажи внутри одной популярной платформы отзывов пользователей и критиков.\n",
    "\n",
    "### Портрет пользователя каждого региона\n",
    "\n",
    "• Самые популярные платформы (топ-5).\n",
    "\n",
    "• Самые популярные жанры (топ-5). \n",
    "\n",
    "• Влияние рейтинга ESRB на продажи в отдельном регионе.\n",
    "\n",
    "### Проверка гипотез:\n",
    "\n",
    "• Средние пользовательские рейтинги платформ Xbox One и PC одинаковые. \n",
    "\n",
    "• Средние пользовательские рейтинги жанров Action и Sports разные."
   ]
  },
  {
   "cell_type": "markdown",
   "metadata": {},
   "source": [
    "## Обзор данных"
   ]
  },
  {
   "cell_type": "markdown",
   "metadata": {},
   "source": [
    "Импорт библиотек"
   ]
  },
  {
   "cell_type": "markdown",
   "metadata": {},
   "source": [
    "Изучение общей информации"
   ]
  },
  {
   "cell_type": "code",
   "execution_count": 329,
   "metadata": {},
   "outputs": [],
   "source": [
    "import pandas as pd\n",
    "import numpy as np\n",
    "import matplotlib.pyplot as plt\n",
    "import seaborn as sns\n",
    "from scipy import stats as st"
   ]
  },
  {
   "cell_type": "code",
   "execution_count": 330,
   "metadata": {},
   "outputs": [],
   "source": [
    "data = pd.read_csv('/datasets/games.csv')"
   ]
  },
  {
   "cell_type": "code",
   "execution_count": 331,
   "metadata": {
    "scrolled": true
   },
   "outputs": [
    {
     "name": "stdout",
     "output_type": "stream",
     "text": [
      "<class 'pandas.core.frame.DataFrame'>\n",
      "RangeIndex: 16715 entries, 0 to 16714\n",
      "Data columns (total 11 columns):\n",
      " #   Column           Non-Null Count  Dtype  \n",
      "---  ------           --------------  -----  \n",
      " 0   Name             16713 non-null  object \n",
      " 1   Platform         16715 non-null  object \n",
      " 2   Year_of_Release  16446 non-null  float64\n",
      " 3   Genre            16713 non-null  object \n",
      " 4   NA_sales         16715 non-null  float64\n",
      " 5   EU_sales         16715 non-null  float64\n",
      " 6   JP_sales         16715 non-null  float64\n",
      " 7   Other_sales      16715 non-null  float64\n",
      " 8   Critic_Score     8137 non-null   float64\n",
      " 9   User_Score       10014 non-null  object \n",
      " 10  Rating           9949 non-null   object \n",
      "dtypes: float64(6), object(5)\n",
      "memory usage: 1.4+ MB\n"
     ]
    }
   ],
   "source": [
    "data.info()"
   ]
  },
  {
   "cell_type": "code",
   "execution_count": 332,
   "metadata": {},
   "outputs": [
    {
     "data": {
      "text/html": [
       "<div>\n",
       "<style scoped>\n",
       "    .dataframe tbody tr th:only-of-type {\n",
       "        vertical-align: middle;\n",
       "    }\n",
       "\n",
       "    .dataframe tbody tr th {\n",
       "        vertical-align: top;\n",
       "    }\n",
       "\n",
       "    .dataframe thead th {\n",
       "        text-align: right;\n",
       "    }\n",
       "</style>\n",
       "<table border=\"1\" class=\"dataframe\">\n",
       "  <thead>\n",
       "    <tr style=\"text-align: right;\">\n",
       "      <th></th>\n",
       "      <th>Year_of_Release</th>\n",
       "      <th>NA_sales</th>\n",
       "      <th>EU_sales</th>\n",
       "      <th>JP_sales</th>\n",
       "      <th>Other_sales</th>\n",
       "      <th>Critic_Score</th>\n",
       "    </tr>\n",
       "  </thead>\n",
       "  <tbody>\n",
       "    <tr>\n",
       "      <th>count</th>\n",
       "      <td>16446.000000</td>\n",
       "      <td>16715.000000</td>\n",
       "      <td>16715.000000</td>\n",
       "      <td>16715.000000</td>\n",
       "      <td>16715.000000</td>\n",
       "      <td>8137.000000</td>\n",
       "    </tr>\n",
       "    <tr>\n",
       "      <th>mean</th>\n",
       "      <td>2006.484616</td>\n",
       "      <td>0.263377</td>\n",
       "      <td>0.145060</td>\n",
       "      <td>0.077617</td>\n",
       "      <td>0.047342</td>\n",
       "      <td>68.967679</td>\n",
       "    </tr>\n",
       "    <tr>\n",
       "      <th>std</th>\n",
       "      <td>5.877050</td>\n",
       "      <td>0.813604</td>\n",
       "      <td>0.503339</td>\n",
       "      <td>0.308853</td>\n",
       "      <td>0.186731</td>\n",
       "      <td>13.938165</td>\n",
       "    </tr>\n",
       "    <tr>\n",
       "      <th>min</th>\n",
       "      <td>1980.000000</td>\n",
       "      <td>0.000000</td>\n",
       "      <td>0.000000</td>\n",
       "      <td>0.000000</td>\n",
       "      <td>0.000000</td>\n",
       "      <td>13.000000</td>\n",
       "    </tr>\n",
       "    <tr>\n",
       "      <th>25%</th>\n",
       "      <td>2003.000000</td>\n",
       "      <td>0.000000</td>\n",
       "      <td>0.000000</td>\n",
       "      <td>0.000000</td>\n",
       "      <td>0.000000</td>\n",
       "      <td>60.000000</td>\n",
       "    </tr>\n",
       "    <tr>\n",
       "      <th>50%</th>\n",
       "      <td>2007.000000</td>\n",
       "      <td>0.080000</td>\n",
       "      <td>0.020000</td>\n",
       "      <td>0.000000</td>\n",
       "      <td>0.010000</td>\n",
       "      <td>71.000000</td>\n",
       "    </tr>\n",
       "    <tr>\n",
       "      <th>75%</th>\n",
       "      <td>2010.000000</td>\n",
       "      <td>0.240000</td>\n",
       "      <td>0.110000</td>\n",
       "      <td>0.040000</td>\n",
       "      <td>0.030000</td>\n",
       "      <td>79.000000</td>\n",
       "    </tr>\n",
       "    <tr>\n",
       "      <th>max</th>\n",
       "      <td>2016.000000</td>\n",
       "      <td>41.360000</td>\n",
       "      <td>28.960000</td>\n",
       "      <td>10.220000</td>\n",
       "      <td>10.570000</td>\n",
       "      <td>98.000000</td>\n",
       "    </tr>\n",
       "  </tbody>\n",
       "</table>\n",
       "</div>"
      ],
      "text/plain": [
       "       Year_of_Release      NA_sales      EU_sales      JP_sales  \\\n",
       "count     16446.000000  16715.000000  16715.000000  16715.000000   \n",
       "mean       2006.484616      0.263377      0.145060      0.077617   \n",
       "std           5.877050      0.813604      0.503339      0.308853   \n",
       "min        1980.000000      0.000000      0.000000      0.000000   \n",
       "25%        2003.000000      0.000000      0.000000      0.000000   \n",
       "50%        2007.000000      0.080000      0.020000      0.000000   \n",
       "75%        2010.000000      0.240000      0.110000      0.040000   \n",
       "max        2016.000000     41.360000     28.960000     10.220000   \n",
       "\n",
       "        Other_sales  Critic_Score  \n",
       "count  16715.000000   8137.000000  \n",
       "mean       0.047342     68.967679  \n",
       "std        0.186731     13.938165  \n",
       "min        0.000000     13.000000  \n",
       "25%        0.000000     60.000000  \n",
       "50%        0.010000     71.000000  \n",
       "75%        0.030000     79.000000  \n",
       "max       10.570000     98.000000  "
      ]
     },
     "execution_count": 332,
     "metadata": {},
     "output_type": "execute_result"
    }
   ],
   "source": [
    "data.describe()"
   ]
  },
  {
   "cell_type": "markdown",
   "metadata": {},
   "source": [
    "## Предобработка данных"
   ]
  },
  {
   "cell_type": "markdown",
   "metadata": {},
   "source": [
    "Изменить названия столбцов - привести к нижнему регистру"
   ]
  },
  {
   "cell_type": "code",
   "execution_count": 333,
   "metadata": {
    "scrolled": true
   },
   "outputs": [
    {
     "data": {
      "text/html": [
       "<div>\n",
       "<style scoped>\n",
       "    .dataframe tbody tr th:only-of-type {\n",
       "        vertical-align: middle;\n",
       "    }\n",
       "\n",
       "    .dataframe tbody tr th {\n",
       "        vertical-align: top;\n",
       "    }\n",
       "\n",
       "    .dataframe thead th {\n",
       "        text-align: right;\n",
       "    }\n",
       "</style>\n",
       "<table border=\"1\" class=\"dataframe\">\n",
       "  <thead>\n",
       "    <tr style=\"text-align: right;\">\n",
       "      <th></th>\n",
       "      <th>name</th>\n",
       "      <th>platform</th>\n",
       "      <th>year_of_release</th>\n",
       "      <th>genre</th>\n",
       "      <th>na_sales</th>\n",
       "      <th>eu_sales</th>\n",
       "      <th>jp_sales</th>\n",
       "      <th>other_sales</th>\n",
       "      <th>critic_score</th>\n",
       "      <th>user_score</th>\n",
       "      <th>rating</th>\n",
       "    </tr>\n",
       "  </thead>\n",
       "  <tbody>\n",
       "    <tr>\n",
       "      <th>0</th>\n",
       "      <td>Wii Sports</td>\n",
       "      <td>Wii</td>\n",
       "      <td>2006.0</td>\n",
       "      <td>Sports</td>\n",
       "      <td>41.36</td>\n",
       "      <td>28.96</td>\n",
       "      <td>3.77</td>\n",
       "      <td>8.45</td>\n",
       "      <td>76.0</td>\n",
       "      <td>8</td>\n",
       "      <td>E</td>\n",
       "    </tr>\n",
       "    <tr>\n",
       "      <th>1</th>\n",
       "      <td>Super Mario Bros.</td>\n",
       "      <td>NES</td>\n",
       "      <td>1985.0</td>\n",
       "      <td>Platform</td>\n",
       "      <td>29.08</td>\n",
       "      <td>3.58</td>\n",
       "      <td>6.81</td>\n",
       "      <td>0.77</td>\n",
       "      <td>NaN</td>\n",
       "      <td>NaN</td>\n",
       "      <td>NaN</td>\n",
       "    </tr>\n",
       "    <tr>\n",
       "      <th>2</th>\n",
       "      <td>Mario Kart Wii</td>\n",
       "      <td>Wii</td>\n",
       "      <td>2008.0</td>\n",
       "      <td>Racing</td>\n",
       "      <td>15.68</td>\n",
       "      <td>12.76</td>\n",
       "      <td>3.79</td>\n",
       "      <td>3.29</td>\n",
       "      <td>82.0</td>\n",
       "      <td>8.3</td>\n",
       "      <td>E</td>\n",
       "    </tr>\n",
       "    <tr>\n",
       "      <th>3</th>\n",
       "      <td>Wii Sports Resort</td>\n",
       "      <td>Wii</td>\n",
       "      <td>2009.0</td>\n",
       "      <td>Sports</td>\n",
       "      <td>15.61</td>\n",
       "      <td>10.93</td>\n",
       "      <td>3.28</td>\n",
       "      <td>2.95</td>\n",
       "      <td>80.0</td>\n",
       "      <td>8</td>\n",
       "      <td>E</td>\n",
       "    </tr>\n",
       "    <tr>\n",
       "      <th>4</th>\n",
       "      <td>Pokemon Red/Pokemon Blue</td>\n",
       "      <td>GB</td>\n",
       "      <td>1996.0</td>\n",
       "      <td>Role-Playing</td>\n",
       "      <td>11.27</td>\n",
       "      <td>8.89</td>\n",
       "      <td>10.22</td>\n",
       "      <td>1.00</td>\n",
       "      <td>NaN</td>\n",
       "      <td>NaN</td>\n",
       "      <td>NaN</td>\n",
       "    </tr>\n",
       "    <tr>\n",
       "      <th>...</th>\n",
       "      <td>...</td>\n",
       "      <td>...</td>\n",
       "      <td>...</td>\n",
       "      <td>...</td>\n",
       "      <td>...</td>\n",
       "      <td>...</td>\n",
       "      <td>...</td>\n",
       "      <td>...</td>\n",
       "      <td>...</td>\n",
       "      <td>...</td>\n",
       "      <td>...</td>\n",
       "    </tr>\n",
       "    <tr>\n",
       "      <th>16710</th>\n",
       "      <td>Samurai Warriors: Sanada Maru</td>\n",
       "      <td>PS3</td>\n",
       "      <td>2016.0</td>\n",
       "      <td>Action</td>\n",
       "      <td>0.00</td>\n",
       "      <td>0.00</td>\n",
       "      <td>0.01</td>\n",
       "      <td>0.00</td>\n",
       "      <td>NaN</td>\n",
       "      <td>NaN</td>\n",
       "      <td>NaN</td>\n",
       "    </tr>\n",
       "    <tr>\n",
       "      <th>16711</th>\n",
       "      <td>LMA Manager 2007</td>\n",
       "      <td>X360</td>\n",
       "      <td>2006.0</td>\n",
       "      <td>Sports</td>\n",
       "      <td>0.00</td>\n",
       "      <td>0.01</td>\n",
       "      <td>0.00</td>\n",
       "      <td>0.00</td>\n",
       "      <td>NaN</td>\n",
       "      <td>NaN</td>\n",
       "      <td>NaN</td>\n",
       "    </tr>\n",
       "    <tr>\n",
       "      <th>16712</th>\n",
       "      <td>Haitaka no Psychedelica</td>\n",
       "      <td>PSV</td>\n",
       "      <td>2016.0</td>\n",
       "      <td>Adventure</td>\n",
       "      <td>0.00</td>\n",
       "      <td>0.00</td>\n",
       "      <td>0.01</td>\n",
       "      <td>0.00</td>\n",
       "      <td>NaN</td>\n",
       "      <td>NaN</td>\n",
       "      <td>NaN</td>\n",
       "    </tr>\n",
       "    <tr>\n",
       "      <th>16713</th>\n",
       "      <td>Spirits &amp; Spells</td>\n",
       "      <td>GBA</td>\n",
       "      <td>2003.0</td>\n",
       "      <td>Platform</td>\n",
       "      <td>0.01</td>\n",
       "      <td>0.00</td>\n",
       "      <td>0.00</td>\n",
       "      <td>0.00</td>\n",
       "      <td>NaN</td>\n",
       "      <td>NaN</td>\n",
       "      <td>NaN</td>\n",
       "    </tr>\n",
       "    <tr>\n",
       "      <th>16714</th>\n",
       "      <td>Winning Post 8 2016</td>\n",
       "      <td>PSV</td>\n",
       "      <td>2016.0</td>\n",
       "      <td>Simulation</td>\n",
       "      <td>0.00</td>\n",
       "      <td>0.00</td>\n",
       "      <td>0.01</td>\n",
       "      <td>0.00</td>\n",
       "      <td>NaN</td>\n",
       "      <td>NaN</td>\n",
       "      <td>NaN</td>\n",
       "    </tr>\n",
       "  </tbody>\n",
       "</table>\n",
       "<p>16715 rows × 11 columns</p>\n",
       "</div>"
      ],
      "text/plain": [
       "                                name platform  year_of_release         genre  \\\n",
       "0                         Wii Sports      Wii           2006.0        Sports   \n",
       "1                  Super Mario Bros.      NES           1985.0      Platform   \n",
       "2                     Mario Kart Wii      Wii           2008.0        Racing   \n",
       "3                  Wii Sports Resort      Wii           2009.0        Sports   \n",
       "4           Pokemon Red/Pokemon Blue       GB           1996.0  Role-Playing   \n",
       "...                              ...      ...              ...           ...   \n",
       "16710  Samurai Warriors: Sanada Maru      PS3           2016.0        Action   \n",
       "16711               LMA Manager 2007     X360           2006.0        Sports   \n",
       "16712        Haitaka no Psychedelica      PSV           2016.0     Adventure   \n",
       "16713               Spirits & Spells      GBA           2003.0      Platform   \n",
       "16714            Winning Post 8 2016      PSV           2016.0    Simulation   \n",
       "\n",
       "       na_sales  eu_sales  jp_sales  other_sales  critic_score user_score  \\\n",
       "0         41.36     28.96      3.77         8.45          76.0          8   \n",
       "1         29.08      3.58      6.81         0.77           NaN        NaN   \n",
       "2         15.68     12.76      3.79         3.29          82.0        8.3   \n",
       "3         15.61     10.93      3.28         2.95          80.0          8   \n",
       "4         11.27      8.89     10.22         1.00           NaN        NaN   \n",
       "...         ...       ...       ...          ...           ...        ...   \n",
       "16710      0.00      0.00      0.01         0.00           NaN        NaN   \n",
       "16711      0.00      0.01      0.00         0.00           NaN        NaN   \n",
       "16712      0.00      0.00      0.01         0.00           NaN        NaN   \n",
       "16713      0.01      0.00      0.00         0.00           NaN        NaN   \n",
       "16714      0.00      0.00      0.01         0.00           NaN        NaN   \n",
       "\n",
       "      rating  \n",
       "0          E  \n",
       "1        NaN  \n",
       "2          E  \n",
       "3          E  \n",
       "4        NaN  \n",
       "...      ...  \n",
       "16710    NaN  \n",
       "16711    NaN  \n",
       "16712    NaN  \n",
       "16713    NaN  \n",
       "16714    NaN  \n",
       "\n",
       "[16715 rows x 11 columns]"
      ]
     },
     "execution_count": 333,
     "metadata": {},
     "output_type": "execute_result"
    }
   ],
   "source": [
    "data.columns = data.columns.str.lower()\n",
    "data"
   ]
  },
  {
   "cell_type": "markdown",
   "metadata": {},
   "source": [
    "Преобразование данных в нужные типы"
   ]
  },
  {
   "cell_type": "code",
   "execution_count": 334,
   "metadata": {
    "scrolled": true
   },
   "outputs": [
    {
     "data": {
      "text/plain": [
       "array(['8', nan, '8.3', '8.5', '6.6', '8.4', '8.6', '7.7', '6.3', '7.4',\n",
       "       '8.2', '9', '7.9', '8.1', '8.7', '7.1', '3.4', '5.3', '4.8', '3.2',\n",
       "       '8.9', '6.4', '7.8', '7.5', '2.6', '7.2', '9.2', '7', '7.3', '4.3',\n",
       "       '7.6', '5.7', '5', '9.1', '6.5', 'tbd', '8.8', '6.9', '9.4', '6.8',\n",
       "       '6.1', '6.7', '5.4', '4', '4.9', '4.5', '9.3', '6.2', '4.2', '6',\n",
       "       '3.7', '4.1', '5.8', '5.6', '5.5', '4.4', '4.6', '5.9', '3.9',\n",
       "       '3.1', '2.9', '5.2', '3.3', '4.7', '5.1', '3.5', '2.5', '1.9', '3',\n",
       "       '2.7', '2.2', '2', '9.5', '2.1', '3.6', '2.8', '1.8', '3.8', '0',\n",
       "       '1.6', '9.6', '2.4', '1.7', '1.1', '0.3', '1.5', '0.7', '1.2',\n",
       "       '2.3', '0.5', '1.3', '0.2', '0.6', '1.4', '0.9', '1', '9.7'],\n",
       "      dtype=object)"
      ]
     },
     "execution_count": 334,
     "metadata": {},
     "output_type": "execute_result"
    }
   ],
   "source": [
    "data['user_score'].unique()"
   ]
  },
  {
   "cell_type": "code",
   "execution_count": 335,
   "metadata": {},
   "outputs": [
    {
     "data": {
      "text/plain": [
       "2424"
      ]
     },
     "execution_count": 335,
     "metadata": {},
     "output_type": "execute_result"
    }
   ],
   "source": [
    "data[data['user_score'] == 'tbd']['user_score'].count()"
   ]
  },
  {
   "cell_type": "code",
   "execution_count": 336,
   "metadata": {},
   "outputs": [],
   "source": [
    "data.loc[data['user_score'] == 'tbd','user_score'] = np.nan\n"
   ]
  },
  {
   "cell_type": "code",
   "execution_count": 337,
   "metadata": {},
   "outputs": [],
   "source": [
    "data['user_score'] = data['user_score'].astype('float64')\n"
   ]
  },
  {
   "cell_type": "code",
   "execution_count": 338,
   "metadata": {},
   "outputs": [],
   "source": [
    "data['year_of_release'] = data['year_of_release'].astype('Int64')"
   ]
  },
  {
   "cell_type": "markdown",
   "metadata": {},
   "source": [
    "Около 14,5% строк с аббревиатурой tbd (to be decided - подлежит уточнению). Чтобы не нарушить оценку рейтингов произведена замена пропусков на значение NaN. Года релиза приведем к целочисленному формату, а оценку пользователей с типа object на float - вещественное число."
   ]
  },
  {
   "cell_type": "markdown",
   "metadata": {},
   "source": [
    "Обработка пропусков данных"
   ]
  },
  {
   "cell_type": "code",
   "execution_count": 339,
   "metadata": {},
   "outputs": [
    {
     "data": {
      "text/plain": [
       "name                  2\n",
       "platform              0\n",
       "year_of_release     269\n",
       "genre                 2\n",
       "na_sales              0\n",
       "eu_sales              0\n",
       "jp_sales              0\n",
       "other_sales           0\n",
       "critic_score       8578\n",
       "user_score         9125\n",
       "rating             6766\n",
       "dtype: int64"
      ]
     },
     "execution_count": 339,
     "metadata": {},
     "output_type": "execute_result"
    }
   ],
   "source": [
    "data.isna().sum()"
   ]
  },
  {
   "cell_type": "code",
   "execution_count": 340,
   "metadata": {},
   "outputs": [
    {
     "data": {
      "text/html": [
       "<div>\n",
       "<style scoped>\n",
       "    .dataframe tbody tr th:only-of-type {\n",
       "        vertical-align: middle;\n",
       "    }\n",
       "\n",
       "    .dataframe tbody tr th {\n",
       "        vertical-align: top;\n",
       "    }\n",
       "\n",
       "    .dataframe thead th {\n",
       "        text-align: right;\n",
       "    }\n",
       "</style>\n",
       "<table border=\"1\" class=\"dataframe\">\n",
       "  <thead>\n",
       "    <tr style=\"text-align: right;\">\n",
       "      <th></th>\n",
       "      <th>name</th>\n",
       "      <th>platform</th>\n",
       "      <th>year_of_release</th>\n",
       "      <th>genre</th>\n",
       "      <th>na_sales</th>\n",
       "      <th>eu_sales</th>\n",
       "      <th>jp_sales</th>\n",
       "      <th>other_sales</th>\n",
       "      <th>critic_score</th>\n",
       "      <th>user_score</th>\n",
       "      <th>rating</th>\n",
       "    </tr>\n",
       "  </thead>\n",
       "  <tbody>\n",
       "    <tr>\n",
       "      <th>659</th>\n",
       "      <td>NaN</td>\n",
       "      <td>GEN</td>\n",
       "      <td>1993</td>\n",
       "      <td>NaN</td>\n",
       "      <td>1.78</td>\n",
       "      <td>0.53</td>\n",
       "      <td>0.00</td>\n",
       "      <td>0.08</td>\n",
       "      <td>NaN</td>\n",
       "      <td>NaN</td>\n",
       "      <td>NaN</td>\n",
       "    </tr>\n",
       "    <tr>\n",
       "      <th>14244</th>\n",
       "      <td>NaN</td>\n",
       "      <td>GEN</td>\n",
       "      <td>1993</td>\n",
       "      <td>NaN</td>\n",
       "      <td>0.00</td>\n",
       "      <td>0.00</td>\n",
       "      <td>0.03</td>\n",
       "      <td>0.00</td>\n",
       "      <td>NaN</td>\n",
       "      <td>NaN</td>\n",
       "      <td>NaN</td>\n",
       "    </tr>\n",
       "  </tbody>\n",
       "</table>\n",
       "</div>"
      ],
      "text/plain": [
       "      name platform  year_of_release genre  na_sales  eu_sales  jp_sales  \\\n",
       "659    NaN      GEN             1993   NaN      1.78      0.53      0.00   \n",
       "14244  NaN      GEN             1993   NaN      0.00      0.00      0.03   \n",
       "\n",
       "       other_sales  critic_score  user_score rating  \n",
       "659           0.08           NaN         NaN    NaN  \n",
       "14244         0.00           NaN         NaN    NaN  "
      ]
     },
     "execution_count": 340,
     "metadata": {},
     "output_type": "execute_result"
    }
   ],
   "source": [
    "data.loc[data['name'].isna()]"
   ]
  },
  {
   "cell_type": "markdown",
   "metadata": {},
   "source": [
    "Незначительное количество пропусков - 2, их можно удалить."
   ]
  },
  {
   "cell_type": "code",
   "execution_count": 341,
   "metadata": {},
   "outputs": [
    {
     "data": {
      "text/html": [
       "<div>\n",
       "<style scoped>\n",
       "    .dataframe tbody tr th:only-of-type {\n",
       "        vertical-align: middle;\n",
       "    }\n",
       "\n",
       "    .dataframe tbody tr th {\n",
       "        vertical-align: top;\n",
       "    }\n",
       "\n",
       "    .dataframe thead th {\n",
       "        text-align: right;\n",
       "    }\n",
       "</style>\n",
       "<table border=\"1\" class=\"dataframe\">\n",
       "  <thead>\n",
       "    <tr style=\"text-align: right;\">\n",
       "      <th></th>\n",
       "      <th>name</th>\n",
       "      <th>platform</th>\n",
       "      <th>year_of_release</th>\n",
       "      <th>genre</th>\n",
       "      <th>na_sales</th>\n",
       "      <th>eu_sales</th>\n",
       "      <th>jp_sales</th>\n",
       "      <th>other_sales</th>\n",
       "      <th>critic_score</th>\n",
       "      <th>user_score</th>\n",
       "      <th>rating</th>\n",
       "    </tr>\n",
       "  </thead>\n",
       "  <tbody>\n",
       "  </tbody>\n",
       "</table>\n",
       "</div>"
      ],
      "text/plain": [
       "Empty DataFrame\n",
       "Columns: [name, platform, year_of_release, genre, na_sales, eu_sales, jp_sales, other_sales, critic_score, user_score, rating]\n",
       "Index: []"
      ]
     },
     "execution_count": 341,
     "metadata": {},
     "output_type": "execute_result"
    }
   ],
   "source": [
    "data.drop(index = [659, 14244], inplace = True)\n",
    "data.loc[data['name'].isna()]"
   ]
  },
  {
   "cell_type": "markdown",
   "metadata": {},
   "source": [
    "В столбце 'year_of_release' всего 269 пропусков - всего 1,61% всех строк, можно удалить."
   ]
  },
  {
   "cell_type": "code",
   "execution_count": 342,
   "metadata": {
    "scrolled": false
   },
   "outputs": [],
   "source": [
    "data.dropna(subset=['year_of_release'], inplace = True)"
   ]
  },
  {
   "cell_type": "code",
   "execution_count": 343,
   "metadata": {},
   "outputs": [
    {
     "data": {
      "text/html": [
       "<div>\n",
       "<style scoped>\n",
       "    .dataframe tbody tr th:only-of-type {\n",
       "        vertical-align: middle;\n",
       "    }\n",
       "\n",
       "    .dataframe tbody tr th {\n",
       "        vertical-align: top;\n",
       "    }\n",
       "\n",
       "    .dataframe thead th {\n",
       "        text-align: right;\n",
       "    }\n",
       "</style>\n",
       "<table border=\"1\" class=\"dataframe\">\n",
       "  <thead>\n",
       "    <tr style=\"text-align: right;\">\n",
       "      <th></th>\n",
       "      <th>rating_type</th>\n",
       "      <th>decryption</th>\n",
       "    </tr>\n",
       "  </thead>\n",
       "  <tbody>\n",
       "    <tr>\n",
       "      <th>0</th>\n",
       "      <td>E</td>\n",
       "      <td>Для всех</td>\n",
       "    </tr>\n",
       "    <tr>\n",
       "      <th>1</th>\n",
       "      <td>M</td>\n",
       "      <td>От 17 лет</td>\n",
       "    </tr>\n",
       "    <tr>\n",
       "      <th>2</th>\n",
       "      <td>T</td>\n",
       "      <td>Подросткам 13—19 лет</td>\n",
       "    </tr>\n",
       "    <tr>\n",
       "      <th>3</th>\n",
       "      <td>E10+</td>\n",
       "      <td>Для всех старше 10 лет</td>\n",
       "    </tr>\n",
       "    <tr>\n",
       "      <th>4</th>\n",
       "      <td>K-A</td>\n",
       "      <td>Для всех(до 1998 года)</td>\n",
       "    </tr>\n",
       "  </tbody>\n",
       "</table>\n",
       "</div>"
      ],
      "text/plain": [
       "  rating_type              decryption\n",
       "0           E                Для всех\n",
       "1           M               От 17 лет\n",
       "2           T    Подросткам 13—19 лет\n",
       "3        E10+  Для всех старше 10 лет\n",
       "4         K-A  Для всех(до 1998 года)"
      ]
     },
     "execution_count": 343,
     "metadata": {},
     "output_type": "execute_result"
    }
   ],
   "source": [
    "rating = pd.read_csv('/datasets/rating.csv')\n",
    "rating.head()"
   ]
  },
  {
   "cell_type": "code",
   "execution_count": 344,
   "metadata": {},
   "outputs": [
    {
     "data": {
      "text/plain": [
       "E       3921\n",
       "T       2905\n",
       "M       1536\n",
       "E10+    1393\n",
       "EC         8\n",
       "K-A        3\n",
       "RP         1\n",
       "AO         1\n",
       "Name: rating, dtype: int64"
      ]
     },
     "execution_count": 344,
     "metadata": {},
     "output_type": "execute_result"
    }
   ],
   "source": [
    "data['rating'].value_counts()"
   ]
  },
  {
   "cell_type": "code",
   "execution_count": 345,
   "metadata": {
    "scrolled": true
   },
   "outputs": [
    {
     "data": {
      "text/html": [
       "<div>\n",
       "<style scoped>\n",
       "    .dataframe tbody tr th:only-of-type {\n",
       "        vertical-align: middle;\n",
       "    }\n",
       "\n",
       "    .dataframe tbody tr th {\n",
       "        vertical-align: top;\n",
       "    }\n",
       "\n",
       "    .dataframe thead th {\n",
       "        text-align: right;\n",
       "    }\n",
       "</style>\n",
       "<table border=\"1\" class=\"dataframe\">\n",
       "  <thead>\n",
       "    <tr style=\"text-align: right;\">\n",
       "      <th></th>\n",
       "      <th>name</th>\n",
       "      <th>platform</th>\n",
       "      <th>year_of_release</th>\n",
       "      <th>genre</th>\n",
       "      <th>na_sales</th>\n",
       "      <th>eu_sales</th>\n",
       "      <th>jp_sales</th>\n",
       "      <th>other_sales</th>\n",
       "      <th>critic_score</th>\n",
       "      <th>user_score</th>\n",
       "      <th>rating</th>\n",
       "    </tr>\n",
       "  </thead>\n",
       "  <tbody>\n",
       "    <tr>\n",
       "      <th>1</th>\n",
       "      <td>Super Mario Bros.</td>\n",
       "      <td>NES</td>\n",
       "      <td>1985</td>\n",
       "      <td>Platform</td>\n",
       "      <td>29.08</td>\n",
       "      <td>3.58</td>\n",
       "      <td>6.81</td>\n",
       "      <td>0.77</td>\n",
       "      <td>NaN</td>\n",
       "      <td>NaN</td>\n",
       "      <td>NaN</td>\n",
       "    </tr>\n",
       "    <tr>\n",
       "      <th>4</th>\n",
       "      <td>Pokemon Red/Pokemon Blue</td>\n",
       "      <td>GB</td>\n",
       "      <td>1996</td>\n",
       "      <td>Role-Playing</td>\n",
       "      <td>11.27</td>\n",
       "      <td>8.89</td>\n",
       "      <td>10.22</td>\n",
       "      <td>1.00</td>\n",
       "      <td>NaN</td>\n",
       "      <td>NaN</td>\n",
       "      <td>NaN</td>\n",
       "    </tr>\n",
       "    <tr>\n",
       "      <th>5</th>\n",
       "      <td>Tetris</td>\n",
       "      <td>GB</td>\n",
       "      <td>1989</td>\n",
       "      <td>Puzzle</td>\n",
       "      <td>23.20</td>\n",
       "      <td>2.26</td>\n",
       "      <td>4.22</td>\n",
       "      <td>0.58</td>\n",
       "      <td>NaN</td>\n",
       "      <td>NaN</td>\n",
       "      <td>NaN</td>\n",
       "    </tr>\n",
       "    <tr>\n",
       "      <th>9</th>\n",
       "      <td>Duck Hunt</td>\n",
       "      <td>NES</td>\n",
       "      <td>1984</td>\n",
       "      <td>Shooter</td>\n",
       "      <td>26.93</td>\n",
       "      <td>0.63</td>\n",
       "      <td>0.28</td>\n",
       "      <td>0.47</td>\n",
       "      <td>NaN</td>\n",
       "      <td>NaN</td>\n",
       "      <td>NaN</td>\n",
       "    </tr>\n",
       "    <tr>\n",
       "      <th>10</th>\n",
       "      <td>Nintendogs</td>\n",
       "      <td>DS</td>\n",
       "      <td>2005</td>\n",
       "      <td>Simulation</td>\n",
       "      <td>9.05</td>\n",
       "      <td>10.95</td>\n",
       "      <td>1.93</td>\n",
       "      <td>2.74</td>\n",
       "      <td>NaN</td>\n",
       "      <td>NaN</td>\n",
       "      <td>NaN</td>\n",
       "    </tr>\n",
       "    <tr>\n",
       "      <th>...</th>\n",
       "      <td>...</td>\n",
       "      <td>...</td>\n",
       "      <td>...</td>\n",
       "      <td>...</td>\n",
       "      <td>...</td>\n",
       "      <td>...</td>\n",
       "      <td>...</td>\n",
       "      <td>...</td>\n",
       "      <td>...</td>\n",
       "      <td>...</td>\n",
       "      <td>...</td>\n",
       "    </tr>\n",
       "    <tr>\n",
       "      <th>16710</th>\n",
       "      <td>Samurai Warriors: Sanada Maru</td>\n",
       "      <td>PS3</td>\n",
       "      <td>2016</td>\n",
       "      <td>Action</td>\n",
       "      <td>0.00</td>\n",
       "      <td>0.00</td>\n",
       "      <td>0.01</td>\n",
       "      <td>0.00</td>\n",
       "      <td>NaN</td>\n",
       "      <td>NaN</td>\n",
       "      <td>NaN</td>\n",
       "    </tr>\n",
       "    <tr>\n",
       "      <th>16711</th>\n",
       "      <td>LMA Manager 2007</td>\n",
       "      <td>X360</td>\n",
       "      <td>2006</td>\n",
       "      <td>Sports</td>\n",
       "      <td>0.00</td>\n",
       "      <td>0.01</td>\n",
       "      <td>0.00</td>\n",
       "      <td>0.00</td>\n",
       "      <td>NaN</td>\n",
       "      <td>NaN</td>\n",
       "      <td>NaN</td>\n",
       "    </tr>\n",
       "    <tr>\n",
       "      <th>16712</th>\n",
       "      <td>Haitaka no Psychedelica</td>\n",
       "      <td>PSV</td>\n",
       "      <td>2016</td>\n",
       "      <td>Adventure</td>\n",
       "      <td>0.00</td>\n",
       "      <td>0.00</td>\n",
       "      <td>0.01</td>\n",
       "      <td>0.00</td>\n",
       "      <td>NaN</td>\n",
       "      <td>NaN</td>\n",
       "      <td>NaN</td>\n",
       "    </tr>\n",
       "    <tr>\n",
       "      <th>16713</th>\n",
       "      <td>Spirits &amp; Spells</td>\n",
       "      <td>GBA</td>\n",
       "      <td>2003</td>\n",
       "      <td>Platform</td>\n",
       "      <td>0.01</td>\n",
       "      <td>0.00</td>\n",
       "      <td>0.00</td>\n",
       "      <td>0.00</td>\n",
       "      <td>NaN</td>\n",
       "      <td>NaN</td>\n",
       "      <td>NaN</td>\n",
       "    </tr>\n",
       "    <tr>\n",
       "      <th>16714</th>\n",
       "      <td>Winning Post 8 2016</td>\n",
       "      <td>PSV</td>\n",
       "      <td>2016</td>\n",
       "      <td>Simulation</td>\n",
       "      <td>0.00</td>\n",
       "      <td>0.00</td>\n",
       "      <td>0.01</td>\n",
       "      <td>0.00</td>\n",
       "      <td>NaN</td>\n",
       "      <td>NaN</td>\n",
       "      <td>NaN</td>\n",
       "    </tr>\n",
       "  </tbody>\n",
       "</table>\n",
       "<p>6676 rows × 11 columns</p>\n",
       "</div>"
      ],
      "text/plain": [
       "                                name platform  year_of_release         genre  \\\n",
       "1                  Super Mario Bros.      NES             1985      Platform   \n",
       "4           Pokemon Red/Pokemon Blue       GB             1996  Role-Playing   \n",
       "5                             Tetris       GB             1989        Puzzle   \n",
       "9                          Duck Hunt      NES             1984       Shooter   \n",
       "10                        Nintendogs       DS             2005    Simulation   \n",
       "...                              ...      ...              ...           ...   \n",
       "16710  Samurai Warriors: Sanada Maru      PS3             2016        Action   \n",
       "16711               LMA Manager 2007     X360             2006        Sports   \n",
       "16712        Haitaka no Psychedelica      PSV             2016     Adventure   \n",
       "16713               Spirits & Spells      GBA             2003      Platform   \n",
       "16714            Winning Post 8 2016      PSV             2016    Simulation   \n",
       "\n",
       "       na_sales  eu_sales  jp_sales  other_sales  critic_score  user_score  \\\n",
       "1         29.08      3.58      6.81         0.77           NaN         NaN   \n",
       "4         11.27      8.89     10.22         1.00           NaN         NaN   \n",
       "5         23.20      2.26      4.22         0.58           NaN         NaN   \n",
       "9         26.93      0.63      0.28         0.47           NaN         NaN   \n",
       "10         9.05     10.95      1.93         2.74           NaN         NaN   \n",
       "...         ...       ...       ...          ...           ...         ...   \n",
       "16710      0.00      0.00      0.01         0.00           NaN         NaN   \n",
       "16711      0.00      0.01      0.00         0.00           NaN         NaN   \n",
       "16712      0.00      0.00      0.01         0.00           NaN         NaN   \n",
       "16713      0.01      0.00      0.00         0.00           NaN         NaN   \n",
       "16714      0.00      0.00      0.01         0.00           NaN         NaN   \n",
       "\n",
       "      rating  \n",
       "1        NaN  \n",
       "4        NaN  \n",
       "5        NaN  \n",
       "9        NaN  \n",
       "10       NaN  \n",
       "...      ...  \n",
       "16710    NaN  \n",
       "16711    NaN  \n",
       "16712    NaN  \n",
       "16713    NaN  \n",
       "16714    NaN  \n",
       "\n",
       "[6676 rows x 11 columns]"
      ]
     },
     "execution_count": 345,
     "metadata": {},
     "output_type": "execute_result"
    }
   ],
   "source": [
    "data.loc[data['rating'].isna()]"
   ]
  },
  {
   "cell_type": "code",
   "execution_count": 346,
   "metadata": {},
   "outputs": [],
   "source": [
    "data['rating'] = data['rating'].fillna('no_rating')"
   ]
  },
  {
   "cell_type": "code",
   "execution_count": 347,
   "metadata": {},
   "outputs": [],
   "source": [
    "data = data.query('rating!=\"EC\"')\n",
    "data = data.query('rating!=\"RP\"')\n",
    "data = data.query('rating!=\"AO\"')\n",
    "data = data.query('rating!=\"K-A\"')"
   ]
  },
  {
   "cell_type": "markdown",
   "metadata": {},
   "source": [
    "Пропуски заполнили значением 'no_rating'. А категории EC, RP, AO, K-A удалить, так как данных по ним незначительное количество."
   ]
  },
  {
   "cell_type": "code",
   "execution_count": 348,
   "metadata": {},
   "outputs": [
    {
     "data": {
      "text/plain": [
       "no_rating    6676\n",
       "E            3921\n",
       "T            2905\n",
       "M            1536\n",
       "E10+         1393\n",
       "Name: rating, dtype: int64"
      ]
     },
     "execution_count": 348,
     "metadata": {},
     "output_type": "execute_result"
    }
   ],
   "source": [
    "data['rating'].value_counts()"
   ]
  },
  {
   "cell_type": "code",
   "execution_count": 349,
   "metadata": {},
   "outputs": [
    {
     "data": {
      "text/plain": [
       "name                  0\n",
       "platform              0\n",
       "year_of_release       0\n",
       "genre                 0\n",
       "na_sales              0\n",
       "eu_sales              0\n",
       "jp_sales              0\n",
       "other_sales           0\n",
       "critic_score       8451\n",
       "user_score         8974\n",
       "rating                0\n",
       "dtype: int64"
      ]
     },
     "execution_count": 349,
     "metadata": {},
     "output_type": "execute_result"
    }
   ],
   "source": [
    "data.isna().sum()"
   ]
  },
  {
   "cell_type": "code",
   "execution_count": 350,
   "metadata": {},
   "outputs": [
    {
     "data": {
      "text/plain": [
       "0"
      ]
     },
     "execution_count": 350,
     "metadata": {},
     "output_type": "execute_result"
    }
   ],
   "source": [
    "data.duplicated().sum()"
   ]
  },
  {
   "cell_type": "markdown",
   "metadata": {},
   "source": [
    "Дубликаты не обнаружены. Пропуски (где возможно) заполнены."
   ]
  },
  {
   "cell_type": "code",
   "execution_count": 351,
   "metadata": {
    "scrolled": true
   },
   "outputs": [
    {
     "data": {
      "text/html": [
       "<div>\n",
       "<style scoped>\n",
       "    .dataframe tbody tr th:only-of-type {\n",
       "        vertical-align: middle;\n",
       "    }\n",
       "\n",
       "    .dataframe tbody tr th {\n",
       "        vertical-align: top;\n",
       "    }\n",
       "\n",
       "    .dataframe thead th {\n",
       "        text-align: right;\n",
       "    }\n",
       "</style>\n",
       "<table border=\"1\" class=\"dataframe\">\n",
       "  <thead>\n",
       "    <tr style=\"text-align: right;\">\n",
       "      <th></th>\n",
       "      <th>name</th>\n",
       "      <th>platform</th>\n",
       "      <th>year_of_release</th>\n",
       "      <th>genre</th>\n",
       "      <th>na_sales</th>\n",
       "      <th>eu_sales</th>\n",
       "      <th>jp_sales</th>\n",
       "      <th>other_sales</th>\n",
       "      <th>critic_score</th>\n",
       "      <th>user_score</th>\n",
       "      <th>rating</th>\n",
       "      <th>total_sales</th>\n",
       "    </tr>\n",
       "  </thead>\n",
       "  <tbody>\n",
       "    <tr>\n",
       "      <th>0</th>\n",
       "      <td>Wii Sports</td>\n",
       "      <td>Wii</td>\n",
       "      <td>2006</td>\n",
       "      <td>Sports</td>\n",
       "      <td>41.36</td>\n",
       "      <td>28.96</td>\n",
       "      <td>3.77</td>\n",
       "      <td>8.45</td>\n",
       "      <td>76.0</td>\n",
       "      <td>8.0</td>\n",
       "      <td>E</td>\n",
       "      <td>82.54</td>\n",
       "    </tr>\n",
       "    <tr>\n",
       "      <th>1</th>\n",
       "      <td>Super Mario Bros.</td>\n",
       "      <td>NES</td>\n",
       "      <td>1985</td>\n",
       "      <td>Platform</td>\n",
       "      <td>29.08</td>\n",
       "      <td>3.58</td>\n",
       "      <td>6.81</td>\n",
       "      <td>0.77</td>\n",
       "      <td>NaN</td>\n",
       "      <td>NaN</td>\n",
       "      <td>no_rating</td>\n",
       "      <td>40.24</td>\n",
       "    </tr>\n",
       "    <tr>\n",
       "      <th>2</th>\n",
       "      <td>Mario Kart Wii</td>\n",
       "      <td>Wii</td>\n",
       "      <td>2008</td>\n",
       "      <td>Racing</td>\n",
       "      <td>15.68</td>\n",
       "      <td>12.76</td>\n",
       "      <td>3.79</td>\n",
       "      <td>3.29</td>\n",
       "      <td>82.0</td>\n",
       "      <td>8.3</td>\n",
       "      <td>E</td>\n",
       "      <td>35.52</td>\n",
       "    </tr>\n",
       "    <tr>\n",
       "      <th>3</th>\n",
       "      <td>Wii Sports Resort</td>\n",
       "      <td>Wii</td>\n",
       "      <td>2009</td>\n",
       "      <td>Sports</td>\n",
       "      <td>15.61</td>\n",
       "      <td>10.93</td>\n",
       "      <td>3.28</td>\n",
       "      <td>2.95</td>\n",
       "      <td>80.0</td>\n",
       "      <td>8.0</td>\n",
       "      <td>E</td>\n",
       "      <td>32.77</td>\n",
       "    </tr>\n",
       "    <tr>\n",
       "      <th>4</th>\n",
       "      <td>Pokemon Red/Pokemon Blue</td>\n",
       "      <td>GB</td>\n",
       "      <td>1996</td>\n",
       "      <td>Role-Playing</td>\n",
       "      <td>11.27</td>\n",
       "      <td>8.89</td>\n",
       "      <td>10.22</td>\n",
       "      <td>1.00</td>\n",
       "      <td>NaN</td>\n",
       "      <td>NaN</td>\n",
       "      <td>no_rating</td>\n",
       "      <td>31.38</td>\n",
       "    </tr>\n",
       "  </tbody>\n",
       "</table>\n",
       "</div>"
      ],
      "text/plain": [
       "                       name platform  year_of_release         genre  na_sales  \\\n",
       "0                Wii Sports      Wii             2006        Sports     41.36   \n",
       "1         Super Mario Bros.      NES             1985      Platform     29.08   \n",
       "2            Mario Kart Wii      Wii             2008        Racing     15.68   \n",
       "3         Wii Sports Resort      Wii             2009        Sports     15.61   \n",
       "4  Pokemon Red/Pokemon Blue       GB             1996  Role-Playing     11.27   \n",
       "\n",
       "   eu_sales  jp_sales  other_sales  critic_score  user_score     rating  \\\n",
       "0     28.96      3.77         8.45          76.0         8.0          E   \n",
       "1      3.58      6.81         0.77           NaN         NaN  no_rating   \n",
       "2     12.76      3.79         3.29          82.0         8.3          E   \n",
       "3     10.93      3.28         2.95          80.0         8.0          E   \n",
       "4      8.89     10.22         1.00           NaN         NaN  no_rating   \n",
       "\n",
       "   total_sales  \n",
       "0        82.54  \n",
       "1        40.24  \n",
       "2        35.52  \n",
       "3        32.77  \n",
       "4        31.38  "
      ]
     },
     "execution_count": 351,
     "metadata": {},
     "output_type": "execute_result"
    }
   ],
   "source": [
    "data['total_sales'] = data[['na_sales','eu_sales','jp_sales', 'other_sales']].sum(axis = 1)\n",
    "data.head()"
   ]
  },
  {
   "cell_type": "markdown",
   "metadata": {},
   "source": [
    "РАЗДЕЛ 2\n",
    "\n",
    "Вывод: \n",
    "\n",
    "1) преобразованы данные в столбцах year_of_release и user_score\n",
    "\n",
    "2) пропуски заполнены/удалены в столбцах rating, year_of_release, name\n",
    "\n",
    "3) посчитаны суммарные продажи во всех регионах и запишите их в отдельный столбец."
   ]
  },
  {
   "cell_type": "markdown",
   "metadata": {},
   "source": [
    "## Исследовательский анализ данных"
   ]
  },
  {
   "cell_type": "markdown",
   "metadata": {},
   "source": [
    "Сколько игр выпускалось в разные годы?"
   ]
  },
  {
   "cell_type": "markdown",
   "metadata": {},
   "source": [
    "До 2000х выпускалось небольшое количество игр. Возможно это связано с \"новым витком\" в сфере игр (графика, оборудование и тп.), что вовлекло большее количество пользователей. Вырос спрос и соответственно предложение."
   ]
  },
  {
   "cell_type": "code",
   "execution_count": 352,
   "metadata": {},
   "outputs": [
    {
     "data": {
      "image/png": "[encoded data removed]",
      "text/plain": [
       "<Figure size 720x720 with 1 Axes>"
      ]
     },
     "metadata": {
      "needs_background": "light"
     },
     "output_type": "display_data"
    }
   ],
   "source": [
    "plt.figure(figsize=(10,10))\n",
    "plt.title('Количество выпусков игр по годам')\n",
    "plt.xlabel('Год выпуска')\n",
    "plt.ylabel('Количество выпусков')\n",
    "data[data['year_of_release'] > 0].groupby('year_of_release')['platform'].agg('count').plot(grid=True, style='o-')\n",
    "plt.show()"
   ]
  },
  {
   "cell_type": "markdown",
   "metadata": {},
   "source": [
    "С 2013 начался спад выпуска компьютерных игр. Вероятно это связано с перенасыщением рынка и ростом спроса на мобильные игры в связи с развитием данной сферы."
   ]
  },
  {
   "cell_type": "markdown",
   "metadata": {},
   "source": [
    "Значительный рост выпусков наблюдается с 1995 года."
   ]
  },
  {
   "cell_type": "markdown",
   "metadata": {},
   "source": [
    "Как менялись продажи по платформам?"
   ]
  },
  {
   "cell_type": "code",
   "execution_count": 353,
   "metadata": {
    "scrolled": true
   },
   "outputs": [
    {
     "data": {
      "text/html": [
       "<div>\n",
       "<style scoped>\n",
       "    .dataframe tbody tr th:only-of-type {\n",
       "        vertical-align: middle;\n",
       "    }\n",
       "\n",
       "    .dataframe tbody tr th {\n",
       "        vertical-align: top;\n",
       "    }\n",
       "\n",
       "    .dataframe thead th {\n",
       "        text-align: right;\n",
       "    }\n",
       "</style>\n",
       "<table border=\"1\" class=\"dataframe\">\n",
       "  <thead>\n",
       "    <tr style=\"text-align: right;\">\n",
       "      <th></th>\n",
       "      <th>platform</th>\n",
       "      <th>count</th>\n",
       "      <th>sum</th>\n",
       "    </tr>\n",
       "  </thead>\n",
       "  <tbody>\n",
       "    <tr>\n",
       "      <th>0</th>\n",
       "      <td>PS2</td>\n",
       "      <td>2126</td>\n",
       "      <td>1233.32</td>\n",
       "    </tr>\n",
       "    <tr>\n",
       "      <th>1</th>\n",
       "      <td>X360</td>\n",
       "      <td>1232</td>\n",
       "      <td>961.24</td>\n",
       "    </tr>\n",
       "    <tr>\n",
       "      <th>2</th>\n",
       "      <td>PS3</td>\n",
       "      <td>1306</td>\n",
       "      <td>931.34</td>\n",
       "    </tr>\n",
       "    <tr>\n",
       "      <th>3</th>\n",
       "      <td>Wii</td>\n",
       "      <td>1284</td>\n",
       "      <td>890.52</td>\n",
       "    </tr>\n",
       "    <tr>\n",
       "      <th>4</th>\n",
       "      <td>DS</td>\n",
       "      <td>2119</td>\n",
       "      <td>802.13</td>\n",
       "    </tr>\n",
       "    <tr>\n",
       "      <th>5</th>\n",
       "      <td>PS</td>\n",
       "      <td>1189</td>\n",
       "      <td>725.67</td>\n",
       "    </tr>\n",
       "    <tr>\n",
       "      <th>6</th>\n",
       "      <td>PS4</td>\n",
       "      <td>392</td>\n",
       "      <td>314.14</td>\n",
       "    </tr>\n",
       "    <tr>\n",
       "      <th>7</th>\n",
       "      <td>GBA</td>\n",
       "      <td>811</td>\n",
       "      <td>312.88</td>\n",
       "    </tr>\n",
       "    <tr>\n",
       "      <th>8</th>\n",
       "      <td>PSP</td>\n",
       "      <td>1193</td>\n",
       "      <td>289.53</td>\n",
       "    </tr>\n",
       "    <tr>\n",
       "      <th>9</th>\n",
       "      <td>3DS</td>\n",
       "      <td>512</td>\n",
       "      <td>257.81</td>\n",
       "    </tr>\n",
       "    <tr>\n",
       "      <th>10</th>\n",
       "      <td>GB</td>\n",
       "      <td>97</td>\n",
       "      <td>254.43</td>\n",
       "    </tr>\n",
       "    <tr>\n",
       "      <th>11</th>\n",
       "      <td>PC</td>\n",
       "      <td>952</td>\n",
       "      <td>253.22</td>\n",
       "    </tr>\n",
       "    <tr>\n",
       "      <th>12</th>\n",
       "      <td>NES</td>\n",
       "      <td>98</td>\n",
       "      <td>251.05</td>\n",
       "    </tr>\n",
       "    <tr>\n",
       "      <th>13</th>\n",
       "      <td>XB</td>\n",
       "      <td>802</td>\n",
       "      <td>249.61</td>\n",
       "    </tr>\n",
       "    <tr>\n",
       "      <th>14</th>\n",
       "      <td>N64</td>\n",
       "      <td>316</td>\n",
       "      <td>218.01</td>\n",
       "    </tr>\n",
       "    <tr>\n",
       "      <th>15</th>\n",
       "      <td>SNES</td>\n",
       "      <td>239</td>\n",
       "      <td>200.04</td>\n",
       "    </tr>\n",
       "    <tr>\n",
       "      <th>16</th>\n",
       "      <td>GC</td>\n",
       "      <td>541</td>\n",
       "      <td>196.62</td>\n",
       "    </tr>\n",
       "    <tr>\n",
       "      <th>17</th>\n",
       "      <td>XOne</td>\n",
       "      <td>247</td>\n",
       "      <td>159.32</td>\n",
       "    </tr>\n",
       "    <tr>\n",
       "      <th>18</th>\n",
       "      <td>2600</td>\n",
       "      <td>116</td>\n",
       "      <td>86.48</td>\n",
       "    </tr>\n",
       "    <tr>\n",
       "      <th>19</th>\n",
       "      <td>WiiU</td>\n",
       "      <td>147</td>\n",
       "      <td>82.19</td>\n",
       "    </tr>\n",
       "    <tr>\n",
       "      <th>20</th>\n",
       "      <td>PSV</td>\n",
       "      <td>429</td>\n",
       "      <td>53.81</td>\n",
       "    </tr>\n",
       "    <tr>\n",
       "      <th>21</th>\n",
       "      <td>SAT</td>\n",
       "      <td>173</td>\n",
       "      <td>33.59</td>\n",
       "    </tr>\n",
       "    <tr>\n",
       "      <th>22</th>\n",
       "      <td>GEN</td>\n",
       "      <td>27</td>\n",
       "      <td>28.35</td>\n",
       "    </tr>\n",
       "    <tr>\n",
       "      <th>23</th>\n",
       "      <td>DC</td>\n",
       "      <td>52</td>\n",
       "      <td>15.95</td>\n",
       "    </tr>\n",
       "    <tr>\n",
       "      <th>24</th>\n",
       "      <td>SCD</td>\n",
       "      <td>6</td>\n",
       "      <td>1.86</td>\n",
       "    </tr>\n",
       "    <tr>\n",
       "      <th>25</th>\n",
       "      <td>NG</td>\n",
       "      <td>12</td>\n",
       "      <td>1.44</td>\n",
       "    </tr>\n",
       "    <tr>\n",
       "      <th>26</th>\n",
       "      <td>WS</td>\n",
       "      <td>6</td>\n",
       "      <td>1.42</td>\n",
       "    </tr>\n",
       "    <tr>\n",
       "      <th>27</th>\n",
       "      <td>TG16</td>\n",
       "      <td>2</td>\n",
       "      <td>0.16</td>\n",
       "    </tr>\n",
       "    <tr>\n",
       "      <th>28</th>\n",
       "      <td>3DO</td>\n",
       "      <td>3</td>\n",
       "      <td>0.10</td>\n",
       "    </tr>\n",
       "    <tr>\n",
       "      <th>29</th>\n",
       "      <td>GG</td>\n",
       "      <td>1</td>\n",
       "      <td>0.04</td>\n",
       "    </tr>\n",
       "    <tr>\n",
       "      <th>30</th>\n",
       "      <td>PCFX</td>\n",
       "      <td>1</td>\n",
       "      <td>0.03</td>\n",
       "    </tr>\n",
       "  </tbody>\n",
       "</table>\n",
       "</div>"
      ],
      "text/plain": [
       "   platform  count      sum\n",
       "0       PS2   2126  1233.32\n",
       "1      X360   1232   961.24\n",
       "2       PS3   1306   931.34\n",
       "3       Wii   1284   890.52\n",
       "4        DS   2119   802.13\n",
       "5        PS   1189   725.67\n",
       "6       PS4    392   314.14\n",
       "7       GBA    811   312.88\n",
       "8       PSP   1193   289.53\n",
       "9       3DS    512   257.81\n",
       "10       GB     97   254.43\n",
       "11       PC    952   253.22\n",
       "12      NES     98   251.05\n",
       "13       XB    802   249.61\n",
       "14      N64    316   218.01\n",
       "15     SNES    239   200.04\n",
       "16       GC    541   196.62\n",
       "17     XOne    247   159.32\n",
       "18     2600    116    86.48\n",
       "19     WiiU    147    82.19\n",
       "20      PSV    429    53.81\n",
       "21      SAT    173    33.59\n",
       "22      GEN     27    28.35\n",
       "23       DC     52    15.95\n",
       "24      SCD      6     1.86\n",
       "25       NG     12     1.44\n",
       "26       WS      6     1.42\n",
       "27     TG16      2     0.16\n",
       "28      3DO      3     0.10\n",
       "29       GG      1     0.04\n",
       "30     PCFX      1     0.03"
      ]
     },
     "execution_count": 353,
     "metadata": {},
     "output_type": "execute_result"
    }
   ],
   "source": [
    "platform = data.groupby('platform')['total_sales'].agg(['count', 'sum']).sort_values(by='sum', ascending = False).reset_index()\n",
    "platform"
   ]
  },
  {
   "cell_type": "markdown",
   "metadata": {},
   "source": [
    "Выбрать несколько топовых платформ (топ 6)."
   ]
  },
  {
   "cell_type": "code",
   "execution_count": 354,
   "metadata": {},
   "outputs": [
    {
     "data": {
      "text/html": [
       "<div>\n",
       "<style scoped>\n",
       "    .dataframe tbody tr th:only-of-type {\n",
       "        vertical-align: middle;\n",
       "    }\n",
       "\n",
       "    .dataframe tbody tr th {\n",
       "        vertical-align: top;\n",
       "    }\n",
       "\n",
       "    .dataframe thead th {\n",
       "        text-align: right;\n",
       "    }\n",
       "</style>\n",
       "<table border=\"1\" class=\"dataframe\">\n",
       "  <thead>\n",
       "    <tr style=\"text-align: right;\">\n",
       "      <th></th>\n",
       "      <th>platform</th>\n",
       "      <th>total_sales</th>\n",
       "    </tr>\n",
       "  </thead>\n",
       "  <tbody>\n",
       "    <tr>\n",
       "      <th>0</th>\n",
       "      <td>PS2</td>\n",
       "      <td>1233.32</td>\n",
       "    </tr>\n",
       "    <tr>\n",
       "      <th>1</th>\n",
       "      <td>X360</td>\n",
       "      <td>961.24</td>\n",
       "    </tr>\n",
       "    <tr>\n",
       "      <th>2</th>\n",
       "      <td>PS3</td>\n",
       "      <td>931.34</td>\n",
       "    </tr>\n",
       "    <tr>\n",
       "      <th>3</th>\n",
       "      <td>Wii</td>\n",
       "      <td>890.52</td>\n",
       "    </tr>\n",
       "    <tr>\n",
       "      <th>4</th>\n",
       "      <td>DS</td>\n",
       "      <td>802.13</td>\n",
       "    </tr>\n",
       "    <tr>\n",
       "      <th>5</th>\n",
       "      <td>PS</td>\n",
       "      <td>725.67</td>\n",
       "    </tr>\n",
       "    <tr>\n",
       "      <th>6</th>\n",
       "      <td>PS4</td>\n",
       "      <td>314.14</td>\n",
       "    </tr>\n",
       "  </tbody>\n",
       "</table>\n",
       "</div>"
      ],
      "text/plain": [
       "  platform  total_sales\n",
       "0      PS2      1233.32\n",
       "1     X360       961.24\n",
       "2      PS3       931.34\n",
       "3      Wii       890.52\n",
       "4       DS       802.13\n",
       "5       PS       725.67\n",
       "6      PS4       314.14"
      ]
     },
     "execution_count": 354,
     "metadata": {},
     "output_type": "execute_result"
    }
   ],
   "source": [
    "platform = data.groupby('platform')['total_sales'].sum().sort_values(ascending=False).reset_index().head(7)\n",
    "platform"
   ]
  },
  {
   "cell_type": "code",
   "execution_count": 355,
   "metadata": {},
   "outputs": [
    {
     "data": {
      "text/plain": [
       "['PS2', 'X360', 'PS3', 'Wii', 'DS', 'PS', 'PS4']"
      ]
     },
     "execution_count": 355,
     "metadata": {},
     "output_type": "execute_result"
    }
   ],
   "source": [
    "top_platform = platform['platform'].to_list()\n",
    "top_platform"
   ]
  },
  {
   "cell_type": "markdown",
   "metadata": {},
   "source": [
    "Создать датасет топовых платформ"
   ]
  },
  {
   "cell_type": "code",
   "execution_count": 356,
   "metadata": {
    "scrolled": true
   },
   "outputs": [
    {
     "data": {
      "text/html": [
       "<div>\n",
       "<style scoped>\n",
       "    .dataframe tbody tr th:only-of-type {\n",
       "        vertical-align: middle;\n",
       "    }\n",
       "\n",
       "    .dataframe tbody tr th {\n",
       "        vertical-align: top;\n",
       "    }\n",
       "\n",
       "    .dataframe thead th {\n",
       "        text-align: right;\n",
       "    }\n",
       "</style>\n",
       "<table border=\"1\" class=\"dataframe\">\n",
       "  <thead>\n",
       "    <tr style=\"text-align: right;\">\n",
       "      <th></th>\n",
       "      <th>name</th>\n",
       "      <th>platform</th>\n",
       "      <th>year_of_release</th>\n",
       "      <th>genre</th>\n",
       "      <th>na_sales</th>\n",
       "      <th>eu_sales</th>\n",
       "      <th>jp_sales</th>\n",
       "      <th>other_sales</th>\n",
       "      <th>critic_score</th>\n",
       "      <th>user_score</th>\n",
       "      <th>rating</th>\n",
       "      <th>total_sales</th>\n",
       "    </tr>\n",
       "  </thead>\n",
       "  <tbody>\n",
       "    <tr>\n",
       "      <th>0</th>\n",
       "      <td>Wii Sports</td>\n",
       "      <td>Wii</td>\n",
       "      <td>2006</td>\n",
       "      <td>Sports</td>\n",
       "      <td>41.36</td>\n",
       "      <td>28.96</td>\n",
       "      <td>3.77</td>\n",
       "      <td>8.45</td>\n",
       "      <td>76.0</td>\n",
       "      <td>8.0</td>\n",
       "      <td>E</td>\n",
       "      <td>82.54</td>\n",
       "    </tr>\n",
       "    <tr>\n",
       "      <th>2</th>\n",
       "      <td>Mario Kart Wii</td>\n",
       "      <td>Wii</td>\n",
       "      <td>2008</td>\n",
       "      <td>Racing</td>\n",
       "      <td>15.68</td>\n",
       "      <td>12.76</td>\n",
       "      <td>3.79</td>\n",
       "      <td>3.29</td>\n",
       "      <td>82.0</td>\n",
       "      <td>8.3</td>\n",
       "      <td>E</td>\n",
       "      <td>35.52</td>\n",
       "    </tr>\n",
       "    <tr>\n",
       "      <th>3</th>\n",
       "      <td>Wii Sports Resort</td>\n",
       "      <td>Wii</td>\n",
       "      <td>2009</td>\n",
       "      <td>Sports</td>\n",
       "      <td>15.61</td>\n",
       "      <td>10.93</td>\n",
       "      <td>3.28</td>\n",
       "      <td>2.95</td>\n",
       "      <td>80.0</td>\n",
       "      <td>8.0</td>\n",
       "      <td>E</td>\n",
       "      <td>32.77</td>\n",
       "    </tr>\n",
       "    <tr>\n",
       "      <th>6</th>\n",
       "      <td>New Super Mario Bros.</td>\n",
       "      <td>DS</td>\n",
       "      <td>2006</td>\n",
       "      <td>Platform</td>\n",
       "      <td>11.28</td>\n",
       "      <td>9.14</td>\n",
       "      <td>6.50</td>\n",
       "      <td>2.88</td>\n",
       "      <td>89.0</td>\n",
       "      <td>8.5</td>\n",
       "      <td>E</td>\n",
       "      <td>29.80</td>\n",
       "    </tr>\n",
       "    <tr>\n",
       "      <th>7</th>\n",
       "      <td>Wii Play</td>\n",
       "      <td>Wii</td>\n",
       "      <td>2006</td>\n",
       "      <td>Misc</td>\n",
       "      <td>13.96</td>\n",
       "      <td>9.18</td>\n",
       "      <td>2.93</td>\n",
       "      <td>2.84</td>\n",
       "      <td>58.0</td>\n",
       "      <td>6.6</td>\n",
       "      <td>E</td>\n",
       "      <td>28.91</td>\n",
       "    </tr>\n",
       "  </tbody>\n",
       "</table>\n",
       "</div>"
      ],
      "text/plain": [
       "                    name platform  year_of_release     genre  na_sales  \\\n",
       "0             Wii Sports      Wii             2006    Sports     41.36   \n",
       "2         Mario Kart Wii      Wii             2008    Racing     15.68   \n",
       "3      Wii Sports Resort      Wii             2009    Sports     15.61   \n",
       "6  New Super Mario Bros.       DS             2006  Platform     11.28   \n",
       "7               Wii Play      Wii             2006      Misc     13.96   \n",
       "\n",
       "   eu_sales  jp_sales  other_sales  critic_score  user_score rating  \\\n",
       "0     28.96      3.77         8.45          76.0         8.0      E   \n",
       "2     12.76      3.79         3.29          82.0         8.3      E   \n",
       "3     10.93      3.28         2.95          80.0         8.0      E   \n",
       "6      9.14      6.50         2.88          89.0         8.5      E   \n",
       "7      9.18      2.93         2.84          58.0         6.6      E   \n",
       "\n",
       "   total_sales  \n",
       "0        82.54  \n",
       "2        35.52  \n",
       "3        32.77  \n",
       "6        29.80  \n",
       "7        28.91  "
      ]
     },
     "execution_count": 356,
     "metadata": {},
     "output_type": "execute_result"
    }
   ],
   "source": [
    "data_top_platform = data.query('platform in @top_platform')\n",
    "data_top_platform.head()"
   ]
  },
  {
   "cell_type": "code",
   "execution_count": 357,
   "metadata": {
    "scrolled": true
   },
   "outputs": [
    {
     "data": {
      "image/png": "[encoded data removed]",
      "text/plain": [
       "<Figure size 576x360 with 1 Axes>"
      ]
     },
     "metadata": {
      "needs_background": "light"
     },
     "output_type": "display_data"
    }
   ],
   "source": [
    "plt.figure(figsize=(8,5))\n",
    "plt.title('Количество выпусков топ игр по годам')\n",
    "plt.xlabel('Год выпуска')\n",
    "plt.ylabel('Количество выпусков')\n",
    "data_top_platform[data_top_platform['year_of_release'] > 0].groupby('year_of_release')['platform'].agg('count').plot(grid=True, style='o-')\n",
    "plt.show()"
   ]
  },
  {
   "cell_type": "markdown",
   "metadata": {},
   "source": [
    "Заметный рост количества выпусков наблюдается с 1995 года."
   ]
  },
  {
   "cell_type": "code",
   "execution_count": 358,
   "metadata": {
    "scrolled": true
   },
   "outputs": [
    {
     "data": {
      "image/png": "[encoded data removed]",
      "text/plain": [
       "<Figure size 720x504 with 1 Axes>"
      ]
     },
     "metadata": {
      "needs_background": "light"
     },
     "output_type": "display_data"
    }
   ],
   "source": [
    "pd.pivot_table(data_top_platform , index='year_of_release', columns='platform', values='total_sales', aggfunc='sum').plot(figsize=(10,7))\n",
    "plt.grid(True)\n",
    "plt.title('Продажи игр по топ платформам')\n",
    "plt.xlabel('Года')\n",
    "plt.ylabel('Продажи млн.')\n",
    "plt.show()\n"
   ]
  },
  {
   "cell_type": "markdown",
   "metadata": {},
   "source": [
    "За какой характерный срок появляются новые и исчезают старые платформы"
   ]
  },
  {
   "cell_type": "code",
   "execution_count": 359,
   "metadata": {},
   "outputs": [
    {
     "data": {
      "text/plain": [
       "PS2     12\n",
       "X360    12\n",
       "Wii     11\n",
       "DS      11\n",
       "PS3     11\n",
       "PS      10\n",
       "PS4      4\n",
       "Name: platform, dtype: int64"
      ]
     },
     "execution_count": 359,
     "metadata": {},
     "output_type": "execute_result"
    }
   ],
   "source": [
    "data_top_platform_year = data_top_platform.groupby(['platform', 'year_of_release']).agg({'total_sales':'sum'}).reset_index()\n",
    "data_top_platform_year['platform'].value_counts()"
   ]
  },
  {
   "cell_type": "markdown",
   "metadata": {},
   "source": [
    " Таким образом, в среднем за 11 лет появляются новые и исчезают старые топовые платформы. Актуальным периодом считать данные 2013-2016 гг. с учетом недавнего появления топовых платформ и актуальностью других. Тем более за данный период налюдается спад, что является наиболее актуальным моментом"
   ]
  },
  {
   "cell_type": "markdown",
   "metadata": {},
   "source": [
    "Актуальный период"
   ]
  },
  {
   "cell_type": "code",
   "execution_count": 360,
   "metadata": {
    "scrolled": false
   },
   "outputs": [
    {
     "data": {
      "text/html": [
       "<div>\n",
       "<style scoped>\n",
       "    .dataframe tbody tr th:only-of-type {\n",
       "        vertical-align: middle;\n",
       "    }\n",
       "\n",
       "    .dataframe tbody tr th {\n",
       "        vertical-align: top;\n",
       "    }\n",
       "\n",
       "    .dataframe thead th {\n",
       "        text-align: right;\n",
       "    }\n",
       "</style>\n",
       "<table border=\"1\" class=\"dataframe\">\n",
       "  <thead>\n",
       "    <tr style=\"text-align: right;\">\n",
       "      <th>year_of_release</th>\n",
       "      <th>2013</th>\n",
       "      <th>2014</th>\n",
       "      <th>2015</th>\n",
       "      <th>2016</th>\n",
       "    </tr>\n",
       "    <tr>\n",
       "      <th>platform</th>\n",
       "      <th></th>\n",
       "      <th></th>\n",
       "      <th></th>\n",
       "      <th></th>\n",
       "    </tr>\n",
       "  </thead>\n",
       "  <tbody>\n",
       "    <tr>\n",
       "      <th>3DS</th>\n",
       "      <td>91.0</td>\n",
       "      <td>80.0</td>\n",
       "      <td>86.0</td>\n",
       "      <td>46.0</td>\n",
       "    </tr>\n",
       "    <tr>\n",
       "      <th>DS</th>\n",
       "      <td>8.0</td>\n",
       "      <td>.</td>\n",
       "      <td>.</td>\n",
       "      <td>.</td>\n",
       "    </tr>\n",
       "    <tr>\n",
       "      <th>PC</th>\n",
       "      <td>38.0</td>\n",
       "      <td>47.0</td>\n",
       "      <td>50.0</td>\n",
       "      <td>54.0</td>\n",
       "    </tr>\n",
       "    <tr>\n",
       "      <th>PS3</th>\n",
       "      <td>126.0</td>\n",
       "      <td>108.0</td>\n",
       "      <td>73.0</td>\n",
       "      <td>38.0</td>\n",
       "    </tr>\n",
       "    <tr>\n",
       "      <th>PS4</th>\n",
       "      <td>16.0</td>\n",
       "      <td>75.0</td>\n",
       "      <td>137.0</td>\n",
       "      <td>164.0</td>\n",
       "    </tr>\n",
       "    <tr>\n",
       "      <th>PSP</th>\n",
       "      <td>54.0</td>\n",
       "      <td>10.0</td>\n",
       "      <td>3.0</td>\n",
       "      <td>.</td>\n",
       "    </tr>\n",
       "    <tr>\n",
       "      <th>PSV</th>\n",
       "      <td>63.0</td>\n",
       "      <td>100.0</td>\n",
       "      <td>110.0</td>\n",
       "      <td>85.0</td>\n",
       "    </tr>\n",
       "    <tr>\n",
       "      <th>Wii</th>\n",
       "      <td>12.0</td>\n",
       "      <td>6.0</td>\n",
       "      <td>4.0</td>\n",
       "      <td>1.0</td>\n",
       "    </tr>\n",
       "    <tr>\n",
       "      <th>WiiU</th>\n",
       "      <td>42.0</td>\n",
       "      <td>31.0</td>\n",
       "      <td>28.0</td>\n",
       "      <td>14.0</td>\n",
       "    </tr>\n",
       "    <tr>\n",
       "      <th>X360</th>\n",
       "      <td>75.0</td>\n",
       "      <td>63.0</td>\n",
       "      <td>35.0</td>\n",
       "      <td>13.0</td>\n",
       "    </tr>\n",
       "    <tr>\n",
       "      <th>XOne</th>\n",
       "      <td>19.0</td>\n",
       "      <td>61.0</td>\n",
       "      <td>80.0</td>\n",
       "      <td>87.0</td>\n",
       "    </tr>\n",
       "  </tbody>\n",
       "</table>\n",
       "</div>"
      ],
      "text/plain": [
       "year_of_release   2013   2014   2015   2016\n",
       "platform                                   \n",
       "3DS               91.0   80.0   86.0   46.0\n",
       "DS                 8.0      .      .      .\n",
       "PC                38.0   47.0   50.0   54.0\n",
       "PS3              126.0  108.0   73.0   38.0\n",
       "PS4               16.0   75.0  137.0  164.0\n",
       "PSP               54.0   10.0    3.0      .\n",
       "PSV               63.0  100.0  110.0   85.0\n",
       "Wii               12.0    6.0    4.0    1.0\n",
       "WiiU              42.0   31.0   28.0   14.0\n",
       "X360              75.0   63.0   35.0   13.0\n",
       "XOne              19.0   61.0   80.0   87.0"
      ]
     },
     "execution_count": 360,
     "metadata": {},
     "output_type": "execute_result"
    }
   ],
   "source": [
    "data_act_years = data[data['year_of_release'] >= 2013]\n",
    "data_act_years.pivot_table(index='platform', columns='year_of_release', values='name', \n",
    "                           aggfunc='count', fill_value='.')"
   ]
  },
  {
   "cell_type": "markdown",
   "metadata": {},
   "source": [
    "Какие платформы лидируют по продажам, растут или падают? "
   ]
  },
  {
   "cell_type": "code",
   "execution_count": 361,
   "metadata": {
    "scrolled": true
   },
   "outputs": [
    {
     "data": {
      "image/png": "[encoded data removed]",
      "text/plain": [
       "<Figure size 720x504 with 1 Axes>"
      ]
     },
     "metadata": {
      "needs_background": "light"
     },
     "output_type": "display_data"
    }
   ],
   "source": [
    "pd.pivot_table(data_act_years , index='year_of_release', columns='platform', values='total_sales', aggfunc='sum').plot(figsize=(10,7))\n",
    "plt.grid(True)\n",
    "plt.title('Продажи игр по годам по топ платформам')\n",
    "plt.xlabel('Года')\n",
    "plt.ylabel('Продажи млн.')\n",
    "plt.show()"
   ]
  },
  {
   "cell_type": "markdown",
   "metadata": {},
   "source": [
    "Таким образом, наиболее прибыльными платформами к 2016 году являются PS4, XOne, 3DS, WiiU, PC. Однако происходит спад продаж."
   ]
  },
  {
   "cell_type": "markdown",
   "metadata": {},
   "source": [
    "Построить график «ящик с усами» по глобальным продажам игр в разбивке по платформам"
   ]
  },
  {
   "cell_type": "code",
   "execution_count": 362,
   "metadata": {
    "scrolled": false
   },
   "outputs": [
    {
     "data": {
      "text/plain": [
       "(0.0, 2.0)"
      ]
     },
     "execution_count": 362,
     "metadata": {},
     "output_type": "execute_result"
    },
    {
     "data": {
      "image/png": "[encoded data removed]",
      "text/plain": [
       "<Figure size 360x360 with 1 Axes>"
      ]
     },
     "metadata": {
      "needs_background": "light"
     },
     "output_type": "display_data"
    }
   ],
   "source": [
    "sns.catplot(x=\"platform\", \n",
    "            y='total_sales', \n",
    "            kind=\"box\", \n",
    "            data=data_act_years, \n",
    "            orient='v',\n",
    "            height=5)\n",
    "plt.title('Глобальные продажи по платформам за 2013-2016 г. по платформам')\n",
    "plt.xlabel('Платформа')\n",
    "plt.ylabel('Копии млн.')\n",
    "plt.ylim(0, 2)"
   ]
  },
  {
   "cell_type": "markdown",
   "metadata": {},
   "source": [
    "Самое большое значение и длинный хвост -у Х360, PS4, Wii, XOne, WiiU, PS3 -1,2 - 1,75 млн. копий."
   ]
  },
  {
   "cell_type": "markdown",
   "metadata": {},
   "source": [
    "Как влияют на продажи внутри одной популярной платформы отзывы пользователей и критиков? Построить диаграмму рассеяния и посчитать корреляцию между отзывами и продажами. "
   ]
  },
  {
   "cell_type": "markdown",
   "metadata": {},
   "source": [
    "Самой продаваемой платормой является PS4. Проведем ее анализ."
   ]
  },
  {
   "cell_type": "code",
   "execution_count": 363,
   "metadata": {},
   "outputs": [
    {
     "data": {
      "text/html": [
       "<div>\n",
       "<style scoped>\n",
       "    .dataframe tbody tr th:only-of-type {\n",
       "        vertical-align: middle;\n",
       "    }\n",
       "\n",
       "    .dataframe tbody tr th {\n",
       "        vertical-align: top;\n",
       "    }\n",
       "\n",
       "    .dataframe thead th {\n",
       "        text-align: right;\n",
       "    }\n",
       "</style>\n",
       "<table border=\"1\" class=\"dataframe\">\n",
       "  <thead>\n",
       "    <tr style=\"text-align: right;\">\n",
       "      <th></th>\n",
       "      <th>critic_score</th>\n",
       "      <th>user_score</th>\n",
       "      <th>total_sales</th>\n",
       "    </tr>\n",
       "  </thead>\n",
       "  <tbody>\n",
       "    <tr>\n",
       "      <th>31</th>\n",
       "      <td>NaN</td>\n",
       "      <td>NaN</td>\n",
       "      <td>14.63</td>\n",
       "    </tr>\n",
       "    <tr>\n",
       "      <th>42</th>\n",
       "      <td>97.0</td>\n",
       "      <td>8.3</td>\n",
       "      <td>12.62</td>\n",
       "    </tr>\n",
       "    <tr>\n",
       "      <th>77</th>\n",
       "      <td>82.0</td>\n",
       "      <td>4.3</td>\n",
       "      <td>8.58</td>\n",
       "    </tr>\n",
       "    <tr>\n",
       "      <th>87</th>\n",
       "      <td>NaN</td>\n",
       "      <td>NaN</td>\n",
       "      <td>7.98</td>\n",
       "    </tr>\n",
       "    <tr>\n",
       "      <th>92</th>\n",
       "      <td>83.0</td>\n",
       "      <td>5.7</td>\n",
       "      <td>7.66</td>\n",
       "    </tr>\n",
       "  </tbody>\n",
       "</table>\n",
       "</div>"
      ],
      "text/plain": [
       "    critic_score  user_score  total_sales\n",
       "31           NaN         NaN        14.63\n",
       "42          97.0         8.3        12.62\n",
       "77          82.0         4.3         8.58\n",
       "87           NaN         NaN         7.98\n",
       "92          83.0         5.7         7.66"
      ]
     },
     "execution_count": 363,
     "metadata": {},
     "output_type": "execute_result"
    }
   ],
   "source": [
    "top_PS4 = data_act_years.query('platform == \"PS4\"')\n",
    "top_PS4 = top_PS4[['critic_score', 'user_score', 'total_sales']]\n",
    "top_PS4.head()"
   ]
  },
  {
   "cell_type": "code",
   "execution_count": 364,
   "metadata": {},
   "outputs": [
    {
     "data": {
      "image/png": "[encoded data removed]",
      "text/plain": [
       "<Figure size 360x360 with 1 Axes>"
      ]
     },
     "metadata": {
      "needs_background": "light"
     },
     "output_type": "display_data"
    }
   ],
   "source": [
    "top_PS4.plot(kind='scatter', x='critic_score', y='total_sales', figsize=(5,5), color='brown', alpha=0.5, grid=True)\n",
    "plt.title('Зависимость Продаж от оценки критиков');"
   ]
  },
  {
   "cell_type": "code",
   "execution_count": 365,
   "metadata": {
    "scrolled": true
   },
   "outputs": [
    {
     "data": {
      "image/png": "[encoded data removed]",
      "text/plain": [
       "<Figure size 360x360 with 1 Axes>"
      ]
     },
     "metadata": {
      "needs_background": "light"
     },
     "output_type": "display_data"
    }
   ],
   "source": [
    "top_PS4.plot(kind='scatter', x='user_score', y='total_sales', figsize=(5,5), color='purple', alpha=0.4, grid=True)\n",
    "plt.title('Зависимость Продаж от оценки пользователей\\n  ');"
   ]
  },
  {
   "cell_type": "markdown",
   "metadata": {},
   "source": [
    "Оценки критиков и пользователей не оказывают сильного влияние на продажи игр."
   ]
  },
  {
   "cell_type": "code",
   "execution_count": 366,
   "metadata": {
    "scrolled": true
   },
   "outputs": [
    {
     "data": {
      "text/html": [
       "<div>\n",
       "<style scoped>\n",
       "    .dataframe tbody tr th:only-of-type {\n",
       "        vertical-align: middle;\n",
       "    }\n",
       "\n",
       "    .dataframe tbody tr th {\n",
       "        vertical-align: top;\n",
       "    }\n",
       "\n",
       "    .dataframe thead th {\n",
       "        text-align: right;\n",
       "    }\n",
       "</style>\n",
       "<table border=\"1\" class=\"dataframe\">\n",
       "  <thead>\n",
       "    <tr style=\"text-align: right;\">\n",
       "      <th></th>\n",
       "      <th>year_of_release</th>\n",
       "      <th>na_sales</th>\n",
       "      <th>eu_sales</th>\n",
       "      <th>jp_sales</th>\n",
       "      <th>other_sales</th>\n",
       "      <th>critic_score</th>\n",
       "      <th>user_score</th>\n",
       "      <th>total_sales</th>\n",
       "    </tr>\n",
       "  </thead>\n",
       "  <tbody>\n",
       "    <tr>\n",
       "      <th>year_of_release</th>\n",
       "      <td>1.000000</td>\n",
       "      <td>-0.124551</td>\n",
       "      <td>-0.087983</td>\n",
       "      <td>-0.074142</td>\n",
       "      <td>-0.090225</td>\n",
       "      <td>0.064322</td>\n",
       "      <td>0.039318</td>\n",
       "      <td>-0.117878</td>\n",
       "    </tr>\n",
       "    <tr>\n",
       "      <th>na_sales</th>\n",
       "      <td>-0.124551</td>\n",
       "      <td>1.000000</td>\n",
       "      <td>0.769995</td>\n",
       "      <td>0.264513</td>\n",
       "      <td>0.817367</td>\n",
       "      <td>0.301130</td>\n",
       "      <td>-0.020010</td>\n",
       "      <td>0.922617</td>\n",
       "    </tr>\n",
       "    <tr>\n",
       "      <th>eu_sales</th>\n",
       "      <td>-0.087983</td>\n",
       "      <td>0.769995</td>\n",
       "      <td>1.000000</td>\n",
       "      <td>0.244616</td>\n",
       "      <td>0.934796</td>\n",
       "      <td>0.280785</td>\n",
       "      <td>-0.027040</td>\n",
       "      <td>0.928031</td>\n",
       "    </tr>\n",
       "    <tr>\n",
       "      <th>jp_sales</th>\n",
       "      <td>-0.074142</td>\n",
       "      <td>0.264513</td>\n",
       "      <td>0.244616</td>\n",
       "      <td>1.000000</td>\n",
       "      <td>0.195192</td>\n",
       "      <td>0.134143</td>\n",
       "      <td>0.194025</td>\n",
       "      <td>0.434394</td>\n",
       "    </tr>\n",
       "    <tr>\n",
       "      <th>other_sales</th>\n",
       "      <td>-0.090225</td>\n",
       "      <td>0.817367</td>\n",
       "      <td>0.934796</td>\n",
       "      <td>0.195192</td>\n",
       "      <td>1.000000</td>\n",
       "      <td>0.275289</td>\n",
       "      <td>-0.011500</td>\n",
       "      <td>0.921370</td>\n",
       "    </tr>\n",
       "    <tr>\n",
       "      <th>critic_score</th>\n",
       "      <td>0.064322</td>\n",
       "      <td>0.301130</td>\n",
       "      <td>0.280785</td>\n",
       "      <td>0.134143</td>\n",
       "      <td>0.275289</td>\n",
       "      <td>1.000000</td>\n",
       "      <td>0.502221</td>\n",
       "      <td>0.313700</td>\n",
       "    </tr>\n",
       "    <tr>\n",
       "      <th>user_score</th>\n",
       "      <td>0.039318</td>\n",
       "      <td>-0.020010</td>\n",
       "      <td>-0.027040</td>\n",
       "      <td>0.194025</td>\n",
       "      <td>-0.011500</td>\n",
       "      <td>0.502221</td>\n",
       "      <td>1.000000</td>\n",
       "      <td>-0.002608</td>\n",
       "    </tr>\n",
       "    <tr>\n",
       "      <th>total_sales</th>\n",
       "      <td>-0.117878</td>\n",
       "      <td>0.922617</td>\n",
       "      <td>0.928031</td>\n",
       "      <td>0.434394</td>\n",
       "      <td>0.921370</td>\n",
       "      <td>0.313700</td>\n",
       "      <td>-0.002608</td>\n",
       "      <td>1.000000</td>\n",
       "    </tr>\n",
       "  </tbody>\n",
       "</table>\n",
       "</div>"
      ],
      "text/plain": [
       "                 year_of_release  na_sales  eu_sales  jp_sales  other_sales  \\\n",
       "year_of_release         1.000000 -0.124551 -0.087983 -0.074142    -0.090225   \n",
       "na_sales               -0.124551  1.000000  0.769995  0.264513     0.817367   \n",
       "eu_sales               -0.087983  0.769995  1.000000  0.244616     0.934796   \n",
       "jp_sales               -0.074142  0.264513  0.244616  1.000000     0.195192   \n",
       "other_sales            -0.090225  0.817367  0.934796  0.195192     1.000000   \n",
       "critic_score            0.064322  0.301130  0.280785  0.134143     0.275289   \n",
       "user_score              0.039318 -0.020010 -0.027040  0.194025    -0.011500   \n",
       "total_sales            -0.117878  0.922617  0.928031  0.434394     0.921370   \n",
       "\n",
       "                 critic_score  user_score  total_sales  \n",
       "year_of_release      0.064322    0.039318    -0.117878  \n",
       "na_sales             0.301130   -0.020010     0.922617  \n",
       "eu_sales             0.280785   -0.027040     0.928031  \n",
       "jp_sales             0.134143    0.194025     0.434394  \n",
       "other_sales          0.275289   -0.011500     0.921370  \n",
       "critic_score         1.000000    0.502221     0.313700  \n",
       "user_score           0.502221    1.000000    -0.002608  \n",
       "total_sales          0.313700   -0.002608     1.000000  "
      ]
     },
     "execution_count": 366,
     "metadata": {},
     "output_type": "execute_result"
    }
   ],
   "source": [
    "data_act_years.corr()"
   ]
  },
  {
   "cell_type": "code",
   "execution_count": 367,
   "metadata": {},
   "outputs": [
    {
     "data": {
      "text/plain": [
       "0.3136995151027371"
      ]
     },
     "execution_count": 367,
     "metadata": {},
     "output_type": "execute_result"
    }
   ],
   "source": [
    "data_act_years['total_sales'].corr(data_act_years['critic_score'])"
   ]
  },
  {
   "cell_type": "markdown",
   "metadata": {},
   "source": [
    "Корреляция 0,3 свидетельствует об очень слабой связи между продажами и отзывами критиков."
   ]
  },
  {
   "cell_type": "code",
   "execution_count": 368,
   "metadata": {},
   "outputs": [
    {
     "data": {
      "text/plain": [
       "-0.0026078133545982744"
      ]
     },
     "execution_count": 368,
     "metadata": {},
     "output_type": "execute_result"
    }
   ],
   "source": [
    "data_act_years['total_sales'].corr(data_act_years['user_score'])"
   ]
  },
  {
   "cell_type": "markdown",
   "metadata": {},
   "source": [
    "Отсутствует связь между продажами и отзывами пользователей."
   ]
  },
  {
   "cell_type": "markdown",
   "metadata": {},
   "source": [
    "РАЗДЕЛ 3\n",
    "\n",
    "Вывод:\n",
    "\n",
    "1) средняя продолжительность жизни платформы составляет 11 лет\n",
    "\n",
    "2) самые перспективные платформы: PS4, XOne, 3DS, WiiU, PC\n",
    "\n",
    "3) за последние 3 года наблюдается спад в продажах топовых платформ\n",
    "\n",
    "4) оценки критиков и пользователей не влияют на объемы продаж\n"
   ]
  },
  {
   "cell_type": "markdown",
   "metadata": {},
   "source": [
    "## Портрет пользователя каждого региона"
   ]
  },
  {
   "cell_type": "markdown",
   "metadata": {},
   "source": [
    "•\tСамые популярные платформы (топ-5)"
   ]
  },
  {
   "cell_type": "code",
   "execution_count": 379,
   "metadata": {
    "scrolled": false
   },
   "outputs": [
    {
     "data": {
      "image/png": "[encoded data removed]",
      "text/plain": [
       "<Figure size 432x288 with 1 Axes>"
      ]
     },
     "metadata": {
      "needs_background": "light"
     },
     "output_type": "display_data"
    }
   ],
   "source": [
    "data.groupby(by='platform').agg({'na_sales':'sum'}).sort_values(by='na_sales', ascending=False).head(5).plot(kind='bar').set(ylabel='продажи, млн.копий')\n",
    "plt.title('Продажи по платформам в Cеверной Америке');"
   ]
  },
  {
   "cell_type": "code",
   "execution_count": 380,
   "metadata": {},
   "outputs": [
    {
     "data": {
      "image/png": "[encoded data removed]",
      "text/plain": [
       "<Figure size 432x288 with 1 Axes>"
      ]
     },
     "metadata": {
      "needs_background": "light"
     },
     "output_type": "display_data"
    }
   ],
   "source": [
    "data.groupby(by='platform').agg({'eu_sales':'sum'}).sort_values(by='eu_sales', ascending=False).head(5).plot(kind='bar').set(ylabel='продажи, млн.копий')\n",
    "plt.title('Продажи по платформам в Европе');"
   ]
  },
  {
   "cell_type": "code",
   "execution_count": 381,
   "metadata": {},
   "outputs": [
    {
     "data": {
      "image/png": "[encoded data removed]",
      "text/plain": [
       "<Figure size 432x288 with 1 Axes>"
      ]
     },
     "metadata": {
      "needs_background": "light"
     },
     "output_type": "display_data"
    }
   ],
   "source": [
    "data.groupby(by='platform').agg({'jp_sales':'sum'}).sort_values(by='jp_sales', ascending=False).head(5).plot(kind='bar').set(ylabel='продажи, млн.копий')\n",
    "plt.title('Продажи по платформам в Японии');"
   ]
  },
  {
   "cell_type": "markdown",
   "metadata": {},
   "source": [
    "В Северной Америке наиболее восстребованы X360 и PS2, в Европе - PS2 и PS3, в Японии значительный отрыв наблюдается у DS."
   ]
  },
  {
   "cell_type": "markdown",
   "metadata": {},
   "source": [
    "•\tСамые популярные жанры (топ-5)"
   ]
  },
  {
   "cell_type": "code",
   "execution_count": 382,
   "metadata": {},
   "outputs": [
    {
     "data": {
      "image/png": "[encoded data removed]",
      "text/plain": [
       "<Figure size 432x288 with 1 Axes>"
      ]
     },
     "metadata": {
      "needs_background": "light"
     },
     "output_type": "display_data"
    }
   ],
   "source": [
    "data.groupby(by='genre').agg({'na_sales':'sum'}).sort_values(by='na_sales', ascending=False).head(5).plot(kind='bar').set(ylabel='продажи, млн.копий')\n",
    "plt.title('Продажи по жанрам в Северной Америке');"
   ]
  },
  {
   "cell_type": "code",
   "execution_count": 383,
   "metadata": {},
   "outputs": [
    {
     "data": {
      "image/png": "[encoded data removed]",
      "text/plain": [
       "<Figure size 432x288 with 1 Axes>"
      ]
     },
     "metadata": {
      "needs_background": "light"
     },
     "output_type": "display_data"
    }
   ],
   "source": [
    "data.groupby(by='genre').agg({'eu_sales':'sum'}).sort_values(by='eu_sales', ascending=False).head(5).plot(kind='bar').set(ylabel='продажи, млн.копий')\n",
    "plt.title('Продажи по жанрам в Европе');"
   ]
  },
  {
   "cell_type": "code",
   "execution_count": 384,
   "metadata": {
    "scrolled": true
   },
   "outputs": [
    {
     "data": {
      "image/png": "[encoded data removed]",
      "text/plain": [
       "<Figure size 432x288 with 1 Axes>"
      ]
     },
     "metadata": {
      "needs_background": "light"
     },
     "output_type": "display_data"
    }
   ],
   "source": [
    "data.groupby(by='genre').agg({'jp_sales':'sum'}).sort_values(by='jp_sales', ascending=False).head(5).plot(kind='bar').set(ylabel='продажи, млн.копий')\n",
    "plt.title('Продажи по жанрам в Японии');"
   ]
  },
  {
   "cell_type": "markdown",
   "metadata": {},
   "source": [
    "В Северной Америке и Европе наиболее восстребованы экшен жанры, в Японии значительный отрыв наблюдается у ролевых игр."
   ]
  },
  {
   "cell_type": "markdown",
   "metadata": {},
   "source": [
    "•   Влияет ли рейтинг ESRB на продажи в отдельном регионе?"
   ]
  },
  {
   "cell_type": "code",
   "execution_count": 385,
   "metadata": {},
   "outputs": [
    {
     "data": {
      "image/png": "[encoded data removed]",
      "text/plain": [
       "<Figure size 432x288 with 1 Axes>"
      ]
     },
     "metadata": {
      "needs_background": "light"
     },
     "output_type": "display_data"
    }
   ],
   "source": [
    "data.groupby(by='rating').agg({'na_sales':'sum'}).sort_values(by='na_sales', ascending=False).head(5).plot(kind='bar').set(ylabel='продажи, млн.копий')\n",
    "plt.title('Популярность рейтингов в Северной Америке');"
   ]
  },
  {
   "cell_type": "code",
   "execution_count": 386,
   "metadata": {},
   "outputs": [
    {
     "data": {
      "image/png": "[encoded data removed]",
      "text/plain": [
       "<Figure size 432x288 with 1 Axes>"
      ]
     },
     "metadata": {
      "needs_background": "light"
     },
     "output_type": "display_data"
    }
   ],
   "source": [
    "data.groupby(by='rating').agg({'eu_sales':'sum'}).sort_values(by='eu_sales', ascending=False).head(5).plot(kind='bar').set(ylabel='продажи, млн.копий')\n",
    "plt.title('Популярность рейтингов в Европе');"
   ]
  },
  {
   "cell_type": "code",
   "execution_count": 387,
   "metadata": {
    "scrolled": true
   },
   "outputs": [
    {
     "data": {
      "image/png": "[encoded data removed]",
      "text/plain": [
       "<Figure size 432x288 with 1 Axes>"
      ]
     },
     "metadata": {
      "needs_background": "light"
     },
     "output_type": "display_data"
    }
   ],
   "source": [
    "data.groupby(by='rating').agg({'jp_sales':'sum'}).sort_values(by='jp_sales', ascending=False).head(5).plot(kind='bar').set(ylabel='продажи, млн.копий')\n",
    "plt.title('Популярность рейтингов в Японии');"
   ]
  },
  {
   "cell_type": "markdown",
   "metadata": {},
   "source": [
    "В Северной Америке и Европе наиболее восстребованы игры с рейтингом \"Для всех\", в Японии значительный отрыв наблюдается у игр с неопределенным рейтингом, также востребован рейтинг 'Для всех'."
   ]
  },
  {
   "cell_type": "markdown",
   "metadata": {},
   "source": [
    "РАЗДЕЛ 4\n",
    "\n",
    "Вывод:\n",
    "    \n",
    "1) В Европе и Северной Америке схожий портрет пользователя.\n",
    "\n",
    "Топ платформа: PS2 \n",
    "\n",
    "Жанр игр: экшен\n",
    "\n",
    "Рейтинг: для всех\n",
    "\n",
    "2) В Японии\n",
    "\n",
    "Топ платформа: DS \n",
    "\n",
    "Жанр игр: ролевые\n",
    "\n",
    "Рейтинг: для всех"
   ]
  },
  {
   "cell_type": "markdown",
   "metadata": {},
   "source": [
    "## Проверка гипотез"
   ]
  },
  {
   "cell_type": "markdown",
   "metadata": {},
   "source": [
    "•\tСредние пользовательские рейтинги платформ Xbox One и PC одинаковые"
   ]
  },
  {
   "cell_type": "markdown",
   "metadata": {},
   "source": [
    "Н0: средние пользовательские рейтинги платформ Xbox One и PC равны\n",
    "\n",
    "Н1: средние пользовательские рейтинги платформ Xbox One и PC не равны"
   ]
  },
  {
   "cell_type": "code",
   "execution_count": 388,
   "metadata": {},
   "outputs": [],
   "source": [
    "alpha = 0.05"
   ]
  },
  {
   "cell_type": "code",
   "execution_count": 389,
   "metadata": {},
   "outputs": [],
   "source": [
    "xbox_one = data.query('platform == \"XOne\"')['user_score']\n",
    "pc = data.query('platform == \"PC\"')['user_score']"
   ]
  },
  {
   "cell_type": "code",
   "execution_count": 390,
   "metadata": {},
   "outputs": [],
   "source": [
    "results = st.ttest_ind(xbox_one, pc,equal_var = False, nan_policy='omit')"
   ]
  },
  {
   "cell_type": "code",
   "execution_count": 391,
   "metadata": {
    "scrolled": true
   },
   "outputs": [
    {
     "name": "stdout",
     "output_type": "stream",
     "text": [
      "p-значение: 5.2790724212074636e-06\n",
      "Отвергаем нулевую гипотезу\n"
     ]
    }
   ],
   "source": [
    "print('p-значение:', results.pvalue)\n",
    "\n",
    "if (results.pvalue < alpha):\n",
    "    print(\"Отвергаем нулевую гипотезу\")\n",
    "else:\n",
    "    print(\"Не получилось отвергнуть нулевую гипотезу\")"
   ]
  },
  {
   "cell_type": "markdown",
   "metadata": {},
   "source": [
    "Р-значение говорит о том, что пользовательские рейтинги платформ Xbox One и PC сильно отличаются."
   ]
  },
  {
   "cell_type": "markdown",
   "metadata": {},
   "source": [
    "•\tСредние пользовательские рейтинги жанров Action (экшен-игры) и Sports (спортивные соревнования) разные"
   ]
  },
  {
   "cell_type": "markdown",
   "metadata": {},
   "source": [
    "Н0: средние пользовательские рейтинги жанров Action и Sport равны\n",
    "\n",
    "Н1: средние пользовательские рейтинги жанров Action и Sport не равны"
   ]
  },
  {
   "cell_type": "code",
   "execution_count": 392,
   "metadata": {},
   "outputs": [],
   "source": [
    "action = data.query('genre == \"Action\"')['user_score']\n",
    "sports = data.query('genre == \"Sports\"')['user_score']"
   ]
  },
  {
   "cell_type": "code",
   "execution_count": 393,
   "metadata": {
    "scrolled": true
   },
   "outputs": [
    {
     "name": "stdout",
     "output_type": "stream",
     "text": [
      "p-значение: 0.07607291840585198\n",
      "Не получилось отвергнуть нулевую гипотезу\n"
     ]
    }
   ],
   "source": [
    "results = st.ttest_ind(action, sports,equal_var = False, nan_policy='omit')\n",
    "print('p-значение:', results.pvalue)\n",
    "\n",
    "if (results.pvalue < alpha):\n",
    "    print(\"Отвергаем нулевую гипотезу\")\n",
    "else:\n",
    "    print(\"Не получилось отвергнуть нулевую гипотезу\")"
   ]
  },
  {
   "cell_type": "markdown",
   "metadata": {},
   "source": [
    "Р-значение говорит о том, что с большой долей вероятности значимых различий между пользовательскими рейтингами жанров нет."
   ]
  },
  {
   "cell_type": "markdown",
   "metadata": {},
   "source": [
    "Общий вывод"
   ]
  },
  {
   "cell_type": "markdown",
   "metadata": {},
   "source": [
    "Цикл жизни платформы составляет в среднем 11 лет. \n",
    "\n",
    "Топ-5 платформ за исследуемое время : PS4, XOne, 3DS, WiiU, PC. \n",
    "\n",
    "Для прогноза наиболее перспективной платформы на 2017 год был выбран актуальный период исходя из среднего периода жизни платфорты в 3 года. Именно в этот период произошел спад выпусков топовых платформ на уровень 2000-2005 годов после пика в 2008-2009 годах. Возможно произошло пресыщение рынка и стали более востребованы мобильные игры. \n",
    "Перспективных новых платформ, которые показывали бы тенденцию к росту, нет, поэтому стоит сконцентрироваться на продвижении топовых платформ - PS4 , XOne и 3DS. \n",
    "\n",
    "При разработке новых игр или для обновления старых следует учесть:\n",
    "\n",
    "1) В Европе и Северной Америке схожий портрет пользователя. Топовые платформы PS2, PS3, X360, восстребованный жанр игр - экшен и рейтинг 'для всех'. В Японии топовой платформой является DS, восстребованный жанр игр - ролевые и рейтинг 'для всех'.\n",
    "\n",
    "2) Средние пользовательские рейтинги платформ Xbox One и PC отличаются. Средние пользовательские рейтинги жанров Action и Sports схожи.\n",
    "\n",
    "3) Оценки критиков и пользователей не влияют на объемы продаж."
   ]
  }
 ],
 "metadata": {
  "ExecuteTimeLog": [
   {
    "duration": 1234,
    "start_time": "2022-11-28T17:46:29.324Z"
   },
   {
    "duration": 96,
    "start_time": "2022-11-28T17:46:30.560Z"
   },
   {
    "duration": 14,
    "start_time": "2022-11-28T17:46:30.658Z"
   },
   {
    "duration": 44,
    "start_time": "2022-11-28T17:49:37.209Z"
   },
   {
    "duration": 273,
    "start_time": "2022-11-28T17:55:07.790Z"
   },
   {
    "duration": 3,
    "start_time": "2022-11-28T18:08:30.604Z"
   },
   {
    "duration": 19,
    "start_time": "2022-11-28T18:08:44.650Z"
   },
   {
    "duration": 4,
    "start_time": "2022-11-28T18:14:53.867Z"
   },
   {
    "duration": 8,
    "start_time": "2022-11-28T18:15:00.021Z"
   },
   {
    "duration": 6,
    "start_time": "2022-11-28T18:15:19.933Z"
   },
   {
    "duration": 9,
    "start_time": "2022-11-28T18:26:03.230Z"
   },
   {
    "duration": 15,
    "start_time": "2022-11-28T18:50:17.329Z"
   },
   {
    "duration": 16,
    "start_time": "2022-11-28T18:50:28.684Z"
   },
   {
    "duration": 4,
    "start_time": "2022-11-28T18:57:07.355Z"
   },
   {
    "duration": 20,
    "start_time": "2022-11-28T18:58:38.577Z"
   },
   {
    "duration": 13,
    "start_time": "2022-11-28T18:59:24.670Z"
   },
   {
    "duration": 12,
    "start_time": "2022-11-28T18:59:36.942Z"
   },
   {
    "duration": 10,
    "start_time": "2022-11-28T19:01:05.239Z"
   },
   {
    "duration": 19,
    "start_time": "2022-11-28T19:04:52.603Z"
   },
   {
    "duration": 18,
    "start_time": "2022-11-28T19:05:26.428Z"
   },
   {
    "duration": 3,
    "start_time": "2022-11-28T19:05:56.549Z"
   },
   {
    "duration": 19,
    "start_time": "2022-11-28T19:06:53.300Z"
   },
   {
    "duration": 24,
    "start_time": "2022-11-28T19:07:12.825Z"
   },
   {
    "duration": 19,
    "start_time": "2022-11-28T19:07:34.761Z"
   },
   {
    "duration": 5,
    "start_time": "2022-11-28T19:09:03.299Z"
   },
   {
    "duration": 14,
    "start_time": "2022-11-28T19:09:48.057Z"
   },
   {
    "duration": 7,
    "start_time": "2022-11-28T19:09:57.835Z"
   },
   {
    "duration": 5,
    "start_time": "2022-11-28T19:12:30.481Z"
   },
   {
    "duration": 9,
    "start_time": "2022-11-28T19:12:58.559Z"
   },
   {
    "duration": 6,
    "start_time": "2022-11-28T19:13:33.179Z"
   },
   {
    "duration": 5,
    "start_time": "2022-11-28T19:15:57.097Z"
   },
   {
    "duration": 3,
    "start_time": "2022-11-28T19:16:43.692Z"
   },
   {
    "duration": 57,
    "start_time": "2022-11-28T19:16:43.906Z"
   },
   {
    "duration": 20,
    "start_time": "2022-11-28T19:16:44.107Z"
   },
   {
    "duration": 29,
    "start_time": "2022-11-28T19:16:44.299Z"
   },
   {
    "duration": 18,
    "start_time": "2022-11-28T19:16:44.494Z"
   },
   {
    "duration": 16,
    "start_time": "2022-11-28T19:16:44.928Z"
   },
   {
    "duration": 10,
    "start_time": "2022-11-28T19:16:45.742Z"
   },
   {
    "duration": 7,
    "start_time": "2022-11-28T19:16:46.536Z"
   },
   {
    "duration": 6,
    "start_time": "2022-11-28T19:16:47.448Z"
   },
   {
    "duration": 8,
    "start_time": "2022-11-28T19:16:48.346Z"
   },
   {
    "duration": 4,
    "start_time": "2022-11-28T19:16:49.084Z"
   },
   {
    "duration": 6,
    "start_time": "2022-11-28T19:18:00.862Z"
   },
   {
    "duration": 4,
    "start_time": "2022-11-28T19:26:16.968Z"
   },
   {
    "duration": 10,
    "start_time": "2022-11-28T19:27:22.412Z"
   },
   {
    "duration": 6,
    "start_time": "2022-11-28T19:27:38.592Z"
   },
   {
    "duration": 6,
    "start_time": "2022-11-28T19:27:47.886Z"
   },
   {
    "duration": 3,
    "start_time": "2022-11-28T19:28:46.103Z"
   },
   {
    "duration": 64,
    "start_time": "2022-11-28T19:28:46.678Z"
   },
   {
    "duration": 21,
    "start_time": "2022-11-28T19:28:47.505Z"
   },
   {
    "duration": 29,
    "start_time": "2022-11-28T19:28:48.638Z"
   },
   {
    "duration": 23,
    "start_time": "2022-11-28T19:28:49.909Z"
   },
   {
    "duration": 6,
    "start_time": "2022-11-28T19:28:50.829Z"
   },
   {
    "duration": 8,
    "start_time": "2022-11-28T19:28:51.679Z"
   },
   {
    "duration": 15,
    "start_time": "2022-11-28T19:28:52.626Z"
   },
   {
    "duration": 2,
    "start_time": "2022-11-28T19:29:25.970Z"
   },
   {
    "duration": 49,
    "start_time": "2022-11-28T19:29:26.262Z"
   },
   {
    "duration": 14,
    "start_time": "2022-11-28T19:29:26.587Z"
   },
   {
    "duration": 26,
    "start_time": "2022-11-28T19:29:35.040Z"
   },
   {
    "duration": 20,
    "start_time": "2022-11-28T19:29:35.672Z"
   },
   {
    "duration": 4,
    "start_time": "2022-11-28T19:29:36.299Z"
   },
   {
    "duration": 25,
    "start_time": "2022-11-28T19:29:37.365Z"
   },
   {
    "duration": 4,
    "start_time": "2022-11-28T19:29:46.073Z"
   },
   {
    "duration": 27,
    "start_time": "2022-11-28T19:29:47.101Z"
   },
   {
    "duration": 16,
    "start_time": "2022-11-28T19:29:48.017Z"
   },
   {
    "duration": 6,
    "start_time": "2022-11-28T19:29:51.053Z"
   },
   {
    "duration": 5,
    "start_time": "2022-11-28T19:29:51.828Z"
   },
   {
    "duration": 3,
    "start_time": "2022-11-28T19:31:44.329Z"
   },
   {
    "duration": 55,
    "start_time": "2022-11-28T19:31:44.570Z"
   },
   {
    "duration": 18,
    "start_time": "2022-11-28T19:31:45.413Z"
   },
   {
    "duration": 43,
    "start_time": "2022-11-28T19:31:46.272Z"
   },
   {
    "duration": 20,
    "start_time": "2022-11-28T19:31:47.864Z"
   },
   {
    "duration": 5,
    "start_time": "2022-11-28T19:31:48.832Z"
   },
   {
    "duration": 8,
    "start_time": "2022-11-28T19:31:50.628Z"
   },
   {
    "duration": 5,
    "start_time": "2022-11-28T19:31:51.546Z"
   },
   {
    "duration": 9,
    "start_time": "2022-11-28T19:31:53.209Z"
   },
   {
    "duration": 4,
    "start_time": "2022-11-28T19:31:57.661Z"
   },
   {
    "duration": 16,
    "start_time": "2022-11-28T19:31:58.283Z"
   },
   {
    "duration": 10,
    "start_time": "2022-11-28T19:31:59.076Z"
   },
   {
    "duration": 13,
    "start_time": "2022-11-28T19:35:36.890Z"
   },
   {
    "duration": 13,
    "start_time": "2022-11-28T19:36:44.331Z"
   },
   {
    "duration": 23,
    "start_time": "2022-11-28T19:45:47.673Z"
   },
   {
    "duration": 5,
    "start_time": "2022-11-28T19:52:15.111Z"
   },
   {
    "duration": 24,
    "start_time": "2022-11-28T19:52:36.205Z"
   },
   {
    "duration": 50,
    "start_time": "2022-11-29T12:47:55.227Z"
   },
   {
    "duration": 1320,
    "start_time": "2022-11-29T12:48:01.694Z"
   },
   {
    "duration": 195,
    "start_time": "2022-11-29T12:48:03.016Z"
   },
   {
    "duration": 18,
    "start_time": "2022-11-29T12:48:03.212Z"
   },
   {
    "duration": 37,
    "start_time": "2022-11-29T12:48:03.232Z"
   },
   {
    "duration": 22,
    "start_time": "2022-11-29T12:48:03.270Z"
   },
   {
    "duration": 37,
    "start_time": "2022-11-29T12:48:03.294Z"
   },
   {
    "duration": 7,
    "start_time": "2022-11-29T12:48:03.569Z"
   },
   {
    "duration": 5,
    "start_time": "2022-11-29T12:48:03.897Z"
   },
   {
    "duration": 7,
    "start_time": "2022-11-29T12:48:04.595Z"
   },
   {
    "duration": 5,
    "start_time": "2022-11-29T12:48:05.011Z"
   },
   {
    "duration": 17,
    "start_time": "2022-11-29T12:48:05.736Z"
   },
   {
    "duration": 10,
    "start_time": "2022-11-29T12:48:06.377Z"
   },
   {
    "duration": 15,
    "start_time": "2022-11-29T12:48:06.656Z"
   },
   {
    "duration": 13,
    "start_time": "2022-11-29T12:48:06.920Z"
   },
   {
    "duration": 23,
    "start_time": "2022-11-29T12:48:07.815Z"
   },
   {
    "duration": 5,
    "start_time": "2022-11-29T12:48:08.831Z"
   },
   {
    "duration": 9,
    "start_time": "2022-11-29T12:48:09.617Z"
   },
   {
    "duration": 9,
    "start_time": "2022-11-29T12:51:20.587Z"
   },
   {
    "duration": 10,
    "start_time": "2022-11-29T12:51:23.754Z"
   },
   {
    "duration": 15,
    "start_time": "2022-11-29T12:54:28.556Z"
   },
   {
    "duration": 5,
    "start_time": "2022-11-29T13:04:45.271Z"
   },
   {
    "duration": 17,
    "start_time": "2022-11-29T13:05:13.659Z"
   },
   {
    "duration": 7,
    "start_time": "2022-11-29T13:10:06.573Z"
   },
   {
    "duration": 11,
    "start_time": "2022-11-29T13:10:53.932Z"
   },
   {
    "duration": 207,
    "start_time": "2022-11-29T13:34:57.642Z"
   },
   {
    "duration": 178,
    "start_time": "2022-11-29T13:35:40.322Z"
   },
   {
    "duration": 11,
    "start_time": "2022-11-29T13:52:39.025Z"
   },
   {
    "duration": 152,
    "start_time": "2022-11-29T13:54:37.324Z"
   },
   {
    "duration": 231,
    "start_time": "2022-11-29T13:54:56.285Z"
   },
   {
    "duration": 13,
    "start_time": "2022-11-29T13:55:05.092Z"
   },
   {
    "duration": 163,
    "start_time": "2022-11-29T13:55:06.268Z"
   },
   {
    "duration": 173,
    "start_time": "2022-11-29T13:55:15.123Z"
   },
   {
    "duration": 13,
    "start_time": "2022-11-29T13:55:52.534Z"
   },
   {
    "duration": 190,
    "start_time": "2022-11-29T13:57:03.014Z"
   },
   {
    "duration": 199,
    "start_time": "2022-11-29T13:57:29.451Z"
   },
   {
    "duration": 245,
    "start_time": "2022-11-29T13:57:48.350Z"
   },
   {
    "duration": 233,
    "start_time": "2022-11-29T13:58:04.480Z"
   },
   {
    "duration": 172,
    "start_time": "2022-11-29T14:01:09.853Z"
   },
   {
    "duration": 149,
    "start_time": "2022-11-29T14:02:27.352Z"
   },
   {
    "duration": 14,
    "start_time": "2022-11-29T14:28:27.542Z"
   },
   {
    "duration": 9,
    "start_time": "2022-11-29T14:30:32.419Z"
   },
   {
    "duration": 17,
    "start_time": "2022-11-29T14:31:54.012Z"
   },
   {
    "duration": 10,
    "start_time": "2022-11-29T14:34:06.806Z"
   },
   {
    "duration": 331,
    "start_time": "2022-11-29T14:34:20.423Z"
   },
   {
    "duration": 341,
    "start_time": "2022-11-29T14:34:51.112Z"
   },
   {
    "duration": 137,
    "start_time": "2022-11-29T14:45:40.372Z"
   },
   {
    "duration": 145,
    "start_time": "2022-11-29T15:03:19.202Z"
   },
   {
    "duration": 3,
    "start_time": "2022-11-29T15:20:20.596Z"
   },
   {
    "duration": 51,
    "start_time": "2022-11-29T15:20:21.066Z"
   },
   {
    "duration": 24,
    "start_time": "2022-11-29T15:20:21.346Z"
   },
   {
    "duration": 37,
    "start_time": "2022-11-29T15:20:22.035Z"
   },
   {
    "duration": 24,
    "start_time": "2022-11-29T15:20:22.564Z"
   },
   {
    "duration": 7,
    "start_time": "2022-11-29T15:20:23.288Z"
   },
   {
    "duration": 19,
    "start_time": "2022-11-29T15:20:24.249Z"
   },
   {
    "duration": 5,
    "start_time": "2022-11-29T15:20:25.025Z"
   },
   {
    "duration": 5,
    "start_time": "2022-11-29T15:20:25.529Z"
   },
   {
    "duration": 5,
    "start_time": "2022-11-29T15:20:26.187Z"
   },
   {
    "duration": 10,
    "start_time": "2022-11-29T15:20:26.868Z"
   },
   {
    "duration": 15,
    "start_time": "2022-11-29T15:20:28.005Z"
   },
   {
    "duration": 14,
    "start_time": "2022-11-29T15:20:30.602Z"
   },
   {
    "duration": 20,
    "start_time": "2022-11-29T15:20:31.498Z"
   },
   {
    "duration": 5,
    "start_time": "2022-11-29T15:20:32.643Z"
   },
   {
    "duration": 17,
    "start_time": "2022-11-29T15:20:33.550Z"
   },
   {
    "duration": 9,
    "start_time": "2022-11-29T15:20:34.437Z"
   },
   {
    "duration": 15,
    "start_time": "2022-11-29T15:20:35.305Z"
   },
   {
    "duration": 18,
    "start_time": "2022-11-29T15:20:35.968Z"
   },
   {
    "duration": 14,
    "start_time": "2022-11-29T15:20:36.857Z"
   },
   {
    "duration": 228,
    "start_time": "2022-11-29T15:20:37.492Z"
   },
   {
    "duration": 15,
    "start_time": "2022-11-29T15:20:38.792Z"
   },
   {
    "duration": 451,
    "start_time": "2022-11-29T15:20:39.466Z"
   },
   {
    "duration": 136,
    "start_time": "2022-11-29T15:20:40.409Z"
   },
   {
    "duration": 3,
    "start_time": "2022-11-29T15:20:41.792Z"
   },
   {
    "duration": 11,
    "start_time": "2022-11-29T15:20:42.433Z"
   },
   {
    "duration": 10,
    "start_time": "2022-11-29T15:20:42.892Z"
   },
   {
    "duration": 3,
    "start_time": "2022-11-29T15:22:48.835Z"
   },
   {
    "duration": 52,
    "start_time": "2022-11-29T15:22:49.225Z"
   },
   {
    "duration": 15,
    "start_time": "2022-11-29T15:22:49.402Z"
   },
   {
    "duration": 31,
    "start_time": "2022-11-29T15:22:49.583Z"
   },
   {
    "duration": 24,
    "start_time": "2022-11-29T15:22:49.758Z"
   },
   {
    "duration": 6,
    "start_time": "2022-11-29T15:22:49.932Z"
   },
   {
    "duration": 11,
    "start_time": "2022-11-29T15:22:50.123Z"
   },
   {
    "duration": 5,
    "start_time": "2022-11-29T15:22:50.314Z"
   },
   {
    "duration": 6,
    "start_time": "2022-11-29T15:22:50.506Z"
   },
   {
    "duration": 4,
    "start_time": "2022-11-29T15:22:50.685Z"
   },
   {
    "duration": 11,
    "start_time": "2022-11-29T15:22:50.850Z"
   },
   {
    "duration": 16,
    "start_time": "2022-11-29T15:22:51.062Z"
   },
   {
    "duration": 12,
    "start_time": "2022-11-29T15:22:51.227Z"
   },
   {
    "duration": 23,
    "start_time": "2022-11-29T15:22:51.610Z"
   },
   {
    "duration": 5,
    "start_time": "2022-11-29T15:22:51.825Z"
   },
   {
    "duration": 6,
    "start_time": "2022-11-29T15:22:52.013Z"
   },
   {
    "duration": 9,
    "start_time": "2022-11-29T15:22:52.217Z"
   },
   {
    "duration": 23,
    "start_time": "2022-11-29T15:22:52.438Z"
   },
   {
    "duration": 24,
    "start_time": "2022-11-29T15:22:52.655Z"
   },
   {
    "duration": 25,
    "start_time": "2022-11-29T15:22:52.851Z"
   },
   {
    "duration": 232,
    "start_time": "2022-11-29T15:22:53.068Z"
   },
   {
    "duration": 17,
    "start_time": "2022-11-29T15:22:53.306Z"
   },
   {
    "duration": 381,
    "start_time": "2022-11-29T15:22:53.508Z"
   },
   {
    "duration": 141,
    "start_time": "2022-11-29T15:22:53.891Z"
   },
   {
    "duration": 3,
    "start_time": "2022-11-29T15:23:02.809Z"
   },
   {
    "duration": 15,
    "start_time": "2022-11-29T15:23:03.345Z"
   },
   {
    "duration": 8,
    "start_time": "2022-11-29T15:23:36.253Z"
   },
   {
    "duration": 3,
    "start_time": "2022-11-29T15:23:40.645Z"
   },
   {
    "duration": 3,
    "start_time": "2022-11-29T15:23:41.802Z"
   },
   {
    "duration": 4,
    "start_time": "2022-11-29T15:34:43.472Z"
   },
   {
    "duration": 5,
    "start_time": "2022-11-29T15:34:44.765Z"
   },
   {
    "duration": 4,
    "start_time": "2022-11-29T15:34:44.938Z"
   },
   {
    "duration": 14,
    "start_time": "2022-11-29T15:34:45.102Z"
   },
   {
    "duration": 15,
    "start_time": "2022-11-29T15:34:45.286Z"
   },
   {
    "duration": 20,
    "start_time": "2022-11-29T15:34:45.462Z"
   },
   {
    "duration": 15,
    "start_time": "2022-11-29T15:34:45.656Z"
   },
   {
    "duration": 4,
    "start_time": "2022-11-29T15:34:45.830Z"
   },
   {
    "duration": 8,
    "start_time": "2022-11-29T15:34:46.005Z"
   },
   {
    "duration": 15,
    "start_time": "2022-11-29T15:34:46.189Z"
   },
   {
    "duration": 18,
    "start_time": "2022-11-29T15:34:46.363Z"
   },
   {
    "duration": 19,
    "start_time": "2022-11-29T15:34:46.554Z"
   },
   {
    "duration": 17,
    "start_time": "2022-11-29T15:34:46.743Z"
   },
   {
    "duration": 227,
    "start_time": "2022-11-29T15:34:46.950Z"
   },
   {
    "duration": 17,
    "start_time": "2022-11-29T15:34:47.179Z"
   },
   {
    "duration": 334,
    "start_time": "2022-11-29T15:34:47.368Z"
   },
   {
    "duration": 157,
    "start_time": "2022-11-29T15:34:47.704Z"
   },
   {
    "duration": 3,
    "start_time": "2022-11-29T15:34:47.974Z"
   },
   {
    "duration": 9,
    "start_time": "2022-11-29T15:34:48.165Z"
   },
   {
    "duration": 3,
    "start_time": "2022-11-29T15:34:48.386Z"
   },
   {
    "duration": 4,
    "start_time": "2022-11-29T15:34:48.605Z"
   },
   {
    "duration": 5,
    "start_time": "2022-11-29T15:36:59.137Z"
   },
   {
    "duration": 4,
    "start_time": "2022-11-29T15:36:59.634Z"
   },
   {
    "duration": 3,
    "start_time": "2022-11-29T15:36:59.847Z"
   },
   {
    "duration": 10,
    "start_time": "2022-11-29T15:37:00.015Z"
   },
   {
    "duration": 10,
    "start_time": "2022-11-29T15:37:00.226Z"
   },
   {
    "duration": 14,
    "start_time": "2022-11-29T15:37:00.415Z"
   },
   {
    "duration": 11,
    "start_time": "2022-11-29T15:37:00.596Z"
   },
   {
    "duration": 5,
    "start_time": "2022-11-29T15:37:00.787Z"
   },
   {
    "duration": 8,
    "start_time": "2022-11-29T15:37:00.993Z"
   },
   {
    "duration": 3,
    "start_time": "2022-11-29T15:37:57.442Z"
   },
   {
    "duration": 64,
    "start_time": "2022-11-29T15:37:57.901Z"
   },
   {
    "duration": 16,
    "start_time": "2022-11-29T15:37:58.447Z"
   },
   {
    "duration": 115,
    "start_time": "2022-11-29T15:37:59.225Z"
   },
   {
    "duration": 24,
    "start_time": "2022-11-29T15:38:00.130Z"
   },
   {
    "duration": 6,
    "start_time": "2022-11-29T15:38:01.067Z"
   },
   {
    "duration": 8,
    "start_time": "2022-11-29T15:38:02.100Z"
   },
   {
    "duration": 5,
    "start_time": "2022-11-29T15:38:03.402Z"
   },
   {
    "duration": 6,
    "start_time": "2022-11-29T15:38:04.039Z"
   },
   {
    "duration": 4,
    "start_time": "2022-11-29T15:38:04.711Z"
   },
   {
    "duration": 12,
    "start_time": "2022-11-29T15:38:05.551Z"
   },
   {
    "duration": 18,
    "start_time": "2022-11-29T15:38:06.232Z"
   },
   {
    "duration": 11,
    "start_time": "2022-11-29T15:38:07.257Z"
   },
   {
    "duration": 21,
    "start_time": "2022-11-29T15:38:08.895Z"
   },
   {
    "duration": 5,
    "start_time": "2022-11-29T15:38:17.015Z"
   },
   {
    "duration": 6,
    "start_time": "2022-11-29T15:38:17.656Z"
   },
   {
    "duration": 11,
    "start_time": "2022-11-29T15:38:18.321Z"
   },
   {
    "duration": 15,
    "start_time": "2022-11-29T15:38:18.847Z"
   },
   {
    "duration": 16,
    "start_time": "2022-11-29T15:38:19.584Z"
   },
   {
    "duration": 12,
    "start_time": "2022-11-29T15:38:21.110Z"
   },
   {
    "duration": 201,
    "start_time": "2022-11-29T15:38:22.338Z"
   },
   {
    "duration": 15,
    "start_time": "2022-11-29T15:38:22.695Z"
   },
   {
    "duration": 316,
    "start_time": "2022-11-29T15:38:23.129Z"
   },
   {
    "duration": 148,
    "start_time": "2022-11-29T15:38:23.448Z"
   },
   {
    "duration": 3,
    "start_time": "2022-11-29T15:38:23.598Z"
   },
   {
    "duration": 9,
    "start_time": "2022-11-29T15:38:23.779Z"
   },
   {
    "duration": 4,
    "start_time": "2022-11-29T15:38:24.619Z"
   },
   {
    "duration": 4,
    "start_time": "2022-11-29T15:38:25.194Z"
   },
   {
    "duration": 12,
    "start_time": "2022-11-29T15:38:45.032Z"
   },
   {
    "duration": 5,
    "start_time": "2022-11-29T15:38:45.529Z"
   },
   {
    "duration": 4,
    "start_time": "2022-11-29T15:38:46.016Z"
   },
   {
    "duration": 9,
    "start_time": "2022-11-29T15:41:18.025Z"
   },
   {
    "duration": 9,
    "start_time": "2022-11-29T15:41:18.537Z"
   },
   {
    "duration": 9,
    "start_time": "2022-11-29T15:42:13.327Z"
   },
   {
    "duration": 3,
    "start_time": "2022-11-29T15:42:13.794Z"
   },
   {
    "duration": 5,
    "start_time": "2022-11-29T15:42:14.643Z"
   },
   {
    "duration": 4,
    "start_time": "2022-11-29T15:45:51.219Z"
   },
   {
    "duration": 4,
    "start_time": "2022-11-29T15:45:51.690Z"
   },
   {
    "duration": 9,
    "start_time": "2022-11-29T15:45:57.163Z"
   },
   {
    "duration": 4,
    "start_time": "2022-11-29T15:46:03.418Z"
   },
   {
    "duration": 4,
    "start_time": "2022-11-29T15:46:04.171Z"
   },
   {
    "duration": 3,
    "start_time": "2022-11-29T15:48:44.365Z"
   },
   {
    "duration": 50,
    "start_time": "2022-11-29T15:48:44.556Z"
   },
   {
    "duration": 22,
    "start_time": "2022-11-29T15:48:44.735Z"
   },
   {
    "duration": 29,
    "start_time": "2022-11-29T15:48:45.076Z"
   },
   {
    "duration": 21,
    "start_time": "2022-11-29T15:48:45.278Z"
   },
   {
    "duration": 6,
    "start_time": "2022-11-29T15:48:45.471Z"
   },
   {
    "duration": 7,
    "start_time": "2022-11-29T15:48:45.643Z"
   },
   {
    "duration": 5,
    "start_time": "2022-11-29T15:48:46.108Z"
   },
   {
    "duration": 16,
    "start_time": "2022-11-29T15:48:46.373Z"
   },
   {
    "duration": 6,
    "start_time": "2022-11-29T15:48:46.598Z"
   },
   {
    "duration": 9,
    "start_time": "2022-11-29T15:48:46.804Z"
   },
   {
    "duration": 16,
    "start_time": "2022-11-29T15:48:47.060Z"
   },
   {
    "duration": 14,
    "start_time": "2022-11-29T15:48:47.731Z"
   },
   {
    "duration": 24,
    "start_time": "2022-11-29T15:48:48.100Z"
   },
   {
    "duration": 5,
    "start_time": "2022-11-29T15:48:49.064Z"
   },
   {
    "duration": 7,
    "start_time": "2022-11-29T15:48:49.699Z"
   },
   {
    "duration": 11,
    "start_time": "2022-11-29T15:48:50.130Z"
   },
   {
    "duration": 18,
    "start_time": "2022-11-29T15:48:50.656Z"
   },
   {
    "duration": 19,
    "start_time": "2022-11-29T15:48:50.941Z"
   },
   {
    "duration": 13,
    "start_time": "2022-11-29T15:48:51.467Z"
   },
   {
    "duration": 218,
    "start_time": "2022-11-29T15:48:51.741Z"
   },
   {
    "duration": 18,
    "start_time": "2022-11-29T15:48:52.166Z"
   },
   {
    "duration": 334,
    "start_time": "2022-11-29T15:48:52.787Z"
   },
   {
    "duration": 140,
    "start_time": "2022-11-29T15:48:53.305Z"
   },
   {
    "duration": 3,
    "start_time": "2022-11-29T15:48:53.628Z"
   },
   {
    "duration": 9,
    "start_time": "2022-11-29T15:48:54.134Z"
   },
   {
    "duration": 5,
    "start_time": "2022-11-29T15:48:54.594Z"
   },
   {
    "duration": 5,
    "start_time": "2022-11-29T15:48:54.912Z"
   },
   {
    "duration": 10,
    "start_time": "2022-11-29T15:48:55.635Z"
   },
   {
    "duration": 4,
    "start_time": "2022-11-29T15:48:56.111Z"
   },
   {
    "duration": 4,
    "start_time": "2022-11-29T15:48:56.589Z"
   },
   {
    "duration": 8,
    "start_time": "2022-11-29T15:51:18.373Z"
   },
   {
    "duration": 5,
    "start_time": "2022-11-29T15:51:18.996Z"
   },
   {
    "duration": 4,
    "start_time": "2022-11-29T15:51:19.628Z"
   },
   {
    "duration": 8,
    "start_time": "2022-11-29T15:51:23.509Z"
   },
   {
    "duration": 5,
    "start_time": "2022-11-29T15:51:23.713Z"
   },
   {
    "duration": 5,
    "start_time": "2022-11-29T15:51:23.992Z"
   },
   {
    "duration": 11,
    "start_time": "2022-11-29T15:56:20.393Z"
   },
   {
    "duration": 134,
    "start_time": "2022-11-29T15:56:28.633Z"
   },
   {
    "duration": 136,
    "start_time": "2022-11-29T15:56:36.424Z"
   },
   {
    "duration": 144,
    "start_time": "2022-11-29T15:56:53.714Z"
   },
   {
    "duration": 228,
    "start_time": "2022-11-29T15:57:10.008Z"
   },
   {
    "duration": 14,
    "start_time": "2022-11-29T16:03:03.139Z"
   },
   {
    "duration": 139,
    "start_time": "2022-11-29T16:07:12.942Z"
   },
   {
    "duration": 131,
    "start_time": "2022-11-29T16:07:21.962Z"
   },
   {
    "duration": 132,
    "start_time": "2022-11-29T16:07:46.683Z"
   },
   {
    "duration": 131,
    "start_time": "2022-11-29T16:08:01.510Z"
   },
   {
    "duration": 139,
    "start_time": "2022-11-29T16:12:26.707Z"
   },
   {
    "duration": 3,
    "start_time": "2022-11-29T16:13:05.394Z"
   },
   {
    "duration": 51,
    "start_time": "2022-11-29T16:13:05.578Z"
   },
   {
    "duration": 15,
    "start_time": "2022-11-29T16:13:05.799Z"
   },
   {
    "duration": 39,
    "start_time": "2022-11-29T16:13:06.001Z"
   },
   {
    "duration": 23,
    "start_time": "2022-11-29T16:13:06.168Z"
   },
   {
    "duration": 5,
    "start_time": "2022-11-29T16:13:06.342Z"
   },
   {
    "duration": 7,
    "start_time": "2022-11-29T16:13:06.529Z"
   },
   {
    "duration": 5,
    "start_time": "2022-11-29T16:13:06.703Z"
   },
   {
    "duration": 6,
    "start_time": "2022-11-29T16:13:06.876Z"
   },
   {
    "duration": 4,
    "start_time": "2022-11-29T16:13:07.078Z"
   },
   {
    "duration": 10,
    "start_time": "2022-11-29T16:13:07.267Z"
   },
   {
    "duration": 16,
    "start_time": "2022-11-29T16:13:07.461Z"
   },
   {
    "duration": 12,
    "start_time": "2022-11-29T16:13:07.645Z"
   },
   {
    "duration": 22,
    "start_time": "2022-11-29T16:13:07.833Z"
   },
   {
    "duration": 4,
    "start_time": "2022-11-29T16:13:08.062Z"
   },
   {
    "duration": 7,
    "start_time": "2022-11-29T16:13:08.233Z"
   },
   {
    "duration": 11,
    "start_time": "2022-11-29T16:13:08.453Z"
   },
   {
    "duration": 14,
    "start_time": "2022-11-29T16:13:08.685Z"
   },
   {
    "duration": 17,
    "start_time": "2022-11-29T16:13:08.837Z"
   },
   {
    "duration": 13,
    "start_time": "2022-11-29T16:13:09.055Z"
   },
   {
    "duration": 224,
    "start_time": "2022-11-29T16:13:09.303Z"
   },
   {
    "duration": 26,
    "start_time": "2022-11-29T16:13:09.529Z"
   },
   {
    "duration": 320,
    "start_time": "2022-11-29T16:13:09.750Z"
   },
   {
    "duration": 134,
    "start_time": "2022-11-29T16:13:10.518Z"
   },
   {
    "duration": 139,
    "start_time": "2022-11-29T16:13:11.125Z"
   },
   {
    "duration": 213,
    "start_time": "2022-11-29T16:13:11.637Z"
   },
   {
    "duration": 128,
    "start_time": "2022-11-29T16:13:12.257Z"
   },
   {
    "duration": 129,
    "start_time": "2022-11-29T16:13:18.160Z"
   },
   {
    "duration": 129,
    "start_time": "2022-11-29T16:13:23.068Z"
   },
   {
    "duration": 131,
    "start_time": "2022-11-29T16:13:23.456Z"
   },
   {
    "duration": 134,
    "start_time": "2022-11-29T16:13:23.821Z"
   },
   {
    "duration": 180,
    "start_time": "2022-11-29T16:13:24.478Z"
   },
   {
    "duration": 153,
    "start_time": "2022-11-29T16:13:25.162Z"
   },
   {
    "duration": 3,
    "start_time": "2022-11-29T16:13:25.705Z"
   },
   {
    "duration": 8,
    "start_time": "2022-11-29T16:13:26.311Z"
   },
   {
    "duration": 5,
    "start_time": "2022-11-29T16:13:26.641Z"
   },
   {
    "duration": 4,
    "start_time": "2022-11-29T16:13:26.847Z"
   },
   {
    "duration": 8,
    "start_time": "2022-11-29T16:13:27.778Z"
   },
   {
    "duration": 3,
    "start_time": "2022-11-29T16:13:28.314Z"
   },
   {
    "duration": 4,
    "start_time": "2022-11-29T16:13:28.872Z"
   },
   {
    "duration": 1278,
    "start_time": "2022-11-30T15:17:08.492Z"
   },
   {
    "duration": 113,
    "start_time": "2022-11-30T15:17:10.990Z"
   },
   {
    "duration": 14,
    "start_time": "2022-11-30T15:17:11.910Z"
   },
   {
    "duration": 32,
    "start_time": "2022-11-30T15:17:12.959Z"
   },
   {
    "duration": 20,
    "start_time": "2022-11-30T15:17:14.467Z"
   },
   {
    "duration": 5,
    "start_time": "2022-11-30T15:17:15.766Z"
   },
   {
    "duration": 9,
    "start_time": "2022-11-30T15:17:16.800Z"
   },
   {
    "duration": 6,
    "start_time": "2022-11-30T15:17:19.079Z"
   },
   {
    "duration": 5,
    "start_time": "2022-11-30T15:17:20.803Z"
   },
   {
    "duration": 5,
    "start_time": "2022-11-30T15:17:21.584Z"
   },
   {
    "duration": 11,
    "start_time": "2022-11-30T15:17:22.492Z"
   },
   {
    "duration": 17,
    "start_time": "2022-11-30T15:17:23.663Z"
   },
   {
    "duration": 11,
    "start_time": "2022-11-30T15:17:25.691Z"
   },
   {
    "duration": 18,
    "start_time": "2022-11-30T15:17:31.039Z"
   },
   {
    "duration": 4,
    "start_time": "2022-11-30T15:17:33.006Z"
   },
   {
    "duration": 7,
    "start_time": "2022-11-30T15:17:34.526Z"
   },
   {
    "duration": 12,
    "start_time": "2022-11-30T15:17:35.326Z"
   },
   {
    "duration": 14,
    "start_time": "2022-11-30T15:17:36.132Z"
   },
   {
    "duration": 14,
    "start_time": "2022-11-30T15:17:37.628Z"
   },
   {
    "duration": 14,
    "start_time": "2022-11-30T15:17:40.738Z"
   },
   {
    "duration": 266,
    "start_time": "2022-11-30T15:17:52.626Z"
   },
   {
    "duration": 14,
    "start_time": "2022-11-30T15:17:53.212Z"
   },
   {
    "duration": 292,
    "start_time": "2022-11-30T15:17:53.840Z"
   },
   {
    "duration": 121,
    "start_time": "2022-11-30T15:17:54.308Z"
   },
   {
    "duration": 116,
    "start_time": "2022-11-30T15:17:54.829Z"
   },
   {
    "duration": 157,
    "start_time": "2022-11-30T15:17:55.256Z"
   },
   {
    "duration": 119,
    "start_time": "2022-11-30T15:17:55.524Z"
   },
   {
    "duration": 108,
    "start_time": "2022-11-30T15:17:55.764Z"
   },
   {
    "duration": 175,
    "start_time": "2022-11-30T15:17:55.990Z"
   },
   {
    "duration": 119,
    "start_time": "2022-11-30T15:17:56.168Z"
   },
   {
    "duration": 115,
    "start_time": "2022-11-30T15:17:56.369Z"
   },
   {
    "duration": 115,
    "start_time": "2022-11-30T15:17:56.835Z"
   },
   {
    "duration": 121,
    "start_time": "2022-11-30T15:17:57.453Z"
   },
   {
    "duration": 2,
    "start_time": "2022-11-30T15:17:57.731Z"
   },
   {
    "duration": 9,
    "start_time": "2022-11-30T15:17:57.985Z"
   },
   {
    "duration": 98,
    "start_time": "2022-11-30T15:17:58.224Z"
   },
   {
    "duration": 8,
    "start_time": "2022-11-30T15:17:58.488Z"
   },
   {
    "duration": 8,
    "start_time": "2022-11-30T15:17:59.059Z"
   },
   {
    "duration": 2,
    "start_time": "2022-11-30T15:17:59.526Z"
   },
   {
    "duration": 4,
    "start_time": "2022-11-30T15:17:59.839Z"
   },
   {
    "duration": 3,
    "start_time": "2022-11-30T15:47:10.117Z"
   },
   {
    "duration": 3,
    "start_time": "2022-11-30T15:47:12.512Z"
   },
   {
    "duration": 8,
    "start_time": "2022-11-30T15:47:19.146Z"
   },
   {
    "duration": 2,
    "start_time": "2022-11-30T15:47:19.678Z"
   },
   {
    "duration": 5,
    "start_time": "2022-11-30T15:47:20.310Z"
   },
   {
    "duration": 2,
    "start_time": "2022-11-30T16:46:30.671Z"
   },
   {
    "duration": 52,
    "start_time": "2022-11-30T16:46:31.038Z"
   },
   {
    "duration": 13,
    "start_time": "2022-11-30T16:46:31.201Z"
   },
   {
    "duration": 28,
    "start_time": "2022-11-30T16:46:31.424Z"
   },
   {
    "duration": 19,
    "start_time": "2022-11-30T16:46:31.609Z"
   },
   {
    "duration": 6,
    "start_time": "2022-11-30T16:46:31.751Z"
   },
   {
    "duration": 7,
    "start_time": "2022-11-30T16:46:31.942Z"
   },
   {
    "duration": 5,
    "start_time": "2022-11-30T16:46:32.160Z"
   },
   {
    "duration": 5,
    "start_time": "2022-11-30T16:46:32.358Z"
   },
   {
    "duration": 5,
    "start_time": "2022-11-30T16:46:32.573Z"
   },
   {
    "duration": 9,
    "start_time": "2022-11-30T16:46:32.813Z"
   },
   {
    "duration": 14,
    "start_time": "2022-11-30T16:46:34.169Z"
   },
   {
    "duration": 11,
    "start_time": "2022-11-30T16:46:35.085Z"
   },
   {
    "duration": 27,
    "start_time": "2022-11-30T16:46:35.319Z"
   },
   {
    "duration": 5,
    "start_time": "2022-11-30T16:46:35.516Z"
   },
   {
    "duration": 6,
    "start_time": "2022-11-30T16:46:35.705Z"
   },
   {
    "duration": 9,
    "start_time": "2022-11-30T16:46:35.893Z"
   },
   {
    "duration": 13,
    "start_time": "2022-11-30T16:46:36.070Z"
   },
   {
    "duration": 15,
    "start_time": "2022-11-30T16:46:36.232Z"
   },
   {
    "duration": 12,
    "start_time": "2022-11-30T16:46:36.407Z"
   },
   {
    "duration": 193,
    "start_time": "2022-11-30T16:46:36.578Z"
   },
   {
    "duration": 15,
    "start_time": "2022-11-30T16:46:36.773Z"
   },
   {
    "duration": 293,
    "start_time": "2022-11-30T16:46:36.971Z"
   },
   {
    "duration": 124,
    "start_time": "2022-11-30T16:46:37.266Z"
   },
   {
    "duration": 131,
    "start_time": "2022-11-30T16:46:37.392Z"
   },
   {
    "duration": 120,
    "start_time": "2022-11-30T16:46:37.525Z"
   },
   {
    "duration": 182,
    "start_time": "2022-11-30T16:46:37.692Z"
   },
   {
    "duration": 107,
    "start_time": "2022-11-30T16:46:37.884Z"
   },
   {
    "duration": 110,
    "start_time": "2022-11-30T16:46:38.060Z"
   },
   {
    "duration": 119,
    "start_time": "2022-11-30T16:46:38.236Z"
   },
   {
    "duration": 113,
    "start_time": "2022-11-30T16:46:38.412Z"
   },
   {
    "duration": 117,
    "start_time": "2022-11-30T16:46:38.604Z"
   },
   {
    "duration": 122,
    "start_time": "2022-11-30T16:46:38.796Z"
   },
   {
    "duration": 3,
    "start_time": "2022-11-30T16:46:39.005Z"
   },
   {
    "duration": 7,
    "start_time": "2022-11-30T16:46:39.265Z"
   },
   {
    "duration": 3,
    "start_time": "2022-11-30T16:46:39.517Z"
   },
   {
    "duration": 4,
    "start_time": "2022-11-30T16:46:39.789Z"
   },
   {
    "duration": 8,
    "start_time": "2022-11-30T16:46:40.036Z"
   },
   {
    "duration": 3,
    "start_time": "2022-11-30T16:46:40.230Z"
   },
   {
    "duration": 3,
    "start_time": "2022-11-30T16:46:40.437Z"
   },
   {
    "duration": 3,
    "start_time": "2022-11-30T17:00:49.333Z"
   },
   {
    "duration": 51,
    "start_time": "2022-11-30T17:00:49.496Z"
   },
   {
    "duration": 15,
    "start_time": "2022-11-30T17:00:49.686Z"
   },
   {
    "duration": 27,
    "start_time": "2022-11-30T17:00:49.856Z"
   },
   {
    "duration": 22,
    "start_time": "2022-11-30T17:00:50.486Z"
   },
   {
    "duration": 6,
    "start_time": "2022-11-30T17:00:50.771Z"
   },
   {
    "duration": 6,
    "start_time": "2022-11-30T17:00:50.872Z"
   },
   {
    "duration": 5,
    "start_time": "2022-11-30T17:00:50.994Z"
   },
   {
    "duration": 5,
    "start_time": "2022-11-30T17:00:51.770Z"
   },
   {
    "duration": 3,
    "start_time": "2022-11-30T17:00:51.946Z"
   },
   {
    "duration": 9,
    "start_time": "2022-11-30T17:00:52.329Z"
   },
   {
    "duration": 28,
    "start_time": "2022-11-30T17:00:52.550Z"
   },
   {
    "duration": 13,
    "start_time": "2022-11-30T17:00:53.585Z"
   },
   {
    "duration": 18,
    "start_time": "2022-11-30T17:00:53.859Z"
   },
   {
    "duration": 5,
    "start_time": "2022-11-30T17:00:54.090Z"
   },
   {
    "duration": 6,
    "start_time": "2022-11-30T17:00:54.361Z"
   },
   {
    "duration": 8,
    "start_time": "2022-11-30T17:00:54.595Z"
   },
   {
    "duration": 14,
    "start_time": "2022-11-30T17:00:54.824Z"
   },
   {
    "duration": 15,
    "start_time": "2022-11-30T17:00:55.042Z"
   },
   {
    "duration": 11,
    "start_time": "2022-11-30T17:00:55.294Z"
   },
   {
    "duration": 209,
    "start_time": "2022-11-30T17:00:55.507Z"
   },
   {
    "duration": 13,
    "start_time": "2022-11-30T17:00:56.532Z"
   },
   {
    "duration": 282,
    "start_time": "2022-11-30T17:00:57.866Z"
   },
   {
    "duration": 121,
    "start_time": "2022-11-30T17:00:58.353Z"
   },
   {
    "duration": 191,
    "start_time": "2022-11-30T17:00:58.858Z"
   },
   {
    "duration": 113,
    "start_time": "2022-11-30T17:00:59.345Z"
   },
   {
    "duration": 118,
    "start_time": "2022-11-30T17:01:00.395Z"
   },
   {
    "duration": 111,
    "start_time": "2022-11-30T17:01:02.092Z"
   },
   {
    "duration": 113,
    "start_time": "2022-11-30T17:01:02.953Z"
   },
   {
    "duration": 123,
    "start_time": "2022-11-30T17:01:03.634Z"
   },
   {
    "duration": 116,
    "start_time": "2022-11-30T17:01:04.428Z"
   },
   {
    "duration": 121,
    "start_time": "2022-11-30T17:01:05.025Z"
   },
   {
    "duration": 131,
    "start_time": "2022-11-30T17:01:05.626Z"
   },
   {
    "duration": 3,
    "start_time": "2022-11-30T17:01:06.426Z"
   },
   {
    "duration": 8,
    "start_time": "2022-11-30T17:01:06.944Z"
   },
   {
    "duration": 3,
    "start_time": "2022-11-30T17:01:08.039Z"
   },
   {
    "duration": 5,
    "start_time": "2022-11-30T17:01:08.561Z"
   },
   {
    "duration": 8,
    "start_time": "2022-11-30T17:01:09.707Z"
   },
   {
    "duration": 3,
    "start_time": "2022-11-30T17:01:10.674Z"
   },
   {
    "duration": 4,
    "start_time": "2022-11-30T17:01:11.212Z"
   },
   {
    "duration": 4,
    "start_time": "2022-11-30T17:01:39.471Z"
   },
   {
    "duration": 4,
    "start_time": "2022-11-30T17:33:21.549Z"
   },
   {
    "duration": 49,
    "start_time": "2022-11-30T17:33:21.798Z"
   },
   {
    "duration": 14,
    "start_time": "2022-11-30T17:33:24.235Z"
   },
   {
    "duration": 27,
    "start_time": "2022-11-30T17:33:24.591Z"
   },
   {
    "duration": 20,
    "start_time": "2022-11-30T17:33:26.086Z"
   },
   {
    "duration": 5,
    "start_time": "2022-11-30T17:33:26.555Z"
   },
   {
    "duration": 6,
    "start_time": "2022-11-30T17:33:26.764Z"
   },
   {
    "duration": 5,
    "start_time": "2022-11-30T17:33:27.044Z"
   },
   {
    "duration": 5,
    "start_time": "2022-11-30T17:33:27.228Z"
   },
   {
    "duration": 4,
    "start_time": "2022-11-30T17:33:27.444Z"
   },
   {
    "duration": 9,
    "start_time": "2022-11-30T17:33:28.012Z"
   },
   {
    "duration": 15,
    "start_time": "2022-11-30T17:33:28.196Z"
   },
   {
    "duration": 11,
    "start_time": "2022-11-30T17:33:28.414Z"
   },
   {
    "duration": 21,
    "start_time": "2022-11-30T17:33:28.587Z"
   },
   {
    "duration": 4,
    "start_time": "2022-11-30T17:33:28.772Z"
   },
   {
    "duration": 6,
    "start_time": "2022-11-30T17:33:28.931Z"
   },
   {
    "duration": 9,
    "start_time": "2022-11-30T17:33:29.099Z"
   },
   {
    "duration": 16,
    "start_time": "2022-11-30T17:33:29.428Z"
   },
   {
    "duration": 17,
    "start_time": "2022-11-30T17:33:29.612Z"
   },
   {
    "duration": 12,
    "start_time": "2022-11-30T17:33:29.782Z"
   },
   {
    "duration": 197,
    "start_time": "2022-11-30T17:33:30.123Z"
   },
   {
    "duration": 17,
    "start_time": "2022-11-30T17:33:30.322Z"
   },
   {
    "duration": 394,
    "start_time": "2022-11-30T17:33:30.493Z"
   },
   {
    "duration": 134,
    "start_time": "2022-11-30T17:33:31.019Z"
   },
   {
    "duration": 114,
    "start_time": "2022-11-30T17:33:31.212Z"
   },
   {
    "duration": 129,
    "start_time": "2022-11-30T17:33:31.387Z"
   },
   {
    "duration": 117,
    "start_time": "2022-11-30T17:33:31.587Z"
   },
   {
    "duration": 107,
    "start_time": "2022-11-30T17:33:31.763Z"
   },
   {
    "duration": 115,
    "start_time": "2022-11-30T17:33:31.971Z"
   },
   {
    "duration": 119,
    "start_time": "2022-11-30T17:33:32.162Z"
   },
   {
    "duration": 113,
    "start_time": "2022-11-30T17:33:32.339Z"
   },
   {
    "duration": 131,
    "start_time": "2022-11-30T17:33:32.523Z"
   },
   {
    "duration": 134,
    "start_time": "2022-11-30T17:33:32.707Z"
   },
   {
    "duration": 3,
    "start_time": "2022-11-30T17:33:32.932Z"
   },
   {
    "duration": 9,
    "start_time": "2022-11-30T17:33:33.133Z"
   },
   {
    "duration": 3,
    "start_time": "2022-11-30T17:33:33.356Z"
   },
   {
    "duration": 6,
    "start_time": "2022-11-30T17:33:33.571Z"
   },
   {
    "duration": 8,
    "start_time": "2022-11-30T17:33:33.764Z"
   },
   {
    "duration": 4,
    "start_time": "2022-11-30T17:33:34.003Z"
   },
   {
    "duration": 3,
    "start_time": "2022-11-30T18:42:13.485Z"
   },
   {
    "duration": 3,
    "start_time": "2022-11-30T18:42:54.373Z"
   },
   {
    "duration": 58,
    "start_time": "2022-11-30T18:42:55.243Z"
   },
   {
    "duration": 18,
    "start_time": "2022-11-30T18:42:55.512Z"
   },
   {
    "duration": 27,
    "start_time": "2022-11-30T18:42:56.248Z"
   },
   {
    "duration": 28,
    "start_time": "2022-11-30T18:42:58.408Z"
   },
   {
    "duration": 6,
    "start_time": "2022-11-30T18:43:00.116Z"
   },
   {
    "duration": 7,
    "start_time": "2022-11-30T18:43:01.078Z"
   },
   {
    "duration": 5,
    "start_time": "2022-11-30T18:43:01.798Z"
   },
   {
    "duration": 5,
    "start_time": "2022-11-30T18:43:02.764Z"
   },
   {
    "duration": 14,
    "start_time": "2022-11-30T18:43:03.421Z"
   },
   {
    "duration": 20,
    "start_time": "2022-11-30T18:43:05.421Z"
   },
   {
    "duration": 15,
    "start_time": "2022-11-30T18:43:06.312Z"
   },
   {
    "duration": 11,
    "start_time": "2022-11-30T18:43:16.087Z"
   },
   {
    "duration": 70,
    "start_time": "2022-11-30T18:43:17.118Z"
   },
   {
    "duration": 20,
    "start_time": "2022-11-30T18:43:17.936Z"
   },
   {
    "duration": 5,
    "start_time": "2022-11-30T18:43:19.062Z"
   },
   {
    "duration": 6,
    "start_time": "2022-11-30T18:43:20.353Z"
   },
   {
    "duration": 9,
    "start_time": "2022-11-30T18:43:20.985Z"
   },
   {
    "duration": 14,
    "start_time": "2022-11-30T18:43:21.677Z"
   },
   {
    "duration": 17,
    "start_time": "2022-11-30T18:43:22.446Z"
   },
   {
    "duration": 12,
    "start_time": "2022-11-30T18:43:23.335Z"
   },
   {
    "duration": 200,
    "start_time": "2022-11-30T18:43:24.068Z"
   },
   {
    "duration": 15,
    "start_time": "2022-11-30T18:43:24.632Z"
   },
   {
    "duration": 371,
    "start_time": "2022-11-30T18:43:24.834Z"
   },
   {
    "duration": 154,
    "start_time": "2022-11-30T18:43:25.207Z"
   },
   {
    "duration": 176,
    "start_time": "2022-11-30T18:43:25.364Z"
   },
   {
    "duration": 132,
    "start_time": "2022-11-30T18:43:25.542Z"
   },
   {
    "duration": 127,
    "start_time": "2022-11-30T18:43:25.814Z"
   },
   {
    "duration": 117,
    "start_time": "2022-11-30T18:43:26.013Z"
   },
   {
    "duration": 115,
    "start_time": "2022-11-30T18:43:26.189Z"
   },
   {
    "duration": 122,
    "start_time": "2022-11-30T18:43:28.038Z"
   },
   {
    "duration": 124,
    "start_time": "2022-11-30T18:43:28.432Z"
   },
   {
    "duration": 123,
    "start_time": "2022-11-30T18:43:28.637Z"
   },
   {
    "duration": 207,
    "start_time": "2022-11-30T18:43:28.831Z"
   },
   {
    "duration": 2,
    "start_time": "2022-11-30T18:43:29.040Z"
   },
   {
    "duration": 7,
    "start_time": "2022-11-30T18:43:29.199Z"
   },
   {
    "duration": 3,
    "start_time": "2022-11-30T18:43:29.458Z"
   },
   {
    "duration": 3,
    "start_time": "2022-11-30T18:43:30.102Z"
   },
   {
    "duration": 9,
    "start_time": "2022-11-30T18:43:30.309Z"
   },
   {
    "duration": 4,
    "start_time": "2022-11-30T18:43:30.590Z"
   },
   {
    "duration": 36,
    "start_time": "2022-11-30T18:44:25.116Z"
   },
   {
    "duration": 10,
    "start_time": "2022-11-30T18:44:43.475Z"
   },
   {
    "duration": 3,
    "start_time": "2022-11-30T18:45:29.874Z"
   },
   {
    "duration": 63,
    "start_time": "2022-11-30T18:45:30.084Z"
   },
   {
    "duration": 25,
    "start_time": "2022-11-30T18:45:30.315Z"
   },
   {
    "duration": 29,
    "start_time": "2022-11-30T18:45:30.539Z"
   },
   {
    "duration": 32,
    "start_time": "2022-11-30T18:45:32.306Z"
   },
   {
    "duration": 5,
    "start_time": "2022-11-30T18:45:34.265Z"
   },
   {
    "duration": 8,
    "start_time": "2022-11-30T18:45:35.503Z"
   },
   {
    "duration": 6,
    "start_time": "2022-11-30T18:45:36.378Z"
   },
   {
    "duration": 5,
    "start_time": "2022-11-30T18:45:37.279Z"
   },
   {
    "duration": 7,
    "start_time": "2022-11-30T18:45:37.821Z"
   },
   {
    "duration": 10,
    "start_time": "2022-11-30T18:45:39.848Z"
   },
   {
    "duration": 15,
    "start_time": "2022-11-30T18:45:40.835Z"
   },
   {
    "duration": 12,
    "start_time": "2022-11-30T18:45:44.464Z"
   },
   {
    "duration": 30,
    "start_time": "2022-11-30T18:45:45.160Z"
   },
   {
    "duration": 19,
    "start_time": "2022-11-30T18:45:46.058Z"
   },
   {
    "duration": 6,
    "start_time": "2022-11-30T18:46:45.139Z"
   },
   {
    "duration": 6,
    "start_time": "2022-11-30T18:46:46.058Z"
   },
   {
    "duration": 12,
    "start_time": "2022-11-30T18:46:46.698Z"
   },
   {
    "duration": 15,
    "start_time": "2022-11-30T18:46:47.284Z"
   },
   {
    "duration": 17,
    "start_time": "2022-11-30T18:46:47.387Z"
   },
   {
    "duration": 11,
    "start_time": "2022-11-30T18:46:47.665Z"
   },
   {
    "duration": 21,
    "start_time": "2022-11-30T18:48:40.599Z"
   },
   {
    "duration": 12,
    "start_time": "2022-11-30T18:48:41.399Z"
   },
   {
    "duration": 205,
    "start_time": "2022-11-30T18:48:41.588Z"
   },
   {
    "duration": 14,
    "start_time": "2022-11-30T18:48:41.795Z"
   },
   {
    "duration": 288,
    "start_time": "2022-11-30T18:48:41.933Z"
   },
   {
    "duration": 127,
    "start_time": "2022-11-30T18:48:42.231Z"
   },
   {
    "duration": 12,
    "start_time": "2022-11-30T18:49:41.912Z"
   },
   {
    "duration": 3,
    "start_time": "2022-11-30T19:11:36.197Z"
   },
   {
    "duration": 49,
    "start_time": "2022-11-30T19:11:36.436Z"
   },
   {
    "duration": 16,
    "start_time": "2022-11-30T19:11:36.573Z"
   },
   {
    "duration": 27,
    "start_time": "2022-11-30T19:11:36.769Z"
   },
   {
    "duration": 19,
    "start_time": "2022-11-30T19:11:37.239Z"
   },
   {
    "duration": 5,
    "start_time": "2022-11-30T19:11:37.598Z"
   },
   {
    "duration": 9,
    "start_time": "2022-11-30T19:11:37.953Z"
   },
   {
    "duration": 5,
    "start_time": "2022-11-30T19:11:38.136Z"
   },
   {
    "duration": 5,
    "start_time": "2022-11-30T19:11:38.500Z"
   },
   {
    "duration": 5,
    "start_time": "2022-11-30T19:11:38.692Z"
   },
   {
    "duration": 10,
    "start_time": "2022-11-30T19:11:39.252Z"
   },
   {
    "duration": 21,
    "start_time": "2022-11-30T19:11:39.438Z"
   },
   {
    "duration": 17,
    "start_time": "2022-11-30T19:11:39.837Z"
   },
   {
    "duration": 34,
    "start_time": "2022-11-30T19:11:40.108Z"
   },
   {
    "duration": 22,
    "start_time": "2022-11-30T19:11:40.235Z"
   },
   {
    "duration": 5,
    "start_time": "2022-11-30T19:11:40.421Z"
   },
   {
    "duration": 6,
    "start_time": "2022-11-30T19:11:40.772Z"
   },
   {
    "duration": 9,
    "start_time": "2022-11-30T19:11:41.050Z"
   },
   {
    "duration": 14,
    "start_time": "2022-11-30T19:11:41.172Z"
   },
   {
    "duration": 21,
    "start_time": "2022-11-30T19:11:41.805Z"
   },
   {
    "duration": 12,
    "start_time": "2022-11-30T19:11:42.189Z"
   },
   {
    "duration": 209,
    "start_time": "2022-11-30T19:11:42.797Z"
   },
   {
    "duration": 15,
    "start_time": "2022-11-30T19:11:43.204Z"
   },
   {
    "duration": 342,
    "start_time": "2022-11-30T19:11:43.367Z"
   },
   {
    "duration": 176,
    "start_time": "2022-11-30T19:11:43.711Z"
   },
   {
    "duration": 129,
    "start_time": "2022-11-30T19:11:44.275Z"
   },
   {
    "duration": 151,
    "start_time": "2022-11-30T19:11:44.406Z"
   },
   {
    "duration": 226,
    "start_time": "2022-11-30T19:11:44.560Z"
   },
   {
    "duration": 125,
    "start_time": "2022-11-30T19:11:44.941Z"
   },
   {
    "duration": 127,
    "start_time": "2022-11-30T19:11:45.111Z"
   },
   {
    "duration": 127,
    "start_time": "2022-11-30T19:11:45.548Z"
   },
   {
    "duration": 4,
    "start_time": "2022-11-30T19:11:45.820Z"
   },
   {
    "duration": 124,
    "start_time": "2022-11-30T19:11:45.995Z"
   },
   {
    "duration": 138,
    "start_time": "2022-11-30T19:11:46.211Z"
   },
   {
    "duration": 134,
    "start_time": "2022-11-30T19:11:46.428Z"
   },
   {
    "duration": 2,
    "start_time": "2022-11-30T19:11:47.039Z"
   },
   {
    "duration": 8,
    "start_time": "2022-11-30T19:11:47.373Z"
   },
   {
    "duration": 3,
    "start_time": "2022-11-30T19:11:47.756Z"
   },
   {
    "duration": 4,
    "start_time": "2022-11-30T19:11:48.197Z"
   },
   {
    "duration": 8,
    "start_time": "2022-11-30T19:11:48.681Z"
   },
   {
    "duration": 4,
    "start_time": "2022-11-30T19:11:48.961Z"
   },
   {
    "duration": 4,
    "start_time": "2022-11-30T19:12:12.537Z"
   },
   {
    "duration": 54,
    "start_time": "2022-11-30T19:12:12.750Z"
   },
   {
    "duration": 13,
    "start_time": "2022-11-30T19:12:12.972Z"
   },
   {
    "duration": 27,
    "start_time": "2022-11-30T19:12:13.471Z"
   },
   {
    "duration": 27,
    "start_time": "2022-11-30T19:12:16.009Z"
   },
   {
    "duration": 5,
    "start_time": "2022-11-30T19:12:17.758Z"
   },
   {
    "duration": 6,
    "start_time": "2022-11-30T19:12:18.710Z"
   },
   {
    "duration": 5,
    "start_time": "2022-11-30T19:12:19.398Z"
   },
   {
    "duration": 5,
    "start_time": "2022-11-30T19:12:20.085Z"
   },
   {
    "duration": 5,
    "start_time": "2022-11-30T19:12:20.486Z"
   },
   {
    "duration": 9,
    "start_time": "2022-11-30T19:12:22.061Z"
   },
   {
    "duration": 20,
    "start_time": "2022-11-30T19:12:22.799Z"
   },
   {
    "duration": 12,
    "start_time": "2022-11-30T19:12:24.694Z"
   },
   {
    "duration": 32,
    "start_time": "2022-11-30T19:12:25.442Z"
   },
   {
    "duration": 20,
    "start_time": "2022-11-30T19:12:26.472Z"
   },
   {
    "duration": 5,
    "start_time": "2022-11-30T19:12:27.574Z"
   },
   {
    "duration": 6,
    "start_time": "2022-11-30T19:12:28.871Z"
   },
   {
    "duration": 9,
    "start_time": "2022-11-30T19:12:29.606Z"
   },
   {
    "duration": 22,
    "start_time": "2022-11-30T19:12:30.568Z"
   },
   {
    "duration": 16,
    "start_time": "2022-11-30T19:12:32.391Z"
   },
   {
    "duration": 12,
    "start_time": "2022-11-30T19:12:34.390Z"
   },
   {
    "duration": 246,
    "start_time": "2022-11-30T19:12:36.208Z"
   },
   {
    "duration": 15,
    "start_time": "2022-11-30T19:12:37.968Z"
   },
   {
    "duration": 319,
    "start_time": "2022-11-30T19:12:38.736Z"
   },
   {
    "duration": 126,
    "start_time": "2022-11-30T19:12:39.478Z"
   },
   {
    "duration": 200,
    "start_time": "2022-11-30T19:12:41.567Z"
   },
   {
    "duration": 121,
    "start_time": "2022-11-30T19:12:42.136Z"
   },
   {
    "duration": 150,
    "start_time": "2022-11-30T19:12:42.703Z"
   },
   {
    "duration": 150,
    "start_time": "2022-11-30T19:12:45.262Z"
   },
   {
    "duration": 134,
    "start_time": "2022-11-30T19:12:45.966Z"
   },
   {
    "duration": 150,
    "start_time": "2022-11-30T19:12:46.422Z"
   },
   {
    "duration": 133,
    "start_time": "2022-11-30T19:12:49.071Z"
   },
   {
    "duration": 123,
    "start_time": "2022-11-30T19:12:49.751Z"
   },
   {
    "duration": 141,
    "start_time": "2022-11-30T19:12:50.237Z"
   },
   {
    "duration": 2,
    "start_time": "2022-11-30T19:12:52.080Z"
   },
   {
    "duration": 11,
    "start_time": "2022-11-30T19:12:52.343Z"
   },
   {
    "duration": 3,
    "start_time": "2022-11-30T19:12:52.635Z"
   },
   {
    "duration": 3,
    "start_time": "2022-11-30T19:12:53.408Z"
   },
   {
    "duration": 8,
    "start_time": "2022-11-30T19:12:54.806Z"
   },
   {
    "duration": 3,
    "start_time": "2022-11-30T19:12:55.391Z"
   },
   {
    "duration": 48,
    "start_time": "2022-12-01T14:11:44.290Z"
   },
   {
    "duration": 1342,
    "start_time": "2022-12-01T14:11:52.999Z"
   },
   {
    "duration": 104,
    "start_time": "2022-12-01T14:11:54.343Z"
   },
   {
    "duration": 14,
    "start_time": "2022-12-01T14:11:54.449Z"
   },
   {
    "duration": 29,
    "start_time": "2022-12-01T14:11:54.465Z"
   },
   {
    "duration": 22,
    "start_time": "2022-12-01T14:11:54.618Z"
   },
   {
    "duration": 5,
    "start_time": "2022-12-01T14:11:55.270Z"
   },
   {
    "duration": 7,
    "start_time": "2022-12-01T14:11:55.515Z"
   },
   {
    "duration": 5,
    "start_time": "2022-12-01T14:11:55.772Z"
   },
   {
    "duration": 7,
    "start_time": "2022-12-01T14:11:56.340Z"
   },
   {
    "duration": 5,
    "start_time": "2022-12-01T14:11:56.828Z"
   },
   {
    "duration": 9,
    "start_time": "2022-12-01T14:11:57.507Z"
   },
   {
    "duration": 18,
    "start_time": "2022-12-01T14:11:58.228Z"
   },
   {
    "duration": 16,
    "start_time": "2022-12-01T14:11:59.351Z"
   },
   {
    "duration": 76,
    "start_time": "2022-12-01T14:11:59.836Z"
   },
   {
    "duration": 24,
    "start_time": "2022-12-01T14:12:00.118Z"
   },
   {
    "duration": 5,
    "start_time": "2022-12-01T14:12:00.763Z"
   },
   {
    "duration": 7,
    "start_time": "2022-12-01T14:12:01.684Z"
   },
   {
    "duration": 9,
    "start_time": "2022-12-01T14:12:01.952Z"
   },
   {
    "duration": 13,
    "start_time": "2022-12-01T14:12:02.342Z"
   },
   {
    "duration": 17,
    "start_time": "2022-12-01T14:12:03.831Z"
   },
   {
    "duration": 12,
    "start_time": "2022-12-01T14:12:05.205Z"
   },
   {
    "duration": 198,
    "start_time": "2022-12-01T14:12:07.196Z"
   },
   {
    "duration": 15,
    "start_time": "2022-12-01T14:24:30.784Z"
   },
   {
    "duration": 295,
    "start_time": "2022-12-01T14:25:29.167Z"
   },
   {
    "duration": 10,
    "start_time": "2022-12-01T14:30:21.133Z"
   },
   {
    "duration": 80,
    "start_time": "2022-12-01T14:30:24.037Z"
   },
   {
    "duration": 12,
    "start_time": "2022-12-01T14:30:32.781Z"
   },
   {
    "duration": 3,
    "start_time": "2022-12-01T14:30:41.180Z"
   },
   {
    "duration": 51,
    "start_time": "2022-12-01T14:30:41.404Z"
   },
   {
    "duration": 13,
    "start_time": "2022-12-01T14:30:41.621Z"
   },
   {
    "duration": 26,
    "start_time": "2022-12-01T14:30:41.844Z"
   },
   {
    "duration": 28,
    "start_time": "2022-12-01T14:30:42.464Z"
   },
   {
    "duration": 6,
    "start_time": "2022-12-01T14:30:42.902Z"
   },
   {
    "duration": 6,
    "start_time": "2022-12-01T14:30:43.105Z"
   },
   {
    "duration": 5,
    "start_time": "2022-12-01T14:30:43.323Z"
   },
   {
    "duration": 5,
    "start_time": "2022-12-01T14:30:43.564Z"
   },
   {
    "duration": 4,
    "start_time": "2022-12-01T14:30:43.747Z"
   },
   {
    "duration": 10,
    "start_time": "2022-12-01T14:30:44.331Z"
   },
   {
    "duration": 14,
    "start_time": "2022-12-01T14:30:44.506Z"
   },
   {
    "duration": 12,
    "start_time": "2022-12-01T14:30:44.909Z"
   },
   {
    "duration": 30,
    "start_time": "2022-12-01T14:30:45.136Z"
   },
   {
    "duration": 20,
    "start_time": "2022-12-01T14:30:45.543Z"
   },
   {
    "duration": 4,
    "start_time": "2022-12-01T14:30:45.760Z"
   },
   {
    "duration": 6,
    "start_time": "2022-12-01T14:30:46.748Z"
   },
   {
    "duration": 9,
    "start_time": "2022-12-01T14:30:46.762Z"
   },
   {
    "duration": 15,
    "start_time": "2022-12-01T14:30:46.981Z"
   },
   {
    "duration": 16,
    "start_time": "2022-12-01T14:30:47.996Z"
   },
   {
    "duration": 13,
    "start_time": "2022-12-01T14:30:48.964Z"
   },
   {
    "duration": 179,
    "start_time": "2022-12-01T14:30:50.091Z"
   },
   {
    "duration": 15,
    "start_time": "2022-12-01T14:30:53.223Z"
   },
   {
    "duration": 11,
    "start_time": "2022-12-01T14:30:53.925Z"
   },
   {
    "duration": 11,
    "start_time": "2022-12-01T14:30:55.108Z"
   },
   {
    "duration": 9,
    "start_time": "2022-12-01T14:33:01.554Z"
   },
   {
    "duration": 10,
    "start_time": "2022-12-01T14:33:08.624Z"
   },
   {
    "duration": 4,
    "start_time": "2022-12-01T14:33:53.002Z"
   },
   {
    "duration": 10,
    "start_time": "2022-12-01T14:34:15.291Z"
   },
   {
    "duration": 10,
    "start_time": "2022-12-01T14:34:23.653Z"
   },
   {
    "duration": 11,
    "start_time": "2022-12-01T14:34:35.962Z"
   },
   {
    "duration": 4,
    "start_time": "2022-12-01T14:34:40.292Z"
   },
   {
    "duration": 17,
    "start_time": "2022-12-01T14:37:55.464Z"
   },
   {
    "duration": 161,
    "start_time": "2022-12-01T14:39:53.443Z"
   },
   {
    "duration": 150,
    "start_time": "2022-12-01T14:42:10.335Z"
   },
   {
    "duration": 151,
    "start_time": "2022-12-01T14:42:27.968Z"
   },
   {
    "duration": 135,
    "start_time": "2022-12-01T14:42:37.464Z"
   },
   {
    "duration": 8,
    "start_time": "2022-12-01T14:45:45.749Z"
   },
   {
    "duration": 9,
    "start_time": "2022-12-01T14:46:09.571Z"
   },
   {
    "duration": 7,
    "start_time": "2022-12-01T14:46:14.636Z"
   },
   {
    "duration": 15,
    "start_time": "2022-12-01T14:49:51.369Z"
   },
   {
    "duration": 3,
    "start_time": "2022-12-01T14:51:42.250Z"
   },
   {
    "duration": 51,
    "start_time": "2022-12-01T14:51:42.483Z"
   },
   {
    "duration": 15,
    "start_time": "2022-12-01T14:51:42.619Z"
   },
   {
    "duration": 94,
    "start_time": "2022-12-01T14:51:42.881Z"
   },
   {
    "duration": 20,
    "start_time": "2022-12-01T14:51:43.465Z"
   },
   {
    "duration": 5,
    "start_time": "2022-12-01T14:51:43.793Z"
   },
   {
    "duration": 7,
    "start_time": "2022-12-01T14:51:44.035Z"
   },
   {
    "duration": 5,
    "start_time": "2022-12-01T14:51:44.192Z"
   },
   {
    "duration": 7,
    "start_time": "2022-12-01T14:51:44.416Z"
   },
   {
    "duration": 5,
    "start_time": "2022-12-01T14:51:44.609Z"
   },
   {
    "duration": 12,
    "start_time": "2022-12-01T14:51:45.241Z"
   },
   {
    "duration": 13,
    "start_time": "2022-12-01T14:51:45.515Z"
   },
   {
    "duration": 10,
    "start_time": "2022-12-01T14:51:45.901Z"
   },
   {
    "duration": 30,
    "start_time": "2022-12-01T14:51:46.148Z"
   },
   {
    "duration": 21,
    "start_time": "2022-12-01T14:51:47.494Z"
   },
   {
    "duration": 4,
    "start_time": "2022-12-01T14:51:47.811Z"
   },
   {
    "duration": 8,
    "start_time": "2022-12-01T14:51:48.161Z"
   },
   {
    "duration": 8,
    "start_time": "2022-12-01T14:51:48.689Z"
   },
   {
    "duration": 14,
    "start_time": "2022-12-01T14:51:48.904Z"
   },
   {
    "duration": 17,
    "start_time": "2022-12-01T14:51:49.346Z"
   },
   {
    "duration": 11,
    "start_time": "2022-12-01T14:51:50.662Z"
   },
   {
    "duration": 180,
    "start_time": "2022-12-01T14:51:51.913Z"
   },
   {
    "duration": 16,
    "start_time": "2022-12-01T14:51:53.299Z"
   },
   {
    "duration": 10,
    "start_time": "2022-12-01T14:51:53.576Z"
   },
   {
    "duration": 3,
    "start_time": "2022-12-01T14:51:54.747Z"
   },
   {
    "duration": 17,
    "start_time": "2022-12-01T14:51:55.386Z"
   },
   {
    "duration": 143,
    "start_time": "2022-12-01T14:51:56.635Z"
   },
   {
    "duration": 206,
    "start_time": "2022-12-01T14:51:57.755Z"
   },
   {
    "duration": 224,
    "start_time": "2022-12-01T14:55:07.684Z"
   },
   {
    "duration": 11,
    "start_time": "2022-12-01T14:57:22.827Z"
   },
   {
    "duration": 3,
    "start_time": "2022-12-01T15:08:48.755Z"
   },
   {
    "duration": 55,
    "start_time": "2022-12-01T15:08:48.946Z"
   },
   {
    "duration": 15,
    "start_time": "2022-12-01T15:08:49.140Z"
   },
   {
    "duration": 29,
    "start_time": "2022-12-01T15:08:49.358Z"
   },
   {
    "duration": 21,
    "start_time": "2022-12-01T15:08:49.906Z"
   },
   {
    "duration": 6,
    "start_time": "2022-12-01T15:08:50.298Z"
   },
   {
    "duration": 7,
    "start_time": "2022-12-01T15:08:50.675Z"
   },
   {
    "duration": 4,
    "start_time": "2022-12-01T15:08:51.066Z"
   },
   {
    "duration": 5,
    "start_time": "2022-12-01T15:08:51.312Z"
   },
   {
    "duration": 5,
    "start_time": "2022-12-01T15:08:51.536Z"
   },
   {
    "duration": 9,
    "start_time": "2022-12-01T15:08:52.185Z"
   },
   {
    "duration": 16,
    "start_time": "2022-12-01T15:08:52.433Z"
   },
   {
    "duration": 12,
    "start_time": "2022-12-01T15:08:52.883Z"
   },
   {
    "duration": 34,
    "start_time": "2022-12-01T15:08:53.115Z"
   },
   {
    "duration": 21,
    "start_time": "2022-12-01T15:08:53.363Z"
   },
   {
    "duration": 5,
    "start_time": "2022-12-01T15:08:54.155Z"
   },
   {
    "duration": 7,
    "start_time": "2022-12-01T15:08:55.339Z"
   },
   {
    "duration": 10,
    "start_time": "2022-12-01T15:08:55.563Z"
   },
   {
    "duration": 16,
    "start_time": "2022-12-01T15:08:55.777Z"
   },
   {
    "duration": 15,
    "start_time": "2022-12-01T15:08:56.185Z"
   },
   {
    "duration": 14,
    "start_time": "2022-12-01T15:08:57.147Z"
   },
   {
    "duration": 171,
    "start_time": "2022-12-01T15:08:59.361Z"
   },
   {
    "duration": 14,
    "start_time": "2022-12-01T15:09:00.915Z"
   },
   {
    "duration": 10,
    "start_time": "2022-12-01T15:09:01.709Z"
   },
   {
    "duration": 4,
    "start_time": "2022-12-01T15:09:04.978Z"
   },
   {
    "duration": 17,
    "start_time": "2022-12-01T15:09:08.330Z"
   },
   {
    "duration": 153,
    "start_time": "2022-12-01T15:09:09.443Z"
   },
   {
    "duration": 275,
    "start_time": "2022-12-01T15:09:14.460Z"
   },
   {
    "duration": 11,
    "start_time": "2022-12-01T15:10:45.431Z"
   },
   {
    "duration": 10,
    "start_time": "2022-12-01T15:11:03.575Z"
   },
   {
    "duration": 11,
    "start_time": "2022-12-01T15:12:33.049Z"
   },
   {
    "duration": 4,
    "start_time": "2022-12-01T15:12:33.934Z"
   },
   {
    "duration": 17,
    "start_time": "2022-12-01T15:12:36.562Z"
   },
   {
    "duration": 141,
    "start_time": "2022-12-01T15:12:39.768Z"
   },
   {
    "duration": 225,
    "start_time": "2022-12-01T15:12:45.982Z"
   },
   {
    "duration": 12,
    "start_time": "2022-12-01T15:12:49.079Z"
   },
   {
    "duration": 506,
    "start_time": "2022-12-01T15:12:58.457Z"
   },
   {
    "duration": 49,
    "start_time": "2022-12-01T15:47:26.667Z"
   },
   {
    "duration": 1291,
    "start_time": "2022-12-01T15:47:33.205Z"
   },
   {
    "duration": 444,
    "start_time": "2022-12-01T15:47:34.498Z"
   },
   {
    "duration": 13,
    "start_time": "2022-12-01T15:47:34.944Z"
   },
   {
    "duration": 29,
    "start_time": "2022-12-01T15:47:34.959Z"
   },
   {
    "duration": 20,
    "start_time": "2022-12-01T15:47:34.990Z"
   },
   {
    "duration": 13,
    "start_time": "2022-12-01T15:47:35.013Z"
   },
   {
    "duration": 15,
    "start_time": "2022-12-01T15:47:35.028Z"
   },
   {
    "duration": 9,
    "start_time": "2022-12-01T15:47:35.048Z"
   },
   {
    "duration": 5,
    "start_time": "2022-12-01T15:47:35.229Z"
   },
   {
    "duration": 4,
    "start_time": "2022-12-01T15:47:35.421Z"
   },
   {
    "duration": 9,
    "start_time": "2022-12-01T15:47:36.749Z"
   },
   {
    "duration": 13,
    "start_time": "2022-12-01T15:47:36.937Z"
   },
   {
    "duration": 13,
    "start_time": "2022-12-01T15:47:37.317Z"
   },
   {
    "duration": 78,
    "start_time": "2022-12-01T15:47:37.784Z"
   },
   {
    "duration": 19,
    "start_time": "2022-12-01T15:47:38.176Z"
   },
   {
    "duration": 4,
    "start_time": "2022-12-01T15:47:38.413Z"
   },
   {
    "duration": 7,
    "start_time": "2022-12-01T15:47:38.980Z"
   },
   {
    "duration": 9,
    "start_time": "2022-12-01T15:47:39.794Z"
   },
   {
    "duration": 15,
    "start_time": "2022-12-01T15:47:56.213Z"
   },
   {
    "duration": 17,
    "start_time": "2022-12-01T15:48:05.544Z"
   },
   {
    "duration": 11,
    "start_time": "2022-12-01T15:48:06.400Z"
   },
   {
    "duration": 211,
    "start_time": "2022-12-01T15:48:07.155Z"
   },
   {
    "duration": 15,
    "start_time": "2022-12-01T15:48:08.125Z"
   },
   {
    "duration": 10,
    "start_time": "2022-12-01T15:48:08.328Z"
   },
   {
    "duration": 4,
    "start_time": "2022-12-01T15:48:08.535Z"
   },
   {
    "duration": 17,
    "start_time": "2022-12-01T15:48:08.693Z"
   },
   {
    "duration": 152,
    "start_time": "2022-12-01T15:48:08.878Z"
   },
   {
    "duration": 264,
    "start_time": "2022-12-01T15:48:09.033Z"
   },
   {
    "duration": 10,
    "start_time": "2022-12-01T15:48:09.299Z"
   },
   {
    "duration": 68,
    "start_time": "2022-12-01T15:48:09.484Z"
   },
   {
    "duration": 130,
    "start_time": "2022-12-01T15:48:09.630Z"
   },
   {
    "duration": 128,
    "start_time": "2022-12-01T15:48:10.294Z"
   },
   {
    "duration": 142,
    "start_time": "2022-12-01T15:48:10.458Z"
   },
   {
    "duration": 131,
    "start_time": "2022-12-01T15:48:10.636Z"
   },
   {
    "duration": 126,
    "start_time": "2022-12-01T15:48:10.976Z"
   },
   {
    "duration": 191,
    "start_time": "2022-12-01T15:48:11.143Z"
   },
   {
    "duration": 137,
    "start_time": "2022-12-01T15:48:11.336Z"
   },
   {
    "duration": 117,
    "start_time": "2022-12-01T15:48:11.748Z"
   },
   {
    "duration": 130,
    "start_time": "2022-12-01T15:48:11.934Z"
   },
   {
    "duration": 131,
    "start_time": "2022-12-01T15:48:12.079Z"
   },
   {
    "duration": 2,
    "start_time": "2022-12-01T15:48:12.758Z"
   },
   {
    "duration": 11,
    "start_time": "2022-12-01T15:48:13.153Z"
   },
   {
    "duration": 4,
    "start_time": "2022-12-01T15:48:13.315Z"
   },
   {
    "duration": 5,
    "start_time": "2022-12-01T15:48:16.341Z"
   },
   {
    "duration": 11,
    "start_time": "2022-12-01T15:48:17.460Z"
   },
   {
    "duration": 5,
    "start_time": "2022-12-01T15:48:17.864Z"
   },
   {
    "duration": 51,
    "start_time": "2022-12-01T18:45:43.059Z"
   },
   {
    "duration": 1291,
    "start_time": "2022-12-01T18:45:53.255Z"
   },
   {
    "duration": 187,
    "start_time": "2022-12-01T18:45:54.548Z"
   },
   {
    "duration": 14,
    "start_time": "2022-12-01T18:45:54.737Z"
   },
   {
    "duration": 34,
    "start_time": "2022-12-01T18:45:54.753Z"
   },
   {
    "duration": 23,
    "start_time": "2022-12-01T18:45:54.789Z"
   },
   {
    "duration": 9,
    "start_time": "2022-12-01T18:45:54.814Z"
   },
   {
    "duration": 7,
    "start_time": "2022-12-01T18:45:55.002Z"
   },
   {
    "duration": 6,
    "start_time": "2022-12-01T18:45:55.210Z"
   },
   {
    "duration": 5,
    "start_time": "2022-12-01T18:45:55.361Z"
   },
   {
    "duration": 4,
    "start_time": "2022-12-01T18:45:55.536Z"
   },
   {
    "duration": 8,
    "start_time": "2022-12-01T18:45:56.271Z"
   },
   {
    "duration": 16,
    "start_time": "2022-12-01T18:45:56.480Z"
   },
   {
    "duration": 12,
    "start_time": "2022-12-01T18:45:56.879Z"
   },
   {
    "duration": 81,
    "start_time": "2022-12-01T18:45:57.064Z"
   },
   {
    "duration": 23,
    "start_time": "2022-12-01T18:45:57.251Z"
   },
   {
    "duration": 5,
    "start_time": "2022-12-01T18:45:57.449Z"
   },
   {
    "duration": 9,
    "start_time": "2022-12-01T18:45:57.845Z"
   },
   {
    "duration": 7,
    "start_time": "2022-12-01T18:45:58.024Z"
   },
   {
    "duration": 14,
    "start_time": "2022-12-01T18:45:58.221Z"
   },
   {
    "duration": 16,
    "start_time": "2022-12-01T18:45:58.616Z"
   },
   {
    "duration": 11,
    "start_time": "2022-12-01T18:45:59.001Z"
   },
   {
    "duration": 195,
    "start_time": "2022-12-01T18:46:00.018Z"
   },
   {
    "duration": 14,
    "start_time": "2022-12-01T18:46:01.941Z"
   },
   {
    "duration": 12,
    "start_time": "2022-12-01T18:46:04.170Z"
   },
   {
    "duration": 4,
    "start_time": "2022-12-01T18:46:05.072Z"
   },
   {
    "duration": 19,
    "start_time": "2022-12-01T18:46:06.010Z"
   },
   {
    "duration": 148,
    "start_time": "2022-12-01T18:46:07.152Z"
   },
   {
    "duration": 285,
    "start_time": "2022-12-01T18:46:07.411Z"
   },
   {
    "duration": 11,
    "start_time": "2022-12-01T18:46:09.256Z"
   },
   {
    "duration": 65,
    "start_time": "2022-12-01T18:46:11.745Z"
   },
   {
    "duration": 23,
    "start_time": "2022-12-01T18:49:26.798Z"
   },
   {
    "duration": 20,
    "start_time": "2022-12-01T18:49:40.910Z"
   },
   {
    "duration": 12,
    "start_time": "2022-12-01T19:09:36.939Z"
   },
   {
    "duration": 13,
    "start_time": "2022-12-01T19:10:53.499Z"
   },
   {
    "duration": 14,
    "start_time": "2022-12-01T19:11:26.745Z"
   },
   {
    "duration": 279,
    "start_time": "2022-12-01T19:13:34.452Z"
   },
   {
    "duration": 10,
    "start_time": "2022-12-01T19:21:27.617Z"
   },
   {
    "duration": 3,
    "start_time": "2022-12-01T19:21:46.019Z"
   },
   {
    "duration": 47,
    "start_time": "2022-12-01T19:21:46.175Z"
   },
   {
    "duration": 14,
    "start_time": "2022-12-01T19:21:46.552Z"
   },
   {
    "duration": 29,
    "start_time": "2022-12-01T19:21:46.750Z"
   },
   {
    "duration": 20,
    "start_time": "2022-12-01T19:21:47.305Z"
   },
   {
    "duration": 5,
    "start_time": "2022-12-01T19:21:47.696Z"
   },
   {
    "duration": 6,
    "start_time": "2022-12-01T19:21:47.918Z"
   },
   {
    "duration": 5,
    "start_time": "2022-12-01T19:21:48.092Z"
   },
   {
    "duration": 5,
    "start_time": "2022-12-01T19:21:48.294Z"
   },
   {
    "duration": 4,
    "start_time": "2022-12-01T19:21:48.551Z"
   },
   {
    "duration": 10,
    "start_time": "2022-12-01T19:21:49.222Z"
   },
   {
    "duration": 13,
    "start_time": "2022-12-01T19:21:49.462Z"
   },
   {
    "duration": 13,
    "start_time": "2022-12-01T19:21:49.865Z"
   },
   {
    "duration": 30,
    "start_time": "2022-12-01T19:21:50.068Z"
   },
   {
    "duration": 20,
    "start_time": "2022-12-01T19:21:50.305Z"
   },
   {
    "duration": 5,
    "start_time": "2022-12-01T19:21:50.554Z"
   },
   {
    "duration": 7,
    "start_time": "2022-12-01T19:21:51.261Z"
   },
   {
    "duration": 8,
    "start_time": "2022-12-01T19:21:51.459Z"
   },
   {
    "duration": 15,
    "start_time": "2022-12-01T19:21:51.650Z"
   },
   {
    "duration": 16,
    "start_time": "2022-12-01T19:21:52.111Z"
   },
   {
    "duration": 14,
    "start_time": "2022-12-01T19:21:52.624Z"
   },
   {
    "duration": 174,
    "start_time": "2022-12-01T19:21:54.462Z"
   },
   {
    "duration": 14,
    "start_time": "2022-12-01T19:21:54.970Z"
   },
   {
    "duration": 11,
    "start_time": "2022-12-01T19:21:55.212Z"
   },
   {
    "duration": 4,
    "start_time": "2022-12-01T19:21:55.462Z"
   },
   {
    "duration": 18,
    "start_time": "2022-12-01T19:21:55.687Z"
   },
   {
    "duration": 149,
    "start_time": "2022-12-01T19:21:56.312Z"
   },
   {
    "duration": 245,
    "start_time": "2022-12-01T19:21:56.563Z"
   },
   {
    "duration": 21,
    "start_time": "2022-12-01T19:21:56.810Z"
   },
   {
    "duration": 21,
    "start_time": "2022-12-01T19:21:58.063Z"
   },
   {
    "duration": 277,
    "start_time": "2022-12-01T19:21:58.775Z"
   },
   {
    "duration": 11,
    "start_time": "2022-12-01T19:23:21.957Z"
   },
   {
    "duration": 188,
    "start_time": "2022-12-01T19:27:14.462Z"
   },
   {
    "duration": 9,
    "start_time": "2022-12-01T19:35:14.009Z"
   },
   {
    "duration": 12,
    "start_time": "2022-12-01T19:35:22.250Z"
   },
   {
    "duration": 118,
    "start_time": "2022-12-01T19:36:09.746Z"
   },
   {
    "duration": 108,
    "start_time": "2022-12-01T19:36:46.089Z"
   },
   {
    "duration": 145,
    "start_time": "2022-12-01T19:36:52.282Z"
   },
   {
    "duration": 148,
    "start_time": "2022-12-01T19:37:47.991Z"
   },
   {
    "duration": 150,
    "start_time": "2022-12-01T19:45:59.386Z"
   },
   {
    "duration": 150,
    "start_time": "2022-12-01T19:46:39.818Z"
   },
   {
    "duration": 13,
    "start_time": "2022-12-01T19:52:24.690Z"
   },
   {
    "duration": 1083,
    "start_time": "2022-12-01T20:01:31.616Z"
   },
   {
    "duration": 5,
    "start_time": "2022-12-01T20:01:54.399Z"
   },
   {
    "duration": 12,
    "start_time": "2022-12-01T20:13:44.087Z"
   },
   {
    "duration": 43,
    "start_time": "2022-12-01T20:13:44.785Z"
   },
   {
    "duration": 9,
    "start_time": "2022-12-01T20:17:13.259Z"
   },
   {
    "duration": 11,
    "start_time": "2022-12-01T20:17:13.587Z"
   },
   {
    "duration": 5,
    "start_time": "2022-12-01T20:17:29.250Z"
   },
   {
    "duration": 102,
    "start_time": "2022-12-01T20:17:29.425Z"
   },
   {
    "duration": 15,
    "start_time": "2022-12-01T20:17:29.614Z"
   },
   {
    "duration": 30,
    "start_time": "2022-12-01T20:17:29.821Z"
   },
   {
    "duration": 21,
    "start_time": "2022-12-01T20:17:30.388Z"
   },
   {
    "duration": 5,
    "start_time": "2022-12-01T20:17:30.797Z"
   },
   {
    "duration": 6,
    "start_time": "2022-12-01T20:17:30.954Z"
   },
   {
    "duration": 5,
    "start_time": "2022-12-01T20:17:31.173Z"
   },
   {
    "duration": 5,
    "start_time": "2022-12-01T20:17:31.371Z"
   },
   {
    "duration": 5,
    "start_time": "2022-12-01T20:17:31.552Z"
   },
   {
    "duration": 10,
    "start_time": "2022-12-01T20:17:32.105Z"
   },
   {
    "duration": 14,
    "start_time": "2022-12-01T20:17:32.330Z"
   },
   {
    "duration": 11,
    "start_time": "2022-12-01T20:17:32.761Z"
   },
   {
    "duration": 31,
    "start_time": "2022-12-01T20:17:32.985Z"
   },
   {
    "duration": 20,
    "start_time": "2022-12-01T20:17:33.209Z"
   },
   {
    "duration": 4,
    "start_time": "2022-12-01T20:17:33.427Z"
   },
   {
    "duration": 7,
    "start_time": "2022-12-01T20:17:33.832Z"
   },
   {
    "duration": 12,
    "start_time": "2022-12-01T20:17:34.050Z"
   },
   {
    "duration": 14,
    "start_time": "2022-12-01T20:17:34.272Z"
   },
   {
    "duration": 15,
    "start_time": "2022-12-01T20:17:34.706Z"
   },
   {
    "duration": 11,
    "start_time": "2022-12-01T20:17:35.132Z"
   },
   {
    "duration": 171,
    "start_time": "2022-12-01T20:17:35.544Z"
   },
   {
    "duration": 16,
    "start_time": "2022-12-01T20:17:35.966Z"
   },
   {
    "duration": 12,
    "start_time": "2022-12-01T20:17:36.196Z"
   },
   {
    "duration": 4,
    "start_time": "2022-12-01T20:17:36.343Z"
   },
   {
    "duration": 19,
    "start_time": "2022-12-01T20:17:36.555Z"
   },
   {
    "duration": 155,
    "start_time": "2022-12-01T20:17:36.728Z"
   },
   {
    "duration": 228,
    "start_time": "2022-12-01T20:17:36.938Z"
   },
   {
    "duration": 11,
    "start_time": "2022-12-01T20:17:37.313Z"
   },
   {
    "duration": 21,
    "start_time": "2022-12-01T20:17:37.732Z"
   },
   {
    "duration": 279,
    "start_time": "2022-12-01T20:17:37.965Z"
   },
   {
    "duration": 189,
    "start_time": "2022-12-01T20:17:38.425Z"
   },
   {
    "duration": 11,
    "start_time": "2022-12-01T20:17:38.641Z"
   },
   {
    "duration": 170,
    "start_time": "2022-12-01T20:17:38.887Z"
   },
   {
    "duration": 143,
    "start_time": "2022-12-01T20:17:39.150Z"
   },
   {
    "duration": 12,
    "start_time": "2022-12-01T20:17:39.412Z"
   },
   {
    "duration": 5,
    "start_time": "2022-12-01T20:17:39.689Z"
   },
   {
    "duration": 116,
    "start_time": "2022-12-01T20:17:40.868Z"
   },
   {
    "duration": 121,
    "start_time": "2022-12-01T20:17:41.116Z"
   },
   {
    "duration": 142,
    "start_time": "2022-12-01T20:17:41.466Z"
   },
   {
    "duration": 109,
    "start_time": "2022-12-01T20:17:42.937Z"
   },
   {
    "duration": 116,
    "start_time": "2022-12-01T20:17:43.570Z"
   },
   {
    "duration": 153,
    "start_time": "2022-12-01T20:17:44.154Z"
   },
   {
    "duration": 133,
    "start_time": "2022-12-01T20:17:44.852Z"
   },
   {
    "duration": 125,
    "start_time": "2022-12-01T20:17:46.538Z"
   },
   {
    "duration": 140,
    "start_time": "2022-12-01T20:17:46.820Z"
   },
   {
    "duration": 2,
    "start_time": "2022-12-01T20:17:53.636Z"
   },
   {
    "duration": 9,
    "start_time": "2022-12-01T20:17:54.426Z"
   },
   {
    "duration": 3,
    "start_time": "2022-12-01T20:17:54.973Z"
   },
   {
    "duration": 4,
    "start_time": "2022-12-01T20:17:55.236Z"
   },
   {
    "duration": 8,
    "start_time": "2022-12-01T20:17:56.124Z"
   },
   {
    "duration": 5,
    "start_time": "2022-12-01T20:17:56.970Z"
   },
   {
    "duration": 10,
    "start_time": "2022-12-01T20:18:34.661Z"
   },
   {
    "duration": 4,
    "start_time": "2022-12-01T20:18:35.555Z"
   },
   {
    "duration": 9,
    "start_time": "2022-12-01T20:18:53.661Z"
   },
   {
    "duration": 5,
    "start_time": "2022-12-01T20:18:54.616Z"
   },
   {
    "duration": 3,
    "start_time": "2022-12-01T20:20:37.181Z"
   },
   {
    "duration": 50,
    "start_time": "2022-12-01T20:20:37.365Z"
   },
   {
    "duration": 13,
    "start_time": "2022-12-01T20:20:37.560Z"
   },
   {
    "duration": 30,
    "start_time": "2022-12-01T20:20:37.758Z"
   },
   {
    "duration": 21,
    "start_time": "2022-12-01T20:20:38.295Z"
   },
   {
    "duration": 5,
    "start_time": "2022-12-01T20:20:38.701Z"
   },
   {
    "duration": 7,
    "start_time": "2022-12-01T20:20:38.899Z"
   },
   {
    "duration": 5,
    "start_time": "2022-12-01T20:20:39.056Z"
   },
   {
    "duration": 6,
    "start_time": "2022-12-01T20:20:39.259Z"
   },
   {
    "duration": 4,
    "start_time": "2022-12-01T20:20:39.456Z"
   },
   {
    "duration": 9,
    "start_time": "2022-12-01T20:20:40.029Z"
   },
   {
    "duration": 14,
    "start_time": "2022-12-01T20:20:40.240Z"
   },
   {
    "duration": 11,
    "start_time": "2022-12-01T20:20:40.647Z"
   },
   {
    "duration": 30,
    "start_time": "2022-12-01T20:20:40.875Z"
   },
   {
    "duration": 112,
    "start_time": "2022-12-01T20:20:41.087Z"
   },
   {
    "duration": 5,
    "start_time": "2022-12-01T20:20:41.370Z"
   },
   {
    "duration": 7,
    "start_time": "2022-12-01T20:20:41.756Z"
   },
   {
    "duration": 8,
    "start_time": "2022-12-01T20:20:41.948Z"
   },
   {
    "duration": 13,
    "start_time": "2022-12-01T20:20:42.365Z"
   },
   {
    "duration": 16,
    "start_time": "2022-12-01T20:20:42.798Z"
   },
   {
    "duration": 11,
    "start_time": "2022-12-01T20:20:43.230Z"
   },
   {
    "duration": 180,
    "start_time": "2022-12-01T20:20:43.671Z"
   },
   {
    "duration": 20,
    "start_time": "2022-12-01T20:20:44.106Z"
   },
   {
    "duration": 12,
    "start_time": "2022-12-01T20:20:44.354Z"
   },
   {
    "duration": 4,
    "start_time": "2022-12-01T20:20:44.547Z"
   },
   {
    "duration": 19,
    "start_time": "2022-12-01T20:20:44.746Z"
   },
   {
    "duration": 147,
    "start_time": "2022-12-01T20:20:44.943Z"
   },
   {
    "duration": 218,
    "start_time": "2022-12-01T20:20:45.125Z"
   },
   {
    "duration": 13,
    "start_time": "2022-12-01T20:20:45.344Z"
   },
   {
    "duration": 22,
    "start_time": "2022-12-01T20:20:45.723Z"
   },
   {
    "duration": 284,
    "start_time": "2022-12-01T20:20:45.938Z"
   },
   {
    "duration": 121,
    "start_time": "2022-12-01T20:20:46.363Z"
   },
   {
    "duration": 13,
    "start_time": "2022-12-01T20:20:46.629Z"
   },
   {
    "duration": 158,
    "start_time": "2022-12-01T20:20:46.879Z"
   },
   {
    "duration": 148,
    "start_time": "2022-12-01T20:20:47.158Z"
   },
   {
    "duration": 13,
    "start_time": "2022-12-01T20:20:47.567Z"
   },
   {
    "duration": 5,
    "start_time": "2022-12-01T20:20:48.477Z"
   },
   {
    "duration": 123,
    "start_time": "2022-12-01T20:20:54.453Z"
   },
   {
    "duration": 123,
    "start_time": "2022-12-01T20:20:54.651Z"
   },
   {
    "duration": 133,
    "start_time": "2022-12-01T20:20:54.822Z"
   },
   {
    "duration": 115,
    "start_time": "2022-12-01T20:20:55.213Z"
   },
   {
    "duration": 203,
    "start_time": "2022-12-01T20:20:55.598Z"
   },
   {
    "duration": 149,
    "start_time": "2022-12-01T20:20:55.803Z"
   },
   {
    "duration": 123,
    "start_time": "2022-12-01T20:20:56.343Z"
   },
   {
    "duration": 125,
    "start_time": "2022-12-01T20:20:56.538Z"
   },
   {
    "duration": 139,
    "start_time": "2022-12-01T20:20:56.950Z"
   },
   {
    "duration": 3,
    "start_time": "2022-12-01T20:20:57.589Z"
   },
   {
    "duration": 11,
    "start_time": "2022-12-01T20:20:57.821Z"
   },
   {
    "duration": 3,
    "start_time": "2022-12-01T20:20:58.039Z"
   },
   {
    "duration": 4,
    "start_time": "2022-12-01T20:20:58.294Z"
   },
   {
    "duration": 11,
    "start_time": "2022-12-01T20:21:00.308Z"
   },
   {
    "duration": 5,
    "start_time": "2022-12-01T20:21:00.886Z"
   },
   {
    "duration": 13,
    "start_time": "2022-12-01T20:21:25.639Z"
   },
   {
    "duration": 6,
    "start_time": "2022-12-01T20:21:26.097Z"
   },
   {
    "duration": 4,
    "start_time": "2022-12-01T20:21:46.416Z"
   },
   {
    "duration": 50,
    "start_time": "2022-12-01T20:21:46.598Z"
   },
   {
    "duration": 14,
    "start_time": "2022-12-01T20:21:46.776Z"
   },
   {
    "duration": 28,
    "start_time": "2022-12-01T20:21:47.168Z"
   },
   {
    "duration": 20,
    "start_time": "2022-12-01T20:21:47.871Z"
   },
   {
    "duration": 6,
    "start_time": "2022-12-01T20:21:48.270Z"
   },
   {
    "duration": 7,
    "start_time": "2022-12-01T20:21:48.418Z"
   },
   {
    "duration": 4,
    "start_time": "2022-12-01T20:21:48.579Z"
   },
   {
    "duration": 5,
    "start_time": "2022-12-01T20:21:48.819Z"
   },
   {
    "duration": 4,
    "start_time": "2022-12-01T20:21:48.977Z"
   },
   {
    "duration": 11,
    "start_time": "2022-12-01T20:21:49.557Z"
   },
   {
    "duration": 15,
    "start_time": "2022-12-01T20:21:49.746Z"
   },
   {
    "duration": 11,
    "start_time": "2022-12-01T20:21:50.791Z"
   },
   {
    "duration": 30,
    "start_time": "2022-12-01T20:21:51.033Z"
   },
   {
    "duration": 21,
    "start_time": "2022-12-01T20:21:51.248Z"
   },
   {
    "duration": 4,
    "start_time": "2022-12-01T20:21:51.507Z"
   },
   {
    "duration": 7,
    "start_time": "2022-12-01T20:21:51.830Z"
   },
   {
    "duration": 10,
    "start_time": "2022-12-01T20:21:52.038Z"
   },
   {
    "duration": 14,
    "start_time": "2022-12-01T20:21:52.255Z"
   },
   {
    "duration": 15,
    "start_time": "2022-12-01T20:21:52.888Z"
   },
   {
    "duration": 12,
    "start_time": "2022-12-01T20:21:53.352Z"
   },
   {
    "duration": 174,
    "start_time": "2022-12-01T20:21:53.838Z"
   },
   {
    "duration": 15,
    "start_time": "2022-12-01T20:21:54.537Z"
   },
   {
    "duration": 11,
    "start_time": "2022-12-01T20:21:54.774Z"
   },
   {
    "duration": 5,
    "start_time": "2022-12-01T20:21:54.984Z"
   },
   {
    "duration": 18,
    "start_time": "2022-12-01T20:21:55.195Z"
   },
   {
    "duration": 145,
    "start_time": "2022-12-01T20:21:55.428Z"
   },
   {
    "duration": 229,
    "start_time": "2022-12-01T20:21:55.633Z"
   },
   {
    "duration": 13,
    "start_time": "2022-12-01T20:21:55.864Z"
   },
   {
    "duration": 20,
    "start_time": "2022-12-01T20:21:56.264Z"
   },
   {
    "duration": 281,
    "start_time": "2022-12-01T20:21:56.474Z"
   },
   {
    "duration": 127,
    "start_time": "2022-12-01T20:21:56.925Z"
   },
   {
    "duration": 12,
    "start_time": "2022-12-01T20:21:57.337Z"
   },
   {
    "duration": 148,
    "start_time": "2022-12-01T20:21:57.549Z"
   },
   {
    "duration": 258,
    "start_time": "2022-12-01T20:21:57.728Z"
   },
   {
    "duration": 13,
    "start_time": "2022-12-01T20:21:57.988Z"
   },
   {
    "duration": 5,
    "start_time": "2022-12-01T20:21:58.193Z"
   },
   {
    "duration": 125,
    "start_time": "2022-12-01T20:21:59.486Z"
   },
   {
    "duration": 127,
    "start_time": "2022-12-01T20:21:59.714Z"
   },
   {
    "duration": 122,
    "start_time": "2022-12-01T20:21:59.894Z"
   },
   {
    "duration": 122,
    "start_time": "2022-12-01T20:22:00.449Z"
   },
   {
    "duration": 120,
    "start_time": "2022-12-01T20:22:00.679Z"
   },
   {
    "duration": 128,
    "start_time": "2022-12-01T20:22:00.903Z"
   },
   {
    "duration": 120,
    "start_time": "2022-12-01T20:22:01.695Z"
   },
   {
    "duration": 124,
    "start_time": "2022-12-01T20:22:01.944Z"
   },
   {
    "duration": 135,
    "start_time": "2022-12-01T20:22:02.133Z"
   },
   {
    "duration": 2,
    "start_time": "2022-12-01T20:22:02.743Z"
   },
   {
    "duration": 9,
    "start_time": "2022-12-01T20:22:03.189Z"
   },
   {
    "duration": 4,
    "start_time": "2022-12-01T20:22:04.152Z"
   },
   {
    "duration": 4,
    "start_time": "2022-12-01T20:22:04.728Z"
   },
   {
    "duration": 10,
    "start_time": "2022-12-01T20:22:06.026Z"
   },
   {
    "duration": 5,
    "start_time": "2022-12-01T20:22:06.831Z"
   },
   {
    "duration": 1717,
    "start_time": "2022-12-02T13:29:54.550Z"
   },
   {
    "duration": 323,
    "start_time": "2022-12-02T13:29:56.269Z"
   },
   {
    "duration": 23,
    "start_time": "2022-12-02T13:29:56.595Z"
   },
   {
    "duration": 41,
    "start_time": "2022-12-02T13:29:56.620Z"
   },
   {
    "duration": 30,
    "start_time": "2022-12-02T13:29:56.662Z"
   },
   {
    "duration": 22,
    "start_time": "2022-12-02T13:29:56.694Z"
   },
   {
    "duration": 11,
    "start_time": "2022-12-02T13:29:56.718Z"
   },
   {
    "duration": 11,
    "start_time": "2022-12-02T13:29:56.731Z"
   },
   {
    "duration": 7,
    "start_time": "2022-12-02T13:29:56.838Z"
   },
   {
    "duration": 5,
    "start_time": "2022-12-02T13:29:57.031Z"
   },
   {
    "duration": 10,
    "start_time": "2022-12-02T13:29:57.736Z"
   },
   {
    "duration": 23,
    "start_time": "2022-12-02T13:29:57.990Z"
   },
   {
    "duration": 23,
    "start_time": "2022-12-02T13:29:58.591Z"
   },
   {
    "duration": 132,
    "start_time": "2022-12-02T13:29:58.879Z"
   },
   {
    "duration": 39,
    "start_time": "2022-12-02T13:29:59.078Z"
   },
   {
    "duration": 6,
    "start_time": "2022-12-02T13:29:59.504Z"
   },
   {
    "duration": 22,
    "start_time": "2022-12-02T13:29:59.972Z"
   },
   {
    "duration": 14,
    "start_time": "2022-12-02T13:30:00.221Z"
   },
   {
    "duration": 25,
    "start_time": "2022-12-02T13:30:00.505Z"
   },
   {
    "duration": 22,
    "start_time": "2022-12-02T13:30:00.934Z"
   },
   {
    "duration": 21,
    "start_time": "2022-12-02T13:30:01.290Z"
   },
   {
    "duration": 324,
    "start_time": "2022-12-02T13:30:01.786Z"
   },
   {
    "duration": 24,
    "start_time": "2022-12-02T13:30:02.216Z"
   },
   {
    "duration": 21,
    "start_time": "2022-12-02T13:30:02.488Z"
   },
   {
    "duration": 5,
    "start_time": "2022-12-02T13:30:02.712Z"
   },
   {
    "duration": 27,
    "start_time": "2022-12-02T13:30:02.913Z"
   },
   {
    "duration": 201,
    "start_time": "2022-12-02T13:30:03.206Z"
   },
   {
    "duration": 388,
    "start_time": "2022-12-02T13:30:03.412Z"
   },
   {
    "duration": 18,
    "start_time": "2022-12-02T13:30:03.802Z"
   },
   {
    "duration": 35,
    "start_time": "2022-12-02T13:30:04.192Z"
   },
   {
    "duration": 412,
    "start_time": "2022-12-02T13:30:04.350Z"
   },
   {
    "duration": 191,
    "start_time": "2022-12-02T13:30:04.807Z"
   },
   {
    "duration": 24,
    "start_time": "2022-12-02T13:30:05.062Z"
   },
   {
    "duration": 246,
    "start_time": "2022-12-02T13:30:05.310Z"
   },
   {
    "duration": 208,
    "start_time": "2022-12-02T13:30:05.571Z"
   },
   {
    "duration": 18,
    "start_time": "2022-12-02T13:30:05.781Z"
   },
   {
    "duration": 9,
    "start_time": "2022-12-02T13:30:06.001Z"
   },
   {
    "duration": 182,
    "start_time": "2022-12-02T13:30:06.712Z"
   },
   {
    "duration": 253,
    "start_time": "2022-12-02T13:30:07.010Z"
   },
   {
    "duration": 176,
    "start_time": "2022-12-02T13:30:07.265Z"
   },
   {
    "duration": 167,
    "start_time": "2022-12-02T13:30:07.720Z"
   },
   {
    "duration": 189,
    "start_time": "2022-12-02T13:30:08.010Z"
   },
   {
    "duration": 168,
    "start_time": "2022-12-02T13:30:08.289Z"
   },
   {
    "duration": 195,
    "start_time": "2022-12-02T13:30:09.428Z"
   },
   {
    "duration": 224,
    "start_time": "2022-12-02T13:30:09.886Z"
   },
   {
    "duration": 245,
    "start_time": "2022-12-02T13:30:10.500Z"
   },
   {
    "duration": 5,
    "start_time": "2022-12-02T13:30:12.847Z"
   },
   {
    "duration": 13,
    "start_time": "2022-12-02T13:30:13.100Z"
   },
   {
    "duration": 3,
    "start_time": "2022-12-02T13:30:13.540Z"
   },
   {
    "duration": 6,
    "start_time": "2022-12-02T13:30:13.796Z"
   },
   {
    "duration": 14,
    "start_time": "2022-12-02T13:30:14.825Z"
   },
   {
    "duration": 6,
    "start_time": "2022-12-02T13:30:15.116Z"
   },
   {
    "duration": 61,
    "start_time": "2022-12-02T14:19:24.247Z"
   },
   {
    "duration": 37,
    "start_time": "2022-12-02T14:19:35.995Z"
   },
   {
    "duration": 42,
    "start_time": "2022-12-02T14:19:46.661Z"
   },
   {
    "duration": 4,
    "start_time": "2022-12-02T14:35:27.422Z"
   },
   {
    "duration": 82,
    "start_time": "2022-12-02T14:35:27.593Z"
   },
   {
    "duration": 32,
    "start_time": "2022-12-02T14:35:27.772Z"
   },
   {
    "duration": 66,
    "start_time": "2022-12-02T14:35:27.946Z"
   },
   {
    "duration": 24,
    "start_time": "2022-12-02T14:35:28.513Z"
   },
   {
    "duration": 21,
    "start_time": "2022-12-02T14:35:28.954Z"
   },
   {
    "duration": 10,
    "start_time": "2022-12-02T14:35:29.118Z"
   },
   {
    "duration": 9,
    "start_time": "2022-12-02T14:35:29.300Z"
   },
   {
    "duration": 11,
    "start_time": "2022-12-02T14:35:29.492Z"
   },
   {
    "duration": 10,
    "start_time": "2022-12-02T14:35:29.689Z"
   },
   {
    "duration": 21,
    "start_time": "2022-12-02T14:35:30.215Z"
   },
   {
    "duration": 34,
    "start_time": "2022-12-02T14:35:30.403Z"
   },
   {
    "duration": 28,
    "start_time": "2022-12-02T14:35:30.770Z"
   },
   {
    "duration": 70,
    "start_time": "2022-12-02T14:35:30.953Z"
   },
   {
    "duration": 47,
    "start_time": "2022-12-02T14:35:31.183Z"
   },
   {
    "duration": 6,
    "start_time": "2022-12-02T14:35:31.323Z"
   },
   {
    "duration": 14,
    "start_time": "2022-12-02T14:35:31.895Z"
   },
   {
    "duration": 15,
    "start_time": "2022-12-02T14:35:32.084Z"
   },
   {
    "duration": 17,
    "start_time": "2022-12-02T14:35:32.229Z"
   },
   {
    "duration": 31,
    "start_time": "2022-12-02T14:35:32.592Z"
   },
   {
    "duration": 13,
    "start_time": "2022-12-02T14:35:33.327Z"
   },
   {
    "duration": 328,
    "start_time": "2022-12-02T14:35:33.710Z"
   },
   {
    "duration": 39,
    "start_time": "2022-12-02T14:35:34.280Z"
   },
   {
    "duration": 15,
    "start_time": "2022-12-02T14:35:34.632Z"
   },
   {
    "duration": 6,
    "start_time": "2022-12-02T14:35:34.818Z"
   },
   {
    "duration": 51,
    "start_time": "2022-12-02T14:35:35.221Z"
   },
   {
    "duration": 306,
    "start_time": "2022-12-02T14:35:35.431Z"
   },
   {
    "duration": 427,
    "start_time": "2022-12-02T14:35:35.821Z"
   },
   {
    "duration": 24,
    "start_time": "2022-12-02T14:35:36.386Z"
   },
   {
    "duration": 32,
    "start_time": "2022-12-02T14:35:37.230Z"
   },
   {
    "duration": 677,
    "start_time": "2022-12-02T14:35:39.334Z"
   },
   {
    "duration": 38,
    "start_time": "2022-12-02T14:45:06.910Z"
   },
   {
    "duration": 175,
    "start_time": "2022-12-02T14:46:11.596Z"
   },
   {
    "duration": 706,
    "start_time": "2022-12-02T14:46:22.914Z"
   },
   {
    "duration": 685,
    "start_time": "2022-12-02T14:48:11.613Z"
   },
   {
    "duration": 626,
    "start_time": "2022-12-02T14:48:21.958Z"
   },
   {
    "duration": 576,
    "start_time": "2022-12-02T14:48:42.267Z"
   },
   {
    "duration": 656,
    "start_time": "2022-12-02T14:50:53.715Z"
   },
   {
    "duration": 807,
    "start_time": "2022-12-02T14:51:44.776Z"
   },
   {
    "duration": 7,
    "start_time": "2022-12-02T15:07:02.938Z"
   },
   {
    "duration": 5,
    "start_time": "2022-12-02T15:39:25.280Z"
   },
   {
    "duration": 3,
    "start_time": "2022-12-02T15:39:37.403Z"
   },
   {
    "duration": 214,
    "start_time": "2022-12-02T15:39:37.577Z"
   },
   {
    "duration": 23,
    "start_time": "2022-12-02T15:39:37.792Z"
   },
   {
    "duration": 32,
    "start_time": "2022-12-02T15:39:38.017Z"
   },
   {
    "duration": 30,
    "start_time": "2022-12-02T15:39:38.495Z"
   },
   {
    "duration": 8,
    "start_time": "2022-12-02T15:39:38.903Z"
   },
   {
    "duration": 21,
    "start_time": "2022-12-02T15:39:39.196Z"
   },
   {
    "duration": 12,
    "start_time": "2022-12-02T15:39:39.408Z"
   },
   {
    "duration": 14,
    "start_time": "2022-12-02T15:39:39.586Z"
   },
   {
    "duration": 5,
    "start_time": "2022-12-02T15:39:39.744Z"
   },
   {
    "duration": 14,
    "start_time": "2022-12-02T15:39:40.335Z"
   },
   {
    "duration": 48,
    "start_time": "2022-12-02T15:39:40.533Z"
   },
   {
    "duration": 36,
    "start_time": "2022-12-02T15:39:41.090Z"
   },
   {
    "duration": 38,
    "start_time": "2022-12-02T15:39:41.302Z"
   },
   {
    "duration": 29,
    "start_time": "2022-12-02T15:39:41.514Z"
   },
   {
    "duration": 16,
    "start_time": "2022-12-02T15:39:41.670Z"
   },
   {
    "duration": 25,
    "start_time": "2022-12-02T15:39:42.209Z"
   },
   {
    "duration": 20,
    "start_time": "2022-12-02T15:39:42.408Z"
   },
   {
    "duration": 25,
    "start_time": "2022-12-02T15:39:42.610Z"
   },
   {
    "duration": 38,
    "start_time": "2022-12-02T15:39:42.996Z"
   },
   {
    "duration": 22,
    "start_time": "2022-12-02T15:39:43.788Z"
   },
   {
    "duration": 264,
    "start_time": "2022-12-02T15:39:44.189Z"
   },
   {
    "duration": 31,
    "start_time": "2022-12-02T15:39:44.806Z"
   },
   {
    "duration": 17,
    "start_time": "2022-12-02T15:39:45.219Z"
   },
   {
    "duration": 5,
    "start_time": "2022-12-02T15:39:45.415Z"
   },
   {
    "duration": 33,
    "start_time": "2022-12-02T15:39:45.805Z"
   },
   {
    "duration": 227,
    "start_time": "2022-12-02T15:39:46.007Z"
   },
   {
    "duration": 420,
    "start_time": "2022-12-02T15:39:46.417Z"
   },
   {
    "duration": 26,
    "start_time": "2022-12-02T15:39:46.842Z"
   },
   {
    "duration": 32,
    "start_time": "2022-12-02T15:39:47.520Z"
   },
   {
    "duration": 432,
    "start_time": "2022-12-02T15:39:47.901Z"
   },
   {
    "duration": 640,
    "start_time": "2022-12-02T15:39:48.534Z"
   },
   {
    "duration": 31,
    "start_time": "2022-12-02T15:39:49.384Z"
   },
   {
    "duration": 257,
    "start_time": "2022-12-02T15:39:49.665Z"
   },
   {
    "duration": 240,
    "start_time": "2022-12-02T15:39:50.017Z"
   },
   {
    "duration": 44,
    "start_time": "2022-12-02T15:39:50.449Z"
   },
   {
    "duration": 6,
    "start_time": "2022-12-02T15:39:51.041Z"
   },
   {
    "duration": 7,
    "start_time": "2022-12-02T15:39:52.228Z"
   },
   {
    "duration": 225,
    "start_time": "2022-12-02T15:39:53.478Z"
   },
   {
    "duration": 308,
    "start_time": "2022-12-02T15:39:53.706Z"
   },
   {
    "duration": 194,
    "start_time": "2022-12-02T15:39:54.020Z"
   },
   {
    "duration": 193,
    "start_time": "2022-12-02T15:39:54.649Z"
   },
   {
    "duration": 195,
    "start_time": "2022-12-02T15:39:55.041Z"
   },
   {
    "duration": 239,
    "start_time": "2022-12-02T15:39:55.266Z"
   },
   {
    "duration": 177,
    "start_time": "2022-12-02T15:39:56.414Z"
   },
   {
    "duration": 196,
    "start_time": "2022-12-02T15:39:57.306Z"
   },
   {
    "duration": 224,
    "start_time": "2022-12-02T15:40:00.003Z"
   },
   {
    "duration": 3,
    "start_time": "2022-12-02T15:40:02.728Z"
   },
   {
    "duration": 13,
    "start_time": "2022-12-02T15:40:02.929Z"
   },
   {
    "duration": 4,
    "start_time": "2022-12-02T15:40:03.113Z"
   },
   {
    "duration": 17,
    "start_time": "2022-12-02T15:40:03.566Z"
   },
   {
    "duration": 11,
    "start_time": "2022-12-02T15:40:16.805Z"
   },
   {
    "duration": 10,
    "start_time": "2022-12-02T15:40:17.347Z"
   },
   {
    "duration": 7,
    "start_time": "2022-12-02T15:40:17.808Z"
   },
   {
    "duration": 12,
    "start_time": "2022-12-02T15:40:43.414Z"
   },
   {
    "duration": 11,
    "start_time": "2022-12-02T15:40:43.676Z"
   },
   {
    "duration": 4,
    "start_time": "2022-12-02T15:40:43.910Z"
   },
   {
    "duration": 12,
    "start_time": "2022-12-02T15:40:46.866Z"
   },
   {
    "duration": 13,
    "start_time": "2022-12-02T15:40:47.069Z"
   },
   {
    "duration": 10,
    "start_time": "2022-12-02T15:41:31.503Z"
   },
   {
    "duration": 8,
    "start_time": "2022-12-02T15:41:31.839Z"
   },
   {
    "duration": 8,
    "start_time": "2022-12-02T15:44:01.200Z"
   },
   {
    "duration": 68,
    "start_time": "2022-12-02T15:44:01.377Z"
   },
   {
    "duration": 32,
    "start_time": "2022-12-02T15:44:01.724Z"
   },
   {
    "duration": 78,
    "start_time": "2022-12-02T15:44:01.923Z"
   },
   {
    "duration": 26,
    "start_time": "2022-12-02T15:44:02.434Z"
   },
   {
    "duration": 9,
    "start_time": "2022-12-02T15:44:02.847Z"
   },
   {
    "duration": 11,
    "start_time": "2022-12-02T15:44:02.996Z"
   },
   {
    "duration": 10,
    "start_time": "2022-12-02T15:44:03.177Z"
   },
   {
    "duration": 5,
    "start_time": "2022-12-02T15:44:03.326Z"
   },
   {
    "duration": 6,
    "start_time": "2022-12-02T15:44:03.679Z"
   },
   {
    "duration": 14,
    "start_time": "2022-12-02T15:44:04.433Z"
   },
   {
    "duration": 40,
    "start_time": "2022-12-02T15:44:04.630Z"
   },
   {
    "duration": 23,
    "start_time": "2022-12-02T15:44:04.983Z"
   },
   {
    "duration": 52,
    "start_time": "2022-12-02T15:44:05.171Z"
   },
   {
    "duration": 32,
    "start_time": "2022-12-02T15:44:05.377Z"
   },
   {
    "duration": 6,
    "start_time": "2022-12-02T15:44:05.528Z"
   },
   {
    "duration": 13,
    "start_time": "2022-12-02T15:44:06.082Z"
   },
   {
    "duration": 20,
    "start_time": "2022-12-02T15:44:06.270Z"
   },
   {
    "duration": 16,
    "start_time": "2022-12-02T15:44:06.618Z"
   },
   {
    "duration": 23,
    "start_time": "2022-12-02T15:44:07.199Z"
   },
   {
    "duration": 15,
    "start_time": "2022-12-02T15:44:07.999Z"
   },
   {
    "duration": 307,
    "start_time": "2022-12-02T15:44:08.718Z"
   },
   {
    "duration": 28,
    "start_time": "2022-12-02T15:44:09.275Z"
   },
   {
    "duration": 25,
    "start_time": "2022-12-02T15:44:09.684Z"
   },
   {
    "duration": 10,
    "start_time": "2022-12-02T15:44:09.896Z"
   },
   {
    "duration": 29,
    "start_time": "2022-12-02T15:44:10.412Z"
   },
   {
    "duration": 206,
    "start_time": "2022-12-02T15:44:10.617Z"
   },
   {
    "duration": 282,
    "start_time": "2022-12-02T15:44:11.009Z"
   },
   {
    "duration": 11,
    "start_time": "2022-12-02T15:44:11.408Z"
   },
   {
    "duration": 41,
    "start_time": "2022-12-02T15:44:12.233Z"
   },
   {
    "duration": 572,
    "start_time": "2022-12-02T15:44:12.882Z"
   },
   {
    "duration": 508,
    "start_time": "2022-12-02T15:44:14.114Z"
   },
   {
    "duration": 12,
    "start_time": "2022-12-02T15:44:14.921Z"
   },
   {
    "duration": 205,
    "start_time": "2022-12-02T15:44:15.177Z"
   },
   {
    "duration": 197,
    "start_time": "2022-12-02T15:44:15.384Z"
   },
   {
    "duration": 16,
    "start_time": "2022-12-02T15:44:15.733Z"
   },
   {
    "duration": 7,
    "start_time": "2022-12-02T15:44:15.985Z"
   },
   {
    "duration": 6,
    "start_time": "2022-12-02T15:44:16.313Z"
   },
   {
    "duration": 181,
    "start_time": "2022-12-02T15:44:17.213Z"
   },
   {
    "duration": 171,
    "start_time": "2022-12-02T15:44:17.597Z"
   },
   {
    "duration": 185,
    "start_time": "2022-12-02T15:44:17.845Z"
   },
   {
    "duration": 144,
    "start_time": "2022-12-02T15:44:18.513Z"
   },
   {
    "duration": 159,
    "start_time": "2022-12-02T15:44:18.712Z"
   },
   {
    "duration": 232,
    "start_time": "2022-12-02T15:44:18.974Z"
   },
   {
    "duration": 317,
    "start_time": "2022-12-02T15:44:19.618Z"
   },
   {
    "duration": 188,
    "start_time": "2022-12-02T15:44:19.937Z"
   },
   {
    "duration": 198,
    "start_time": "2022-12-02T15:44:20.128Z"
   },
   {
    "duration": 3,
    "start_time": "2022-12-02T15:44:22.106Z"
   },
   {
    "duration": 10,
    "start_time": "2022-12-02T15:44:22.301Z"
   },
   {
    "duration": 5,
    "start_time": "2022-12-02T15:44:22.507Z"
   },
   {
    "duration": 8,
    "start_time": "2022-12-02T15:44:22.654Z"
   },
   {
    "duration": 16,
    "start_time": "2022-12-02T15:44:26.296Z"
   },
   {
    "duration": 7,
    "start_time": "2022-12-02T15:44:27.405Z"
   },
   {
    "duration": 51,
    "start_time": "2022-12-03T10:11:16.971Z"
   },
   {
    "duration": 1481,
    "start_time": "2022-12-03T10:11:24.428Z"
   },
   {
    "duration": 189,
    "start_time": "2022-12-03T10:11:25.913Z"
   },
   {
    "duration": 16,
    "start_time": "2022-12-03T10:11:26.105Z"
   },
   {
    "duration": 38,
    "start_time": "2022-12-03T10:11:26.123Z"
   },
   {
    "duration": 25,
    "start_time": "2022-12-03T10:11:26.576Z"
   },
   {
    "duration": 7,
    "start_time": "2022-12-03T10:11:26.960Z"
   },
   {
    "duration": 8,
    "start_time": "2022-12-03T10:11:27.148Z"
   },
   {
    "duration": 5,
    "start_time": "2022-12-03T10:11:27.376Z"
   },
   {
    "duration": 6,
    "start_time": "2022-12-03T10:11:28.725Z"
   },
   {
    "duration": 8,
    "start_time": "2022-12-03T10:11:28.973Z"
   },
   {
    "duration": 10,
    "start_time": "2022-12-03T10:11:30.039Z"
   },
   {
    "duration": 15,
    "start_time": "2022-12-03T10:11:30.509Z"
   },
   {
    "duration": 11,
    "start_time": "2022-12-03T10:11:32.147Z"
   },
   {
    "duration": 84,
    "start_time": "2022-12-03T10:11:33.869Z"
   },
   {
    "duration": 6,
    "start_time": "2022-12-03T10:11:36.074Z"
   },
   {
    "duration": 24,
    "start_time": "2022-12-03T10:12:03.734Z"
   },
   {
    "duration": 72,
    "start_time": "2022-12-03T10:50:52.445Z"
   },
   {
    "duration": 14,
    "start_time": "2022-12-03T10:51:11.403Z"
   },
   {
    "duration": 13,
    "start_time": "2022-12-03T10:52:07.607Z"
   },
   {
    "duration": 14,
    "start_time": "2022-12-03T10:55:53.786Z"
   },
   {
    "duration": 18,
    "start_time": "2022-12-03T11:15:26.865Z"
   },
   {
    "duration": 11,
    "start_time": "2022-12-03T11:27:51.673Z"
   },
   {
    "duration": 3,
    "start_time": "2022-12-03T11:28:31.221Z"
   },
   {
    "duration": 52,
    "start_time": "2022-12-03T11:28:31.442Z"
   },
   {
    "duration": 13,
    "start_time": "2022-12-03T11:28:31.605Z"
   },
   {
    "duration": 44,
    "start_time": "2022-12-03T11:28:31.827Z"
   },
   {
    "duration": 34,
    "start_time": "2022-12-03T11:28:32.560Z"
   },
   {
    "duration": 5,
    "start_time": "2022-12-03T11:28:33.370Z"
   },
   {
    "duration": 7,
    "start_time": "2022-12-03T11:28:33.602Z"
   },
   {
    "duration": 5,
    "start_time": "2022-12-03T11:28:42.459Z"
   },
   {
    "duration": 6,
    "start_time": "2022-12-03T11:28:43.898Z"
   },
   {
    "duration": 6,
    "start_time": "2022-12-03T11:28:44.898Z"
   },
   {
    "duration": 9,
    "start_time": "2022-12-03T11:28:47.778Z"
   },
   {
    "duration": 16,
    "start_time": "2022-12-03T11:28:48.007Z"
   },
   {
    "duration": 14,
    "start_time": "2022-12-03T11:28:49.197Z"
   },
   {
    "duration": 35,
    "start_time": "2022-12-03T11:28:51.147Z"
   },
   {
    "duration": 6,
    "start_time": "2022-12-03T11:29:06.275Z"
   },
   {
    "duration": 23,
    "start_time": "2022-12-03T11:29:11.293Z"
   },
   {
    "duration": 10,
    "start_time": "2022-12-03T11:29:12.254Z"
   },
   {
    "duration": 8,
    "start_time": "2022-12-03T11:29:13.885Z"
   },
   {
    "duration": 6,
    "start_time": "2022-12-03T11:31:26.686Z"
   },
   {
    "duration": 9,
    "start_time": "2022-12-03T11:33:15.035Z"
   },
   {
    "duration": 3,
    "start_time": "2022-12-03T11:37:37.670Z"
   },
   {
    "duration": 53,
    "start_time": "2022-12-03T11:37:37.867Z"
   },
   {
    "duration": 15,
    "start_time": "2022-12-03T11:37:38.040Z"
   },
   {
    "duration": 31,
    "start_time": "2022-12-03T11:37:38.305Z"
   },
   {
    "duration": 32,
    "start_time": "2022-12-03T11:37:39.239Z"
   },
   {
    "duration": 7,
    "start_time": "2022-12-03T11:37:39.666Z"
   },
   {
    "duration": 8,
    "start_time": "2022-12-03T11:37:39.862Z"
   },
   {
    "duration": 6,
    "start_time": "2022-12-03T11:37:40.066Z"
   },
   {
    "duration": 6,
    "start_time": "2022-12-03T11:37:40.296Z"
   },
   {
    "duration": 4,
    "start_time": "2022-12-03T11:37:40.481Z"
   },
   {
    "duration": 9,
    "start_time": "2022-12-03T11:37:41.261Z"
   },
   {
    "duration": 15,
    "start_time": "2022-12-03T11:37:41.493Z"
   },
   {
    "duration": 12,
    "start_time": "2022-12-03T11:37:42.175Z"
   },
   {
    "duration": 29,
    "start_time": "2022-12-03T11:37:42.846Z"
   },
   {
    "duration": 7,
    "start_time": "2022-12-03T11:37:43.128Z"
   },
   {
    "duration": 22,
    "start_time": "2022-12-03T11:37:43.314Z"
   },
   {
    "duration": 9,
    "start_time": "2022-12-03T11:37:43.577Z"
   },
   {
    "duration": 5,
    "start_time": "2022-12-03T11:37:45.880Z"
   },
   {
    "duration": 5,
    "start_time": "2022-12-03T11:39:36.748Z"
   },
   {
    "duration": 3,
    "start_time": "2022-12-03T11:40:12.652Z"
   },
   {
    "duration": 53,
    "start_time": "2022-12-03T11:40:12.860Z"
   },
   {
    "duration": 14,
    "start_time": "2022-12-03T11:40:13.057Z"
   },
   {
    "duration": 31,
    "start_time": "2022-12-03T11:40:13.303Z"
   },
   {
    "duration": 22,
    "start_time": "2022-12-03T11:40:14.058Z"
   },
   {
    "duration": 6,
    "start_time": "2022-12-03T11:40:14.558Z"
   },
   {
    "duration": 5,
    "start_time": "2022-12-03T11:40:15.978Z"
   },
   {
    "duration": 6,
    "start_time": "2022-12-03T11:40:16.265Z"
   },
   {
    "duration": 5,
    "start_time": "2022-12-03T11:40:16.529Z"
   },
   {
    "duration": 5,
    "start_time": "2022-12-03T11:40:17.425Z"
   },
   {
    "duration": 5,
    "start_time": "2022-12-03T11:40:18.050Z"
   },
   {
    "duration": 10,
    "start_time": "2022-12-03T11:40:19.152Z"
   },
   {
    "duration": 15,
    "start_time": "2022-12-03T11:40:19.395Z"
   },
   {
    "duration": 12,
    "start_time": "2022-12-03T11:40:19.796Z"
   },
   {
    "duration": 30,
    "start_time": "2022-12-03T11:40:20.361Z"
   },
   {
    "duration": 8,
    "start_time": "2022-12-03T11:40:20.623Z"
   },
   {
    "duration": 24,
    "start_time": "2022-12-03T11:40:20.797Z"
   },
   {
    "duration": 10,
    "start_time": "2022-12-03T11:40:20.995Z"
   },
   {
    "duration": 6,
    "start_time": "2022-12-03T11:40:21.281Z"
   },
   {
    "duration": 4,
    "start_time": "2022-12-03T11:41:05.826Z"
   },
   {
    "duration": 51,
    "start_time": "2022-12-03T11:41:06.083Z"
   },
   {
    "duration": 14,
    "start_time": "2022-12-03T11:41:06.298Z"
   },
   {
    "duration": 29,
    "start_time": "2022-12-03T11:41:06.517Z"
   },
   {
    "duration": 21,
    "start_time": "2022-12-03T11:41:07.484Z"
   },
   {
    "duration": 5,
    "start_time": "2022-12-03T11:41:08.053Z"
   },
   {
    "duration": 7,
    "start_time": "2022-12-03T11:41:08.303Z"
   },
   {
    "duration": 5,
    "start_time": "2022-12-03T11:41:08.714Z"
   },
   {
    "duration": 6,
    "start_time": "2022-12-03T11:41:08.912Z"
   },
   {
    "duration": 5,
    "start_time": "2022-12-03T11:41:09.115Z"
   },
   {
    "duration": 10,
    "start_time": "2022-12-03T11:41:09.843Z"
   },
   {
    "duration": 15,
    "start_time": "2022-12-03T11:41:10.066Z"
   },
   {
    "duration": 12,
    "start_time": "2022-12-03T11:41:10.495Z"
   },
   {
    "duration": 30,
    "start_time": "2022-12-03T11:41:10.930Z"
   },
   {
    "duration": 6,
    "start_time": "2022-12-03T11:41:11.338Z"
   },
   {
    "duration": 22,
    "start_time": "2022-12-03T11:41:11.592Z"
   },
   {
    "duration": 5,
    "start_time": "2022-12-03T11:41:11.867Z"
   },
   {
    "duration": 10,
    "start_time": "2022-12-03T11:41:12.171Z"
   },
   {
    "duration": 8,
    "start_time": "2022-12-03T11:41:19.665Z"
   },
   {
    "duration": 10,
    "start_time": "2022-12-03T11:42:16.696Z"
   },
   {
    "duration": 10,
    "start_time": "2022-12-03T11:42:18.333Z"
   },
   {
    "duration": 10,
    "start_time": "2022-12-03T11:44:49.652Z"
   },
   {
    "duration": 8,
    "start_time": "2022-12-03T11:44:56.504Z"
   },
   {
    "duration": 10,
    "start_time": "2022-12-03T11:44:57.958Z"
   },
   {
    "duration": 16,
    "start_time": "2022-12-03T11:45:00.448Z"
   },
   {
    "duration": 26,
    "start_time": "2022-12-03T11:45:01.761Z"
   },
   {
    "duration": 14,
    "start_time": "2022-12-03T11:48:36.297Z"
   },
   {
    "duration": 219,
    "start_time": "2022-12-03T11:48:37.588Z"
   },
   {
    "duration": 16,
    "start_time": "2022-12-03T11:48:41.496Z"
   },
   {
    "duration": 3,
    "start_time": "2022-12-03T11:49:26.166Z"
   },
   {
    "duration": 55,
    "start_time": "2022-12-03T11:49:26.365Z"
   },
   {
    "duration": 24,
    "start_time": "2022-12-03T11:49:26.573Z"
   },
   {
    "duration": 30,
    "start_time": "2022-12-03T11:49:26.765Z"
   },
   {
    "duration": 25,
    "start_time": "2022-12-03T11:49:27.490Z"
   },
   {
    "duration": 6,
    "start_time": "2022-12-03T11:49:27.925Z"
   },
   {
    "duration": 9,
    "start_time": "2022-12-03T11:49:28.902Z"
   },
   {
    "duration": 5,
    "start_time": "2022-12-03T11:49:29.470Z"
   },
   {
    "duration": 5,
    "start_time": "2022-12-03T11:49:29.990Z"
   },
   {
    "duration": 4,
    "start_time": "2022-12-03T11:49:30.221Z"
   },
   {
    "duration": 11,
    "start_time": "2022-12-03T11:49:31.924Z"
   },
   {
    "duration": 16,
    "start_time": "2022-12-03T11:49:32.141Z"
   },
   {
    "duration": 13,
    "start_time": "2022-12-03T11:49:32.662Z"
   },
   {
    "duration": 31,
    "start_time": "2022-12-03T11:49:33.058Z"
   },
   {
    "duration": 7,
    "start_time": "2022-12-03T11:49:33.281Z"
   },
   {
    "duration": 22,
    "start_time": "2022-12-03T11:49:33.507Z"
   },
   {
    "duration": 4,
    "start_time": "2022-12-03T11:49:33.708Z"
   },
   {
    "duration": 10,
    "start_time": "2022-12-03T11:49:33.918Z"
   },
   {
    "duration": 7,
    "start_time": "2022-12-03T11:49:34.306Z"
   },
   {
    "duration": 9,
    "start_time": "2022-12-03T11:49:35.901Z"
   },
   {
    "duration": 9,
    "start_time": "2022-12-03T11:49:36.316Z"
   },
   {
    "duration": 16,
    "start_time": "2022-12-03T11:49:37.061Z"
   },
   {
    "duration": 7,
    "start_time": "2022-12-03T11:50:06.949Z"
   },
   {
    "duration": 9,
    "start_time": "2022-12-03T11:50:08.775Z"
   },
   {
    "duration": 17,
    "start_time": "2022-12-03T11:50:11.783Z"
   },
   {
    "duration": 18,
    "start_time": "2022-12-03T11:50:13.295Z"
   },
   {
    "duration": 4,
    "start_time": "2022-12-03T11:50:28.830Z"
   },
   {
    "duration": 58,
    "start_time": "2022-12-03T11:50:29.079Z"
   },
   {
    "duration": 14,
    "start_time": "2022-12-03T11:50:30.144Z"
   },
   {
    "duration": 31,
    "start_time": "2022-12-03T11:50:30.791Z"
   },
   {
    "duration": 24,
    "start_time": "2022-12-03T11:50:33.585Z"
   },
   {
    "duration": 6,
    "start_time": "2022-12-03T11:50:34.950Z"
   },
   {
    "duration": 8,
    "start_time": "2022-12-03T11:50:35.605Z"
   },
   {
    "duration": 6,
    "start_time": "2022-12-03T11:50:36.189Z"
   },
   {
    "duration": 6,
    "start_time": "2022-12-03T11:50:36.887Z"
   },
   {
    "duration": 5,
    "start_time": "2022-12-03T11:50:37.471Z"
   },
   {
    "duration": 9,
    "start_time": "2022-12-03T11:50:39.950Z"
   },
   {
    "duration": 14,
    "start_time": "2022-12-03T11:50:40.535Z"
   },
   {
    "duration": 12,
    "start_time": "2022-12-03T11:50:41.991Z"
   },
   {
    "duration": 30,
    "start_time": "2022-12-03T11:50:43.150Z"
   },
   {
    "duration": 6,
    "start_time": "2022-12-03T11:50:43.743Z"
   },
   {
    "duration": 22,
    "start_time": "2022-12-03T11:50:44.313Z"
   },
   {
    "duration": 5,
    "start_time": "2022-12-03T11:50:44.886Z"
   },
   {
    "duration": 11,
    "start_time": "2022-12-03T11:50:45.416Z"
   },
   {
    "duration": 7,
    "start_time": "2022-12-03T11:50:46.541Z"
   },
   {
    "duration": 8,
    "start_time": "2022-12-03T11:50:50.438Z"
   },
   {
    "duration": 9,
    "start_time": "2022-12-03T11:50:54.230Z"
   },
   {
    "duration": 16,
    "start_time": "2022-12-03T11:50:55.103Z"
   },
   {
    "duration": 25,
    "start_time": "2022-12-03T11:50:57.136Z"
   },
   {
    "duration": 190,
    "start_time": "2022-12-03T11:51:11.110Z"
   },
   {
    "duration": 16,
    "start_time": "2022-12-03T11:51:12.696Z"
   },
   {
    "duration": 12,
    "start_time": "2022-12-03T11:51:14.601Z"
   },
   {
    "duration": 5,
    "start_time": "2022-12-03T11:51:15.342Z"
   },
   {
    "duration": 21,
    "start_time": "2022-12-03T11:51:15.954Z"
   },
   {
    "duration": 161,
    "start_time": "2022-12-03T11:51:16.816Z"
   },
   {
    "duration": 3,
    "start_time": "2022-12-03T11:54:29.119Z"
   },
   {
    "duration": 51,
    "start_time": "2022-12-03T11:54:29.288Z"
   },
   {
    "duration": 15,
    "start_time": "2022-12-03T11:54:29.470Z"
   },
   {
    "duration": 32,
    "start_time": "2022-12-03T11:54:29.650Z"
   },
   {
    "duration": 23,
    "start_time": "2022-12-03T11:54:30.396Z"
   },
   {
    "duration": 6,
    "start_time": "2022-12-03T11:54:31.020Z"
   },
   {
    "duration": 7,
    "start_time": "2022-12-03T11:54:31.201Z"
   },
   {
    "duration": 5,
    "start_time": "2022-12-03T11:54:31.622Z"
   },
   {
    "duration": 5,
    "start_time": "2022-12-03T11:54:31.792Z"
   },
   {
    "duration": 5,
    "start_time": "2022-12-03T11:54:31.986Z"
   },
   {
    "duration": 11,
    "start_time": "2022-12-03T11:54:32.699Z"
   },
   {
    "duration": 15,
    "start_time": "2022-12-03T11:54:32.914Z"
   },
   {
    "duration": 11,
    "start_time": "2022-12-03T11:54:33.330Z"
   },
   {
    "duration": 29,
    "start_time": "2022-12-03T11:54:34.700Z"
   },
   {
    "duration": 7,
    "start_time": "2022-12-03T11:54:35.276Z"
   },
   {
    "duration": 25,
    "start_time": "2022-12-03T11:54:35.605Z"
   },
   {
    "duration": 5,
    "start_time": "2022-12-03T11:54:36.356Z"
   },
   {
    "duration": 10,
    "start_time": "2022-12-03T11:54:37.004Z"
   },
   {
    "duration": 7,
    "start_time": "2022-12-03T11:54:38.355Z"
   },
   {
    "duration": 9,
    "start_time": "2022-12-03T11:54:40.619Z"
   },
   {
    "duration": 9,
    "start_time": "2022-12-03T11:55:09.748Z"
   },
   {
    "duration": 17,
    "start_time": "2022-12-03T11:55:10.007Z"
   },
   {
    "duration": 21,
    "start_time": "2022-12-03T11:55:11.966Z"
   },
   {
    "duration": 218,
    "start_time": "2022-12-03T11:55:13.972Z"
   },
   {
    "duration": 16,
    "start_time": "2022-12-03T11:55:17.838Z"
   },
   {
    "duration": 13,
    "start_time": "2022-12-03T11:55:18.988Z"
   },
   {
    "duration": 5,
    "start_time": "2022-12-03T11:55:19.233Z"
   },
   {
    "duration": 19,
    "start_time": "2022-12-03T11:55:20.942Z"
   },
   {
    "duration": 149,
    "start_time": "2022-12-03T11:55:21.260Z"
   },
   {
    "duration": 155,
    "start_time": "2022-12-03T11:56:44.642Z"
   },
   {
    "duration": 7,
    "start_time": "2022-12-03T11:59:29.916Z"
   },
   {
    "duration": 266,
    "start_time": "2022-12-03T11:59:30.852Z"
   },
   {
    "duration": 3,
    "start_time": "2022-12-03T12:00:11.435Z"
   },
   {
    "duration": 49,
    "start_time": "2022-12-03T12:00:11.627Z"
   },
   {
    "duration": 15,
    "start_time": "2022-12-03T12:00:11.809Z"
   },
   {
    "duration": 30,
    "start_time": "2022-12-03T12:00:11.997Z"
   },
   {
    "duration": 23,
    "start_time": "2022-12-03T12:00:12.739Z"
   },
   {
    "duration": 6,
    "start_time": "2022-12-03T12:00:13.125Z"
   },
   {
    "duration": 6,
    "start_time": "2022-12-03T12:00:13.361Z"
   },
   {
    "duration": 5,
    "start_time": "2022-12-03T12:00:13.538Z"
   },
   {
    "duration": 5,
    "start_time": "2022-12-03T12:00:13.676Z"
   },
   {
    "duration": 13,
    "start_time": "2022-12-03T12:00:13.841Z"
   },
   {
    "duration": 10,
    "start_time": "2022-12-03T12:00:14.585Z"
   },
   {
    "duration": 16,
    "start_time": "2022-12-03T12:00:14.785Z"
   },
   {
    "duration": 12,
    "start_time": "2022-12-03T12:00:15.305Z"
   },
   {
    "duration": 29,
    "start_time": "2022-12-03T12:00:15.701Z"
   },
   {
    "duration": 7,
    "start_time": "2022-12-03T12:00:15.888Z"
   },
   {
    "duration": 22,
    "start_time": "2022-12-03T12:00:16.093Z"
   },
   {
    "duration": 5,
    "start_time": "2022-12-03T12:00:16.511Z"
   },
   {
    "duration": 10,
    "start_time": "2022-12-03T12:00:16.709Z"
   },
   {
    "duration": 6,
    "start_time": "2022-12-03T12:00:17.130Z"
   },
   {
    "duration": 8,
    "start_time": "2022-12-03T12:00:20.995Z"
   },
   {
    "duration": 8,
    "start_time": "2022-12-03T12:00:24.100Z"
   },
   {
    "duration": 16,
    "start_time": "2022-12-03T12:00:24.933Z"
   },
   {
    "duration": 25,
    "start_time": "2022-12-03T12:00:25.786Z"
   },
   {
    "duration": 202,
    "start_time": "2022-12-03T12:00:30.402Z"
   },
   {
    "duration": 15,
    "start_time": "2022-12-03T12:00:33.325Z"
   },
   {
    "duration": 10,
    "start_time": "2022-12-03T12:00:36.669Z"
   },
   {
    "duration": 5,
    "start_time": "2022-12-03T12:00:37.500Z"
   },
   {
    "duration": 20,
    "start_time": "2022-12-03T12:00:39.123Z"
   },
   {
    "duration": 224,
    "start_time": "2022-12-03T12:00:39.369Z"
   },
   {
    "duration": 6,
    "start_time": "2022-12-03T12:00:42.028Z"
   },
   {
    "duration": 233,
    "start_time": "2022-12-03T12:00:42.507Z"
   },
   {
    "duration": 15,
    "start_time": "2022-12-03T12:02:47.291Z"
   },
   {
    "duration": 233,
    "start_time": "2022-12-03T12:02:48.112Z"
   },
   {
    "duration": 7,
    "start_time": "2022-12-03T12:03:04.112Z"
   },
   {
    "duration": 235,
    "start_time": "2022-12-03T12:03:07.152Z"
   },
   {
    "duration": 13,
    "start_time": "2022-12-03T12:03:21.040Z"
   },
   {
    "duration": 68,
    "start_time": "2022-12-03T12:05:57.668Z"
   },
   {
    "duration": 9,
    "start_time": "2022-12-03T12:06:52.661Z"
   },
   {
    "duration": 243,
    "start_time": "2022-12-03T12:06:53.327Z"
   },
   {
    "duration": 9,
    "start_time": "2022-12-03T12:07:07.165Z"
   },
   {
    "duration": 3,
    "start_time": "2022-12-03T12:08:31.385Z"
   },
   {
    "duration": 52,
    "start_time": "2022-12-03T12:08:31.574Z"
   },
   {
    "duration": 14,
    "start_time": "2022-12-03T12:08:31.731Z"
   },
   {
    "duration": 30,
    "start_time": "2022-12-03T12:08:31.899Z"
   },
   {
    "duration": 23,
    "start_time": "2022-12-03T12:08:32.951Z"
   },
   {
    "duration": 6,
    "start_time": "2022-12-03T12:08:33.862Z"
   },
   {
    "duration": 8,
    "start_time": "2022-12-03T12:08:34.463Z"
   },
   {
    "duration": 6,
    "start_time": "2022-12-03T12:08:34.701Z"
   },
   {
    "duration": 5,
    "start_time": "2022-12-03T12:08:34.925Z"
   },
   {
    "duration": 5,
    "start_time": "2022-12-03T12:08:35.174Z"
   },
   {
    "duration": 9,
    "start_time": "2022-12-03T12:08:36.220Z"
   },
   {
    "duration": 15,
    "start_time": "2022-12-03T12:08:36.695Z"
   },
   {
    "duration": 11,
    "start_time": "2022-12-03T12:08:37.854Z"
   },
   {
    "duration": 31,
    "start_time": "2022-12-03T12:08:39.058Z"
   },
   {
    "duration": 7,
    "start_time": "2022-12-03T12:08:39.750Z"
   },
   {
    "duration": 21,
    "start_time": "2022-12-03T12:08:40.432Z"
   },
   {
    "duration": 5,
    "start_time": "2022-12-03T12:08:41.069Z"
   },
   {
    "duration": 10,
    "start_time": "2022-12-03T12:08:41.686Z"
   },
   {
    "duration": 7,
    "start_time": "2022-12-03T12:08:42.679Z"
   },
   {
    "duration": 8,
    "start_time": "2022-12-03T12:08:45.262Z"
   },
   {
    "duration": 8,
    "start_time": "2022-12-03T12:08:46.662Z"
   },
   {
    "duration": 16,
    "start_time": "2022-12-03T12:08:47.255Z"
   },
   {
    "duration": 19,
    "start_time": "2022-12-03T12:08:48.456Z"
   },
   {
    "duration": 192,
    "start_time": "2022-12-03T12:08:50.877Z"
   },
   {
    "duration": 17,
    "start_time": "2022-12-03T12:08:52.240Z"
   },
   {
    "duration": 13,
    "start_time": "2022-12-03T12:08:53.663Z"
   },
   {
    "duration": 5,
    "start_time": "2022-12-03T12:08:54.151Z"
   },
   {
    "duration": 18,
    "start_time": "2022-12-03T12:08:55.288Z"
   },
   {
    "duration": 166,
    "start_time": "2022-12-03T12:08:55.632Z"
   },
   {
    "duration": 7,
    "start_time": "2022-12-03T12:08:58.719Z"
   },
   {
    "duration": 241,
    "start_time": "2022-12-03T12:08:59.359Z"
   },
   {
    "duration": 12,
    "start_time": "2022-12-03T12:09:21.098Z"
   },
   {
    "duration": 5,
    "start_time": "2022-12-03T12:12:20.285Z"
   },
   {
    "duration": 256,
    "start_time": "2022-12-03T12:12:23.844Z"
   },
   {
    "duration": 6,
    "start_time": "2022-12-03T12:16:43.746Z"
   },
   {
    "duration": 231,
    "start_time": "2022-12-03T12:16:46.170Z"
   },
   {
    "duration": 10,
    "start_time": "2022-12-03T12:19:18.405Z"
   },
   {
    "duration": 12,
    "start_time": "2022-12-03T12:20:07.878Z"
   },
   {
    "duration": 96,
    "start_time": "2022-12-03T12:20:25.183Z"
   },
   {
    "duration": 26,
    "start_time": "2022-12-03T12:20:49.679Z"
   },
   {
    "duration": 247,
    "start_time": "2022-12-03T12:20:54.471Z"
   },
   {
    "duration": 7,
    "start_time": "2022-12-03T12:21:26.862Z"
   },
   {
    "duration": 333,
    "start_time": "2022-12-03T12:21:27.265Z"
   },
   {
    "duration": 9,
    "start_time": "2022-12-03T12:21:45.952Z"
   },
   {
    "duration": 11,
    "start_time": "2022-12-03T12:21:53.672Z"
   },
   {
    "duration": 236,
    "start_time": "2022-12-03T12:21:55.106Z"
   },
   {
    "duration": 10,
    "start_time": "2022-12-03T12:22:05.464Z"
   },
   {
    "duration": 258,
    "start_time": "2022-12-03T12:22:06.017Z"
   },
   {
    "duration": 9,
    "start_time": "2022-12-03T12:23:27.164Z"
   },
   {
    "duration": 10,
    "start_time": "2022-12-03T12:23:40.299Z"
   },
   {
    "duration": 10,
    "start_time": "2022-12-03T12:23:56.731Z"
   },
   {
    "duration": 223,
    "start_time": "2022-12-03T12:23:58.355Z"
   },
   {
    "duration": 9,
    "start_time": "2022-12-03T12:24:03.826Z"
   },
   {
    "duration": 3,
    "start_time": "2022-12-03T12:24:15.898Z"
   },
   {
    "duration": 51,
    "start_time": "2022-12-03T12:24:16.241Z"
   },
   {
    "duration": 15,
    "start_time": "2022-12-03T12:24:16.433Z"
   },
   {
    "duration": 30,
    "start_time": "2022-12-03T12:24:16.605Z"
   },
   {
    "duration": 22,
    "start_time": "2022-12-03T12:24:17.327Z"
   },
   {
    "duration": 5,
    "start_time": "2022-12-03T12:24:17.724Z"
   },
   {
    "duration": 7,
    "start_time": "2022-12-03T12:24:17.895Z"
   },
   {
    "duration": 5,
    "start_time": "2022-12-03T12:24:18.231Z"
   },
   {
    "duration": 6,
    "start_time": "2022-12-03T12:24:18.593Z"
   },
   {
    "duration": 5,
    "start_time": "2022-12-03T12:24:18.776Z"
   },
   {
    "duration": 9,
    "start_time": "2022-12-03T12:24:19.553Z"
   },
   {
    "duration": 16,
    "start_time": "2022-12-03T12:24:19.731Z"
   },
   {
    "duration": 13,
    "start_time": "2022-12-03T12:24:20.151Z"
   },
   {
    "duration": 31,
    "start_time": "2022-12-03T12:24:20.873Z"
   },
   {
    "duration": 7,
    "start_time": "2022-12-03T12:24:21.143Z"
   },
   {
    "duration": 22,
    "start_time": "2022-12-03T12:24:21.348Z"
   },
   {
    "duration": 5,
    "start_time": "2022-12-03T12:24:21.513Z"
   },
   {
    "duration": 11,
    "start_time": "2022-12-03T12:24:21.679Z"
   },
   {
    "duration": 6,
    "start_time": "2022-12-03T12:24:22.062Z"
   },
   {
    "duration": 7,
    "start_time": "2022-12-03T12:24:22.991Z"
   },
   {
    "duration": 9,
    "start_time": "2022-12-03T12:24:23.609Z"
   },
   {
    "duration": 17,
    "start_time": "2022-12-03T12:24:23.847Z"
   },
   {
    "duration": 18,
    "start_time": "2022-12-03T12:24:24.346Z"
   },
   {
    "duration": 212,
    "start_time": "2022-12-03T12:24:27.622Z"
   },
   {
    "duration": 15,
    "start_time": "2022-12-03T12:24:30.196Z"
   },
   {
    "duration": 11,
    "start_time": "2022-12-03T12:24:32.965Z"
   },
   {
    "duration": 6,
    "start_time": "2022-12-03T12:24:33.810Z"
   },
   {
    "duration": 21,
    "start_time": "2022-12-03T12:24:35.435Z"
   },
   {
    "duration": 154,
    "start_time": "2022-12-03T12:24:36.355Z"
   },
   {
    "duration": 8,
    "start_time": "2022-12-03T12:24:41.905Z"
   },
   {
    "duration": 10,
    "start_time": "2022-12-03T12:25:16.020Z"
   },
   {
    "duration": 8,
    "start_time": "2022-12-03T12:25:34.613Z"
   },
   {
    "duration": 8,
    "start_time": "2022-12-03T12:25:46.310Z"
   },
   {
    "duration": 8,
    "start_time": "2022-12-03T12:26:42.311Z"
   },
   {
    "duration": 11,
    "start_time": "2022-12-03T12:26:49.550Z"
   },
   {
    "duration": 8,
    "start_time": "2022-12-03T12:27:25.154Z"
   },
   {
    "duration": 8,
    "start_time": "2022-12-03T12:27:51.080Z"
   },
   {
    "duration": 9,
    "start_time": "2022-12-03T12:28:04.633Z"
   },
   {
    "duration": 9,
    "start_time": "2022-12-03T12:28:18.737Z"
   },
   {
    "duration": 9,
    "start_time": "2022-12-03T12:28:27.666Z"
   },
   {
    "duration": 8,
    "start_time": "2022-12-03T12:30:24.236Z"
   },
   {
    "duration": 71,
    "start_time": "2022-12-03T12:32:52.991Z"
   },
   {
    "duration": 9,
    "start_time": "2022-12-03T12:34:19.528Z"
   },
   {
    "duration": 9,
    "start_time": "2022-12-03T12:37:06.822Z"
   },
   {
    "duration": 10,
    "start_time": "2022-12-03T12:37:24.749Z"
   },
   {
    "duration": 3,
    "start_time": "2022-12-03T12:37:52.802Z"
   },
   {
    "duration": 50,
    "start_time": "2022-12-03T12:37:52.960Z"
   },
   {
    "duration": 15,
    "start_time": "2022-12-03T12:37:53.136Z"
   },
   {
    "duration": 31,
    "start_time": "2022-12-03T12:37:53.354Z"
   },
   {
    "duration": 21,
    "start_time": "2022-12-03T12:37:54.444Z"
   },
   {
    "duration": 6,
    "start_time": "2022-12-03T12:37:54.820Z"
   },
   {
    "duration": 8,
    "start_time": "2022-12-03T12:37:54.989Z"
   },
   {
    "duration": 5,
    "start_time": "2022-12-03T12:37:57.405Z"
   },
   {
    "duration": 5,
    "start_time": "2022-12-03T12:37:57.594Z"
   },
   {
    "duration": 4,
    "start_time": "2022-12-03T12:37:57.766Z"
   },
   {
    "duration": 10,
    "start_time": "2022-12-03T12:37:58.506Z"
   },
   {
    "duration": 15,
    "start_time": "2022-12-03T12:37:58.732Z"
   },
   {
    "duration": 14,
    "start_time": "2022-12-03T12:37:59.080Z"
   },
   {
    "duration": 30,
    "start_time": "2022-12-03T12:37:59.670Z"
   },
   {
    "duration": 7,
    "start_time": "2022-12-03T12:37:59.912Z"
   },
   {
    "duration": 23,
    "start_time": "2022-12-03T12:38:00.087Z"
   },
   {
    "duration": 6,
    "start_time": "2022-12-03T12:38:00.547Z"
   },
   {
    "duration": 10,
    "start_time": "2022-12-03T12:38:00.780Z"
   },
   {
    "duration": 8,
    "start_time": "2022-12-03T12:38:11.117Z"
   },
   {
    "duration": 7,
    "start_time": "2022-12-03T12:38:14.509Z"
   },
   {
    "duration": 8,
    "start_time": "2022-12-03T12:38:34.800Z"
   },
   {
    "duration": 9,
    "start_time": "2022-12-03T12:38:39.168Z"
   },
   {
    "duration": 8,
    "start_time": "2022-12-03T12:38:47.550Z"
   },
   {
    "duration": 8,
    "start_time": "2022-12-03T12:38:48.231Z"
   },
   {
    "duration": 3,
    "start_time": "2022-12-03T12:38:57.718Z"
   },
   {
    "duration": 52,
    "start_time": "2022-12-03T12:38:58.518Z"
   },
   {
    "duration": 15,
    "start_time": "2022-12-03T12:38:59.367Z"
   },
   {
    "duration": 31,
    "start_time": "2022-12-03T12:39:02.962Z"
   },
   {
    "duration": 24,
    "start_time": "2022-12-03T12:39:05.661Z"
   },
   {
    "duration": 5,
    "start_time": "2022-12-03T12:39:07.022Z"
   },
   {
    "duration": 7,
    "start_time": "2022-12-03T12:39:07.721Z"
   },
   {
    "duration": 5,
    "start_time": "2022-12-03T12:39:08.334Z"
   },
   {
    "duration": 6,
    "start_time": "2022-12-03T12:39:09.101Z"
   },
   {
    "duration": 5,
    "start_time": "2022-12-03T12:39:09.765Z"
   },
   {
    "duration": 9,
    "start_time": "2022-12-03T12:39:12.205Z"
   },
   {
    "duration": 14,
    "start_time": "2022-12-03T12:39:12.944Z"
   },
   {
    "duration": 12,
    "start_time": "2022-12-03T12:39:14.758Z"
   },
   {
    "duration": 30,
    "start_time": "2022-12-03T12:39:16.173Z"
   },
   {
    "duration": 7,
    "start_time": "2022-12-03T12:39:16.918Z"
   },
   {
    "duration": 20,
    "start_time": "2022-12-03T12:39:17.577Z"
   },
   {
    "duration": 6,
    "start_time": "2022-12-03T12:39:18.317Z"
   },
   {
    "duration": 12,
    "start_time": "2022-12-03T12:39:18.902Z"
   },
   {
    "duration": 7,
    "start_time": "2022-12-03T12:39:20.225Z"
   },
   {
    "duration": 8,
    "start_time": "2022-12-03T12:39:22.718Z"
   },
   {
    "duration": 9,
    "start_time": "2022-12-03T12:39:28.335Z"
   },
   {
    "duration": 16,
    "start_time": "2022-12-03T12:39:29.242Z"
   },
   {
    "duration": 20,
    "start_time": "2022-12-03T12:39:30.745Z"
   },
   {
    "duration": 196,
    "start_time": "2022-12-03T12:39:35.112Z"
   },
   {
    "duration": 19,
    "start_time": "2022-12-03T12:39:39.775Z"
   },
   {
    "duration": 11,
    "start_time": "2022-12-03T12:39:44.766Z"
   },
   {
    "duration": 5,
    "start_time": "2022-12-03T12:39:45.999Z"
   },
   {
    "duration": 20,
    "start_time": "2022-12-03T12:39:48.574Z"
   },
   {
    "duration": 153,
    "start_time": "2022-12-03T12:39:49.215Z"
   },
   {
    "duration": 7,
    "start_time": "2022-12-03T12:39:51.757Z"
   },
   {
    "duration": 245,
    "start_time": "2022-12-03T12:39:55.543Z"
   },
   {
    "duration": 12,
    "start_time": "2022-12-03T12:39:59.335Z"
   },
   {
    "duration": 9,
    "start_time": "2022-12-03T12:40:01.166Z"
   },
   {
    "duration": 10,
    "start_time": "2022-12-03T12:40:01.678Z"
   },
   {
    "duration": 3,
    "start_time": "2022-12-03T12:42:18.002Z"
   },
   {
    "duration": 54,
    "start_time": "2022-12-03T12:42:18.249Z"
   },
   {
    "duration": 15,
    "start_time": "2022-12-03T12:42:18.747Z"
   },
   {
    "duration": 36,
    "start_time": "2022-12-03T12:42:18.995Z"
   },
   {
    "duration": 23,
    "start_time": "2022-12-03T12:42:20.418Z"
   },
   {
    "duration": 5,
    "start_time": "2022-12-03T12:42:21.306Z"
   },
   {
    "duration": 7,
    "start_time": "2022-12-03T12:42:21.762Z"
   },
   {
    "duration": 4,
    "start_time": "2022-12-03T12:42:22.043Z"
   },
   {
    "duration": 6,
    "start_time": "2022-12-03T12:42:22.363Z"
   },
   {
    "duration": 5,
    "start_time": "2022-12-03T12:42:22.890Z"
   },
   {
    "duration": 11,
    "start_time": "2022-12-03T12:42:24.488Z"
   },
   {
    "duration": 16,
    "start_time": "2022-12-03T12:42:24.898Z"
   },
   {
    "duration": 13,
    "start_time": "2022-12-03T12:42:25.379Z"
   },
   {
    "duration": 33,
    "start_time": "2022-12-03T12:42:25.847Z"
   },
   {
    "duration": 8,
    "start_time": "2022-12-03T12:42:26.645Z"
   },
   {
    "duration": 23,
    "start_time": "2022-12-03T12:42:26.655Z"
   },
   {
    "duration": 4,
    "start_time": "2022-12-03T12:42:26.680Z"
   },
   {
    "duration": 10,
    "start_time": "2022-12-03T12:42:27.106Z"
   },
   {
    "duration": 7,
    "start_time": "2022-12-03T12:42:29.117Z"
   },
   {
    "duration": 8,
    "start_time": "2022-12-03T12:42:31.372Z"
   },
   {
    "duration": 9,
    "start_time": "2022-12-03T12:42:44.777Z"
   },
   {
    "duration": 22,
    "start_time": "2022-12-03T12:42:45.494Z"
   },
   {
    "duration": 20,
    "start_time": "2022-12-03T12:42:46.615Z"
   },
   {
    "duration": 197,
    "start_time": "2022-12-03T12:42:49.730Z"
   },
   {
    "duration": 8,
    "start_time": "2022-12-03T12:42:51.948Z"
   },
   {
    "duration": 9,
    "start_time": "2022-12-03T12:42:53.725Z"
   },
   {
    "duration": 9,
    "start_time": "2022-12-03T12:44:13.708Z"
   },
   {
    "duration": 9,
    "start_time": "2022-12-03T12:44:55.583Z"
   },
   {
    "duration": 3,
    "start_time": "2022-12-03T12:47:51.873Z"
   },
   {
    "duration": 52,
    "start_time": "2022-12-03T12:47:52.901Z"
   },
   {
    "duration": 17,
    "start_time": "2022-12-03T12:47:53.789Z"
   },
   {
    "duration": 30,
    "start_time": "2022-12-03T12:47:54.245Z"
   },
   {
    "duration": 21,
    "start_time": "2022-12-03T12:47:55.664Z"
   },
   {
    "duration": 6,
    "start_time": "2022-12-03T12:47:58.556Z"
   },
   {
    "duration": 8,
    "start_time": "2022-12-03T12:47:59.356Z"
   },
   {
    "duration": 5,
    "start_time": "2022-12-03T12:48:00.059Z"
   },
   {
    "duration": 5,
    "start_time": "2022-12-03T12:48:00.733Z"
   },
   {
    "duration": 5,
    "start_time": "2022-12-03T12:48:01.309Z"
   },
   {
    "duration": 11,
    "start_time": "2022-12-03T12:48:04.365Z"
   },
   {
    "duration": 14,
    "start_time": "2022-12-03T12:48:16.429Z"
   },
   {
    "duration": 11,
    "start_time": "2022-12-03T12:48:18.388Z"
   },
   {
    "duration": 31,
    "start_time": "2022-12-03T12:48:19.661Z"
   },
   {
    "duration": 6,
    "start_time": "2022-12-03T12:48:20.405Z"
   },
   {
    "duration": 22,
    "start_time": "2022-12-03T12:48:21.152Z"
   },
   {
    "duration": 6,
    "start_time": "2022-12-03T12:48:21.860Z"
   },
   {
    "duration": 9,
    "start_time": "2022-12-03T12:48:22.597Z"
   },
   {
    "duration": 27,
    "start_time": "2022-12-03T12:48:35.658Z"
   },
   {
    "duration": 7,
    "start_time": "2022-12-03T12:48:38.391Z"
   },
   {
    "duration": 8,
    "start_time": "2022-12-03T12:48:41.237Z"
   },
   {
    "duration": 9,
    "start_time": "2022-12-03T12:48:42.669Z"
   },
   {
    "duration": 15,
    "start_time": "2022-12-03T12:48:43.382Z"
   },
   {
    "duration": 19,
    "start_time": "2022-12-03T12:48:44.999Z"
   },
   {
    "duration": 5,
    "start_time": "2022-12-03T12:50:26.121Z"
   },
   {
    "duration": 5,
    "start_time": "2022-12-03T12:50:35.895Z"
   },
   {
    "duration": 4,
    "start_time": "2022-12-03T12:50:48.863Z"
   },
   {
    "duration": 61,
    "start_time": "2022-12-03T12:50:49.025Z"
   },
   {
    "duration": 16,
    "start_time": "2022-12-03T12:50:49.230Z"
   },
   {
    "duration": 29,
    "start_time": "2022-12-03T12:50:49.411Z"
   },
   {
    "duration": 22,
    "start_time": "2022-12-03T12:50:50.146Z"
   },
   {
    "duration": 6,
    "start_time": "2022-12-03T12:50:51.010Z"
   },
   {
    "duration": 7,
    "start_time": "2022-12-03T12:50:51.566Z"
   },
   {
    "duration": 6,
    "start_time": "2022-12-03T12:50:52.102Z"
   },
   {
    "duration": 6,
    "start_time": "2022-12-03T12:50:52.742Z"
   },
   {
    "duration": 4,
    "start_time": "2022-12-03T12:50:53.366Z"
   },
   {
    "duration": 10,
    "start_time": "2022-12-03T12:50:55.791Z"
   },
   {
    "duration": 16,
    "start_time": "2022-12-03T12:50:56.144Z"
   },
   {
    "duration": 12,
    "start_time": "2022-12-03T12:50:57.381Z"
   },
   {
    "duration": 29,
    "start_time": "2022-12-03T12:50:58.741Z"
   },
   {
    "duration": 6,
    "start_time": "2022-12-03T12:50:59.463Z"
   },
   {
    "duration": 23,
    "start_time": "2022-12-03T12:51:00.257Z"
   },
   {
    "duration": 5,
    "start_time": "2022-12-03T12:51:01.569Z"
   },
   {
    "duration": 26,
    "start_time": "2022-12-03T12:51:02.137Z"
   },
   {
    "duration": 7,
    "start_time": "2022-12-03T12:51:05.200Z"
   },
   {
    "duration": 7,
    "start_time": "2022-12-03T12:51:07.631Z"
   },
   {
    "duration": 12,
    "start_time": "2022-12-03T12:51:11.900Z"
   },
   {
    "duration": 17,
    "start_time": "2022-12-03T12:51:12.593Z"
   },
   {
    "duration": 17,
    "start_time": "2022-12-03T12:51:14.249Z"
   },
   {
    "duration": 10,
    "start_time": "2022-12-03T12:51:40.019Z"
   },
   {
    "duration": 4,
    "start_time": "2022-12-03T12:51:45.895Z"
   },
   {
    "duration": 57,
    "start_time": "2022-12-03T12:51:46.090Z"
   },
   {
    "duration": 14,
    "start_time": "2022-12-03T12:51:46.262Z"
   },
   {
    "duration": 30,
    "start_time": "2022-12-03T12:51:46.448Z"
   },
   {
    "duration": 21,
    "start_time": "2022-12-03T12:51:47.121Z"
   },
   {
    "duration": 5,
    "start_time": "2022-12-03T12:51:47.478Z"
   },
   {
    "duration": 8,
    "start_time": "2022-12-03T12:51:47.646Z"
   },
   {
    "duration": 5,
    "start_time": "2022-12-03T12:51:48.064Z"
   },
   {
    "duration": 5,
    "start_time": "2022-12-03T12:51:48.287Z"
   },
   {
    "duration": 6,
    "start_time": "2022-12-03T12:51:48.942Z"
   },
   {
    "duration": 9,
    "start_time": "2022-12-03T12:51:50.670Z"
   },
   {
    "duration": 16,
    "start_time": "2022-12-03T12:51:50.901Z"
   },
   {
    "duration": 12,
    "start_time": "2022-12-03T12:51:51.975Z"
   },
   {
    "duration": 31,
    "start_time": "2022-12-03T12:51:55.742Z"
   },
   {
    "duration": 8,
    "start_time": "2022-12-03T12:51:56.232Z"
   },
   {
    "duration": 21,
    "start_time": "2022-12-03T12:51:56.961Z"
   },
   {
    "duration": 5,
    "start_time": "2022-12-03T12:51:57.536Z"
   },
   {
    "duration": 11,
    "start_time": "2022-12-03T12:51:58.143Z"
   },
   {
    "duration": 7,
    "start_time": "2022-12-03T12:51:59.142Z"
   },
   {
    "duration": 8,
    "start_time": "2022-12-03T12:52:00.936Z"
   },
   {
    "duration": 4,
    "start_time": "2022-12-03T12:54:04.708Z"
   },
   {
    "duration": 53,
    "start_time": "2022-12-03T12:54:04.915Z"
   },
   {
    "duration": 14,
    "start_time": "2022-12-03T12:54:05.131Z"
   },
   {
    "duration": 29,
    "start_time": "2022-12-03T12:54:05.355Z"
   },
   {
    "duration": 21,
    "start_time": "2022-12-03T12:54:06.635Z"
   },
   {
    "duration": 6,
    "start_time": "2022-12-03T12:54:07.697Z"
   },
   {
    "duration": 8,
    "start_time": "2022-12-03T12:54:08.298Z"
   },
   {
    "duration": 6,
    "start_time": "2022-12-03T12:54:08.891Z"
   },
   {
    "duration": 5,
    "start_time": "2022-12-03T12:54:09.401Z"
   },
   {
    "duration": 5,
    "start_time": "2022-12-03T12:54:09.689Z"
   },
   {
    "duration": 10,
    "start_time": "2022-12-03T12:54:11.826Z"
   },
   {
    "duration": 15,
    "start_time": "2022-12-03T12:54:12.388Z"
   },
   {
    "duration": 11,
    "start_time": "2022-12-03T12:54:13.994Z"
   },
   {
    "duration": 7,
    "start_time": "2022-12-03T12:54:16.017Z"
   },
   {
    "duration": 30,
    "start_time": "2022-12-03T12:54:17.068Z"
   },
   {
    "duration": 8,
    "start_time": "2022-12-03T12:54:17.883Z"
   },
   {
    "duration": 28,
    "start_time": "2022-12-03T12:54:18.893Z"
   },
   {
    "duration": 5,
    "start_time": "2022-12-03T12:54:19.763Z"
   },
   {
    "duration": 9,
    "start_time": "2022-12-03T12:54:20.395Z"
   },
   {
    "duration": 6,
    "start_time": "2022-12-03T12:54:21.595Z"
   },
   {
    "duration": 11,
    "start_time": "2022-12-03T12:54:23.721Z"
   },
   {
    "duration": 16,
    "start_time": "2022-12-03T12:54:24.387Z"
   },
   {
    "duration": 20,
    "start_time": "2022-12-03T12:54:25.171Z"
   },
   {
    "duration": 18,
    "start_time": "2022-12-03T12:56:03.635Z"
   },
   {
    "duration": 23,
    "start_time": "2022-12-03T12:56:28.809Z"
   },
   {
    "duration": 188,
    "start_time": "2022-12-03T12:56:35.512Z"
   },
   {
    "duration": 17,
    "start_time": "2022-12-03T12:56:42.734Z"
   },
   {
    "duration": 12,
    "start_time": "2022-12-03T12:56:46.014Z"
   },
   {
    "duration": 6,
    "start_time": "2022-12-03T12:56:46.870Z"
   },
   {
    "duration": 19,
    "start_time": "2022-12-03T12:56:48.639Z"
   },
   {
    "duration": 266,
    "start_time": "2022-12-03T12:56:49.224Z"
   },
   {
    "duration": 9,
    "start_time": "2022-12-03T12:56:51.806Z"
   },
   {
    "duration": 238,
    "start_time": "2022-12-03T12:57:16.120Z"
   },
   {
    "duration": 12,
    "start_time": "2022-12-03T12:57:18.159Z"
   },
   {
    "duration": 8,
    "start_time": "2022-12-03T12:57:20.071Z"
   },
   {
    "duration": 10,
    "start_time": "2022-12-03T12:57:24.527Z"
   },
   {
    "duration": 11,
    "start_time": "2022-12-03T12:57:27.773Z"
   },
   {
    "duration": 3,
    "start_time": "2022-12-03T12:59:24.737Z"
   },
   {
    "duration": 53,
    "start_time": "2022-12-03T12:59:25.483Z"
   },
   {
    "duration": 14,
    "start_time": "2022-12-03T12:59:26.339Z"
   },
   {
    "duration": 30,
    "start_time": "2022-12-03T12:59:26.576Z"
   },
   {
    "duration": 22,
    "start_time": "2022-12-03T12:59:28.050Z"
   },
   {
    "duration": 6,
    "start_time": "2022-12-03T12:59:28.511Z"
   },
   {
    "duration": 7,
    "start_time": "2022-12-03T12:59:28.686Z"
   },
   {
    "duration": 7,
    "start_time": "2022-12-03T12:59:28.896Z"
   },
   {
    "duration": 6,
    "start_time": "2022-12-03T12:59:29.142Z"
   },
   {
    "duration": 5,
    "start_time": "2022-12-03T12:59:29.375Z"
   },
   {
    "duration": 10,
    "start_time": "2022-12-03T12:59:30.312Z"
   },
   {
    "duration": 15,
    "start_time": "2022-12-03T12:59:30.546Z"
   },
   {
    "duration": 13,
    "start_time": "2022-12-03T12:59:30.984Z"
   },
   {
    "duration": 7,
    "start_time": "2022-12-03T12:59:31.622Z"
   },
   {
    "duration": 32,
    "start_time": "2022-12-03T12:59:31.843Z"
   },
   {
    "duration": 8,
    "start_time": "2022-12-03T12:59:32.081Z"
   },
   {
    "duration": 21,
    "start_time": "2022-12-03T12:59:32.268Z"
   },
   {
    "duration": 5,
    "start_time": "2022-12-03T12:59:32.524Z"
   },
   {
    "duration": 10,
    "start_time": "2022-12-03T12:59:32.770Z"
   },
   {
    "duration": 7,
    "start_time": "2022-12-03T12:59:33.162Z"
   },
   {
    "duration": 10,
    "start_time": "2022-12-03T12:59:34.089Z"
   },
   {
    "duration": 16,
    "start_time": "2022-12-03T12:59:38.394Z"
   },
   {
    "duration": 22,
    "start_time": "2022-12-03T12:59:38.793Z"
   },
   {
    "duration": 198,
    "start_time": "2022-12-03T12:59:40.135Z"
   },
   {
    "duration": 13,
    "start_time": "2022-12-03T12:59:41.033Z"
   },
   {
    "duration": 12,
    "start_time": "2022-12-03T12:59:41.660Z"
   },
   {
    "duration": 19,
    "start_time": "2022-12-03T13:00:24.700Z"
   },
   {
    "duration": 4,
    "start_time": "2022-12-03T13:00:33.314Z"
   },
   {
    "duration": 56,
    "start_time": "2022-12-03T13:00:33.507Z"
   },
   {
    "duration": 15,
    "start_time": "2022-12-03T13:00:33.698Z"
   },
   {
    "duration": 32,
    "start_time": "2022-12-03T13:00:33.938Z"
   },
   {
    "duration": 21,
    "start_time": "2022-12-03T13:00:34.690Z"
   },
   {
    "duration": 5,
    "start_time": "2022-12-03T13:00:35.057Z"
   },
   {
    "duration": 8,
    "start_time": "2022-12-03T13:00:35.335Z"
   },
   {
    "duration": 5,
    "start_time": "2022-12-03T13:00:35.937Z"
   },
   {
    "duration": 5,
    "start_time": "2022-12-03T13:00:36.379Z"
   },
   {
    "duration": 5,
    "start_time": "2022-12-03T13:00:36.608Z"
   },
   {
    "duration": 10,
    "start_time": "2022-12-03T13:00:37.847Z"
   },
   {
    "duration": 14,
    "start_time": "2022-12-03T13:00:38.080Z"
   },
   {
    "duration": 16,
    "start_time": "2022-12-03T13:00:38.809Z"
   },
   {
    "duration": 8,
    "start_time": "2022-12-03T13:00:40.201Z"
   },
   {
    "duration": 30,
    "start_time": "2022-12-03T13:00:40.530Z"
   },
   {
    "duration": 7,
    "start_time": "2022-12-03T13:00:40.899Z"
   },
   {
    "duration": 24,
    "start_time": "2022-12-03T13:00:41.498Z"
   },
   {
    "duration": 5,
    "start_time": "2022-12-03T13:00:41.739Z"
   },
   {
    "duration": 19,
    "start_time": "2022-12-03T13:00:43.451Z"
   },
   {
    "duration": 12,
    "start_time": "2022-12-03T13:00:45.963Z"
   },
   {
    "duration": 10,
    "start_time": "2022-12-03T13:07:53.286Z"
   },
   {
    "duration": 12,
    "start_time": "2022-12-03T13:07:55.972Z"
   },
   {
    "duration": 3,
    "start_time": "2022-12-03T13:08:06.425Z"
   },
   {
    "duration": 52,
    "start_time": "2022-12-03T13:08:06.605Z"
   },
   {
    "duration": 15,
    "start_time": "2022-12-03T13:08:06.792Z"
   },
   {
    "duration": 29,
    "start_time": "2022-12-03T13:08:07.018Z"
   },
   {
    "duration": 23,
    "start_time": "2022-12-03T13:08:08.283Z"
   },
   {
    "duration": 6,
    "start_time": "2022-12-03T13:08:08.672Z"
   },
   {
    "duration": 7,
    "start_time": "2022-12-03T13:08:09.470Z"
   },
   {
    "duration": 5,
    "start_time": "2022-12-03T13:08:09.717Z"
   },
   {
    "duration": 6,
    "start_time": "2022-12-03T13:08:09.903Z"
   },
   {
    "duration": 5,
    "start_time": "2022-12-03T13:08:10.146Z"
   },
   {
    "duration": 10,
    "start_time": "2022-12-03T13:08:11.371Z"
   },
   {
    "duration": 15,
    "start_time": "2022-12-03T13:08:11.590Z"
   },
   {
    "duration": 11,
    "start_time": "2022-12-03T13:08:12.724Z"
   },
   {
    "duration": 6,
    "start_time": "2022-12-03T13:08:14.099Z"
   },
   {
    "duration": 29,
    "start_time": "2022-12-03T13:08:14.466Z"
   },
   {
    "duration": 7,
    "start_time": "2022-12-03T13:08:15.011Z"
   },
   {
    "duration": 22,
    "start_time": "2022-12-03T13:08:15.614Z"
   },
   {
    "duration": 4,
    "start_time": "2022-12-03T13:08:16.466Z"
   },
   {
    "duration": 9,
    "start_time": "2022-12-03T13:08:17.012Z"
   },
   {
    "duration": 7,
    "start_time": "2022-12-03T13:08:18.070Z"
   },
   {
    "duration": 11,
    "start_time": "2022-12-03T13:08:22.859Z"
   },
   {
    "duration": 18,
    "start_time": "2022-12-03T13:08:23.506Z"
   },
   {
    "duration": 18,
    "start_time": "2022-12-03T13:08:24.651Z"
   },
   {
    "duration": 198,
    "start_time": "2022-12-03T13:08:28.470Z"
   },
   {
    "duration": 10,
    "start_time": "2022-12-03T13:08:31.030Z"
   },
   {
    "duration": 11,
    "start_time": "2022-12-03T13:08:34.925Z"
   },
   {
    "duration": 14,
    "start_time": "2022-12-03T13:11:49.873Z"
   },
   {
    "duration": 7,
    "start_time": "2022-12-03T13:11:51.369Z"
   },
   {
    "duration": 9,
    "start_time": "2022-12-03T13:11:53.343Z"
   },
   {
    "duration": 16,
    "start_time": "2022-12-03T13:11:53.551Z"
   },
   {
    "duration": 16,
    "start_time": "2022-12-03T13:11:54.002Z"
   },
   {
    "duration": 189,
    "start_time": "2022-12-03T13:11:56.344Z"
   },
   {
    "duration": 12,
    "start_time": "2022-12-03T13:11:58.042Z"
   },
   {
    "duration": 15,
    "start_time": "2022-12-03T13:13:36.876Z"
   },
   {
    "duration": 7,
    "start_time": "2022-12-03T13:13:38.182Z"
   },
   {
    "duration": 10,
    "start_time": "2022-12-03T13:13:39.242Z"
   },
   {
    "duration": 15,
    "start_time": "2022-12-03T13:13:39.476Z"
   },
   {
    "duration": 17,
    "start_time": "2022-12-03T13:13:40.222Z"
   },
   {
    "duration": 223,
    "start_time": "2022-12-03T13:13:41.664Z"
   },
   {
    "duration": 11,
    "start_time": "2022-12-03T13:13:43.069Z"
   },
   {
    "duration": 10,
    "start_time": "2022-12-03T13:17:19.345Z"
   },
   {
    "duration": 18,
    "start_time": "2022-12-03T13:18:07.262Z"
   },
   {
    "duration": 7,
    "start_time": "2022-12-03T13:18:08.809Z"
   },
   {
    "duration": 9,
    "start_time": "2022-12-03T13:18:09.550Z"
   },
   {
    "duration": 16,
    "start_time": "2022-12-03T13:18:09.765Z"
   },
   {
    "duration": 18,
    "start_time": "2022-12-03T13:18:10.116Z"
   },
   {
    "duration": 193,
    "start_time": "2022-12-03T13:18:11.670Z"
   },
   {
    "duration": 12,
    "start_time": "2022-12-03T13:18:17.705Z"
   },
   {
    "duration": 11,
    "start_time": "2022-12-03T13:24:04.976Z"
   },
   {
    "duration": 7,
    "start_time": "2022-12-03T13:25:20.006Z"
   },
   {
    "duration": 252,
    "start_time": "2022-12-03T13:25:24.132Z"
   },
   {
    "duration": 1247,
    "start_time": "2022-12-04T09:08:22.097Z"
   },
   {
    "duration": 102,
    "start_time": "2022-12-04T09:08:23.346Z"
   },
   {
    "duration": 14,
    "start_time": "2022-12-04T09:08:23.449Z"
   },
   {
    "duration": 29,
    "start_time": "2022-12-04T09:08:23.465Z"
   },
   {
    "duration": 25,
    "start_time": "2022-12-04T09:08:23.496Z"
   },
   {
    "duration": 9,
    "start_time": "2022-12-04T09:08:23.522Z"
   },
   {
    "duration": 9,
    "start_time": "2022-12-04T09:08:23.532Z"
   },
   {
    "duration": 5,
    "start_time": "2022-12-04T09:08:23.542Z"
   },
   {
    "duration": 10,
    "start_time": "2022-12-04T09:08:23.548Z"
   },
   {
    "duration": 7,
    "start_time": "2022-12-04T09:08:23.560Z"
   },
   {
    "duration": 10,
    "start_time": "2022-12-04T09:08:23.569Z"
   },
   {
    "duration": 15,
    "start_time": "2022-12-04T09:08:23.580Z"
   },
   {
    "duration": 27,
    "start_time": "2022-12-04T09:08:23.597Z"
   },
   {
    "duration": 6,
    "start_time": "2022-12-04T09:08:23.627Z"
   },
   {
    "duration": 74,
    "start_time": "2022-12-04T09:08:23.634Z"
   },
   {
    "duration": 7,
    "start_time": "2022-12-04T09:08:23.709Z"
   },
   {
    "duration": 24,
    "start_time": "2022-12-04T09:08:23.718Z"
   },
   {
    "duration": 4,
    "start_time": "2022-12-04T09:08:23.744Z"
   },
   {
    "duration": 30,
    "start_time": "2022-12-04T09:08:23.749Z"
   },
   {
    "duration": 6,
    "start_time": "2022-12-04T09:08:23.781Z"
   },
   {
    "duration": 13,
    "start_time": "2022-12-04T09:08:23.788Z"
   },
   {
    "duration": 22,
    "start_time": "2022-12-04T09:08:23.802Z"
   },
   {
    "duration": 14,
    "start_time": "2022-12-04T09:08:23.825Z"
   },
   {
    "duration": 196,
    "start_time": "2022-12-04T09:08:23.841Z"
   },
   {
    "duration": 106,
    "start_time": "2022-12-04T09:08:24.038Z"
   },
   {
    "duration": 0,
    "start_time": "2022-12-04T09:08:24.146Z"
   },
   {
    "duration": 0,
    "start_time": "2022-12-04T09:08:24.148Z"
   },
   {
    "duration": 0,
    "start_time": "2022-12-04T09:08:24.149Z"
   },
   {
    "duration": 0,
    "start_time": "2022-12-04T09:08:24.150Z"
   },
   {
    "duration": 0,
    "start_time": "2022-12-04T09:08:24.151Z"
   },
   {
    "duration": 0,
    "start_time": "2022-12-04T09:08:24.152Z"
   },
   {
    "duration": 0,
    "start_time": "2022-12-04T09:08:24.153Z"
   },
   {
    "duration": 0,
    "start_time": "2022-12-04T09:08:24.154Z"
   },
   {
    "duration": 0,
    "start_time": "2022-12-04T09:08:24.155Z"
   },
   {
    "duration": 0,
    "start_time": "2022-12-04T09:08:24.157Z"
   },
   {
    "duration": 0,
    "start_time": "2022-12-04T09:08:24.157Z"
   },
   {
    "duration": 0,
    "start_time": "2022-12-04T09:08:24.159Z"
   },
   {
    "duration": 0,
    "start_time": "2022-12-04T09:08:24.160Z"
   },
   {
    "duration": 0,
    "start_time": "2022-12-04T09:08:24.161Z"
   },
   {
    "duration": 0,
    "start_time": "2022-12-04T09:08:24.162Z"
   },
   {
    "duration": 0,
    "start_time": "2022-12-04T09:08:24.163Z"
   },
   {
    "duration": 0,
    "start_time": "2022-12-04T09:08:24.164Z"
   },
   {
    "duration": 0,
    "start_time": "2022-12-04T09:08:24.165Z"
   },
   {
    "duration": 0,
    "start_time": "2022-12-04T09:08:24.166Z"
   },
   {
    "duration": 0,
    "start_time": "2022-12-04T09:08:24.167Z"
   },
   {
    "duration": 0,
    "start_time": "2022-12-04T09:08:24.168Z"
   },
   {
    "duration": 0,
    "start_time": "2022-12-04T09:08:24.169Z"
   },
   {
    "duration": 0,
    "start_time": "2022-12-04T09:08:24.170Z"
   },
   {
    "duration": 0,
    "start_time": "2022-12-04T09:08:24.172Z"
   },
   {
    "duration": 0,
    "start_time": "2022-12-04T09:08:24.173Z"
   },
   {
    "duration": 0,
    "start_time": "2022-12-04T09:08:24.173Z"
   },
   {
    "duration": 0,
    "start_time": "2022-12-04T09:08:24.175Z"
   },
   {
    "duration": 0,
    "start_time": "2022-12-04T09:08:24.221Z"
   },
   {
    "duration": 0,
    "start_time": "2022-12-04T09:08:24.223Z"
   },
   {
    "duration": 0,
    "start_time": "2022-12-04T09:08:24.224Z"
   },
   {
    "duration": 0,
    "start_time": "2022-12-04T09:08:24.225Z"
   },
   {
    "duration": 1696,
    "start_time": "2022-12-04T10:19:02.624Z"
   },
   {
    "duration": 150,
    "start_time": "2022-12-04T10:19:04.323Z"
   },
   {
    "duration": 21,
    "start_time": "2022-12-04T10:19:04.478Z"
   },
   {
    "duration": 35,
    "start_time": "2022-12-04T10:19:04.501Z"
   },
   {
    "duration": 35,
    "start_time": "2022-12-04T10:19:05.711Z"
   },
   {
    "duration": 6,
    "start_time": "2022-12-04T10:19:06.893Z"
   },
   {
    "duration": 13,
    "start_time": "2022-12-04T10:19:07.562Z"
   },
   {
    "duration": 12,
    "start_time": "2022-12-04T10:19:08.160Z"
   },
   {
    "duration": 6,
    "start_time": "2022-12-04T10:19:08.814Z"
   },
   {
    "duration": 4,
    "start_time": "2022-12-04T10:19:09.495Z"
   },
   {
    "duration": 13,
    "start_time": "2022-12-04T10:19:11.780Z"
   },
   {
    "duration": 20,
    "start_time": "2022-12-04T10:19:12.109Z"
   },
   {
    "duration": 22,
    "start_time": "2022-12-04T10:19:13.022Z"
   },
   {
    "duration": 11,
    "start_time": "2022-12-04T10:19:15.228Z"
   },
   {
    "duration": 105,
    "start_time": "2022-12-04T10:19:16.102Z"
   },
   {
    "duration": 15,
    "start_time": "2022-12-04T10:19:16.942Z"
   },
   {
    "duration": 23,
    "start_time": "2022-12-04T10:19:18.303Z"
   },
   {
    "duration": 6,
    "start_time": "2022-12-04T10:19:20.212Z"
   },
   {
    "duration": 25,
    "start_time": "2022-12-04T10:19:21.509Z"
   },
   {
    "duration": 13,
    "start_time": "2022-12-04T10:19:23.154Z"
   },
   {
    "duration": 11,
    "start_time": "2022-12-04T10:19:26.752Z"
   },
   {
    "duration": 32,
    "start_time": "2022-12-04T10:19:28.629Z"
   },
   {
    "duration": 29,
    "start_time": "2022-12-04T10:19:30.576Z"
   },
   {
    "duration": 299,
    "start_time": "2022-12-04T10:19:39.094Z"
   },
   {
    "duration": 27,
    "start_time": "2022-12-04T10:19:42.132Z"
   },
   {
    "duration": 1259,
    "start_time": "2022-12-04T15:15:46.261Z"
   },
   {
    "duration": 107,
    "start_time": "2022-12-04T15:15:47.522Z"
   },
   {
    "duration": 14,
    "start_time": "2022-12-04T15:15:47.656Z"
   },
   {
    "duration": 39,
    "start_time": "2022-12-04T15:15:48.484Z"
   },
   {
    "duration": 22,
    "start_time": "2022-12-04T15:15:51.994Z"
   },
   {
    "duration": 5,
    "start_time": "2022-12-04T15:15:55.183Z"
   },
   {
    "duration": 8,
    "start_time": "2022-12-04T15:15:55.873Z"
   },
   {
    "duration": 5,
    "start_time": "2022-12-04T15:15:56.728Z"
   },
   {
    "duration": 6,
    "start_time": "2022-12-04T15:16:00.136Z"
   },
   {
    "duration": 4,
    "start_time": "2022-12-04T15:16:00.703Z"
   },
   {
    "duration": 9,
    "start_time": "2022-12-04T15:16:03.098Z"
   },
   {
    "duration": 22,
    "start_time": "2022-12-04T15:16:03.801Z"
   },
   {
    "duration": 12,
    "start_time": "2022-12-04T15:16:05.473Z"
   },
   {
    "duration": 8,
    "start_time": "2022-12-04T15:16:07.959Z"
   },
   {
    "duration": 76,
    "start_time": "2022-12-04T15:16:08.809Z"
   },
   {
    "duration": 7,
    "start_time": "2022-12-04T15:16:09.849Z"
   },
   {
    "duration": 20,
    "start_time": "2022-12-04T15:16:12.369Z"
   },
   {
    "duration": 4,
    "start_time": "2022-12-04T15:16:15.167Z"
   },
   {
    "duration": 17,
    "start_time": "2022-12-04T15:16:15.841Z"
   },
   {
    "duration": 7,
    "start_time": "2022-12-04T15:16:16.919Z"
   },
   {
    "duration": 9,
    "start_time": "2022-12-04T15:16:20.448Z"
   },
   {
    "duration": 17,
    "start_time": "2022-12-04T15:16:21.000Z"
   },
   {
    "duration": 20,
    "start_time": "2022-12-04T15:16:22.449Z"
   },
   {
    "duration": 206,
    "start_time": "2022-12-04T15:16:34.367Z"
   },
   {
    "duration": 20,
    "start_time": "2022-12-04T15:16:36.386Z"
   },
   {
    "duration": 10,
    "start_time": "2022-12-04T15:17:07.203Z"
   },
   {
    "duration": 4,
    "start_time": "2022-12-04T15:17:08.875Z"
   },
   {
    "duration": 18,
    "start_time": "2022-12-04T15:17:10.432Z"
   },
   {
    "duration": 149,
    "start_time": "2022-12-04T15:17:10.843Z"
   },
   {
    "duration": 7,
    "start_time": "2022-12-04T15:17:14.272Z"
   },
   {
    "duration": 243,
    "start_time": "2022-12-04T15:17:15.912Z"
   },
   {
    "duration": 11,
    "start_time": "2022-12-04T15:17:22.640Z"
   },
   {
    "duration": 101,
    "start_time": "2022-12-04T15:17:26.960Z"
   },
   {
    "duration": 9,
    "start_time": "2022-12-04T15:17:47.379Z"
   },
   {
    "duration": 9,
    "start_time": "2022-12-04T15:18:13.165Z"
   },
   {
    "duration": 9,
    "start_time": "2022-12-04T15:19:25.808Z"
   },
   {
    "duration": 8,
    "start_time": "2022-12-04T15:23:03.099Z"
   },
   {
    "duration": 8,
    "start_time": "2022-12-04T15:27:52.173Z"
   },
   {
    "duration": 9,
    "start_time": "2022-12-04T15:28:19.016Z"
   },
   {
    "duration": 8,
    "start_time": "2022-12-04T15:28:29.963Z"
   },
   {
    "duration": 59,
    "start_time": "2022-12-04T15:30:29.564Z"
   },
   {
    "duration": 44,
    "start_time": "2022-12-04T15:30:47.541Z"
   },
   {
    "duration": 8,
    "start_time": "2022-12-04T15:32:11.856Z"
   },
   {
    "duration": 5,
    "start_time": "2022-12-04T15:33:08.694Z"
   },
   {
    "duration": 52,
    "start_time": "2022-12-04T15:33:08.875Z"
   },
   {
    "duration": 14,
    "start_time": "2022-12-04T15:33:09.066Z"
   },
   {
    "duration": 30,
    "start_time": "2022-12-04T15:33:09.298Z"
   },
   {
    "duration": 21,
    "start_time": "2022-12-04T15:33:10.663Z"
   },
   {
    "duration": 6,
    "start_time": "2022-12-04T15:33:12.277Z"
   },
   {
    "duration": 7,
    "start_time": "2022-12-04T15:33:12.448Z"
   },
   {
    "duration": 5,
    "start_time": "2022-12-04T15:33:13.278Z"
   },
   {
    "duration": 5,
    "start_time": "2022-12-04T15:33:13.541Z"
   },
   {
    "duration": 4,
    "start_time": "2022-12-04T15:33:13.757Z"
   },
   {
    "duration": 9,
    "start_time": "2022-12-04T15:33:16.405Z"
   },
   {
    "duration": 20,
    "start_time": "2022-12-04T15:33:16.655Z"
   },
   {
    "duration": 11,
    "start_time": "2022-12-04T15:33:17.097Z"
   },
   {
    "duration": 9,
    "start_time": "2022-12-04T15:33:17.675Z"
   },
   {
    "duration": 33,
    "start_time": "2022-12-04T15:33:17.901Z"
   },
   {
    "duration": 9,
    "start_time": "2022-12-04T15:33:18.158Z"
   },
   {
    "duration": 22,
    "start_time": "2022-12-04T15:33:18.327Z"
   },
   {
    "duration": 5,
    "start_time": "2022-12-04T15:33:18.506Z"
   },
   {
    "duration": 19,
    "start_time": "2022-12-04T15:33:18.732Z"
   },
   {
    "duration": 8,
    "start_time": "2022-12-04T15:33:19.093Z"
   },
   {
    "duration": 10,
    "start_time": "2022-12-04T15:33:20.924Z"
   },
   {
    "duration": 16,
    "start_time": "2022-12-04T15:33:21.161Z"
   },
   {
    "duration": 18,
    "start_time": "2022-12-04T15:33:21.692Z"
   },
   {
    "duration": 174,
    "start_time": "2022-12-04T15:33:24.075Z"
   },
   {
    "duration": 15,
    "start_time": "2022-12-04T15:33:25.039Z"
   },
   {
    "duration": 11,
    "start_time": "2022-12-04T15:33:26.109Z"
   },
   {
    "duration": 4,
    "start_time": "2022-12-04T15:33:26.295Z"
   },
   {
    "duration": 17,
    "start_time": "2022-12-04T15:33:27.799Z"
   },
   {
    "duration": 160,
    "start_time": "2022-12-04T15:33:28.037Z"
   },
   {
    "duration": 6,
    "start_time": "2022-12-04T15:33:29.268Z"
   },
   {
    "duration": 217,
    "start_time": "2022-12-04T15:33:29.740Z"
   },
   {
    "duration": 10,
    "start_time": "2022-12-04T15:33:31.183Z"
   },
   {
    "duration": 9,
    "start_time": "2022-12-04T15:33:33.604Z"
   },
   {
    "duration": 8,
    "start_time": "2022-12-04T15:33:44.662Z"
   },
   {
    "duration": 3,
    "start_time": "2022-12-04T15:33:53.084Z"
   },
   {
    "duration": 50,
    "start_time": "2022-12-04T15:33:53.278Z"
   },
   {
    "duration": 13,
    "start_time": "2022-12-04T15:33:53.473Z"
   },
   {
    "duration": 27,
    "start_time": "2022-12-04T15:33:53.646Z"
   },
   {
    "duration": 20,
    "start_time": "2022-12-04T15:33:54.388Z"
   },
   {
    "duration": 5,
    "start_time": "2022-12-04T15:33:54.781Z"
   },
   {
    "duration": 7,
    "start_time": "2022-12-04T15:33:55.035Z"
   },
   {
    "duration": 5,
    "start_time": "2022-12-04T15:33:55.247Z"
   },
   {
    "duration": 5,
    "start_time": "2022-12-04T15:33:55.407Z"
   },
   {
    "duration": 5,
    "start_time": "2022-12-04T15:33:55.702Z"
   },
   {
    "duration": 14,
    "start_time": "2022-12-04T15:33:56.500Z"
   },
   {
    "duration": 15,
    "start_time": "2022-12-04T15:33:56.737Z"
   },
   {
    "duration": 11,
    "start_time": "2022-12-04T15:33:57.189Z"
   },
   {
    "duration": 8,
    "start_time": "2022-12-04T15:33:57.870Z"
   },
   {
    "duration": 31,
    "start_time": "2022-12-04T15:33:58.440Z"
   },
   {
    "duration": 8,
    "start_time": "2022-12-04T15:33:58.701Z"
   },
   {
    "duration": 24,
    "start_time": "2022-12-04T15:33:58.946Z"
   },
   {
    "duration": 5,
    "start_time": "2022-12-04T15:33:59.266Z"
   },
   {
    "duration": 17,
    "start_time": "2022-12-04T15:33:59.486Z"
   },
   {
    "duration": 7,
    "start_time": "2022-12-04T15:34:00.437Z"
   },
   {
    "duration": 9,
    "start_time": "2022-12-04T15:34:02.260Z"
   },
   {
    "duration": 18,
    "start_time": "2022-12-04T15:34:02.475Z"
   },
   {
    "duration": 16,
    "start_time": "2022-12-04T15:34:02.848Z"
   },
   {
    "duration": 171,
    "start_time": "2022-12-04T15:34:04.573Z"
   },
   {
    "duration": 15,
    "start_time": "2022-12-04T15:34:05.432Z"
   },
   {
    "duration": 11,
    "start_time": "2022-12-04T15:34:06.086Z"
   },
   {
    "duration": 5,
    "start_time": "2022-12-04T15:34:06.340Z"
   },
   {
    "duration": 19,
    "start_time": "2022-12-04T15:34:06.854Z"
   },
   {
    "duration": 154,
    "start_time": "2022-12-04T15:34:07.117Z"
   },
   {
    "duration": 6,
    "start_time": "2022-12-04T15:34:08.005Z"
   },
   {
    "duration": 285,
    "start_time": "2022-12-04T15:34:08.788Z"
   },
   {
    "duration": 11,
    "start_time": "2022-12-04T15:34:09.829Z"
   },
   {
    "duration": 9,
    "start_time": "2022-12-04T15:34:11.494Z"
   },
   {
    "duration": 3,
    "start_time": "2022-12-04T15:40:59.207Z"
   },
   {
    "duration": 51,
    "start_time": "2022-12-04T15:40:59.416Z"
   },
   {
    "duration": 14,
    "start_time": "2022-12-04T15:40:59.632Z"
   },
   {
    "duration": 27,
    "start_time": "2022-12-04T15:40:59.875Z"
   },
   {
    "duration": 23,
    "start_time": "2022-12-04T15:41:00.666Z"
   },
   {
    "duration": 5,
    "start_time": "2022-12-04T15:41:01.060Z"
   },
   {
    "duration": 6,
    "start_time": "2022-12-04T15:41:01.242Z"
   },
   {
    "duration": 4,
    "start_time": "2022-12-04T15:41:01.465Z"
   },
   {
    "duration": 5,
    "start_time": "2022-12-04T15:41:01.623Z"
   },
   {
    "duration": 4,
    "start_time": "2022-12-04T15:41:01.884Z"
   },
   {
    "duration": 9,
    "start_time": "2022-12-04T15:41:02.655Z"
   },
   {
    "duration": 14,
    "start_time": "2022-12-04T15:41:03.291Z"
   },
   {
    "duration": 10,
    "start_time": "2022-12-04T15:41:03.313Z"
   },
   {
    "duration": 6,
    "start_time": "2022-12-04T15:41:03.982Z"
   },
   {
    "duration": 33,
    "start_time": "2022-12-04T15:41:04.321Z"
   },
   {
    "duration": 7,
    "start_time": "2022-12-04T15:41:04.569Z"
   },
   {
    "duration": 21,
    "start_time": "2022-12-04T15:41:04.751Z"
   },
   {
    "duration": 4,
    "start_time": "2022-12-04T15:41:04.933Z"
   },
   {
    "duration": 16,
    "start_time": "2022-12-04T15:41:05.160Z"
   },
   {
    "duration": 7,
    "start_time": "2022-12-04T15:41:05.517Z"
   },
   {
    "duration": 9,
    "start_time": "2022-12-04T15:41:06.383Z"
   },
   {
    "duration": 14,
    "start_time": "2022-12-04T15:41:06.620Z"
   },
   {
    "duration": 16,
    "start_time": "2022-12-04T15:41:07.063Z"
   },
   {
    "duration": 191,
    "start_time": "2022-12-04T15:41:08.749Z"
   },
   {
    "duration": 14,
    "start_time": "2022-12-04T15:41:10.512Z"
   },
   {
    "duration": 10,
    "start_time": "2022-12-04T15:41:14.207Z"
   },
   {
    "duration": 4,
    "start_time": "2022-12-04T15:41:17.192Z"
   },
   {
    "duration": 18,
    "start_time": "2022-12-04T15:41:21.137Z"
   },
   {
    "duration": 156,
    "start_time": "2022-12-04T15:41:22.057Z"
   },
   {
    "duration": 7,
    "start_time": "2022-12-04T15:41:23.712Z"
   },
   {
    "duration": 210,
    "start_time": "2022-12-04T15:41:25.280Z"
   },
   {
    "duration": 10,
    "start_time": "2022-12-04T15:41:27.393Z"
   },
   {
    "duration": 9,
    "start_time": "2022-12-04T15:41:30.616Z"
   },
   {
    "duration": 9,
    "start_time": "2022-12-04T15:44:07.134Z"
   },
   {
    "duration": 9,
    "start_time": "2022-12-04T15:44:17.263Z"
   },
   {
    "duration": 8,
    "start_time": "2022-12-04T15:44:29.399Z"
   },
   {
    "duration": 9,
    "start_time": "2022-12-04T15:49:17.238Z"
   },
   {
    "duration": 8,
    "start_time": "2022-12-04T15:49:30.484Z"
   },
   {
    "duration": 9,
    "start_time": "2022-12-04T15:49:49.430Z"
   },
   {
    "duration": 57,
    "start_time": "2022-12-04T15:50:32.678Z"
   },
   {
    "duration": 10,
    "start_time": "2022-12-04T15:50:46.757Z"
   },
   {
    "duration": 8,
    "start_time": "2022-12-04T15:51:35.177Z"
   },
   {
    "duration": 9,
    "start_time": "2022-12-04T15:51:41.776Z"
   },
   {
    "duration": 9,
    "start_time": "2022-12-04T15:51:55.560Z"
   },
   {
    "duration": 9,
    "start_time": "2022-12-04T15:52:35.633Z"
   },
   {
    "duration": 9,
    "start_time": "2022-12-04T16:07:53.045Z"
   },
   {
    "duration": 8,
    "start_time": "2022-12-04T16:18:11.467Z"
   },
   {
    "duration": 10,
    "start_time": "2022-12-04T16:21:30.417Z"
   },
   {
    "duration": 9,
    "start_time": "2022-12-04T16:21:49.743Z"
   },
   {
    "duration": 9,
    "start_time": "2022-12-04T16:22:38.554Z"
   },
   {
    "duration": 9,
    "start_time": "2022-12-04T16:22:47.938Z"
   },
   {
    "duration": 9,
    "start_time": "2022-12-04T16:23:15.521Z"
   },
   {
    "duration": 3,
    "start_time": "2022-12-04T16:32:05.813Z"
   },
   {
    "duration": 50,
    "start_time": "2022-12-04T16:32:05.977Z"
   },
   {
    "duration": 14,
    "start_time": "2022-12-04T16:32:06.155Z"
   },
   {
    "duration": 27,
    "start_time": "2022-12-04T16:32:06.345Z"
   },
   {
    "duration": 22,
    "start_time": "2022-12-04T16:32:07.032Z"
   },
   {
    "duration": 5,
    "start_time": "2022-12-04T16:32:07.447Z"
   },
   {
    "duration": 7,
    "start_time": "2022-12-04T16:32:07.642Z"
   },
   {
    "duration": 5,
    "start_time": "2022-12-04T16:32:07.829Z"
   },
   {
    "duration": 6,
    "start_time": "2022-12-04T16:32:07.997Z"
   },
   {
    "duration": 15,
    "start_time": "2022-12-04T16:32:08.376Z"
   },
   {
    "duration": 12,
    "start_time": "2022-12-04T16:32:15.636Z"
   },
   {
    "duration": 4,
    "start_time": "2022-12-04T16:32:20.134Z"
   },
   {
    "duration": 9,
    "start_time": "2022-12-04T16:32:22.162Z"
   },
   {
    "duration": 15,
    "start_time": "2022-12-04T16:32:22.345Z"
   },
   {
    "duration": 12,
    "start_time": "2022-12-04T16:32:22.703Z"
   },
   {
    "duration": 7,
    "start_time": "2022-12-04T16:32:23.216Z"
   },
   {
    "duration": 31,
    "start_time": "2022-12-04T16:32:23.388Z"
   },
   {
    "duration": 7,
    "start_time": "2022-12-04T16:32:23.590Z"
   },
   {
    "duration": 18,
    "start_time": "2022-12-04T16:32:23.771Z"
   },
   {
    "duration": 4,
    "start_time": "2022-12-04T16:32:23.955Z"
   },
   {
    "duration": 18,
    "start_time": "2022-12-04T16:32:24.113Z"
   },
   {
    "duration": 7,
    "start_time": "2022-12-04T16:32:24.501Z"
   },
   {
    "duration": 8,
    "start_time": "2022-12-04T16:32:25.225Z"
   },
   {
    "duration": 15,
    "start_time": "2022-12-04T16:32:25.415Z"
   },
   {
    "duration": 16,
    "start_time": "2022-12-04T16:32:25.890Z"
   },
   {
    "duration": 178,
    "start_time": "2022-12-04T16:32:30.993Z"
   },
   {
    "duration": 15,
    "start_time": "2022-12-04T16:32:34.058Z"
   },
   {
    "duration": 10,
    "start_time": "2022-12-04T16:32:34.658Z"
   },
   {
    "duration": 3,
    "start_time": "2022-12-04T16:32:35.004Z"
   },
   {
    "duration": 18,
    "start_time": "2022-12-04T16:32:35.365Z"
   },
   {
    "duration": 153,
    "start_time": "2022-12-04T16:32:35.603Z"
   },
   {
    "duration": 7,
    "start_time": "2022-12-04T16:32:40.818Z"
   },
   {
    "duration": 231,
    "start_time": "2022-12-04T16:32:42.618Z"
   },
   {
    "duration": 11,
    "start_time": "2022-12-04T16:32:44.337Z"
   },
   {
    "duration": 8,
    "start_time": "2022-12-04T16:32:46.453Z"
   },
   {
    "duration": 9,
    "start_time": "2022-12-04T16:33:04.677Z"
   },
   {
    "duration": 7,
    "start_time": "2022-12-04T16:33:34.734Z"
   },
   {
    "duration": 8,
    "start_time": "2022-12-04T16:34:32.647Z"
   },
   {
    "duration": 10,
    "start_time": "2022-12-04T16:34:54.490Z"
   },
   {
    "duration": 3,
    "start_time": "2022-12-04T16:34:59.797Z"
   },
   {
    "duration": 63,
    "start_time": "2022-12-04T16:35:00.118Z"
   },
   {
    "duration": 14,
    "start_time": "2022-12-04T16:35:00.280Z"
   },
   {
    "duration": 29,
    "start_time": "2022-12-04T16:35:00.484Z"
   },
   {
    "duration": 20,
    "start_time": "2022-12-04T16:35:01.176Z"
   },
   {
    "duration": 6,
    "start_time": "2022-12-04T16:35:01.598Z"
   },
   {
    "duration": 7,
    "start_time": "2022-12-04T16:35:01.775Z"
   },
   {
    "duration": 4,
    "start_time": "2022-12-04T16:35:01.959Z"
   },
   {
    "duration": 6,
    "start_time": "2022-12-04T16:35:02.133Z"
   },
   {
    "duration": 4,
    "start_time": "2022-12-04T16:35:02.384Z"
   },
   {
    "duration": 10,
    "start_time": "2022-12-04T16:35:03.191Z"
   },
   {
    "duration": 15,
    "start_time": "2022-12-04T16:35:03.378Z"
   },
   {
    "duration": 15,
    "start_time": "2022-12-04T16:35:04.265Z"
   },
   {
    "duration": 8,
    "start_time": "2022-12-04T16:35:04.343Z"
   },
   {
    "duration": 35,
    "start_time": "2022-12-04T16:35:04.559Z"
   },
   {
    "duration": 10,
    "start_time": "2022-12-04T16:35:04.780Z"
   },
   {
    "duration": 31,
    "start_time": "2022-12-04T16:35:05.030Z"
   },
   {
    "duration": 6,
    "start_time": "2022-12-04T16:35:05.301Z"
   },
   {
    "duration": 26,
    "start_time": "2022-12-04T16:35:05.510Z"
   },
   {
    "duration": 8,
    "start_time": "2022-12-04T16:35:05.905Z"
   },
   {
    "duration": 12,
    "start_time": "2022-12-04T16:35:06.741Z"
   },
   {
    "duration": 15,
    "start_time": "2022-12-04T16:35:06.991Z"
   },
   {
    "duration": 16,
    "start_time": "2022-12-04T16:35:07.429Z"
   },
   {
    "duration": 185,
    "start_time": "2022-12-04T16:35:09.398Z"
   },
   {
    "duration": 17,
    "start_time": "2022-12-04T16:35:10.182Z"
   },
   {
    "duration": 10,
    "start_time": "2022-12-04T16:35:11.454Z"
   },
   {
    "duration": 4,
    "start_time": "2022-12-04T16:35:11.711Z"
   },
   {
    "duration": 18,
    "start_time": "2022-12-04T16:35:12.294Z"
   },
   {
    "duration": 148,
    "start_time": "2022-12-04T16:35:12.869Z"
   },
   {
    "duration": 6,
    "start_time": "2022-12-04T16:35:14.149Z"
   },
   {
    "duration": 243,
    "start_time": "2022-12-04T16:35:16.087Z"
   },
   {
    "duration": 12,
    "start_time": "2022-12-04T16:35:17.997Z"
   },
   {
    "duration": 8,
    "start_time": "2022-12-04T16:35:20.014Z"
   },
   {
    "duration": 2,
    "start_time": "2022-12-04T16:36:57.579Z"
   },
   {
    "duration": 8,
    "start_time": "2022-12-04T16:37:25.406Z"
   },
   {
    "duration": 9,
    "start_time": "2022-12-04T16:38:11.678Z"
   },
   {
    "duration": 2,
    "start_time": "2022-12-04T16:38:18.985Z"
   },
   {
    "duration": 49,
    "start_time": "2022-12-04T16:38:19.175Z"
   },
   {
    "duration": 16,
    "start_time": "2022-12-04T16:38:19.330Z"
   },
   {
    "duration": 28,
    "start_time": "2022-12-04T16:38:19.535Z"
   },
   {
    "duration": 20,
    "start_time": "2022-12-04T16:38:20.270Z"
   },
   {
    "duration": 6,
    "start_time": "2022-12-04T16:38:20.611Z"
   },
   {
    "duration": 7,
    "start_time": "2022-12-04T16:38:20.802Z"
   },
   {
    "duration": 5,
    "start_time": "2022-12-04T16:38:20.996Z"
   },
   {
    "duration": 6,
    "start_time": "2022-12-04T16:38:21.217Z"
   },
   {
    "duration": 5,
    "start_time": "2022-12-04T16:38:21.376Z"
   },
   {
    "duration": 10,
    "start_time": "2022-12-04T16:38:22.266Z"
   },
   {
    "duration": 15,
    "start_time": "2022-12-04T16:38:22.461Z"
   },
   {
    "duration": 12,
    "start_time": "2022-12-04T16:38:22.936Z"
   },
   {
    "duration": 6,
    "start_time": "2022-12-04T16:38:23.943Z"
   },
   {
    "duration": 33,
    "start_time": "2022-12-04T16:38:24.163Z"
   },
   {
    "duration": 7,
    "start_time": "2022-12-04T16:38:24.428Z"
   },
   {
    "duration": 20,
    "start_time": "2022-12-04T16:38:25.380Z"
   },
   {
    "duration": 4,
    "start_time": "2022-12-04T16:38:25.960Z"
   },
   {
    "duration": 19,
    "start_time": "2022-12-04T16:38:26.227Z"
   },
   {
    "duration": 7,
    "start_time": "2022-12-04T16:38:26.825Z"
   },
   {
    "duration": 9,
    "start_time": "2022-12-04T16:38:30.256Z"
   },
   {
    "duration": 15,
    "start_time": "2022-12-04T16:38:31.434Z"
   },
   {
    "duration": 17,
    "start_time": "2022-12-04T16:38:31.915Z"
   },
   {
    "duration": 199,
    "start_time": "2022-12-04T16:38:36.154Z"
   },
   {
    "duration": 18,
    "start_time": "2022-12-04T16:38:38.244Z"
   },
   {
    "duration": 12,
    "start_time": "2022-12-04T16:38:39.857Z"
   },
   {
    "duration": 4,
    "start_time": "2022-12-04T16:38:40.354Z"
   },
   {
    "duration": 20,
    "start_time": "2022-12-04T16:38:42.139Z"
   },
   {
    "duration": 270,
    "start_time": "2022-12-04T16:38:42.813Z"
   },
   {
    "duration": 6,
    "start_time": "2022-12-04T16:38:44.602Z"
   },
   {
    "duration": 212,
    "start_time": "2022-12-04T16:38:47.322Z"
   },
   {
    "duration": 12,
    "start_time": "2022-12-04T16:38:48.976Z"
   },
   {
    "duration": 13,
    "start_time": "2022-12-04T16:38:50.722Z"
   },
   {
    "duration": 16,
    "start_time": "2022-12-04T16:38:51.523Z"
   },
   {
    "duration": 22,
    "start_time": "2022-12-04T16:39:04.004Z"
   },
   {
    "duration": 14,
    "start_time": "2022-12-04T16:39:20.352Z"
   },
   {
    "duration": 3,
    "start_time": "2022-12-04T16:40:25.412Z"
   },
   {
    "duration": 49,
    "start_time": "2022-12-04T16:40:25.607Z"
   },
   {
    "duration": 14,
    "start_time": "2022-12-04T16:40:25.802Z"
   },
   {
    "duration": 28,
    "start_time": "2022-12-04T16:40:26.002Z"
   },
   {
    "duration": 26,
    "start_time": "2022-12-04T16:40:26.723Z"
   },
   {
    "duration": 7,
    "start_time": "2022-12-04T16:40:27.163Z"
   },
   {
    "duration": 9,
    "start_time": "2022-12-04T16:40:27.335Z"
   },
   {
    "duration": 6,
    "start_time": "2022-12-04T16:40:27.560Z"
   },
   {
    "duration": 5,
    "start_time": "2022-12-04T16:40:27.801Z"
   },
   {
    "duration": 4,
    "start_time": "2022-12-04T16:40:27.983Z"
   },
   {
    "duration": 10,
    "start_time": "2022-12-04T16:40:28.738Z"
   },
   {
    "duration": 15,
    "start_time": "2022-12-04T16:40:28.973Z"
   },
   {
    "duration": 10,
    "start_time": "2022-12-04T16:40:29.371Z"
   },
   {
    "duration": 6,
    "start_time": "2022-12-04T16:40:29.960Z"
   },
   {
    "duration": 30,
    "start_time": "2022-12-04T16:40:30.197Z"
   },
   {
    "duration": 7,
    "start_time": "2022-12-04T16:40:30.451Z"
   },
   {
    "duration": 21,
    "start_time": "2022-12-04T16:40:30.791Z"
   },
   {
    "duration": 4,
    "start_time": "2022-12-04T16:40:31.452Z"
   },
   {
    "duration": 16,
    "start_time": "2022-12-04T16:40:31.669Z"
   },
   {
    "duration": 7,
    "start_time": "2022-12-04T16:40:38.957Z"
   },
   {
    "duration": 9,
    "start_time": "2022-12-04T16:40:40.245Z"
   },
   {
    "duration": 16,
    "start_time": "2022-12-04T16:40:40.717Z"
   },
   {
    "duration": 16,
    "start_time": "2022-12-04T16:40:41.469Z"
   },
   {
    "duration": 175,
    "start_time": "2022-12-04T16:40:43.300Z"
   },
   {
    "duration": 14,
    "start_time": "2022-12-04T16:40:44.903Z"
   },
   {
    "duration": 11,
    "start_time": "2022-12-04T16:40:46.029Z"
   },
   {
    "duration": 6,
    "start_time": "2022-12-04T16:40:46.279Z"
   },
   {
    "duration": 19,
    "start_time": "2022-12-04T16:40:47.392Z"
   },
   {
    "duration": 149,
    "start_time": "2022-12-04T16:40:48.039Z"
   },
   {
    "duration": 215,
    "start_time": "2022-12-04T16:40:51.237Z"
   },
   {
    "duration": 11,
    "start_time": "2022-12-04T16:40:53.677Z"
   },
   {
    "duration": 23,
    "start_time": "2022-12-04T16:40:55.984Z"
   },
   {
    "duration": 292,
    "start_time": "2022-12-04T16:40:59.758Z"
   },
   {
    "duration": 434,
    "start_time": "2022-12-04T16:41:07.045Z"
   },
   {
    "duration": 259,
    "start_time": "2022-12-04T16:41:36.241Z"
   },
   {
    "duration": 10,
    "start_time": "2022-12-04T16:41:38.463Z"
   },
   {
    "duration": 24,
    "start_time": "2022-12-04T16:41:40.534Z"
   },
   {
    "duration": 293,
    "start_time": "2022-12-04T16:41:43.894Z"
   },
   {
    "duration": 473,
    "start_time": "2022-12-04T16:41:49.455Z"
   },
   {
    "duration": 13,
    "start_time": "2022-12-04T16:41:53.375Z"
   },
   {
    "duration": 178,
    "start_time": "2022-12-04T16:41:54.943Z"
   },
   {
    "duration": 152,
    "start_time": "2022-12-04T16:41:56.015Z"
   },
   {
    "duration": 20,
    "start_time": "2022-12-04T16:41:57.790Z"
   },
   {
    "duration": 5,
    "start_time": "2022-12-04T16:41:58.672Z"
   },
   {
    "duration": 5,
    "start_time": "2022-12-04T16:41:59.886Z"
   },
   {
    "duration": 118,
    "start_time": "2022-12-04T16:42:05.897Z"
   },
   {
    "duration": 137,
    "start_time": "2022-12-04T16:42:31.758Z"
   },
   {
    "duration": 135,
    "start_time": "2022-12-04T16:43:53.835Z"
   },
   {
    "duration": 141,
    "start_time": "2022-12-04T16:44:29.340Z"
   },
   {
    "duration": 130,
    "start_time": "2022-12-04T16:44:33.760Z"
   },
   {
    "duration": 135,
    "start_time": "2022-12-04T16:45:18.114Z"
   },
   {
    "duration": 123,
    "start_time": "2022-12-04T16:45:19.755Z"
   },
   {
    "duration": 43,
    "start_time": "2022-12-04T16:45:31.889Z"
   },
   {
    "duration": 132,
    "start_time": "2022-12-04T16:45:36.501Z"
   },
   {
    "duration": 45,
    "start_time": "2022-12-04T16:47:34.844Z"
   },
   {
    "duration": 3,
    "start_time": "2022-12-04T16:48:05.132Z"
   },
   {
    "duration": 54,
    "start_time": "2022-12-04T16:48:05.313Z"
   },
   {
    "duration": 13,
    "start_time": "2022-12-04T16:48:05.511Z"
   },
   {
    "duration": 29,
    "start_time": "2022-12-04T16:48:05.691Z"
   },
   {
    "duration": 22,
    "start_time": "2022-12-04T16:48:06.440Z"
   },
   {
    "duration": 5,
    "start_time": "2022-12-04T16:48:06.779Z"
   },
   {
    "duration": 6,
    "start_time": "2022-12-04T16:48:06.965Z"
   },
   {
    "duration": 5,
    "start_time": "2022-12-04T16:48:07.154Z"
   },
   {
    "duration": 5,
    "start_time": "2022-12-04T16:48:07.332Z"
   },
   {
    "duration": 4,
    "start_time": "2022-12-04T16:48:07.512Z"
   },
   {
    "duration": 9,
    "start_time": "2022-12-04T16:48:08.228Z"
   },
   {
    "duration": 13,
    "start_time": "2022-12-04T16:48:08.408Z"
   },
   {
    "duration": 11,
    "start_time": "2022-12-04T16:48:08.858Z"
   },
   {
    "duration": 6,
    "start_time": "2022-12-04T16:48:09.484Z"
   },
   {
    "duration": 31,
    "start_time": "2022-12-04T16:48:09.760Z"
   },
   {
    "duration": 8,
    "start_time": "2022-12-04T16:48:09.960Z"
   },
   {
    "duration": 20,
    "start_time": "2022-12-04T16:48:10.137Z"
   },
   {
    "duration": 4,
    "start_time": "2022-12-04T16:48:10.326Z"
   },
   {
    "duration": 17,
    "start_time": "2022-12-04T16:48:10.524Z"
   },
   {
    "duration": 7,
    "start_time": "2022-12-04T16:48:11.958Z"
   },
   {
    "duration": 9,
    "start_time": "2022-12-04T16:48:15.545Z"
   },
   {
    "duration": 14,
    "start_time": "2022-12-04T16:48:15.840Z"
   },
   {
    "duration": 16,
    "start_time": "2022-12-04T16:48:16.494Z"
   },
   {
    "duration": 171,
    "start_time": "2022-12-04T16:48:20.105Z"
   },
   {
    "duration": 13,
    "start_time": "2022-12-04T16:48:22.744Z"
   },
   {
    "duration": 10,
    "start_time": "2022-12-04T16:48:25.504Z"
   },
   {
    "duration": 4,
    "start_time": "2022-12-04T16:48:26.433Z"
   },
   {
    "duration": 18,
    "start_time": "2022-12-04T16:48:27.742Z"
   },
   {
    "duration": 232,
    "start_time": "2022-12-04T16:48:28.037Z"
   },
   {
    "duration": 216,
    "start_time": "2022-12-04T16:48:30.224Z"
   },
   {
    "duration": 13,
    "start_time": "2022-12-04T16:48:30.821Z"
   },
   {
    "duration": 30,
    "start_time": "2022-12-04T16:48:32.495Z"
   },
   {
    "duration": 271,
    "start_time": "2022-12-04T16:48:33.426Z"
   },
   {
    "duration": 417,
    "start_time": "2022-12-04T16:48:37.601Z"
   },
   {
    "duration": 12,
    "start_time": "2022-12-04T16:48:42.369Z"
   },
   {
    "duration": 141,
    "start_time": "2022-12-04T16:48:43.371Z"
   },
   {
    "duration": 141,
    "start_time": "2022-12-04T16:48:44.112Z"
   },
   {
    "duration": 13,
    "start_time": "2022-12-04T16:48:45.176Z"
   },
   {
    "duration": 5,
    "start_time": "2022-12-04T16:48:45.927Z"
   },
   {
    "duration": 5,
    "start_time": "2022-12-04T16:48:47.247Z"
   },
   {
    "duration": 58,
    "start_time": "2022-12-04T16:48:53.513Z"
   },
   {
    "duration": 46,
    "start_time": "2022-12-04T16:49:09.696Z"
   },
   {
    "duration": 131,
    "start_time": "2022-12-04T16:49:18.186Z"
   },
   {
    "duration": 127,
    "start_time": "2022-12-04T16:50:33.813Z"
   },
   {
    "duration": 137,
    "start_time": "2022-12-04T16:51:09.989Z"
   },
   {
    "duration": 131,
    "start_time": "2022-12-04T16:51:19.435Z"
   },
   {
    "duration": 208,
    "start_time": "2022-12-04T16:52:29.833Z"
   },
   {
    "duration": 127,
    "start_time": "2022-12-04T16:53:07.329Z"
   },
   {
    "duration": 145,
    "start_time": "2022-12-04T16:53:55.002Z"
   },
   {
    "duration": 137,
    "start_time": "2022-12-04T16:55:11.572Z"
   },
   {
    "duration": 130,
    "start_time": "2022-12-04T16:56:36.496Z"
   },
   {
    "duration": 130,
    "start_time": "2022-12-04T16:56:52.661Z"
   },
   {
    "duration": 132,
    "start_time": "2022-12-04T16:57:13.046Z"
   },
   {
    "duration": 124,
    "start_time": "2022-12-04T16:59:13.362Z"
   },
   {
    "duration": 126,
    "start_time": "2022-12-04T16:59:19.659Z"
   },
   {
    "duration": 134,
    "start_time": "2022-12-04T16:59:25.208Z"
   },
   {
    "duration": 124,
    "start_time": "2022-12-04T17:00:38.314Z"
   },
   {
    "duration": 132,
    "start_time": "2022-12-04T17:01:07.443Z"
   },
   {
    "duration": 219,
    "start_time": "2022-12-04T17:01:24.789Z"
   },
   {
    "duration": 2,
    "start_time": "2022-12-04T17:01:31.161Z"
   },
   {
    "duration": 11,
    "start_time": "2022-12-04T17:01:31.765Z"
   },
   {
    "duration": 5,
    "start_time": "2022-12-04T17:01:32.066Z"
   },
   {
    "duration": 4,
    "start_time": "2022-12-04T17:01:32.395Z"
   },
   {
    "duration": 9,
    "start_time": "2022-12-04T17:01:39.090Z"
   },
   {
    "duration": 6,
    "start_time": "2022-12-04T17:01:39.963Z"
   }
  ],
  "kernelspec": {
   "display_name": "Python 3 (ipykernel)",
   "language": "python",
   "name": "python3"
  },
  "language_info": {
   "codemirror_mode": {
    "name": "ipython",
    "version": 3
   },
   "file_extension": ".py",
   "mimetype": "text/x-python",
   "name": "python",
   "nbconvert_exporter": "python",
   "pygments_lexer": "ipython3",
   "version": "3.9.13"
  },
  "toc": {
   "base_numbering": 1,
   "nav_menu": {},
   "number_sections": true,
   "sideBar": true,
   "skip_h1_title": true,
   "title_cell": "Table of Contents",
   "title_sidebar": "Contents",
   "toc_cell": false,
   "toc_position": {
    "height": "calc(100% - 180px)",
    "left": "10px",
    "top": "150px",
    "width": "165px"
   },
   "toc_section_display": true,
   "toc_window_display": true
  }
 },
 "nbformat": 4,
 "nbformat_minor": 2
}
