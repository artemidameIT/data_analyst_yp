{
 "cells": [
  {
   "cell_type": "markdown",
   "metadata": {},
   "source": [
    "# Принятие решений в бизнесе"
   ]
  },
  {
   "cell_type": "markdown",
   "metadata": {},
   "source": [
    "# Описание данных"
   ]
  },
  {
   "cell_type": "markdown",
   "metadata": {},
   "source": [
    "Данные для первой части\n",
    "Файл /datasets/hypothesis.csv.\n",
    "\n",
    "•\tHypothesis — краткое описание гипотезы;\n",
    "\n",
    "•\tReach — охват пользователей по 10-балльной шкале;\n",
    "\n",
    "•\tImpact — влияние на пользователей по 10-балльной шкале;\n",
    "\n",
    "•\tConfidence — уверенность в гипотезе по 10-балльной шкале;\n",
    "\n",
    "•\tEfforts — затраты ресурсов на проверку гипотезы по 10-балльной шкале. Чем больше значение Efforts, тем дороже проверка гипотезы\n",
    "\n",
    "Данные для второй части\n",
    "Файл /datasets/orders.csv.\n",
    "\n",
    "•\ttransactionId — идентификатор заказа;\n",
    "\n",
    "•\tvisitorId — идентификатор пользователя, совершившего заказ;\n",
    "\n",
    "•\tdate — дата, когда был совершён заказ;\n",
    "\n",
    "•\trevenue — выручка заказа;\n",
    "\n",
    "•\tgroup — группа A/B-теста, в которую попал заказ\n",
    "\n",
    "Файл /datasets/visitors.csv.\n",
    "\n",
    "•\tdate — дата;\n",
    "\n",
    "•\tgroup — группа A/B-теста;\n",
    "\n",
    "•\tvisitors — количество пользователей в указанную дату в указанной группе A/B-теста\n"
   ]
  },
  {
   "cell_type": "markdown",
   "metadata": {},
   "source": [
    "# Описание проекта\n",
    "Приоритизировать гипотезы, запустить A/B-тест и проанализировать результаты. \n",
    "\n",
    "Часть 1. Приоритизация гипотез.\n",
    "В файле /datasets/hypothesis.csv 9 гипотез по увеличению выручки интернет-магазина с указанными параметрами Reach, Impact, Confidence, Effort.\n",
    "\n",
    "Задача\n",
    "\n",
    "•\tПрименить фреймворк ICE для приоритизации гипотез. \n",
    "\n",
    "•\tПрименить фреймворк RICE для приоритизации гипотез. \n",
    "\n",
    "•\tУказать, как изменилась приоритизация гипотез при применении RICE вместо ICE.\n",
    "\n",
    "Часть 2. Анализ A/B-теста\n",
    "Проведен A/B-тест и получены результаты, которые описаны в файлах /datasets/orders.csv и /datasets/visitors.csv.\n",
    "\n",
    "Задача\n",
    "\n",
    "Проанализировать A/B-тест"
   ]
  },
  {
   "cell_type": "code",
   "execution_count": 1,
   "metadata": {},
   "outputs": [],
   "source": [
    "#импорт библиотек\n",
    "import pandas as pd\n",
    "import matplotlib.pyplot as plt\n",
    "import math\n",
    "import seaborn as sns\n",
    "from scipy import stats as st\n",
    "import numpy as np \n",
    "import datetime as dt"
   ]
  },
  {
   "cell_type": "code",
   "execution_count": 2,
   "metadata": {},
   "outputs": [],
   "source": [
    "hypothesis = pd.read_csv('/datasets/hypothesis.csv')\n",
    "orders = pd.read_csv('/datasets/orders.csv', sep=',')\n",
    "orders['date'] = orders['date'].map(\n",
    "    lambda x: dt.datetime.strptime(x, '%Y-%m-%d')\n",
    ")\n",
    "\n",
    "visitors = pd.read_csv(\n",
    "    '/datasets/visitors.csv', sep=','\n",
    ")\n",
    "visitors['date'] = visitors['date'].map(\n",
    "    lambda x: dt.datetime.strptime(x, '%Y-%m-%d')\n",
    ")\n"
   ]
  },
  {
   "cell_type": "markdown",
   "metadata": {},
   "source": [
    "Изучить датасет hypothesis"
   ]
  },
  {
   "cell_type": "code",
   "execution_count": 3,
   "metadata": {
    "scrolled": false
   },
   "outputs": [
    {
     "name": "stdout",
     "output_type": "stream",
     "text": [
      "<class 'pandas.core.frame.DataFrame'>\n",
      "RangeIndex: 9 entries, 0 to 8\n",
      "Data columns (total 5 columns):\n",
      " #   Column      Non-Null Count  Dtype \n",
      "---  ------      --------------  ----- \n",
      " 0   Hypothesis  9 non-null      object\n",
      " 1   Reach       9 non-null      int64 \n",
      " 2   Impact      9 non-null      int64 \n",
      " 3   Confidence  9 non-null      int64 \n",
      " 4   Efforts     9 non-null      int64 \n",
      "dtypes: int64(4), object(1)\n",
      "memory usage: 488.0+ bytes\n"
     ]
    },
    {
     "data": {
      "text/html": [
       "<div>\n",
       "<style scoped>\n",
       "    .dataframe tbody tr th:only-of-type {\n",
       "        vertical-align: middle;\n",
       "    }\n",
       "\n",
       "    .dataframe tbody tr th {\n",
       "        vertical-align: top;\n",
       "    }\n",
       "\n",
       "    .dataframe thead th {\n",
       "        text-align: right;\n",
       "    }\n",
       "</style>\n",
       "<table border=\"1\" class=\"dataframe\">\n",
       "  <thead>\n",
       "    <tr style=\"text-align: right;\">\n",
       "      <th></th>\n",
       "      <th>Hypothesis</th>\n",
       "      <th>Reach</th>\n",
       "      <th>Impact</th>\n",
       "      <th>Confidence</th>\n",
       "      <th>Efforts</th>\n",
       "    </tr>\n",
       "  </thead>\n",
       "  <tbody>\n",
       "    <tr>\n",
       "      <th>0</th>\n",
       "      <td>Добавить два новых канала привлечения трафика,...</td>\n",
       "      <td>3</td>\n",
       "      <td>10</td>\n",
       "      <td>8</td>\n",
       "      <td>6</td>\n",
       "    </tr>\n",
       "    <tr>\n",
       "      <th>1</th>\n",
       "      <td>Запустить собственную службу доставки, что сок...</td>\n",
       "      <td>2</td>\n",
       "      <td>5</td>\n",
       "      <td>4</td>\n",
       "      <td>10</td>\n",
       "    </tr>\n",
       "    <tr>\n",
       "      <th>2</th>\n",
       "      <td>Добавить блоки рекомендаций товаров на сайт ин...</td>\n",
       "      <td>8</td>\n",
       "      <td>3</td>\n",
       "      <td>7</td>\n",
       "      <td>3</td>\n",
       "    </tr>\n",
       "    <tr>\n",
       "      <th>3</th>\n",
       "      <td>Изменить структура категорий, что увеличит кон...</td>\n",
       "      <td>8</td>\n",
       "      <td>3</td>\n",
       "      <td>3</td>\n",
       "      <td>8</td>\n",
       "    </tr>\n",
       "    <tr>\n",
       "      <th>4</th>\n",
       "      <td>Изменить цвет фона главной страницы, чтобы уве...</td>\n",
       "      <td>3</td>\n",
       "      <td>1</td>\n",
       "      <td>1</td>\n",
       "      <td>1</td>\n",
       "    </tr>\n",
       "    <tr>\n",
       "      <th>5</th>\n",
       "      <td>Добавить страницу отзывов клиентов о магазине,...</td>\n",
       "      <td>3</td>\n",
       "      <td>2</td>\n",
       "      <td>2</td>\n",
       "      <td>3</td>\n",
       "    </tr>\n",
       "    <tr>\n",
       "      <th>6</th>\n",
       "      <td>Показать на главной странице баннеры с актуаль...</td>\n",
       "      <td>5</td>\n",
       "      <td>3</td>\n",
       "      <td>8</td>\n",
       "      <td>3</td>\n",
       "    </tr>\n",
       "    <tr>\n",
       "      <th>7</th>\n",
       "      <td>Добавить форму подписки на все основные страни...</td>\n",
       "      <td>10</td>\n",
       "      <td>7</td>\n",
       "      <td>8</td>\n",
       "      <td>5</td>\n",
       "    </tr>\n",
       "    <tr>\n",
       "      <th>8</th>\n",
       "      <td>Запустить акцию, дающую скидку на товар в день...</td>\n",
       "      <td>1</td>\n",
       "      <td>9</td>\n",
       "      <td>9</td>\n",
       "      <td>5</td>\n",
       "    </tr>\n",
       "  </tbody>\n",
       "</table>\n",
       "</div>"
      ],
      "text/plain": [
       "                                          Hypothesis  Reach  Impact  \\\n",
       "0  Добавить два новых канала привлечения трафика,...      3      10   \n",
       "1  Запустить собственную службу доставки, что сок...      2       5   \n",
       "2  Добавить блоки рекомендаций товаров на сайт ин...      8       3   \n",
       "3  Изменить структура категорий, что увеличит кон...      8       3   \n",
       "4  Изменить цвет фона главной страницы, чтобы уве...      3       1   \n",
       "5  Добавить страницу отзывов клиентов о магазине,...      3       2   \n",
       "6  Показать на главной странице баннеры с актуаль...      5       3   \n",
       "7  Добавить форму подписки на все основные страни...     10       7   \n",
       "8  Запустить акцию, дающую скидку на товар в день...      1       9   \n",
       "\n",
       "   Confidence  Efforts  \n",
       "0           8        6  \n",
       "1           4       10  \n",
       "2           7        3  \n",
       "3           3        8  \n",
       "4           1        1  \n",
       "5           2        3  \n",
       "6           8        3  \n",
       "7           8        5  \n",
       "8           9        5  "
      ]
     },
     "execution_count": 3,
     "metadata": {},
     "output_type": "execute_result"
    }
   ],
   "source": [
    "hypothesis.info()\n",
    "hypothesis"
   ]
  },
  {
   "cell_type": "code",
   "execution_count": 4,
   "metadata": {},
   "outputs": [],
   "source": [
    "hypothesis.columns = hypothesis.columns.str.lower()"
   ]
  },
  {
   "cell_type": "code",
   "execution_count": 5,
   "metadata": {},
   "outputs": [
    {
     "data": {
      "text/plain": [
       "hypothesis    0\n",
       "reach         0\n",
       "impact        0\n",
       "confidence    0\n",
       "efforts       0\n",
       "dtype: int64"
      ]
     },
     "execution_count": 5,
     "metadata": {},
     "output_type": "execute_result"
    }
   ],
   "source": [
    "hypothesis.isna().sum()"
   ]
  },
  {
   "cell_type": "code",
   "execution_count": 6,
   "metadata": {},
   "outputs": [
    {
     "data": {
      "text/plain": [
       "0"
      ]
     },
     "execution_count": 6,
     "metadata": {},
     "output_type": "execute_result"
    }
   ],
   "source": [
    "hypothesis.duplicated().sum()"
   ]
  },
  {
   "cell_type": "markdown",
   "metadata": {},
   "source": [
    "Изучить датасет orders"
   ]
  },
  {
   "cell_type": "code",
   "execution_count": 7,
   "metadata": {},
   "outputs": [
    {
     "name": "stdout",
     "output_type": "stream",
     "text": [
      "<class 'pandas.core.frame.DataFrame'>\n",
      "RangeIndex: 1197 entries, 0 to 1196\n",
      "Data columns (total 5 columns):\n",
      " #   Column         Non-Null Count  Dtype         \n",
      "---  ------         --------------  -----         \n",
      " 0   transactionId  1197 non-null   int64         \n",
      " 1   visitorId      1197 non-null   int64         \n",
      " 2   date           1197 non-null   datetime64[ns]\n",
      " 3   revenue        1197 non-null   int64         \n",
      " 4   group          1197 non-null   object        \n",
      "dtypes: datetime64[ns](1), int64(3), object(1)\n",
      "memory usage: 46.9+ KB\n"
     ]
    },
    {
     "data": {
      "text/html": [
       "<div>\n",
       "<style scoped>\n",
       "    .dataframe tbody tr th:only-of-type {\n",
       "        vertical-align: middle;\n",
       "    }\n",
       "\n",
       "    .dataframe tbody tr th {\n",
       "        vertical-align: top;\n",
       "    }\n",
       "\n",
       "    .dataframe thead th {\n",
       "        text-align: right;\n",
       "    }\n",
       "</style>\n",
       "<table border=\"1\" class=\"dataframe\">\n",
       "  <thead>\n",
       "    <tr style=\"text-align: right;\">\n",
       "      <th></th>\n",
       "      <th>transactionId</th>\n",
       "      <th>visitorId</th>\n",
       "      <th>date</th>\n",
       "      <th>revenue</th>\n",
       "      <th>group</th>\n",
       "    </tr>\n",
       "  </thead>\n",
       "  <tbody>\n",
       "    <tr>\n",
       "      <th>0</th>\n",
       "      <td>3667963787</td>\n",
       "      <td>3312258926</td>\n",
       "      <td>2019-08-15</td>\n",
       "      <td>1650</td>\n",
       "      <td>B</td>\n",
       "    </tr>\n",
       "    <tr>\n",
       "      <th>1</th>\n",
       "      <td>2804400009</td>\n",
       "      <td>3642806036</td>\n",
       "      <td>2019-08-15</td>\n",
       "      <td>730</td>\n",
       "      <td>B</td>\n",
       "    </tr>\n",
       "    <tr>\n",
       "      <th>2</th>\n",
       "      <td>2961555356</td>\n",
       "      <td>4069496402</td>\n",
       "      <td>2019-08-15</td>\n",
       "      <td>400</td>\n",
       "      <td>A</td>\n",
       "    </tr>\n",
       "    <tr>\n",
       "      <th>3</th>\n",
       "      <td>3797467345</td>\n",
       "      <td>1196621759</td>\n",
       "      <td>2019-08-15</td>\n",
       "      <td>9759</td>\n",
       "      <td>B</td>\n",
       "    </tr>\n",
       "    <tr>\n",
       "      <th>4</th>\n",
       "      <td>2282983706</td>\n",
       "      <td>2322279887</td>\n",
       "      <td>2019-08-15</td>\n",
       "      <td>2308</td>\n",
       "      <td>B</td>\n",
       "    </tr>\n",
       "    <tr>\n",
       "      <th>...</th>\n",
       "      <td>...</td>\n",
       "      <td>...</td>\n",
       "      <td>...</td>\n",
       "      <td>...</td>\n",
       "      <td>...</td>\n",
       "    </tr>\n",
       "    <tr>\n",
       "      <th>1192</th>\n",
       "      <td>2662137336</td>\n",
       "      <td>3733762160</td>\n",
       "      <td>2019-08-14</td>\n",
       "      <td>6490</td>\n",
       "      <td>B</td>\n",
       "    </tr>\n",
       "    <tr>\n",
       "      <th>1193</th>\n",
       "      <td>2203539145</td>\n",
       "      <td>370388673</td>\n",
       "      <td>2019-08-14</td>\n",
       "      <td>3190</td>\n",
       "      <td>A</td>\n",
       "    </tr>\n",
       "    <tr>\n",
       "      <th>1194</th>\n",
       "      <td>1807773912</td>\n",
       "      <td>573423106</td>\n",
       "      <td>2019-08-14</td>\n",
       "      <td>10550</td>\n",
       "      <td>A</td>\n",
       "    </tr>\n",
       "    <tr>\n",
       "      <th>1195</th>\n",
       "      <td>1947021204</td>\n",
       "      <td>1614305549</td>\n",
       "      <td>2019-08-14</td>\n",
       "      <td>100</td>\n",
       "      <td>A</td>\n",
       "    </tr>\n",
       "    <tr>\n",
       "      <th>1196</th>\n",
       "      <td>3936777065</td>\n",
       "      <td>2108080724</td>\n",
       "      <td>2019-08-15</td>\n",
       "      <td>202740</td>\n",
       "      <td>B</td>\n",
       "    </tr>\n",
       "  </tbody>\n",
       "</table>\n",
       "<p>1197 rows × 5 columns</p>\n",
       "</div>"
      ],
      "text/plain": [
       "      transactionId   visitorId       date  revenue group\n",
       "0        3667963787  3312258926 2019-08-15     1650     B\n",
       "1        2804400009  3642806036 2019-08-15      730     B\n",
       "2        2961555356  4069496402 2019-08-15      400     A\n",
       "3        3797467345  1196621759 2019-08-15     9759     B\n",
       "4        2282983706  2322279887 2019-08-15     2308     B\n",
       "...             ...         ...        ...      ...   ...\n",
       "1192     2662137336  3733762160 2019-08-14     6490     B\n",
       "1193     2203539145   370388673 2019-08-14     3190     A\n",
       "1194     1807773912   573423106 2019-08-14    10550     A\n",
       "1195     1947021204  1614305549 2019-08-14      100     A\n",
       "1196     3936777065  2108080724 2019-08-15   202740     B\n",
       "\n",
       "[1197 rows x 5 columns]"
      ]
     },
     "execution_count": 7,
     "metadata": {},
     "output_type": "execute_result"
    }
   ],
   "source": [
    "orders.info()\n",
    "orders"
   ]
  },
  {
   "cell_type": "code",
   "execution_count": 8,
   "metadata": {},
   "outputs": [],
   "source": [
    "orders.rename(columns={'transactionId':'transaction_id', 'visitorId':'visitor_id'}, inplace=True)"
   ]
  },
  {
   "cell_type": "code",
   "execution_count": 9,
   "metadata": {},
   "outputs": [
    {
     "data": {
      "text/plain": [
       "transaction_id    0\n",
       "visitor_id        0\n",
       "date              0\n",
       "revenue           0\n",
       "group             0\n",
       "dtype: int64"
      ]
     },
     "execution_count": 9,
     "metadata": {},
     "output_type": "execute_result"
    }
   ],
   "source": [
    "orders.isna().sum()"
   ]
  },
  {
   "cell_type": "code",
   "execution_count": 10,
   "metadata": {},
   "outputs": [
    {
     "data": {
      "text/plain": [
       "0"
      ]
     },
     "execution_count": 10,
     "metadata": {},
     "output_type": "execute_result"
    }
   ],
   "source": [
    "orders.duplicated().sum()"
   ]
  },
  {
   "cell_type": "code",
   "execution_count": 11,
   "metadata": {},
   "outputs": [
    {
     "name": "stdout",
     "output_type": "stream",
     "text": [
      "<class 'pandas.core.frame.DataFrame'>\n",
      "RangeIndex: 1197 entries, 0 to 1196\n",
      "Data columns (total 5 columns):\n",
      " #   Column          Non-Null Count  Dtype         \n",
      "---  ------          --------------  -----         \n",
      " 0   transaction_id  1197 non-null   int64         \n",
      " 1   visitor_id      1197 non-null   int64         \n",
      " 2   date            1197 non-null   datetime64[ns]\n",
      " 3   revenue         1197 non-null   int64         \n",
      " 4   group           1197 non-null   object        \n",
      "dtypes: datetime64[ns](1), int64(3), object(1)\n",
      "memory usage: 46.9+ KB\n"
     ]
    }
   ],
   "source": [
    "\n",
    "orders.info()"
   ]
  },
  {
   "cell_type": "code",
   "execution_count": 12,
   "metadata": {},
   "outputs": [
    {
     "name": "stdout",
     "output_type": "stream",
     "text": [
      "<class 'pandas.core.frame.DataFrame'>\n",
      "RangeIndex: 62 entries, 0 to 61\n",
      "Data columns (total 3 columns):\n",
      " #   Column    Non-Null Count  Dtype         \n",
      "---  ------    --------------  -----         \n",
      " 0   date      62 non-null     datetime64[ns]\n",
      " 1   group     62 non-null     object        \n",
      " 2   visitors  62 non-null     int64         \n",
      "dtypes: datetime64[ns](1), int64(1), object(1)\n",
      "memory usage: 1.6+ KB\n"
     ]
    },
    {
     "data": {
      "text/html": [
       "<div>\n",
       "<style scoped>\n",
       "    .dataframe tbody tr th:only-of-type {\n",
       "        vertical-align: middle;\n",
       "    }\n",
       "\n",
       "    .dataframe tbody tr th {\n",
       "        vertical-align: top;\n",
       "    }\n",
       "\n",
       "    .dataframe thead th {\n",
       "        text-align: right;\n",
       "    }\n",
       "</style>\n",
       "<table border=\"1\" class=\"dataframe\">\n",
       "  <thead>\n",
       "    <tr style=\"text-align: right;\">\n",
       "      <th></th>\n",
       "      <th>date</th>\n",
       "      <th>group</th>\n",
       "      <th>visitors</th>\n",
       "    </tr>\n",
       "  </thead>\n",
       "  <tbody>\n",
       "    <tr>\n",
       "      <th>0</th>\n",
       "      <td>2019-08-01</td>\n",
       "      <td>A</td>\n",
       "      <td>719</td>\n",
       "    </tr>\n",
       "    <tr>\n",
       "      <th>1</th>\n",
       "      <td>2019-08-02</td>\n",
       "      <td>A</td>\n",
       "      <td>619</td>\n",
       "    </tr>\n",
       "    <tr>\n",
       "      <th>2</th>\n",
       "      <td>2019-08-03</td>\n",
       "      <td>A</td>\n",
       "      <td>507</td>\n",
       "    </tr>\n",
       "    <tr>\n",
       "      <th>3</th>\n",
       "      <td>2019-08-04</td>\n",
       "      <td>A</td>\n",
       "      <td>717</td>\n",
       "    </tr>\n",
       "    <tr>\n",
       "      <th>4</th>\n",
       "      <td>2019-08-05</td>\n",
       "      <td>A</td>\n",
       "      <td>756</td>\n",
       "    </tr>\n",
       "    <tr>\n",
       "      <th>...</th>\n",
       "      <td>...</td>\n",
       "      <td>...</td>\n",
       "      <td>...</td>\n",
       "    </tr>\n",
       "    <tr>\n",
       "      <th>57</th>\n",
       "      <td>2019-08-27</td>\n",
       "      <td>B</td>\n",
       "      <td>720</td>\n",
       "    </tr>\n",
       "    <tr>\n",
       "      <th>58</th>\n",
       "      <td>2019-08-28</td>\n",
       "      <td>B</td>\n",
       "      <td>654</td>\n",
       "    </tr>\n",
       "    <tr>\n",
       "      <th>59</th>\n",
       "      <td>2019-08-29</td>\n",
       "      <td>B</td>\n",
       "      <td>531</td>\n",
       "    </tr>\n",
       "    <tr>\n",
       "      <th>60</th>\n",
       "      <td>2019-08-30</td>\n",
       "      <td>B</td>\n",
       "      <td>490</td>\n",
       "    </tr>\n",
       "    <tr>\n",
       "      <th>61</th>\n",
       "      <td>2019-08-31</td>\n",
       "      <td>B</td>\n",
       "      <td>718</td>\n",
       "    </tr>\n",
       "  </tbody>\n",
       "</table>\n",
       "<p>62 rows × 3 columns</p>\n",
       "</div>"
      ],
      "text/plain": [
       "         date group  visitors\n",
       "0  2019-08-01     A       719\n",
       "1  2019-08-02     A       619\n",
       "2  2019-08-03     A       507\n",
       "3  2019-08-04     A       717\n",
       "4  2019-08-05     A       756\n",
       "..        ...   ...       ...\n",
       "57 2019-08-27     B       720\n",
       "58 2019-08-28     B       654\n",
       "59 2019-08-29     B       531\n",
       "60 2019-08-30     B       490\n",
       "61 2019-08-31     B       718\n",
       "\n",
       "[62 rows x 3 columns]"
      ]
     },
     "execution_count": 12,
     "metadata": {},
     "output_type": "execute_result"
    }
   ],
   "source": [
    "visitors.info()\n",
    "visitors"
   ]
  },
  {
   "cell_type": "code",
   "execution_count": 13,
   "metadata": {},
   "outputs": [
    {
     "data": {
      "text/plain": [
       "date        0\n",
       "group       0\n",
       "visitors    0\n",
       "dtype: int64"
      ]
     },
     "execution_count": 13,
     "metadata": {},
     "output_type": "execute_result"
    }
   ],
   "source": [
    "visitors.isna().sum()"
   ]
  },
  {
   "cell_type": "code",
   "execution_count": 14,
   "metadata": {},
   "outputs": [
    {
     "data": {
      "text/plain": [
       "0"
      ]
     },
     "execution_count": 14,
     "metadata": {},
     "output_type": "execute_result"
    }
   ],
   "source": [
    "visitors.duplicated().sum()"
   ]
  },
  {
   "cell_type": "code",
   "execution_count": 15,
   "metadata": {
    "scrolled": true
   },
   "outputs": [
    {
     "name": "stdout",
     "output_type": "stream",
     "text": [
      "<class 'pandas.core.frame.DataFrame'>\n",
      "RangeIndex: 62 entries, 0 to 61\n",
      "Data columns (total 3 columns):\n",
      " #   Column    Non-Null Count  Dtype         \n",
      "---  ------    --------------  -----         \n",
      " 0   date      62 non-null     datetime64[ns]\n",
      " 1   group     62 non-null     object        \n",
      " 2   visitors  62 non-null     int64         \n",
      "dtypes: datetime64[ns](1), int64(1), object(1)\n",
      "memory usage: 1.6+ KB\n"
     ]
    }
   ],
   "source": [
    "\n",
    "visitors.info()"
   ]
  },
  {
   "cell_type": "markdown",
   "metadata": {},
   "source": [
    "Строки приведены к нижнему регистру, пропусков и дубликатов не обнаружено"
   ]
  },
  {
   "cell_type": "markdown",
   "metadata": {},
   "source": [
    "# Часть 1. Приоритизация гипотез"
   ]
  },
  {
   "cell_type": "markdown",
   "metadata": {},
   "source": [
    "•\tПрименить фреймворк ICE для приоритизации гипотез (по убыванию приоритета)."
   ]
  },
  {
   "cell_type": "code",
   "execution_count": 16,
   "metadata": {},
   "outputs": [
    {
     "data": {
      "text/html": [
       "<div>\n",
       "<style scoped>\n",
       "    .dataframe tbody tr th:only-of-type {\n",
       "        vertical-align: middle;\n",
       "    }\n",
       "\n",
       "    .dataframe tbody tr th {\n",
       "        vertical-align: top;\n",
       "    }\n",
       "\n",
       "    .dataframe thead th {\n",
       "        text-align: right;\n",
       "    }\n",
       "</style>\n",
       "<table border=\"1\" class=\"dataframe\">\n",
       "  <thead>\n",
       "    <tr style=\"text-align: right;\">\n",
       "      <th></th>\n",
       "      <th>hypothesis</th>\n",
       "      <th>ICE</th>\n",
       "    </tr>\n",
       "  </thead>\n",
       "  <tbody>\n",
       "    <tr>\n",
       "      <th>8</th>\n",
       "      <td>Запустить акцию, дающую скидку на товар в день...</td>\n",
       "      <td>16.200000</td>\n",
       "    </tr>\n",
       "    <tr>\n",
       "      <th>0</th>\n",
       "      <td>Добавить два новых канала привлечения трафика,...</td>\n",
       "      <td>13.333333</td>\n",
       "    </tr>\n",
       "    <tr>\n",
       "      <th>7</th>\n",
       "      <td>Добавить форму подписки на все основные страни...</td>\n",
       "      <td>11.200000</td>\n",
       "    </tr>\n",
       "    <tr>\n",
       "      <th>6</th>\n",
       "      <td>Показать на главной странице баннеры с актуаль...</td>\n",
       "      <td>8.000000</td>\n",
       "    </tr>\n",
       "    <tr>\n",
       "      <th>2</th>\n",
       "      <td>Добавить блоки рекомендаций товаров на сайт ин...</td>\n",
       "      <td>7.000000</td>\n",
       "    </tr>\n",
       "    <tr>\n",
       "      <th>1</th>\n",
       "      <td>Запустить собственную службу доставки, что сок...</td>\n",
       "      <td>2.000000</td>\n",
       "    </tr>\n",
       "    <tr>\n",
       "      <th>5</th>\n",
       "      <td>Добавить страницу отзывов клиентов о магазине,...</td>\n",
       "      <td>1.333333</td>\n",
       "    </tr>\n",
       "    <tr>\n",
       "      <th>3</th>\n",
       "      <td>Изменить структура категорий, что увеличит кон...</td>\n",
       "      <td>1.125000</td>\n",
       "    </tr>\n",
       "    <tr>\n",
       "      <th>4</th>\n",
       "      <td>Изменить цвет фона главной страницы, чтобы уве...</td>\n",
       "      <td>1.000000</td>\n",
       "    </tr>\n",
       "  </tbody>\n",
       "</table>\n",
       "</div>"
      ],
      "text/plain": [
       "                                          hypothesis        ICE\n",
       "8  Запустить акцию, дающую скидку на товар в день...  16.200000\n",
       "0  Добавить два новых канала привлечения трафика,...  13.333333\n",
       "7  Добавить форму подписки на все основные страни...  11.200000\n",
       "6  Показать на главной странице баннеры с актуаль...   8.000000\n",
       "2  Добавить блоки рекомендаций товаров на сайт ин...   7.000000\n",
       "1  Запустить собственную службу доставки, что сок...   2.000000\n",
       "5  Добавить страницу отзывов клиентов о магазине,...   1.333333\n",
       "3  Изменить структура категорий, что увеличит кон...   1.125000\n",
       "4  Изменить цвет фона главной страницы, чтобы уве...   1.000000"
      ]
     },
     "execution_count": 16,
     "metadata": {},
     "output_type": "execute_result"
    }
   ],
   "source": [
    "hypothesis['ICE'] = (hypothesis['impact'] * hypothesis['confidence']) / hypothesis['efforts']\n",
    "hypothesis[['hypothesis', 'ICE']].sort_values(by='ICE', ascending=False)"
   ]
  },
  {
   "cell_type": "markdown",
   "metadata": {},
   "source": [
    "Получен перечень гипотез, отсортированный по убыванию оценки ICE. В топ 5 входят гипотезы с индексами 8, 0, 7, 6 и 2."
   ]
  },
  {
   "cell_type": "markdown",
   "metadata": {},
   "source": [
    "•\tПрименить фреймворк RICE для приоритизации гипотез (по убыванию приоритета). "
   ]
  },
  {
   "cell_type": "code",
   "execution_count": 17,
   "metadata": {},
   "outputs": [
    {
     "data": {
      "text/html": [
       "<div>\n",
       "<style scoped>\n",
       "    .dataframe tbody tr th:only-of-type {\n",
       "        vertical-align: middle;\n",
       "    }\n",
       "\n",
       "    .dataframe tbody tr th {\n",
       "        vertical-align: top;\n",
       "    }\n",
       "\n",
       "    .dataframe thead th {\n",
       "        text-align: right;\n",
       "    }\n",
       "</style>\n",
       "<table border=\"1\" class=\"dataframe\">\n",
       "  <thead>\n",
       "    <tr style=\"text-align: right;\">\n",
       "      <th></th>\n",
       "      <th>hypothesis</th>\n",
       "      <th>RICE</th>\n",
       "    </tr>\n",
       "  </thead>\n",
       "  <tbody>\n",
       "    <tr>\n",
       "      <th>7</th>\n",
       "      <td>Добавить форму подписки на все основные страни...</td>\n",
       "      <td>112.0</td>\n",
       "    </tr>\n",
       "    <tr>\n",
       "      <th>2</th>\n",
       "      <td>Добавить блоки рекомендаций товаров на сайт ин...</td>\n",
       "      <td>56.0</td>\n",
       "    </tr>\n",
       "    <tr>\n",
       "      <th>0</th>\n",
       "      <td>Добавить два новых канала привлечения трафика,...</td>\n",
       "      <td>40.0</td>\n",
       "    </tr>\n",
       "    <tr>\n",
       "      <th>6</th>\n",
       "      <td>Показать на главной странице баннеры с актуаль...</td>\n",
       "      <td>40.0</td>\n",
       "    </tr>\n",
       "    <tr>\n",
       "      <th>8</th>\n",
       "      <td>Запустить акцию, дающую скидку на товар в день...</td>\n",
       "      <td>16.2</td>\n",
       "    </tr>\n",
       "    <tr>\n",
       "      <th>3</th>\n",
       "      <td>Изменить структура категорий, что увеличит кон...</td>\n",
       "      <td>9.0</td>\n",
       "    </tr>\n",
       "    <tr>\n",
       "      <th>1</th>\n",
       "      <td>Запустить собственную службу доставки, что сок...</td>\n",
       "      <td>4.0</td>\n",
       "    </tr>\n",
       "    <tr>\n",
       "      <th>5</th>\n",
       "      <td>Добавить страницу отзывов клиентов о магазине,...</td>\n",
       "      <td>4.0</td>\n",
       "    </tr>\n",
       "    <tr>\n",
       "      <th>4</th>\n",
       "      <td>Изменить цвет фона главной страницы, чтобы уве...</td>\n",
       "      <td>3.0</td>\n",
       "    </tr>\n",
       "  </tbody>\n",
       "</table>\n",
       "</div>"
      ],
      "text/plain": [
       "                                          hypothesis   RICE\n",
       "7  Добавить форму подписки на все основные страни...  112.0\n",
       "2  Добавить блоки рекомендаций товаров на сайт ин...   56.0\n",
       "0  Добавить два новых канала привлечения трафика,...   40.0\n",
       "6  Показать на главной странице баннеры с актуаль...   40.0\n",
       "8  Запустить акцию, дающую скидку на товар в день...   16.2\n",
       "3  Изменить структура категорий, что увеличит кон...    9.0\n",
       "1  Запустить собственную службу доставки, что сок...    4.0\n",
       "5  Добавить страницу отзывов клиентов о магазине,...    4.0\n",
       "4  Изменить цвет фона главной страницы, чтобы уве...    3.0"
      ]
     },
     "execution_count": 17,
     "metadata": {},
     "output_type": "execute_result"
    }
   ],
   "source": [
    "hypothesis['RICE'] = (hypothesis['reach'] * hypothesis['impact'] * hypothesis['confidence']) / hypothesis['efforts']\n",
    "hypothesis[['hypothesis', 'RICE']].sort_values(by='RICE', ascending=False)"
   ]
  },
  {
   "cell_type": "markdown",
   "metadata": {},
   "source": [
    "Изменение порядка гипотез по фреймворку RICE. Топ 5 : 7, 2, 0, 6, и 8."
   ]
  },
  {
   "cell_type": "markdown",
   "metadata": {},
   "source": [
    "•\tИзменение приоритизации гипотез при применении RICE вместо ICE"
   ]
  },
  {
   "cell_type": "code",
   "execution_count": 18,
   "metadata": {},
   "outputs": [
    {
     "data": {
      "text/html": [
       "<div>\n",
       "<style scoped>\n",
       "    .dataframe tbody tr th:only-of-type {\n",
       "        vertical-align: middle;\n",
       "    }\n",
       "\n",
       "    .dataframe tbody tr th {\n",
       "        vertical-align: top;\n",
       "    }\n",
       "\n",
       "    .dataframe thead th {\n",
       "        text-align: right;\n",
       "    }\n",
       "</style>\n",
       "<table border=\"1\" class=\"dataframe\">\n",
       "  <thead>\n",
       "    <tr style=\"text-align: right;\">\n",
       "      <th></th>\n",
       "      <th>hypothesis</th>\n",
       "      <th>ICE</th>\n",
       "      <th>RICE</th>\n",
       "    </tr>\n",
       "  </thead>\n",
       "  <tbody>\n",
       "    <tr>\n",
       "      <th>7</th>\n",
       "      <td>Добавить форму подписки на все основные страни...</td>\n",
       "      <td>11.200000</td>\n",
       "      <td>112.0</td>\n",
       "    </tr>\n",
       "    <tr>\n",
       "      <th>2</th>\n",
       "      <td>Добавить блоки рекомендаций товаров на сайт ин...</td>\n",
       "      <td>7.000000</td>\n",
       "      <td>56.0</td>\n",
       "    </tr>\n",
       "    <tr>\n",
       "      <th>0</th>\n",
       "      <td>Добавить два новых канала привлечения трафика,...</td>\n",
       "      <td>13.333333</td>\n",
       "      <td>40.0</td>\n",
       "    </tr>\n",
       "    <tr>\n",
       "      <th>6</th>\n",
       "      <td>Показать на главной странице баннеры с актуаль...</td>\n",
       "      <td>8.000000</td>\n",
       "      <td>40.0</td>\n",
       "    </tr>\n",
       "    <tr>\n",
       "      <th>8</th>\n",
       "      <td>Запустить акцию, дающую скидку на товар в день...</td>\n",
       "      <td>16.200000</td>\n",
       "      <td>16.2</td>\n",
       "    </tr>\n",
       "    <tr>\n",
       "      <th>3</th>\n",
       "      <td>Изменить структура категорий, что увеличит кон...</td>\n",
       "      <td>1.125000</td>\n",
       "      <td>9.0</td>\n",
       "    </tr>\n",
       "    <tr>\n",
       "      <th>1</th>\n",
       "      <td>Запустить собственную службу доставки, что сок...</td>\n",
       "      <td>2.000000</td>\n",
       "      <td>4.0</td>\n",
       "    </tr>\n",
       "    <tr>\n",
       "      <th>5</th>\n",
       "      <td>Добавить страницу отзывов клиентов о магазине,...</td>\n",
       "      <td>1.333333</td>\n",
       "      <td>4.0</td>\n",
       "    </tr>\n",
       "    <tr>\n",
       "      <th>4</th>\n",
       "      <td>Изменить цвет фона главной страницы, чтобы уве...</td>\n",
       "      <td>1.000000</td>\n",
       "      <td>3.0</td>\n",
       "    </tr>\n",
       "  </tbody>\n",
       "</table>\n",
       "</div>"
      ],
      "text/plain": [
       "                                          hypothesis        ICE   RICE\n",
       "7  Добавить форму подписки на все основные страни...  11.200000  112.0\n",
       "2  Добавить блоки рекомендаций товаров на сайт ин...   7.000000   56.0\n",
       "0  Добавить два новых канала привлечения трафика,...  13.333333   40.0\n",
       "6  Показать на главной странице баннеры с актуаль...   8.000000   40.0\n",
       "8  Запустить акцию, дающую скидку на товар в день...  16.200000   16.2\n",
       "3  Изменить структура категорий, что увеличит кон...   1.125000    9.0\n",
       "1  Запустить собственную службу доставки, что сок...   2.000000    4.0\n",
       "5  Добавить страницу отзывов клиентов о магазине,...   1.333333    4.0\n",
       "4  Изменить цвет фона главной страницы, чтобы уве...   1.000000    3.0"
      ]
     },
     "execution_count": 18,
     "metadata": {},
     "output_type": "execute_result"
    }
   ],
   "source": [
    "hypothesis[['hypothesis','ICE', 'RICE']].sort_values(by='RICE', ascending=False)"
   ]
  },
  {
   "cell_type": "markdown",
   "metadata": {},
   "source": [
    "Формулы разнятся - RICE учитывает охват, а ICE нет, поэтому изменилась приоритизация гипотез"
   ]
  },
  {
   "cell_type": "markdown",
   "metadata": {},
   "source": [
    "ICE: Самые топовые гипотезы по ICE - это гипотезы \"Запустить акцию, дающую скидку на товар в день рождения\", \"Добавить два новых канала привлечения трафика, что позволит привлекать на 30% больше пользователей\", \"Добавить форму подписки на все основные страницы, чтобы собрать базу клиентов для email-рассылок\".\n",
    "\n",
    "RICE: Самые топовые гипотезы по RICE - гипотезы \"Добавить форму подписки на все основные страницы, чтобы собрать базу клиентов для email-рассылок\", \"Добавить блоки рекомендаций товаров на сайт интернет магазина, чтобы повысить конверсию и средний чек заказа\", \"Добавить два новых канала увеличения трафика, что позволит привлекать на 30% больше пользователей\". \n",
    "\n",
    "По обоим фреймворкам самая топовая гипотеза \"Добавить форму подписки на все основные страницы, чтобы собрать базу клиентов для email-рассылок\"."
   ]
  },
  {
   "cell_type": "markdown",
   "metadata": {},
   "source": [
    "# Часть 2. Анализ A/B-теста"
   ]
  },
  {
   "cell_type": "markdown",
   "metadata": {},
   "source": [
    "1.\tПостроить график кумулятивной выручки по группам"
   ]
  },
  {
   "cell_type": "code",
   "execution_count": 19,
   "metadata": {},
   "outputs": [],
   "source": [
    "datesGroups = orders[['date','group']].drop_duplicates()"
   ]
  },
  {
   "cell_type": "code",
   "execution_count": 20,
   "metadata": {},
   "outputs": [],
   "source": [
    "ordersAggregated = datesGroups.apply(\n",
    "    lambda x: orders[ \n",
    "        np.logical_and( \n",
    "            orders['date'] <= x['date'], orders['group'] == x['group'] \n",
    "        )\n",
    "    ].agg({ \n",
    "        'date': 'max', \n",
    "        'group': 'max', \n",
    "        'transaction_id': pd.Series.nunique, \n",
    "        'visitor_id': pd.Series.nunique, \n",
    "        'revenue': 'sum' \n",
    "    }\n",
    "    ),\n",
    "    axis=1, \n",
    ").sort_values(by=['date', 'group'])"
   ]
  },
  {
   "cell_type": "code",
   "execution_count": 21,
   "metadata": {},
   "outputs": [
    {
     "data": {
      "text/html": [
       "<div>\n",
       "<style scoped>\n",
       "    .dataframe tbody tr th:only-of-type {\n",
       "        vertical-align: middle;\n",
       "    }\n",
       "\n",
       "    .dataframe tbody tr th {\n",
       "        vertical-align: top;\n",
       "    }\n",
       "\n",
       "    .dataframe thead th {\n",
       "        text-align: right;\n",
       "    }\n",
       "</style>\n",
       "<table border=\"1\" class=\"dataframe\">\n",
       "  <thead>\n",
       "    <tr style=\"text-align: right;\">\n",
       "      <th></th>\n",
       "      <th>date</th>\n",
       "      <th>group</th>\n",
       "      <th>orders</th>\n",
       "      <th>buyers</th>\n",
       "      <th>revenue</th>\n",
       "    </tr>\n",
       "  </thead>\n",
       "  <tbody>\n",
       "    <tr>\n",
       "      <th>55</th>\n",
       "      <td>2019-08-01</td>\n",
       "      <td>A</td>\n",
       "      <td>24</td>\n",
       "      <td>20</td>\n",
       "      <td>148579</td>\n",
       "    </tr>\n",
       "    <tr>\n",
       "      <th>66</th>\n",
       "      <td>2019-08-01</td>\n",
       "      <td>B</td>\n",
       "      <td>21</td>\n",
       "      <td>20</td>\n",
       "      <td>101217</td>\n",
       "    </tr>\n",
       "    <tr>\n",
       "      <th>175</th>\n",
       "      <td>2019-08-02</td>\n",
       "      <td>A</td>\n",
       "      <td>44</td>\n",
       "      <td>38</td>\n",
       "      <td>242401</td>\n",
       "    </tr>\n",
       "    <tr>\n",
       "      <th>173</th>\n",
       "      <td>2019-08-02</td>\n",
       "      <td>B</td>\n",
       "      <td>45</td>\n",
       "      <td>43</td>\n",
       "      <td>266748</td>\n",
       "    </tr>\n",
       "    <tr>\n",
       "      <th>291</th>\n",
       "      <td>2019-08-03</td>\n",
       "      <td>A</td>\n",
       "      <td>68</td>\n",
       "      <td>62</td>\n",
       "      <td>354874</td>\n",
       "    </tr>\n",
       "  </tbody>\n",
       "</table>\n",
       "</div>"
      ],
      "text/plain": [
       "          date group  orders  buyers  revenue\n",
       "55  2019-08-01     A      24      20   148579\n",
       "66  2019-08-01     B      21      20   101217\n",
       "175 2019-08-02     A      44      38   242401\n",
       "173 2019-08-02     B      45      43   266748\n",
       "291 2019-08-03     A      68      62   354874"
      ]
     },
     "execution_count": 21,
     "metadata": {},
     "output_type": "execute_result"
    }
   ],
   "source": [
    "ordersAggregated.columns=[\n",
    "    'date',\n",
    "    'group',\n",
    "    'orders',\n",
    "    'buyers',\n",
    "    'revenue'\n",
    "]\n",
    "\n",
    "ordersAggregated.head()"
   ]
  },
  {
   "cell_type": "code",
   "execution_count": 22,
   "metadata": {
    "scrolled": false
   },
   "outputs": [
    {
     "data": {
      "image/png": "[encoded data removed]",
      "text/plain": [
       "<Figure size 1080x720 with 1 Axes>"
      ]
     },
     "metadata": {
      "needs_background": "light"
     },
     "output_type": "display_data"
    }
   ],
   "source": [
    "plt.figure(figsize=(15, 10))\n",
    "plt.grid(axis='both')\n",
    "plt.title('График кумулятивной выручки по группам', fontsize=15)\n",
    "plt.xlabel('Дата', fontsize=12)\n",
    "plt.ylabel('Сумма', fontsize=12)\n",
    "\n",
    "\n",
    "plt.plot(\n",
    "    ordersAggregated[ordersAggregated['group'] == 'A']['date'], \n",
    "    ordersAggregated[ordersAggregated['group'] == 'A']['revenue'],\n",
    "    label='A')\n",
    "\n",
    "plt.plot(\n",
    "    ordersAggregated[ordersAggregated['group'] == 'B']['date'], \n",
    "    ordersAggregated[ordersAggregated['group'] == 'B']['revenue'],\n",
    "    label='B')\n",
    "\n",
    "plt.legend()\n",
    "plt.show()\n"
   ]
  },
  {
   "cell_type": "markdown",
   "metadata": {},
   "source": [
    "Таким образом, в целом кумулятивная выручка в группе \"В\" растет выше\n",
    "Скачок от 18-19 августа скорее обусловлен каким-то непрогнозируемым колебанием, поэтому имеет смысл изучить дополнительно или увеличить длительность теста."
   ]
  },
  {
   "cell_type": "markdown",
   "metadata": {},
   "source": [
    "2.\tПостроить график кумулятивного среднего чека по группам"
   ]
  },
  {
   "cell_type": "code",
   "execution_count": 23,
   "metadata": {},
   "outputs": [
    {
     "data": {
      "image/png": "[encoded data removed]",
      "text/plain": [
       "<Figure size 1080x720 with 1 Axes>"
      ]
     },
     "metadata": {
      "needs_background": "light"
     },
     "output_type": "display_data"
    }
   ],
   "source": [
    "plt.figure(figsize=(15, 10))\n",
    "plt.grid(axis='both')\n",
    "plt.title('График кумулятивного среднего чека по группам', fontsize=15)\n",
    "plt.xlabel('Дата', fontsize=12)\n",
    "plt.ylabel('Сумма', fontsize=12)\n",
    "\n",
    "plt.plot(\n",
    "    ordersAggregated[ordersAggregated['group'] == 'A']['date'], \n",
    "    ordersAggregated[ordersAggregated['group'] == 'A']['revenue']/ordersAggregated[ordersAggregated['group'] == 'A']['orders'],\n",
    "    label='A')\n",
    "\n",
    "plt.plot(\n",
    "    ordersAggregated[ordersAggregated['group'] == 'B']['date'], \n",
    "    ordersAggregated[ordersAggregated['group'] == 'B']['revenue']/ordersAggregated[ordersAggregated['group'] == 'B']['orders'],\n",
    "    label='B')\n",
    "\n",
    "plt.legend()\n",
    "plt.show()"
   ]
  },
  {
   "cell_type": "markdown",
   "metadata": {},
   "source": [
    "В начале средний чек в группе В показал заметный рост на фоне снижения чека в группе А \n",
    "Между 5 и 11 августа можно наблюдать последовательный рост среднего чека сначала в группе А, а потом в группе В. С 13 августа заметно снижение среднего чека группы В и пиковое значение метрики для группы А. Необходимо продолжать тест дальше. с 18 августа на графике изменения среднего чека произошел резкий скачок суммы среднего чека группы В. \n",
    "Далее произошел рост А при снижении чека группы В, но значительный разрыв между группами сохраняется."
   ]
  },
  {
   "cell_type": "markdown",
   "metadata": {},
   "source": [
    "3.\tПостроить график относительного изменения кумулятивного среднего чека группы B к группе A"
   ]
  },
  {
   "cell_type": "code",
   "execution_count": 24,
   "metadata": {},
   "outputs": [
    {
     "data": {
      "image/png": "[encoded data removed]",
      "text/plain": [
       "<Figure size 1080x720 with 1 Axes>"
      ]
     },
     "metadata": {
      "needs_background": "light"
     },
     "output_type": "display_data"
    }
   ],
   "source": [
    "cumulativeRevenueA = ordersAggregated[ordersAggregated['group'] == 'A'][['date', 'revenue', 'orders']]\n",
    "cumulativeRevenueB = ordersAggregated[ordersAggregated['group'] == 'B'][['date', 'revenue', 'orders']]\n",
    "cumulativeRevenue = cumulativeRevenueA.merge(cumulativeRevenueB, on='date', how='left', suffixes=['A', 'B'])\n",
    "plt.figure(figsize=(15, 10))\n",
    "plt.grid(axis='both')\n",
    "plt.title('График относительного изменения кумулятивного среднего чека группы B к группе A', \n",
    "          fontsize=14)\n",
    "\n",
    "plt.plot(\n",
    "    cumulativeRevenue['date'],\n",
    "    ((cumulativeRevenue['revenueB'] / cumulativeRevenue['ordersB'])/(cumulativeRevenue['revenueA'] / cumulativeRevenue['ordersA'])-1)\n",
    ")\n",
    "\n",
    "plt.xlabel('Дата', fontsize=12)\n",
    "\n",
    "plt.axhline(y=0, color='black', linestyle='--')\n",
    "\n",
    "plt.show()"
   ]
  },
  {
   "cell_type": "markdown",
   "metadata": {},
   "source": [
    "Слишком резкие колебания, необходимо проверить данные на наличие аномальных пользователей. Все три графика демонстрируют схожую картину."
   ]
  },
  {
   "cell_type": "markdown",
   "metadata": {},
   "source": [
    "4.\tПостроить график кумулятивного среднего количества заказов на посетителя по группам"
   ]
  },
  {
   "cell_type": "code",
   "execution_count": 25,
   "metadata": {},
   "outputs": [],
   "source": [
    "visitorsAggregated = datesGroups.apply(\n",
    "    lambda x: visitors[\n",
    "        np.logical_and(\n",
    "            visitors['date'] <= x['date'], visitors['group'] == x['group']\n",
    "        )\n",
    "    ].agg({\n",
    "        'date': 'max',\n",
    "        'group': 'max',\n",
    "        'visitors': 'sum'\n",
    "    }\n",
    "    ),\n",
    "    axis=1,\n",
    ").sort_values(by=['date', 'group'])"
   ]
  },
  {
   "cell_type": "code",
   "execution_count": 26,
   "metadata": {},
   "outputs": [
    {
     "data": {
      "text/html": [
       "<div>\n",
       "<style scoped>\n",
       "    .dataframe tbody tr th:only-of-type {\n",
       "        vertical-align: middle;\n",
       "    }\n",
       "\n",
       "    .dataframe tbody tr th {\n",
       "        vertical-align: top;\n",
       "    }\n",
       "\n",
       "    .dataframe thead th {\n",
       "        text-align: right;\n",
       "    }\n",
       "</style>\n",
       "<table border=\"1\" class=\"dataframe\">\n",
       "  <thead>\n",
       "    <tr style=\"text-align: right;\">\n",
       "      <th></th>\n",
       "      <th>date</th>\n",
       "      <th>group</th>\n",
       "      <th>orders</th>\n",
       "      <th>buyers</th>\n",
       "      <th>revenue</th>\n",
       "      <th>visitors</th>\n",
       "    </tr>\n",
       "  </thead>\n",
       "  <tbody>\n",
       "    <tr>\n",
       "      <th>0</th>\n",
       "      <td>2019-08-01</td>\n",
       "      <td>A</td>\n",
       "      <td>24</td>\n",
       "      <td>20</td>\n",
       "      <td>148579</td>\n",
       "      <td>719</td>\n",
       "    </tr>\n",
       "    <tr>\n",
       "      <th>1</th>\n",
       "      <td>2019-08-01</td>\n",
       "      <td>B</td>\n",
       "      <td>21</td>\n",
       "      <td>20</td>\n",
       "      <td>101217</td>\n",
       "      <td>713</td>\n",
       "    </tr>\n",
       "    <tr>\n",
       "      <th>2</th>\n",
       "      <td>2019-08-02</td>\n",
       "      <td>A</td>\n",
       "      <td>44</td>\n",
       "      <td>38</td>\n",
       "      <td>242401</td>\n",
       "      <td>1338</td>\n",
       "    </tr>\n",
       "    <tr>\n",
       "      <th>3</th>\n",
       "      <td>2019-08-02</td>\n",
       "      <td>B</td>\n",
       "      <td>45</td>\n",
       "      <td>43</td>\n",
       "      <td>266748</td>\n",
       "      <td>1294</td>\n",
       "    </tr>\n",
       "    <tr>\n",
       "      <th>4</th>\n",
       "      <td>2019-08-03</td>\n",
       "      <td>A</td>\n",
       "      <td>68</td>\n",
       "      <td>62</td>\n",
       "      <td>354874</td>\n",
       "      <td>1845</td>\n",
       "    </tr>\n",
       "  </tbody>\n",
       "</table>\n",
       "</div>"
      ],
      "text/plain": [
       "        date group  orders  buyers  revenue  visitors\n",
       "0 2019-08-01     A      24      20   148579       719\n",
       "1 2019-08-01     B      21      20   101217       713\n",
       "2 2019-08-02     A      44      38   242401      1338\n",
       "3 2019-08-02     B      45      43   266748      1294\n",
       "4 2019-08-03     A      68      62   354874      1845"
      ]
     },
     "execution_count": 26,
     "metadata": {},
     "output_type": "execute_result"
    }
   ],
   "source": [
    "cumulativeData = ordersAggregated.merge(visitorsAggregated, left_on=['date', 'group'], right_on=['date', 'group'])\n",
    "cumulativeData.columns = ['date', 'group', 'orders', 'buyers', 'revenue', 'visitors']\n",
    "cumulativeData.head()"
   ]
  },
  {
   "cell_type": "code",
   "execution_count": 27,
   "metadata": {},
   "outputs": [],
   "source": [
    "cumulativeData['conversion'] = cumulativeData['orders'] / cumulativeData['visitors']"
   ]
  },
  {
   "cell_type": "code",
   "execution_count": 28,
   "metadata": {},
   "outputs": [],
   "source": [
    "cumulativeDataA = cumulativeData[cumulativeData['group']=='A']\n",
    "cumulativeDataB = cumulativeData[cumulativeData['group']=='B']"
   ]
  },
  {
   "cell_type": "code",
   "execution_count": 29,
   "metadata": {
    "scrolled": false
   },
   "outputs": [
    {
     "data": {
      "image/png": "[encoded data removed]",
      "text/plain": [
       "<Figure size 1080x720 with 1 Axes>"
      ]
     },
     "metadata": {
      "needs_background": "light"
     },
     "output_type": "display_data"
    }
   ],
   "source": [
    "plt.figure(figsize=(15, 10))\n",
    "plt.grid(axis='both')\n",
    "plt.title('График кумулятивного среднего количества заказов на посетителя по группам', fontsize=15)\n",
    "\n",
    "plt.xlabel('Дата', fontsize=12)\n",
    "plt.ylabel('Кумулятивное среднее количество заказов', fontsize=12)\n",
    "\n",
    "plt.plot(cumulativeDataA['date'], cumulativeDataA['conversion'], label='A')\n",
    "plt.plot(cumulativeDataB['date'], cumulativeDataB['conversion'], label='B')\n",
    "\n",
    "\n",
    "plt.legend()\n",
    "plt.show()"
   ]
  },
  {
   "cell_type": "markdown",
   "metadata": {},
   "source": [
    "В начале наблюдаются сильные колебания среднего количества заказов в обеих группах, однако с 6 августа данные \"выровнялись\".Таким образом, показатели группы В более привлекательны."
   ]
  },
  {
   "cell_type": "markdown",
   "metadata": {},
   "source": [
    "5.\tПостроить график относительного изменения кумулятивного среднего количества заказов на посетителя группы B к группе A"
   ]
  },
  {
   "cell_type": "code",
   "execution_count": 30,
   "metadata": {},
   "outputs": [
    {
     "data": {
      "image/png": "[encoded data removed]",
      "text/plain": [
       "<Figure size 1080x720 with 1 Axes>"
      ]
     },
     "metadata": {
      "needs_background": "light"
     },
     "output_type": "display_data"
    }
   ],
   "source": [
    "mergedCumulativeConversions = cumulativeDataA[['date','conversion']].merge(cumulativeDataB[['date','conversion']], left_on='date', right_on='date', how='left', suffixes=['A', 'B'])\n",
    "plt.figure(figsize=(15, 10))\n",
    "plt.grid(axis='both')\n",
    "plt.title('График относительного изменения кумулятивного среднего количества заказов на посетителя группы B к группе A', \n",
    "          fontsize=15)\n",
    "\n",
    "plt.xlabel('Дата', fontsize=12)\n",
    "plt.ylabel('Изменение среднего количества заказов на посетителя группы B к группе A', fontsize=12)\n",
    "plt.plot(mergedCumulativeConversions['date'], mergedCumulativeConversions['conversionB']/mergedCumulativeConversions['conversionA']-1, label=\"Относительный прирост среднего количества заказов группы B к A\")\n",
    "plt.legend()\n",
    "\n",
    "plt.axhline(y=0, color='black', linestyle='--')\n",
    "plt.axhline(y=0.15, color='grey', linestyle='--')\n",
    "plt.show();\n"
   ]
  },
  {
   "cell_type": "markdown",
   "metadata": {},
   "source": [
    "Как и в предыдущих графиках, которые были изучены ранее, можно заметить период колебаний с 1 по 6 августа. В этот период наблюдаются резкие скачки отношения данных группы В к группе А.\n",
    "С 6 августа наблюдается тенденция к росту разрыва между среднего количества заказов двух групп до 17 августа - далее наблюдается небольшое снижение показателя группы В.  "
   ]
  },
  {
   "cell_type": "markdown",
   "metadata": {},
   "source": [
    "6.\tПостроить точечный график количества заказов по пользователям"
   ]
  },
  {
   "cell_type": "code",
   "execution_count": 31,
   "metadata": {},
   "outputs": [],
   "source": [
    "ordersByUsers = (\n",
    "    orders.groupby('visitor_id', as_index=False)\n",
    "    .agg({'transaction_id': 'nunique'})\n",
    ")\n",
    "ordersByUsers.columns =  ['visitor_id', 'orders']\n"
   ]
  },
  {
   "cell_type": "code",
   "execution_count": 32,
   "metadata": {
    "scrolled": false
   },
   "outputs": [
    {
     "data": {
      "image/png": "[encoded data removed]",
      "text/plain": [
       "<Figure size 1080x720 with 1 Axes>"
      ]
     },
     "metadata": {
      "needs_background": "light"
     },
     "output_type": "display_data"
    }
   ],
   "source": [
    "x_values = pd.Series(range(0, len(ordersByUsers)))\n",
    "\n",
    "plt.figure(figsize=(15, 10))\n",
    "plt.grid(axis='both')\n",
    "plt.title('Точечный график количества заказов по пользователям', fontsize=15)\n",
    "\n",
    "plt.ylabel('Количество заказов пользователя', fontsize=12)\n",
    "\n",
    "plt.scatter(x_values, ordersByUsers['orders'], color = 'purple')\n",
    "\n",
    "plt.show()"
   ]
  },
  {
   "cell_type": "markdown",
   "metadata": {},
   "source": [
    "Таким образом, бОльшая часть людей совершает покупку один раз, но часты случаи 2-3 заказов."
   ]
  },
  {
   "cell_type": "markdown",
   "metadata": {},
   "source": [
    "7.\tПосчитать 95-й и 99-й перцентили количества заказов на пользователя. "
   ]
  },
  {
   "cell_type": "code",
   "execution_count": 33,
   "metadata": {
    "scrolled": true
   },
   "outputs": [
    {
     "name": "stdout",
     "output_type": "stream",
     "text": [
      "95 перцентиль: 2.00\n",
      "99 перцентиль: 4.00\n"
     ]
    }
   ],
   "source": [
    "print('95 перцентиль: %.2f' % (np.percentile(ordersByUsers['orders'], [95])))\n",
    "print('99 перцентиль: %.2f' % (np.percentile(ordersByUsers['orders'], [99])))"
   ]
  },
  {
   "cell_type": "markdown",
   "metadata": {},
   "source": [
    "Не более 5% пользователей совершали больше 2-х покупок, а 1% - четыре и более.\n",
    "Принять за верхнюю границу 4 заказа на одного пользователя."
   ]
  },
  {
   "cell_type": "markdown",
   "metadata": {},
   "source": [
    "8.\tПостроить точечный график стоимостей заказов"
   ]
  },
  {
   "cell_type": "code",
   "execution_count": 34,
   "metadata": {
    "scrolled": false
   },
   "outputs": [
    {
     "data": {
      "image/png": "[encoded data removed]",
      "text/plain": [
       "<Figure size 1080x720 with 1 Axes>"
      ]
     },
     "metadata": {
      "needs_background": "light"
     },
     "output_type": "display_data"
    }
   ],
   "source": [
    "x_values = pd.Series(range(0, len(orders)))\n",
    "\n",
    "plt.figure(figsize=(15, 10))\n",
    "plt.grid(axis='both')\n",
    "plt.title('Точечный график стоимостей заказов', fontsize=15)\n",
    "\n",
    "plt.ylabel('Сумма заказа, у.е.', fontsize=12)\n",
    "\n",
    "plt.scatter(x_values, orders['revenue'], color = 'green')\n",
    "\n",
    "plt.show()"
   ]
  },
  {
   "cell_type": "markdown",
   "metadata": {},
   "source": [
    "На графике бросаются в глаза 2 выброса с большим объемом закупки, возможно это крупные предприятия покупали оптом."
   ]
  },
  {
   "cell_type": "markdown",
   "metadata": {},
   "source": [
    "9.\tПосчитать 95-й и 99-й перцентили стоимости заказов "
   ]
  },
  {
   "cell_type": "code",
   "execution_count": 35,
   "metadata": {},
   "outputs": [
    {
     "name": "stdout",
     "output_type": "stream",
     "text": [
      "95 перцентиль: 28000.00\n",
      "99 перцентиль: 58233.20\n"
     ]
    }
   ],
   "source": [
    "print('95 перцентиль: %.2f' % (np.percentile(orders['revenue'], [95])))\n",
    "print('99 перцентиль: %.2f' % (np.percentile(orders['revenue'], [99])))"
   ]
  },
  {
   "cell_type": "code",
   "execution_count": 36,
   "metadata": {},
   "outputs": [
    {
     "data": {
      "text/plain": [
       "1294500"
      ]
     },
     "execution_count": 36,
     "metadata": {},
     "output_type": "execute_result"
    }
   ],
   "source": [
    "orders['revenue'].max()"
   ]
  },
  {
   "cell_type": "markdown",
   "metadata": {},
   "source": [
    "Возможно это была единоразовая крупная покупка на сумму 1294500.\n",
    "Все что за пределами 99 процентиля - аномальные значения."
   ]
  },
  {
   "cell_type": "markdown",
   "metadata": {},
   "source": [
    "10.\tПосчитать статистическую значимость различий в среднем количестве заказов на посетителя между группами по «сырым» данным. "
   ]
  },
  {
   "cell_type": "code",
   "execution_count": 37,
   "metadata": {},
   "outputs": [
    {
     "data": {
      "text/html": [
       "<div>\n",
       "<style scoped>\n",
       "    .dataframe tbody tr th:only-of-type {\n",
       "        vertical-align: middle;\n",
       "    }\n",
       "\n",
       "    .dataframe tbody tr th {\n",
       "        vertical-align: top;\n",
       "    }\n",
       "\n",
       "    .dataframe thead th {\n",
       "        text-align: right;\n",
       "    }\n",
       "</style>\n",
       "<table border=\"1\" class=\"dataframe\">\n",
       "  <thead>\n",
       "    <tr style=\"text-align: right;\">\n",
       "      <th></th>\n",
       "      <th>date</th>\n",
       "      <th>ordersADaily</th>\n",
       "      <th>revenuePerDateA</th>\n",
       "      <th>ordersBDaily</th>\n",
       "      <th>revenuePerDateB</th>\n",
       "      <th>ordersACummulative</th>\n",
       "      <th>revenueCummulativeA</th>\n",
       "      <th>ordersBCummulative</th>\n",
       "      <th>revenueCummulativeB</th>\n",
       "      <th>visitorsPerDateA</th>\n",
       "      <th>visitorsPerDateB</th>\n",
       "      <th>visitorsCummulativeA</th>\n",
       "      <th>visitorsCummulativeB</th>\n",
       "    </tr>\n",
       "  </thead>\n",
       "  <tbody>\n",
       "    <tr>\n",
       "      <th>0</th>\n",
       "      <td>2019-08-01</td>\n",
       "      <td>24</td>\n",
       "      <td>148579</td>\n",
       "      <td>21</td>\n",
       "      <td>101217</td>\n",
       "      <td>24</td>\n",
       "      <td>148579</td>\n",
       "      <td>21</td>\n",
       "      <td>101217</td>\n",
       "      <td>719</td>\n",
       "      <td>713</td>\n",
       "      <td>719</td>\n",
       "      <td>713</td>\n",
       "    </tr>\n",
       "    <tr>\n",
       "      <th>1</th>\n",
       "      <td>2019-08-02</td>\n",
       "      <td>20</td>\n",
       "      <td>93822</td>\n",
       "      <td>24</td>\n",
       "      <td>165531</td>\n",
       "      <td>44</td>\n",
       "      <td>242401</td>\n",
       "      <td>45</td>\n",
       "      <td>266748</td>\n",
       "      <td>619</td>\n",
       "      <td>581</td>\n",
       "      <td>1338</td>\n",
       "      <td>1294</td>\n",
       "    </tr>\n",
       "    <tr>\n",
       "      <th>2</th>\n",
       "      <td>2019-08-03</td>\n",
       "      <td>24</td>\n",
       "      <td>112473</td>\n",
       "      <td>16</td>\n",
       "      <td>114248</td>\n",
       "      <td>68</td>\n",
       "      <td>354874</td>\n",
       "      <td>61</td>\n",
       "      <td>380996</td>\n",
       "      <td>507</td>\n",
       "      <td>509</td>\n",
       "      <td>1845</td>\n",
       "      <td>1803</td>\n",
       "    </tr>\n",
       "    <tr>\n",
       "      <th>3</th>\n",
       "      <td>2019-08-04</td>\n",
       "      <td>16</td>\n",
       "      <td>70825</td>\n",
       "      <td>17</td>\n",
       "      <td>108571</td>\n",
       "      <td>84</td>\n",
       "      <td>425699</td>\n",
       "      <td>78</td>\n",
       "      <td>489567</td>\n",
       "      <td>717</td>\n",
       "      <td>770</td>\n",
       "      <td>2562</td>\n",
       "      <td>2573</td>\n",
       "    </tr>\n",
       "    <tr>\n",
       "      <th>4</th>\n",
       "      <td>2019-08-05</td>\n",
       "      <td>25</td>\n",
       "      <td>124218</td>\n",
       "      <td>23</td>\n",
       "      <td>92428</td>\n",
       "      <td>109</td>\n",
       "      <td>549917</td>\n",
       "      <td>101</td>\n",
       "      <td>581995</td>\n",
       "      <td>756</td>\n",
       "      <td>707</td>\n",
       "      <td>3318</td>\n",
       "      <td>3280</td>\n",
       "    </tr>\n",
       "  </tbody>\n",
       "</table>\n",
       "</div>"
      ],
      "text/plain": [
       "        date  ordersADaily  revenuePerDateA  ordersBDaily  revenuePerDateB  \\\n",
       "0 2019-08-01            24           148579            21           101217   \n",
       "1 2019-08-02            20            93822            24           165531   \n",
       "2 2019-08-03            24           112473            16           114248   \n",
       "3 2019-08-04            16            70825            17           108571   \n",
       "4 2019-08-05            25           124218            23            92428   \n",
       "\n",
       "   ordersACummulative  revenueCummulativeA  ordersBCummulative  \\\n",
       "0                  24               148579                  21   \n",
       "1                  44               242401                  45   \n",
       "2                  68               354874                  61   \n",
       "3                  84               425699                  78   \n",
       "4                 109               549917                 101   \n",
       "\n",
       "   revenueCummulativeB  visitorsPerDateA  visitorsPerDateB  \\\n",
       "0               101217               719               713   \n",
       "1               266748               619               581   \n",
       "2               380996               507               509   \n",
       "3               489567               717               770   \n",
       "4               581995               756               707   \n",
       "\n",
       "   visitorsCummulativeA  visitorsCummulativeB  \n",
       "0                   719                   713  \n",
       "1                  1338                  1294  \n",
       "2                  1845                  1803  \n",
       "3                  2562                  2573  \n",
       "4                  3318                  3280  "
      ]
     },
     "execution_count": 37,
     "metadata": {},
     "output_type": "execute_result"
    }
   ],
   "source": [
    "visitorsADaily = visitors[visitors['group'] == 'A'][['date', 'visitors']]\n",
    "visitorsADaily.columns = ['date', 'visitorsPerDateA']\n",
    "\n",
    "visitorsACummulative = visitorsADaily.apply(\n",
    "    lambda x: visitorsADaily[visitorsADaily['date'] <= x['date']].agg(\n",
    "        {'date': 'max', 'visitorsPerDateA': 'sum'}\n",
    "    ),\n",
    "    axis=1,\n",
    ")\n",
    "visitorsACummulative.columns = ['date', 'visitorsCummulativeA']\n",
    "\n",
    "visitorsBDaily = visitors[visitors['group'] == 'B'][['date', 'visitors']]\n",
    "visitorsBDaily.columns = ['date', 'visitorsPerDateB']\n",
    "\n",
    "visitorsBCummulative = visitorsBDaily.apply(\n",
    "    lambda x: visitorsBDaily[visitorsBDaily['date'] <= x['date']].agg(\n",
    "        {'date': 'max', 'visitorsPerDateB': 'sum'}\n",
    "    ),\n",
    "    axis=1,\n",
    ")\n",
    "visitorsBCummulative.columns = ['date', 'visitorsCummulativeB']\n",
    "\n",
    "ordersADaily = (\n",
    "    orders[orders['group'] == 'A'][['date', 'transaction_id', 'visitor_id', 'revenue']]\n",
    "    .groupby('date', as_index=False)\n",
    "    .agg({'transaction_id': pd.Series.nunique, 'revenue': 'sum'})\n",
    ")\n",
    "ordersADaily.columns = ['date', 'ordersADaily', 'revenuePerDateA']\n",
    "\n",
    "ordersACummulative = ordersADaily.apply(\n",
    "    lambda x: ordersADaily[ordersADaily['date'] <= x['date']].agg(\n",
    "        {'date': 'max', 'ordersADaily': 'sum', 'revenuePerDateA': 'sum'}\n",
    "    ),\n",
    "    axis=1,\n",
    ").sort_values(by=['date'])\n",
    "ordersACummulative.columns = ['date','ordersACummulative','revenueCummulativeA']\n",
    "\n",
    "ordersBDaily = (\n",
    "    orders[orders['group'] == 'B'][['date', 'transaction_id', 'visitor_id', 'revenue']]\n",
    "    .groupby('date', as_index=False)\n",
    "    .agg({'transaction_id': pd.Series.nunique, 'revenue': 'sum'})\n",
    ")\n",
    "ordersBDaily.columns = ['date', 'ordersBDaily', 'revenuePerDateB']\n",
    "\n",
    "ordersBCummulative = ordersBDaily.apply(\n",
    "    lambda x: ordersBDaily[ordersBDaily['date'] <= x['date']].agg(\n",
    "        {'date': 'max', 'ordersBDaily': 'sum', 'revenuePerDateB': 'sum'}\n",
    "    ),\n",
    "    axis=1,\n",
    ").sort_values(by=['date'])\n",
    "\n",
    "ordersBCummulative.columns = ['date','ordersBCummulative','revenueCummulativeB']\n",
    "\n",
    "\n",
    "data = (\n",
    "    ordersADaily.merge(\n",
    "        ordersBDaily, left_on='date', right_on='date', how='left'\n",
    "    )\n",
    "    .merge(ordersACummulative, left_on='date', right_on='date', how='left')\n",
    "    .merge(ordersBCummulative, left_on='date', right_on='date', how='left')\n",
    "    .merge(visitorsADaily, left_on='date', right_on='date', how='left')\n",
    "    .merge(visitorsBDaily, left_on='date', right_on='date', how='left')\n",
    "    .merge(visitorsACummulative, left_on='date', right_on='date', how='left')\n",
    "    .merge(visitorsBCummulative, left_on='date', right_on='date', how='left')\n",
    ")\n",
    "\n",
    "data.head()"
   ]
  },
  {
   "cell_type": "markdown",
   "metadata": {},
   "source": [
    "•\tdate — дата;\n",
    "\n",
    "•\tordersPerDateA — количество заказов в выбранную дату в группе A;\n",
    "\n",
    "•\trevenuePerDateA — суммарная выручка в выбранную дату в группе A;\n",
    "\n",
    "•\tordersPerDateB — количество заказов в выбранную дату в группе B;\n",
    "\n",
    "•\trevenuePerDateB — суммарная выручка в выбранную дату в группе B;\n",
    "\n",
    "•\tordersCummulativeA — суммарное число заказов до выбранной даты включительно в группе A;\n",
    "\n",
    "•\trevenueCummulativeA — суммарная выручка до выбранной даты включительно в группе A;\n",
    "\n",
    "•\tordersCummulativeB — суммарное количество заказов до выбранной даты включительно в группе B;\n",
    "\n",
    "•\trevenueCummulativeB — суммарная выручка до выбранной даты включительно в группе B;\n",
    "\n",
    "•\tvisitorsPerDateA — количество пользователей в выбранную дату в группе A;\n",
    "\n",
    "•\tvisitorsPerDateB — количество пользователей в выбранную дату в группе B;\n",
    "\n",
    "•\tvisitorsCummulativeA — количество пользователей до выбранной даты включительно в группе A;\n",
    "\n",
    "•\tvisitorsCummulativeB — количество пользователей до выбранной даты включительно в группе B.\n"
   ]
  },
  {
   "cell_type": "markdown",
   "metadata": {},
   "source": [
    "Создать переменные ordersByUsersA и ordersByUsersB со столбцами ['visitor_id', 'orders']. В них для пользователей, которые заказывали хотя бы 1 раз, укажем число совершённых заказов. "
   ]
  },
  {
   "cell_type": "code",
   "execution_count": 38,
   "metadata": {},
   "outputs": [],
   "source": [
    "ordersByUsersA = (\n",
    "    orders[orders['group'] == 'A']\n",
    "    .groupby('visitor_id', as_index=False)\n",
    "    .agg({'transaction_id': pd.Series.nunique})\n",
    ")\n",
    "ordersByUsersA.columns = ['visitor_id', 'orders']\n",
    "\n",
    "ordersByUsersB = (\n",
    "    orders[orders['group'] == 'B']\n",
    "    .groupby('visitor_id', as_index=False)\n",
    "    .agg({'transaction_id': pd.Series.nunique})\n",
    ")\n",
    "ordersByUsersB.columns = ['visitor_id', 'orders']"
   ]
  },
  {
   "cell_type": "markdown",
   "metadata": {},
   "source": [
    "Объявить переменные sampleA и sampleB, в которых пользователям из разных групп будет соответствовать количество заказов. Тем, кто ничего не заказал, будут соответствовать нули. Это нужно, чтобы подготовить выборки к проверке критерием Манна-Уитни.\n"
   ]
  },
  {
   "cell_type": "markdown",
   "metadata": {},
   "source": [
    "H0: Статистически значимых различий по количеству заказов между группами нет\n",
    "\n",
    "H1: Статистически значимые различия по количеству заказов между группами есть"
   ]
  },
  {
   "cell_type": "markdown",
   "metadata": {},
   "source": [
    "Уровень значимости alpha = .05\n",
    "\n",
    "Так как в данной работе не были проверены данные на нормальность распределения, поэтому используется непараметрический статистический критерий Манна-Уитни, предназначенный для выявления различий показателей в двух несвязных выборках."
   ]
  },
  {
   "cell_type": "code",
   "execution_count": 39,
   "metadata": {
    "scrolled": true
   },
   "outputs": [
    {
     "name": "stdout",
     "output_type": "stream",
     "text": [
      "p-значение:  0.017\n",
      "Отвергаем нулевую гипотезу\n",
      "Относительный выигрыш группы B: 0.138\n"
     ]
    }
   ],
   "source": [
    "sampleA = pd.concat([ordersByUsersA['orders'],\n",
    "                      pd.Series(\n",
    "                          0, \n",
    "                          index=np.arange(data['visitorsPerDateA'].sum() - \n",
    "                                          len(ordersByUsersA['orders'])), \n",
    "                          name='orders')],axis=0\n",
    "                    )\n",
    "\n",
    "sampleB = pd.concat([ordersByUsersB['orders'],\n",
    "                      pd.Series(\n",
    "                          0, \n",
    "                          index=np.arange(data['visitorsPerDateB'].sum() - \n",
    "                                          len(ordersByUsersB['orders'])), \n",
    "                          name='orders')],axis=0\n",
    "                    )\n",
    "alpha = .05 \n",
    "results = st.mannwhitneyu(sampleA, sampleB)\n",
    "\n",
    "\n",
    "print('p-значение: ', \"{0:.3f}\".format(results.pvalue))\n",
    "\n",
    "if results.pvalue < alpha:\n",
    "    print(\"Отвергаем нулевую гипотезу\")\n",
    "else:\n",
    "    print(\"Не получилось отвергнуть нулевую гипотезу\") \n",
    "\n",
    "print('Относительный выигрыш группы B:', \"{0:.3f}\".format(sampleB.mean() / sampleA.mean() - 1))"
   ]
  },
  {
   "cell_type": "markdown",
   "metadata": {},
   "source": [
    "По «сырым» данным статистически значимые различия по среднему количеству заказов в группах A и B есть. \n",
    "Первое число — p-value = 0.017 меньше 0.05. Относительный выигрыш группы B равен 13.8%.\n"
   ]
  },
  {
   "cell_type": "markdown",
   "metadata": {},
   "source": [
    "11.\tПосчитать статистическую значимость различий в среднем чеке заказа между группами по «сырым» данным"
   ]
  },
  {
   "cell_type": "markdown",
   "metadata": {},
   "source": [
    "Теперь необходимо проверить статистическую значимость различий в среднем чеке между сегментами.\n",
    "\n",
    "H0: Статистически значимых различий по средним чекам между группами нет\n",
    "\n",
    "H1: Статистически значимые различия по средним чекам между группами есть\n",
    "\n",
    "Чтобы рассчитать статистическую значимость различий в среднем чеке, критерию mannwhitneyu() передать данные о выручке с заказов. \n"
   ]
  },
  {
   "cell_type": "code",
   "execution_count": 40,
   "metadata": {},
   "outputs": [
    {
     "name": "stdout",
     "output_type": "stream",
     "text": [
      "p-значение:  0.729\n",
      "Не получилось отвергнуть нулевую гипотезу\n",
      "Относительный прирост В к А: 0.259\n"
     ]
    }
   ],
   "source": [
    "alpha = .05 \n",
    "results = st.mannwhitneyu(orders[orders['group']=='A']['revenue'], orders[orders['group']=='B']['revenue'])\n",
    "print('p-значение: ','{0:.3f}'.format(st.mannwhitneyu(orders[orders['group']=='A']['revenue'], orders[orders['group']=='B']['revenue'])[1]))\n",
    "if results.pvalue < alpha:\n",
    "    print(\"Отвергаем нулевую гипотезу\")\n",
    "else:\n",
    "    print(\"Не получилось отвергнуть нулевую гипотезу\") \n",
    "print('Относительный прирост В к А:','{0:.3f}'.format(orders[orders['group']=='B']['revenue'].mean()/orders[orders['group']=='A']['revenue'].mean()-1)) \n"
   ]
  },
  {
   "cell_type": "markdown",
   "metadata": {},
   "source": [
    "P-value значительно больше 0.05. Значит, причин отвергать нулевую гипотезу и считать, что в среднем чеке есть различия, нет. Впрочем, средний чек группы B выше среднего чека группы A (25.9%)."
   ]
  },
  {
   "cell_type": "markdown",
   "metadata": {},
   "source": [
    "12.\tПосчитать статистическую значимость различий в среднем количестве заказов на посетителя между группами по «очищенным» данным"
   ]
  },
  {
   "cell_type": "code",
   "execution_count": 41,
   "metadata": {},
   "outputs": [
    {
     "data": {
      "text/plain": [
       "1099     148427295\n",
       "949      887908475\n",
       "744      888512513\n",
       "1103    1164614297\n",
       "1136    1307669133\n",
       "Name: visitor_id, dtype: int64"
      ]
     },
     "metadata": {},
     "output_type": "display_data"
    },
    {
     "data": {
      "text/plain": [
       "15"
      ]
     },
     "execution_count": 41,
     "metadata": {},
     "output_type": "execute_result"
    }
   ],
   "source": [
    "ManyOrders = np.percentile(ordersByUsers['orders'], 99)\n",
    "ExpensiveOrders = np.percentile(orders['revenue'], 99)\n",
    "\n",
    "\n",
    "usersWithManyOrders = pd.concat(\n",
    "    [\n",
    "        ordersByUsersA[ordersByUsersA['orders'] > ManyOrders]['visitor_id'],\n",
    "        ordersByUsersB[ordersByUsersB['orders'] > ManyOrders]['visitor_id'],\n",
    "    ],\n",
    "    axis=0,\n",
    ")\n",
    "\n",
    "\n",
    "usersWithExpensiveOrders = orders[orders['revenue'] > ExpensiveOrders]['visitor_id']\n",
    "\n",
    "\n",
    "abnormalUsers = (\n",
    "    pd.concat([usersWithManyOrders, usersWithExpensiveOrders], axis=0)\n",
    "    .drop_duplicates()\n",
    "    .sort_values()\n",
    ")\n",
    "display(abnormalUsers.head(5))\n",
    "abnormalUsers.shape[0]"
   ]
  },
  {
   "cell_type": "markdown",
   "metadata": {},
   "source": [
    "Всего 15 аномальных пользователей. \n",
    "Необходимо узнать, как их действия повлияли на результаты теста. Посчитать статистическую значимость различий в среднем количестве заказов между группами теста по очищенным данным. Сначала подготовить выборки количества заказов по пользователям по группам теста:\n"
   ]
  },
  {
   "cell_type": "code",
   "execution_count": 42,
   "metadata": {},
   "outputs": [],
   "source": [
    "sampleAFiltered = pd.concat(\n",
    "    [\n",
    "        ordersByUsersA[\n",
    "            np.logical_not(ordersByUsersA['visitor_id'].isin(abnormalUsers))\n",
    "        ]['orders'],\n",
    "        pd.Series(\n",
    "            0,\n",
    "            index=np.arange(\n",
    "                data['visitorsPerDateA'].sum() - len(ordersByUsersA['orders'])\n",
    "            ),\n",
    "            name='orders',\n",
    "        ),\n",
    "    ],\n",
    "    axis=0,\n",
    ")\n",
    "\n",
    "sampleBFiltered = pd.concat(\n",
    "    [\n",
    "        ordersByUsersB[\n",
    "            np.logical_not(ordersByUsersB['visitor_id'].isin(abnormalUsers))\n",
    "        ]['orders'],\n",
    "        pd.Series(\n",
    "            0,\n",
    "            index=np.arange(\n",
    "                data['visitorsPerDateB'].sum() - len(ordersByUsersB['orders'])\n",
    "            ),\n",
    "            name='orders',\n",
    "        ),\n",
    "    ],\n",
    "    axis=0,\n",
    ") \n"
   ]
  },
  {
   "cell_type": "markdown",
   "metadata": {},
   "source": [
    "H0: Статистически значимых различий по количеству заказов между группами нет\n",
    "\n",
    "H1: Статистически значимые различия по количеству заказов между группами есть"
   ]
  },
  {
   "cell_type": "code",
   "execution_count": 43,
   "metadata": {},
   "outputs": [
    {
     "name": "stdout",
     "output_type": "stream",
     "text": [
      "p-значение:  0.014\n",
      "Отвергаем нулевую гипотезу\n",
      "Относительный выигрыш группы B: 0.153\n"
     ]
    }
   ],
   "source": [
    "alpha = .05 \n",
    "results = st.mannwhitneyu(sampleAFiltered, sampleBFiltered)\n",
    "\n",
    "\n",
    "print('p-значение: ', \"{0:.3f}\".format(results.pvalue))\n",
    "\n",
    "if results.pvalue < alpha:\n",
    "    print(\"Отвергаем нулевую гипотезу\")\n",
    "else:\n",
    "    print(\"Не получилось отвергнуть нулевую гипотезу\") \n",
    "\n",
    "print('Относительный выигрыш группы B:', \"{0:.3f}\".format(sampleBFiltered.mean()/sampleAFiltered.mean()-1))"
   ]
  },
  {
   "cell_type": "markdown",
   "metadata": {},
   "source": [
    "Результаты по среднему количеству заказов практически не изменились. "
   ]
  },
  {
   "cell_type": "markdown",
   "metadata": {},
   "source": [
    "13.\tПосчитать статистическую значимость различий в среднем чеке заказа между группами по «очищенным» данным"
   ]
  },
  {
   "cell_type": "markdown",
   "metadata": {},
   "source": [
    "H0: Статистически значимых различий по средним чекам между группами нет\n",
    "\n",
    "H1: Статистически значимые различия по средним чекам между группами есть "
   ]
  },
  {
   "cell_type": "code",
   "execution_count": 44,
   "metadata": {
    "scrolled": true
   },
   "outputs": [
    {
     "name": "stdout",
     "output_type": "stream",
     "text": [
      "p-значение:  0.851\n",
      "Не получилось отвергнуть нулевую гипотезу\n",
      "Относительный прирост В к А: -0.006\n"
     ]
    }
   ],
   "source": [
    "alpha = .05 \n",
    "results = st.mannwhitneyu(\n",
    "            orders[\n",
    "                np.logical_and(\n",
    "                    orders['group'] == 'A',\n",
    "                    np.logical_not(orders['visitor_id'].isin(abnormalUsers)),\n",
    "                )\n",
    "            ]['revenue'],\n",
    "            orders[\n",
    "                np.logical_and(\n",
    "                    orders['group'] == 'B',\n",
    "                    np.logical_not(orders['visitor_id'].isin(abnormalUsers)),\n",
    "                )\n",
    "            ]['revenue'],\n",
    "        )\n",
    "\n",
    "print('p-значение: ', \"{0:.3f}\".format(results.pvalue))\n",
    "if results.pvalue < alpha:\n",
    "    print(\"Отвергаем нулевую гипотезу\")\n",
    "else:\n",
    "    print(\"Не получилось отвергнуть нулевую гипотезу\") \n",
    "print('Относительный прирост В к А:',\n",
    "    \"{0:.3f}\".format(\n",
    "        orders[\n",
    "            np.logical_and(\n",
    "                orders['group'] == 'B',\n",
    "                np.logical_not(orders['visitor_id'].isin(abnormalUsers)),\n",
    "            )\n",
    "        ]['revenue'].mean()\n",
    "        / orders[\n",
    "            np.logical_and(\n",
    "                orders['group'] == 'A',\n",
    "                np.logical_not(orders['visitor_id'].isin(abnormalUsers)),\n",
    "            )\n",
    "        ]['revenue'].mean()\n",
    "        - 1\n",
    "    )\n",
    ") \n"
   ]
  },
  {
   "cell_type": "markdown",
   "metadata": {},
   "source": [
    "P-value увеличился, но средний чек группы B стал меньше среднего чека группы A, слишком дорогие заказы (аномалии) повлияли на результаты A/B-теста.\n"
   ]
  },
  {
   "cell_type": "markdown",
   "metadata": {},
   "source": [
    "14.\tПринять решение по результатам теста и объяснить его"
   ]
  },
  {
   "cell_type": "markdown",
   "metadata": {},
   "source": [
    "•\tСуществует статистически значимые различия по среднему количеству заказов между группами по «сырым» и по данным после фильтрации аномалий;\n",
    "\n",
    "•\tНет статистически значимого различия по среднему чеку между группами ни по «сырым», ни по данным после фильтрации аномалий;\n",
    "\n",
    "Однако аномалии в средних чеках заметно повлияли на результаты теста.\n",
    "\n",
    "Поэтому необходимо:\n",
    "\n",
    "1. Зафиксировать успех и завершить тест, если цель - рост конверсии.\n",
    "\n",
    "2.\tПродолжить тест, если изначальная цель - рост среднего чека, так как наблюдаются колебания суммы среднего чека на графиках (аномалии). Возможно продолжительность теста недостаточна для однозначной фиксации результата. Однако группа В заметно лидирует, результаты по количеству заказов дают это понять. Поэтому есть смысл надеяться на стабилизацию чека в ближайшие дни и останавливать тест, который идет уже месяц."
   ]
  }
 ],
 "metadata": {
  "ExecuteTimeLog": [
   {
    "duration": 1359,
    "start_time": "2023-01-31T18:29:37.395Z"
   },
   {
    "duration": 244,
    "start_time": "2023-01-31T18:33:43.927Z"
   },
   {
    "duration": 20,
    "start_time": "2023-01-31T18:37:15.159Z"
   },
   {
    "duration": 17,
    "start_time": "2023-01-31T18:37:48.115Z"
   },
   {
    "duration": 18,
    "start_time": "2023-01-31T18:38:18.601Z"
   },
   {
    "duration": 4,
    "start_time": "2023-01-31T18:40:14.596Z"
   },
   {
    "duration": 8,
    "start_time": "2023-01-31T18:45:32.347Z"
   },
   {
    "duration": 8,
    "start_time": "2023-01-31T18:46:00.442Z"
   },
   {
    "duration": 8,
    "start_time": "2023-01-31T18:46:47.197Z"
   },
   {
    "duration": 7,
    "start_time": "2023-01-31T18:47:28.953Z"
   },
   {
    "duration": 6,
    "start_time": "2023-01-31T18:51:22.928Z"
   },
   {
    "duration": 13,
    "start_time": "2023-01-31T18:52:01.300Z"
   },
   {
    "duration": 11,
    "start_time": "2023-01-31T18:53:34.943Z"
   },
   {
    "duration": 5,
    "start_time": "2023-01-31T18:53:52.545Z"
   },
   {
    "duration": 14,
    "start_time": "2023-01-31T18:55:01.576Z"
   },
   {
    "duration": 1216,
    "start_time": "2023-01-31T19:04:14.456Z"
   },
   {
    "duration": 11,
    "start_time": "2023-01-31T19:05:06.802Z"
   },
   {
    "duration": 11,
    "start_time": "2023-01-31T19:08:11.733Z"
   },
   {
    "duration": 11,
    "start_time": "2023-01-31T19:09:30.896Z"
   },
   {
    "duration": 12,
    "start_time": "2023-01-31T19:11:56.563Z"
   },
   {
    "duration": 13,
    "start_time": "2023-01-31T19:12:11.495Z"
   },
   {
    "duration": 3,
    "start_time": "2023-01-31T19:14:02.749Z"
   },
   {
    "duration": 3,
    "start_time": "2023-01-31T19:14:08.911Z"
   },
   {
    "duration": 75,
    "start_time": "2023-01-31T19:14:09.117Z"
   },
   {
    "duration": 15,
    "start_time": "2023-01-31T19:14:09.343Z"
   },
   {
    "duration": 3,
    "start_time": "2023-01-31T19:14:10.302Z"
   },
   {
    "duration": 7,
    "start_time": "2023-01-31T19:14:11.327Z"
   },
   {
    "duration": 6,
    "start_time": "2023-01-31T19:14:12.165Z"
   },
   {
    "duration": 25,
    "start_time": "2023-01-31T19:14:12.939Z"
   },
   {
    "duration": 5,
    "start_time": "2023-01-31T19:14:13.620Z"
   },
   {
    "duration": 7,
    "start_time": "2023-01-31T19:14:15.807Z"
   },
   {
    "duration": 7,
    "start_time": "2023-01-31T19:14:19.320Z"
   },
   {
    "duration": 13,
    "start_time": "2023-01-31T19:14:20.835Z"
   },
   {
    "duration": 15,
    "start_time": "2023-01-31T19:14:28.565Z"
   },
   {
    "duration": 7,
    "start_time": "2023-01-31T19:14:29.554Z"
   },
   {
    "duration": 7,
    "start_time": "2023-01-31T19:14:30.550Z"
   },
   {
    "duration": 15,
    "start_time": "2023-01-31T19:14:31.625Z"
   },
   {
    "duration": 14,
    "start_time": "2023-01-31T19:14:32.392Z"
   },
   {
    "duration": 14,
    "start_time": "2023-01-31T19:14:33.198Z"
   },
   {
    "duration": 10,
    "start_time": "2023-01-31T19:14:33.983Z"
   },
   {
    "duration": 55,
    "start_time": "2023-02-03T08:01:38.019Z"
   },
   {
    "duration": 1369,
    "start_time": "2023-02-03T08:01:49.097Z"
   },
   {
    "duration": 244,
    "start_time": "2023-02-03T08:01:50.469Z"
   },
   {
    "duration": 20,
    "start_time": "2023-02-03T08:01:50.717Z"
   },
   {
    "duration": 3,
    "start_time": "2023-02-03T08:01:50.739Z"
   },
   {
    "duration": 17,
    "start_time": "2023-02-03T08:01:50.744Z"
   },
   {
    "duration": 8,
    "start_time": "2023-02-03T08:01:50.763Z"
   },
   {
    "duration": 24,
    "start_time": "2023-02-03T08:01:50.773Z"
   },
   {
    "duration": 22,
    "start_time": "2023-02-03T08:01:50.799Z"
   },
   {
    "duration": 6,
    "start_time": "2023-02-03T08:01:50.823Z"
   },
   {
    "duration": 7,
    "start_time": "2023-02-03T08:01:50.988Z"
   },
   {
    "duration": 14,
    "start_time": "2023-02-03T08:01:51.163Z"
   },
   {
    "duration": 18,
    "start_time": "2023-02-03T08:01:51.393Z"
   },
   {
    "duration": 6,
    "start_time": "2023-02-03T08:01:51.582Z"
   },
   {
    "duration": 6,
    "start_time": "2023-02-03T08:01:51.772Z"
   },
   {
    "duration": 12,
    "start_time": "2023-02-03T08:01:51.969Z"
   },
   {
    "duration": 13,
    "start_time": "2023-02-03T08:01:52.212Z"
   },
   {
    "duration": 11,
    "start_time": "2023-02-03T08:01:52.366Z"
   },
   {
    "duration": 11,
    "start_time": "2023-02-03T08:01:52.588Z"
   },
   {
    "duration": 22,
    "start_time": "2023-02-03T08:01:52.868Z"
   },
   {
    "duration": 170,
    "start_time": "2023-02-03T08:22:35.157Z"
   },
   {
    "duration": 3,
    "start_time": "2023-02-03T08:22:41.951Z"
   },
   {
    "duration": 60,
    "start_time": "2023-02-03T08:22:42.492Z"
   },
   {
    "duration": 16,
    "start_time": "2023-02-03T08:22:43.069Z"
   },
   {
    "duration": 4,
    "start_time": "2023-02-03T08:22:44.392Z"
   },
   {
    "duration": 6,
    "start_time": "2023-02-03T08:22:46.610Z"
   },
   {
    "duration": 6,
    "start_time": "2023-02-03T08:22:47.745Z"
   },
   {
    "duration": 20,
    "start_time": "2023-02-03T08:22:48.597Z"
   },
   {
    "duration": 3,
    "start_time": "2023-02-03T08:22:49.089Z"
   },
   {
    "duration": 7,
    "start_time": "2023-02-03T08:22:49.602Z"
   },
   {
    "duration": 6,
    "start_time": "2023-02-03T08:22:50.199Z"
   },
   {
    "duration": 14,
    "start_time": "2023-02-03T08:22:50.533Z"
   },
   {
    "duration": 17,
    "start_time": "2023-02-03T08:22:51.280Z"
   },
   {
    "duration": 6,
    "start_time": "2023-02-03T08:22:52.008Z"
   },
   {
    "duration": 6,
    "start_time": "2023-02-03T08:22:52.878Z"
   },
   {
    "duration": 11,
    "start_time": "2023-02-03T08:22:53.673Z"
   },
   {
    "duration": 11,
    "start_time": "2023-02-03T08:22:56.657Z"
   },
   {
    "duration": 18,
    "start_time": "2023-02-03T08:23:00.246Z"
   },
   {
    "duration": 12,
    "start_time": "2023-02-03T08:23:01.490Z"
   },
   {
    "duration": 3,
    "start_time": "2023-02-03T08:23:32.746Z"
   },
   {
    "duration": 59,
    "start_time": "2023-02-03T08:23:33.071Z"
   },
   {
    "duration": 17,
    "start_time": "2023-02-03T08:23:33.714Z"
   },
   {
    "duration": 5,
    "start_time": "2023-02-03T08:23:34.435Z"
   },
   {
    "duration": 8,
    "start_time": "2023-02-03T08:23:35.062Z"
   },
   {
    "duration": 6,
    "start_time": "2023-02-03T08:23:35.869Z"
   },
   {
    "duration": 22,
    "start_time": "2023-02-03T08:23:37.227Z"
   },
   {
    "duration": 3,
    "start_time": "2023-02-03T08:23:38.776Z"
   },
   {
    "duration": 6,
    "start_time": "2023-02-03T08:23:40.613Z"
   },
   {
    "duration": 6,
    "start_time": "2023-02-03T08:23:41.317Z"
   },
   {
    "duration": 11,
    "start_time": "2023-02-03T08:23:45.645Z"
   },
   {
    "duration": 19,
    "start_time": "2023-02-03T08:23:47.753Z"
   },
   {
    "duration": 7,
    "start_time": "2023-02-03T08:23:50.037Z"
   },
   {
    "duration": 6,
    "start_time": "2023-02-03T08:23:51.269Z"
   },
   {
    "duration": 10,
    "start_time": "2023-02-03T08:23:53.005Z"
   },
   {
    "duration": 12,
    "start_time": "2023-02-03T08:23:58.352Z"
   },
   {
    "duration": 11,
    "start_time": "2023-02-03T08:23:59.036Z"
   },
   {
    "duration": 12,
    "start_time": "2023-02-03T08:23:59.627Z"
   },
   {
    "duration": 94,
    "start_time": "2023-02-03T08:31:05.151Z"
   },
   {
    "duration": 3,
    "start_time": "2023-02-03T08:32:00.038Z"
   },
   {
    "duration": 63,
    "start_time": "2023-02-03T08:32:00.279Z"
   },
   {
    "duration": 16,
    "start_time": "2023-02-03T08:32:00.606Z"
   },
   {
    "duration": 3,
    "start_time": "2023-02-03T08:32:01.221Z"
   },
   {
    "duration": 6,
    "start_time": "2023-02-03T08:32:01.411Z"
   },
   {
    "duration": 6,
    "start_time": "2023-02-03T08:32:01.613Z"
   },
   {
    "duration": 23,
    "start_time": "2023-02-03T08:32:02.406Z"
   },
   {
    "duration": 4,
    "start_time": "2023-02-03T08:32:03.021Z"
   },
   {
    "duration": 6,
    "start_time": "2023-02-03T08:32:06.582Z"
   },
   {
    "duration": 7,
    "start_time": "2023-02-03T08:32:07.112Z"
   },
   {
    "duration": 10,
    "start_time": "2023-02-03T08:32:07.488Z"
   },
   {
    "duration": 19,
    "start_time": "2023-02-03T08:32:07.692Z"
   },
   {
    "duration": 6,
    "start_time": "2023-02-03T08:32:07.865Z"
   },
   {
    "duration": 6,
    "start_time": "2023-02-03T08:32:08.221Z"
   },
   {
    "duration": 13,
    "start_time": "2023-02-03T08:32:08.382Z"
   },
   {
    "duration": 14,
    "start_time": "2023-02-03T08:32:08.571Z"
   },
   {
    "duration": 12,
    "start_time": "2023-02-03T08:32:08.723Z"
   },
   {
    "duration": 11,
    "start_time": "2023-02-03T08:32:09.101Z"
   },
   {
    "duration": 37,
    "start_time": "2023-02-03T08:32:09.303Z"
   },
   {
    "duration": 3,
    "start_time": "2023-02-03T08:35:56.389Z"
   },
   {
    "duration": 469,
    "start_time": "2023-02-03T08:35:56.968Z"
   },
   {
    "duration": 88,
    "start_time": "2023-02-03T08:37:24.055Z"
   },
   {
    "duration": 25,
    "start_time": "2023-02-03T08:37:29.968Z"
   },
   {
    "duration": 4,
    "start_time": "2023-02-03T08:37:31.011Z"
   },
   {
    "duration": 6,
    "start_time": "2023-02-03T08:37:31.919Z"
   },
   {
    "duration": 5,
    "start_time": "2023-02-03T08:37:32.611Z"
   },
   {
    "duration": 20,
    "start_time": "2023-02-03T08:37:33.329Z"
   },
   {
    "duration": 4,
    "start_time": "2023-02-03T08:37:36.136Z"
   },
   {
    "duration": 8,
    "start_time": "2023-02-03T08:37:37.647Z"
   },
   {
    "duration": 7,
    "start_time": "2023-02-03T08:37:38.265Z"
   },
   {
    "duration": 12,
    "start_time": "2023-02-03T08:37:39.271Z"
   },
   {
    "duration": 22,
    "start_time": "2023-02-03T08:37:41.574Z"
   },
   {
    "duration": 6,
    "start_time": "2023-02-03T08:37:42.253Z"
   },
   {
    "duration": 7,
    "start_time": "2023-02-03T08:37:43.300Z"
   },
   {
    "duration": 11,
    "start_time": "2023-02-03T08:37:43.816Z"
   },
   {
    "duration": 11,
    "start_time": "2023-02-03T08:37:44.962Z"
   },
   {
    "duration": 12,
    "start_time": "2023-02-03T08:37:45.516Z"
   },
   {
    "duration": 11,
    "start_time": "2023-02-03T08:37:46.849Z"
   },
   {
    "duration": 195,
    "start_time": "2023-02-03T08:37:47.569Z"
   },
   {
    "duration": 175,
    "start_time": "2023-02-03T08:46:46.455Z"
   },
   {
    "duration": 16,
    "start_time": "2023-02-03T09:07:31.181Z"
   },
   {
    "duration": 17,
    "start_time": "2023-02-03T09:08:40.182Z"
   },
   {
    "duration": 66,
    "start_time": "2023-02-03T09:09:20.047Z"
   },
   {
    "duration": 9,
    "start_time": "2023-02-03T09:10:30.365Z"
   },
   {
    "duration": 9,
    "start_time": "2023-02-03T09:10:38.986Z"
   },
   {
    "duration": 9,
    "start_time": "2023-02-03T09:11:18.564Z"
   },
   {
    "duration": 12,
    "start_time": "2023-02-03T09:38:44.847Z"
   },
   {
    "duration": 6,
    "start_time": "2023-02-03T09:39:00.024Z"
   },
   {
    "duration": 28,
    "start_time": "2023-02-03T09:39:00.619Z"
   },
   {
    "duration": 193,
    "start_time": "2023-02-03T09:39:26.748Z"
   },
   {
    "duration": 23,
    "start_time": "2023-02-03T09:39:53.262Z"
   },
   {
    "duration": 23,
    "start_time": "2023-02-03T09:41:05.878Z"
   },
   {
    "duration": 177,
    "start_time": "2023-02-03T09:41:21.493Z"
   },
   {
    "duration": 9,
    "start_time": "2023-02-03T09:47:26.731Z"
   },
   {
    "duration": 10,
    "start_time": "2023-02-03T09:49:31.834Z"
   },
   {
    "duration": 11,
    "start_time": "2023-02-03T09:49:54.723Z"
   },
   {
    "duration": 332,
    "start_time": "2023-02-03T09:54:05.021Z"
   },
   {
    "duration": 180,
    "start_time": "2023-02-03T09:55:19.767Z"
   },
   {
    "duration": 196,
    "start_time": "2023-02-03T09:55:27.012Z"
   },
   {
    "duration": 259,
    "start_time": "2023-02-03T09:57:03.746Z"
   },
   {
    "duration": 268,
    "start_time": "2023-02-03T09:57:19.233Z"
   },
   {
    "duration": 365,
    "start_time": "2023-02-03T09:58:04.842Z"
   },
   {
    "duration": 327,
    "start_time": "2023-02-03T10:03:07.537Z"
   },
   {
    "duration": 263,
    "start_time": "2023-02-03T10:03:17.177Z"
   },
   {
    "duration": 180,
    "start_time": "2023-02-03T10:03:18.501Z"
   },
   {
    "duration": 390,
    "start_time": "2023-02-03T10:05:13.756Z"
   },
   {
    "duration": 367,
    "start_time": "2023-02-03T10:07:37.128Z"
   },
   {
    "duration": 130,
    "start_time": "2023-02-03T10:08:36.146Z"
   },
   {
    "duration": 6,
    "start_time": "2023-02-03T10:10:08.624Z"
   },
   {
    "duration": 10,
    "start_time": "2023-02-03T10:14:22.707Z"
   },
   {
    "duration": 135,
    "start_time": "2023-02-03T10:14:38.302Z"
   },
   {
    "duration": 11,
    "start_time": "2023-02-03T10:14:38.905Z"
   },
   {
    "duration": 118,
    "start_time": "2023-02-03T10:14:55.469Z"
   },
   {
    "duration": 8,
    "start_time": "2023-02-03T10:14:56.266Z"
   },
   {
    "duration": 126,
    "start_time": "2023-02-03T10:15:06.575Z"
   },
   {
    "duration": 7,
    "start_time": "2023-02-03T10:15:07.351Z"
   },
   {
    "duration": 15,
    "start_time": "2023-02-03T10:15:40.515Z"
   },
   {
    "duration": 1285,
    "start_time": "2023-02-04T06:53:49.304Z"
   },
   {
    "duration": 194,
    "start_time": "2023-02-04T06:53:50.591Z"
   },
   {
    "duration": 19,
    "start_time": "2023-02-04T06:53:50.787Z"
   },
   {
    "duration": 3,
    "start_time": "2023-02-04T06:53:50.808Z"
   },
   {
    "duration": 7,
    "start_time": "2023-02-04T06:53:50.813Z"
   },
   {
    "duration": 7,
    "start_time": "2023-02-04T06:53:50.821Z"
   },
   {
    "duration": 20,
    "start_time": "2023-02-04T06:53:50.829Z"
   },
   {
    "duration": 3,
    "start_time": "2023-02-04T06:53:50.893Z"
   },
   {
    "duration": 5,
    "start_time": "2023-02-04T06:53:51.099Z"
   },
   {
    "duration": 6,
    "start_time": "2023-02-04T06:53:51.323Z"
   },
   {
    "duration": 11,
    "start_time": "2023-02-04T06:53:52.088Z"
   },
   {
    "duration": 17,
    "start_time": "2023-02-04T06:53:52.326Z"
   },
   {
    "duration": 6,
    "start_time": "2023-02-04T06:53:52.948Z"
   },
   {
    "duration": 7,
    "start_time": "2023-02-04T06:53:53.641Z"
   },
   {
    "duration": 10,
    "start_time": "2023-02-04T06:53:54.316Z"
   },
   {
    "duration": 12,
    "start_time": "2023-02-04T06:53:54.553Z"
   },
   {
    "duration": 11,
    "start_time": "2023-02-04T06:53:55.698Z"
   },
   {
    "duration": 10,
    "start_time": "2023-02-04T06:53:56.681Z"
   },
   {
    "duration": 5,
    "start_time": "2023-02-04T06:53:57.511Z"
   },
   {
    "duration": 169,
    "start_time": "2023-02-04T06:53:58.356Z"
   },
   {
    "duration": 9,
    "start_time": "2023-02-04T06:53:59.703Z"
   },
   {
    "duration": 317,
    "start_time": "2023-02-04T06:54:00.787Z"
   },
   {
    "duration": 238,
    "start_time": "2023-02-04T06:54:01.512Z"
   },
   {
    "duration": 387,
    "start_time": "2023-02-04T06:54:02.301Z"
   },
   {
    "duration": 146,
    "start_time": "2023-02-04T06:54:02.990Z"
   },
   {
    "duration": 15,
    "start_time": "2023-02-04T06:54:04.222Z"
   },
   {
    "duration": 95,
    "start_time": "2023-02-04T06:54:05.333Z"
   },
   {
    "duration": 4,
    "start_time": "2023-02-04T06:54:34.728Z"
   },
   {
    "duration": 175,
    "start_time": "2023-02-04T07:00:52.828Z"
   },
   {
    "duration": 169,
    "start_time": "2023-02-04T07:02:29.586Z"
   },
   {
    "duration": 305,
    "start_time": "2023-02-04T07:02:51.764Z"
   },
   {
    "duration": 338,
    "start_time": "2023-02-04T07:03:14.514Z"
   },
   {
    "duration": 247,
    "start_time": "2023-02-04T07:03:38.348Z"
   },
   {
    "duration": 364,
    "start_time": "2023-02-04T07:04:02.617Z"
   },
   {
    "duration": 110,
    "start_time": "2023-02-04T07:04:09.955Z"
   },
   {
    "duration": 11,
    "start_time": "2023-02-04T07:04:10.332Z"
   },
   {
    "duration": 4,
    "start_time": "2023-02-04T07:04:11.042Z"
   },
   {
    "duration": 273,
    "start_time": "2023-02-04T07:04:11.869Z"
   },
   {
    "duration": 5,
    "start_time": "2023-02-04T07:08:40.176Z"
   },
   {
    "duration": 257,
    "start_time": "2023-02-04T07:08:44.753Z"
   },
   {
    "duration": 8,
    "start_time": "2023-02-04T07:10:06.268Z"
   },
   {
    "duration": 310,
    "start_time": "2023-02-04T07:11:06.599Z"
   },
   {
    "duration": 275,
    "start_time": "2023-02-04T07:11:14.431Z"
   },
   {
    "duration": 333,
    "start_time": "2023-02-04T07:14:48.144Z"
   },
   {
    "duration": 346,
    "start_time": "2023-02-04T07:15:21.324Z"
   },
   {
    "duration": 328,
    "start_time": "2023-02-04T07:16:26.042Z"
   },
   {
    "duration": 366,
    "start_time": "2023-02-04T07:16:35.718Z"
   },
   {
    "duration": 75,
    "start_time": "2023-02-04T07:27:42.284Z"
   },
   {
    "duration": 12,
    "start_time": "2023-02-04T07:30:16.745Z"
   },
   {
    "duration": 8,
    "start_time": "2023-02-04T07:30:38.807Z"
   },
   {
    "duration": 260,
    "start_time": "2023-02-04T07:32:34.885Z"
   },
   {
    "duration": 180,
    "start_time": "2023-02-04T07:34:41.820Z"
   },
   {
    "duration": 168,
    "start_time": "2023-02-04T07:37:06.096Z"
   },
   {
    "duration": 9,
    "start_time": "2023-02-04T07:48:56.597Z"
   },
   {
    "duration": 6,
    "start_time": "2023-02-04T07:51:06.797Z"
   },
   {
    "duration": 9,
    "start_time": "2023-02-04T07:51:47.475Z"
   },
   {
    "duration": 5,
    "start_time": "2023-02-04T07:52:10.314Z"
   },
   {
    "duration": 5,
    "start_time": "2023-02-04T07:52:15.976Z"
   },
   {
    "duration": 4,
    "start_time": "2023-02-04T07:52:23.438Z"
   },
   {
    "duration": 4,
    "start_time": "2023-02-04T07:53:35.733Z"
   },
   {
    "duration": 5,
    "start_time": "2023-02-04T07:57:36.313Z"
   },
   {
    "duration": 4,
    "start_time": "2023-02-04T07:58:05.376Z"
   },
   {
    "duration": 6,
    "start_time": "2023-02-04T07:58:34.196Z"
   },
   {
    "duration": 6,
    "start_time": "2023-02-04T08:00:22.073Z"
   },
   {
    "duration": 4,
    "start_time": "2023-02-04T08:01:02.599Z"
   },
   {
    "duration": 190,
    "start_time": "2023-02-04T08:06:36.445Z"
   },
   {
    "duration": 223,
    "start_time": "2023-02-04T08:07:24.018Z"
   },
   {
    "duration": 199,
    "start_time": "2023-02-04T08:08:40.106Z"
   },
   {
    "duration": 5,
    "start_time": "2023-02-04T08:10:16.743Z"
   },
   {
    "duration": 4,
    "start_time": "2023-02-04T08:10:31.343Z"
   },
   {
    "duration": 234,
    "start_time": "2023-02-04T08:55:56.097Z"
   },
   {
    "duration": 157,
    "start_time": "2023-02-04T09:01:12.197Z"
   },
   {
    "duration": 7,
    "start_time": "2023-02-04T09:04:08.798Z"
   },
   {
    "duration": 3,
    "start_time": "2023-02-04T09:25:55.134Z"
   },
   {
    "duration": 83,
    "start_time": "2023-02-04T09:25:55.312Z"
   },
   {
    "duration": 20,
    "start_time": "2023-02-04T09:25:55.469Z"
   },
   {
    "duration": 4,
    "start_time": "2023-02-04T09:25:55.666Z"
   },
   {
    "duration": 7,
    "start_time": "2023-02-04T09:25:55.842Z"
   },
   {
    "duration": 6,
    "start_time": "2023-02-04T09:25:56.030Z"
   },
   {
    "duration": 33,
    "start_time": "2023-02-04T09:25:56.185Z"
   },
   {
    "duration": 4,
    "start_time": "2023-02-04T09:25:56.372Z"
   },
   {
    "duration": 7,
    "start_time": "2023-02-04T09:25:56.537Z"
   },
   {
    "duration": 8,
    "start_time": "2023-02-04T09:25:56.730Z"
   },
   {
    "duration": 14,
    "start_time": "2023-02-04T09:25:56.933Z"
   },
   {
    "duration": 21,
    "start_time": "2023-02-04T09:25:57.121Z"
   },
   {
    "duration": 8,
    "start_time": "2023-02-04T09:25:57.389Z"
   },
   {
    "duration": 6,
    "start_time": "2023-02-04T09:25:57.494Z"
   },
   {
    "duration": 11,
    "start_time": "2023-02-04T09:25:57.681Z"
   },
   {
    "duration": 11,
    "start_time": "2023-02-04T09:25:57.887Z"
   },
   {
    "duration": 15,
    "start_time": "2023-02-04T09:25:58.078Z"
   },
   {
    "duration": 13,
    "start_time": "2023-02-04T09:25:58.263Z"
   },
   {
    "duration": 7,
    "start_time": "2023-02-04T09:25:58.465Z"
   },
   {
    "duration": 207,
    "start_time": "2023-02-04T09:25:58.659Z"
   },
   {
    "duration": 8,
    "start_time": "2023-02-04T09:25:58.868Z"
   },
   {
    "duration": 279,
    "start_time": "2023-02-04T09:25:59.084Z"
   },
   {
    "duration": 278,
    "start_time": "2023-02-04T09:25:59.365Z"
   },
   {
    "duration": 352,
    "start_time": "2023-02-04T09:25:59.646Z"
   },
   {
    "duration": 144,
    "start_time": "2023-02-04T09:26:00.003Z"
   },
   {
    "duration": 12,
    "start_time": "2023-02-04T09:26:00.149Z"
   },
   {
    "duration": 14,
    "start_time": "2023-02-04T09:26:00.164Z"
   },
   {
    "duration": 6,
    "start_time": "2023-02-04T09:26:00.258Z"
   },
   {
    "duration": 297,
    "start_time": "2023-02-04T09:26:00.434Z"
   },
   {
    "duration": 393,
    "start_time": "2023-02-04T09:26:00.733Z"
   },
   {
    "duration": 7,
    "start_time": "2023-02-04T09:26:01.128Z"
   },
   {
    "duration": 232,
    "start_time": "2023-02-04T09:26:01.136Z"
   },
   {
    "duration": 5,
    "start_time": "2023-02-04T09:26:01.370Z"
   },
   {
    "duration": 11,
    "start_time": "2023-02-04T09:26:01.400Z"
   },
   {
    "duration": 5,
    "start_time": "2023-02-04T09:26:01.608Z"
   },
   {
    "duration": 190,
    "start_time": "2023-02-04T09:26:01.790Z"
   },
   {
    "duration": 5,
    "start_time": "2023-02-04T09:26:01.991Z"
   },
   {
    "duration": 5,
    "start_time": "2023-02-04T09:26:02.395Z"
   },
   {
    "duration": 241,
    "start_time": "2023-02-04T09:26:02.630Z"
   },
   {
    "duration": 158,
    "start_time": "2023-02-04T09:26:02.873Z"
   },
   {
    "duration": 7,
    "start_time": "2023-02-04T09:26:03.695Z"
   },
   {
    "duration": 722,
    "start_time": "2023-02-04T09:26:43.860Z"
   },
   {
    "duration": 741,
    "start_time": "2023-02-04T09:27:23.989Z"
   },
   {
    "duration": 39,
    "start_time": "2023-02-04T09:33:24.041Z"
   },
   {
    "duration": 25,
    "start_time": "2023-02-04T09:34:02.036Z"
   },
   {
    "duration": 12,
    "start_time": "2023-02-04T09:35:25.892Z"
   },
   {
    "duration": 13,
    "start_time": "2023-02-04T09:35:39.958Z"
   },
   {
    "duration": 3,
    "start_time": "2023-02-04T09:47:33.922Z"
   },
   {
    "duration": 95,
    "start_time": "2023-02-04T09:47:34.089Z"
   },
   {
    "duration": 25,
    "start_time": "2023-02-04T09:47:34.284Z"
   },
   {
    "duration": 3,
    "start_time": "2023-02-04T09:47:34.495Z"
   },
   {
    "duration": 6,
    "start_time": "2023-02-04T09:47:34.666Z"
   },
   {
    "duration": 7,
    "start_time": "2023-02-04T09:47:34.865Z"
   },
   {
    "duration": 26,
    "start_time": "2023-02-04T09:47:35.100Z"
   },
   {
    "duration": 4,
    "start_time": "2023-02-04T09:47:35.221Z"
   },
   {
    "duration": 20,
    "start_time": "2023-02-04T09:47:35.397Z"
   },
   {
    "duration": 7,
    "start_time": "2023-02-04T09:47:35.593Z"
   },
   {
    "duration": 11,
    "start_time": "2023-02-04T09:47:35.841Z"
   },
   {
    "duration": 20,
    "start_time": "2023-02-04T09:47:35.955Z"
   },
   {
    "duration": 7,
    "start_time": "2023-02-04T09:47:36.216Z"
   },
   {
    "duration": 7,
    "start_time": "2023-02-04T09:47:36.325Z"
   },
   {
    "duration": 13,
    "start_time": "2023-02-04T09:47:36.570Z"
   },
   {
    "duration": 21,
    "start_time": "2023-02-04T09:47:36.690Z"
   },
   {
    "duration": 13,
    "start_time": "2023-02-04T09:47:36.887Z"
   },
   {
    "duration": 13,
    "start_time": "2023-02-04T09:47:37.078Z"
   },
   {
    "duration": 6,
    "start_time": "2023-02-04T09:47:37.357Z"
   },
   {
    "duration": 194,
    "start_time": "2023-02-04T09:47:37.480Z"
   },
   {
    "duration": 9,
    "start_time": "2023-02-04T09:47:37.721Z"
   },
   {
    "duration": 260,
    "start_time": "2023-02-04T09:47:37.877Z"
   },
   {
    "duration": 379,
    "start_time": "2023-02-04T09:47:38.142Z"
   },
   {
    "duration": 369,
    "start_time": "2023-02-04T09:47:38.524Z"
   },
   {
    "duration": 141,
    "start_time": "2023-02-04T09:47:38.895Z"
   },
   {
    "duration": 14,
    "start_time": "2023-02-04T09:47:39.039Z"
   },
   {
    "duration": 10,
    "start_time": "2023-02-04T09:47:39.054Z"
   },
   {
    "duration": 7,
    "start_time": "2023-02-04T09:47:39.066Z"
   },
   {
    "duration": 299,
    "start_time": "2023-02-04T09:47:39.326Z"
   },
   {
    "duration": 421,
    "start_time": "2023-02-04T09:47:39.628Z"
   },
   {
    "duration": 6,
    "start_time": "2023-02-04T09:47:40.051Z"
   },
   {
    "duration": 204,
    "start_time": "2023-02-04T09:47:40.059Z"
   },
   {
    "duration": 5,
    "start_time": "2023-02-04T09:47:40.265Z"
   },
   {
    "duration": 6,
    "start_time": "2023-02-04T09:47:40.272Z"
   },
   {
    "duration": 5,
    "start_time": "2023-02-04T09:47:40.424Z"
   },
   {
    "duration": 207,
    "start_time": "2023-02-04T09:47:40.664Z"
   },
   {
    "duration": 6,
    "start_time": "2023-02-04T09:47:40.873Z"
   },
   {
    "duration": 8,
    "start_time": "2023-02-04T09:47:40.997Z"
   },
   {
    "duration": 329,
    "start_time": "2023-02-04T09:47:41.224Z"
   },
   {
    "duration": 166,
    "start_time": "2023-02-04T09:47:41.556Z"
   },
   {
    "duration": 25,
    "start_time": "2023-02-04T09:47:41.725Z"
   },
   {
    "duration": 11,
    "start_time": "2023-02-04T09:47:41.778Z"
   },
   {
    "duration": 795,
    "start_time": "2023-02-04T09:47:41.967Z"
   },
   {
    "duration": 17,
    "start_time": "2023-02-04T09:53:19.164Z"
   },
   {
    "duration": 14,
    "start_time": "2023-02-04T09:54:01.824Z"
   },
   {
    "duration": 12,
    "start_time": "2023-02-04T09:57:18.093Z"
   },
   {
    "duration": 35,
    "start_time": "2023-02-04T09:58:20.868Z"
   },
   {
    "duration": 15,
    "start_time": "2023-02-04T10:06:22.571Z"
   },
   {
    "duration": 14,
    "start_time": "2023-02-04T10:07:37.120Z"
   },
   {
    "duration": 9,
    "start_time": "2023-02-04T10:07:37.716Z"
   },
   {
    "duration": 33,
    "start_time": "2023-02-04T10:07:38.434Z"
   },
   {
    "duration": 14,
    "start_time": "2023-02-04T10:07:38.634Z"
   },
   {
    "duration": 52,
    "start_time": "2023-02-05T13:31:12.572Z"
   },
   {
    "duration": 1300,
    "start_time": "2023-02-05T13:31:20.603Z"
   },
   {
    "duration": 246,
    "start_time": "2023-02-05T13:31:21.905Z"
   },
   {
    "duration": 20,
    "start_time": "2023-02-05T13:31:23.319Z"
   },
   {
    "duration": 3,
    "start_time": "2023-02-05T13:31:23.950Z"
   },
   {
    "duration": 6,
    "start_time": "2023-02-05T13:31:24.187Z"
   },
   {
    "duration": 6,
    "start_time": "2023-02-05T13:31:25.056Z"
   },
   {
    "duration": 20,
    "start_time": "2023-02-05T13:31:26.789Z"
   },
   {
    "duration": 3,
    "start_time": "2023-02-05T13:31:27.493Z"
   },
   {
    "duration": 6,
    "start_time": "2023-02-05T13:31:28.489Z"
   },
   {
    "duration": 6,
    "start_time": "2023-02-05T13:31:28.892Z"
   },
   {
    "duration": 11,
    "start_time": "2023-02-05T13:31:30.688Z"
   },
   {
    "duration": 18,
    "start_time": "2023-02-05T13:31:32.432Z"
   },
   {
    "duration": 7,
    "start_time": "2023-02-05T13:31:33.719Z"
   },
   {
    "duration": 5,
    "start_time": "2023-02-05T13:31:42.379Z"
   },
   {
    "duration": 11,
    "start_time": "2023-02-05T13:31:43.561Z"
   },
   {
    "duration": 15,
    "start_time": "2023-02-05T13:53:59.577Z"
   },
   {
    "duration": 4,
    "start_time": "2023-02-05T13:58:10.103Z"
   },
   {
    "duration": 3,
    "start_time": "2023-02-05T14:20:34.583Z"
   },
   {
    "duration": 85,
    "start_time": "2023-02-05T14:20:34.927Z"
   },
   {
    "duration": 15,
    "start_time": "2023-02-05T14:20:35.862Z"
   },
   {
    "duration": 4,
    "start_time": "2023-02-05T14:20:36.085Z"
   },
   {
    "duration": 6,
    "start_time": "2023-02-05T14:20:36.261Z"
   },
   {
    "duration": 6,
    "start_time": "2023-02-05T14:20:36.442Z"
   },
   {
    "duration": 19,
    "start_time": "2023-02-05T14:20:36.806Z"
   },
   {
    "duration": 3,
    "start_time": "2023-02-05T14:20:36.981Z"
   },
   {
    "duration": 5,
    "start_time": "2023-02-05T14:20:37.160Z"
   },
   {
    "duration": 6,
    "start_time": "2023-02-05T14:20:37.361Z"
   },
   {
    "duration": 10,
    "start_time": "2023-02-05T14:20:37.562Z"
   },
   {
    "duration": 16,
    "start_time": "2023-02-05T14:20:37.969Z"
   },
   {
    "duration": 6,
    "start_time": "2023-02-05T14:20:38.180Z"
   },
   {
    "duration": 5,
    "start_time": "2023-02-05T14:20:38.372Z"
   },
   {
    "duration": 10,
    "start_time": "2023-02-05T14:20:38.563Z"
   },
   {
    "duration": 10,
    "start_time": "2023-02-05T14:20:40.298Z"
   },
   {
    "duration": 11,
    "start_time": "2023-02-05T14:20:49.566Z"
   },
   {
    "duration": 11,
    "start_time": "2023-02-05T14:20:50.247Z"
   },
   {
    "duration": 6,
    "start_time": "2023-02-05T14:20:55.258Z"
   },
   {
    "duration": 182,
    "start_time": "2023-02-05T14:20:56.225Z"
   },
   {
    "duration": 9,
    "start_time": "2023-02-05T14:20:57.083Z"
   },
   {
    "duration": 319,
    "start_time": "2023-02-05T14:20:58.589Z"
   },
   {
    "duration": 237,
    "start_time": "2023-02-05T14:21:05.575Z"
   },
   {
    "duration": 3,
    "start_time": "2023-02-05T14:33:29.129Z"
   },
   {
    "duration": 85,
    "start_time": "2023-02-05T14:33:29.304Z"
   },
   {
    "duration": 15,
    "start_time": "2023-02-05T14:33:29.670Z"
   },
   {
    "duration": 3,
    "start_time": "2023-02-05T14:33:29.870Z"
   },
   {
    "duration": 6,
    "start_time": "2023-02-05T14:33:30.043Z"
   },
   {
    "duration": 6,
    "start_time": "2023-02-05T14:33:30.227Z"
   },
   {
    "duration": 28,
    "start_time": "2023-02-05T14:33:30.581Z"
   },
   {
    "duration": 4,
    "start_time": "2023-02-05T14:33:30.776Z"
   },
   {
    "duration": 6,
    "start_time": "2023-02-05T14:33:30.919Z"
   },
   {
    "duration": 6,
    "start_time": "2023-02-05T14:33:31.142Z"
   },
   {
    "duration": 11,
    "start_time": "2023-02-05T14:33:31.328Z"
   },
   {
    "duration": 18,
    "start_time": "2023-02-05T14:33:31.512Z"
   },
   {
    "duration": 6,
    "start_time": "2023-02-05T14:33:31.722Z"
   },
   {
    "duration": 7,
    "start_time": "2023-02-05T14:33:31.873Z"
   },
   {
    "duration": 10,
    "start_time": "2023-02-05T14:33:32.085Z"
   },
   {
    "duration": 12,
    "start_time": "2023-02-05T14:33:32.816Z"
   },
   {
    "duration": 12,
    "start_time": "2023-02-05T14:33:33.539Z"
   },
   {
    "duration": 10,
    "start_time": "2023-02-05T14:33:34.166Z"
   },
   {
    "duration": 5,
    "start_time": "2023-02-05T14:33:36.642Z"
   },
   {
    "duration": 181,
    "start_time": "2023-02-05T14:33:37.356Z"
   },
   {
    "duration": 9,
    "start_time": "2023-02-05T14:33:38.876Z"
   },
   {
    "duration": 230,
    "start_time": "2023-02-05T14:33:40.231Z"
   },
   {
    "duration": 237,
    "start_time": "2023-02-05T14:36:38.596Z"
   },
   {
    "duration": 67,
    "start_time": "2023-02-05T14:51:08.324Z"
   },
   {
    "duration": 77,
    "start_time": "2023-02-05T15:26:25.680Z"
   },
   {
    "duration": 96,
    "start_time": "2023-02-05T15:51:14.349Z"
   },
   {
    "duration": 4,
    "start_time": "2023-02-05T15:51:30.095Z"
   },
   {
    "duration": 90,
    "start_time": "2023-02-05T15:51:30.254Z"
   },
   {
    "duration": 15,
    "start_time": "2023-02-05T15:51:30.628Z"
   },
   {
    "duration": 4,
    "start_time": "2023-02-05T15:51:30.844Z"
   },
   {
    "duration": 6,
    "start_time": "2023-02-05T15:51:31.024Z"
   },
   {
    "duration": 6,
    "start_time": "2023-02-05T15:51:31.183Z"
   },
   {
    "duration": 21,
    "start_time": "2023-02-05T15:51:31.558Z"
   },
   {
    "duration": 3,
    "start_time": "2023-02-05T15:51:31.807Z"
   },
   {
    "duration": 6,
    "start_time": "2023-02-05T15:51:31.952Z"
   },
   {
    "duration": 6,
    "start_time": "2023-02-05T15:51:32.135Z"
   },
   {
    "duration": 11,
    "start_time": "2023-02-05T15:51:32.355Z"
   },
   {
    "duration": 18,
    "start_time": "2023-02-05T15:51:32.531Z"
   },
   {
    "duration": 6,
    "start_time": "2023-02-05T15:51:32.786Z"
   },
   {
    "duration": 6,
    "start_time": "2023-02-05T15:51:32.881Z"
   },
   {
    "duration": 10,
    "start_time": "2023-02-05T15:51:33.106Z"
   },
   {
    "duration": 13,
    "start_time": "2023-02-05T15:51:33.849Z"
   },
   {
    "duration": 12,
    "start_time": "2023-02-05T15:51:34.435Z"
   },
   {
    "duration": 11,
    "start_time": "2023-02-05T15:51:35.024Z"
   },
   {
    "duration": 6,
    "start_time": "2023-02-05T15:51:36.046Z"
   },
   {
    "duration": 222,
    "start_time": "2023-02-05T15:51:36.225Z"
   },
   {
    "duration": 9,
    "start_time": "2023-02-05T15:51:36.898Z"
   },
   {
    "duration": 241,
    "start_time": "2023-02-05T15:51:37.105Z"
   },
   {
    "duration": 223,
    "start_time": "2023-02-05T15:51:37.776Z"
   },
   {
    "duration": 361,
    "start_time": "2023-02-05T15:51:38.407Z"
   },
   {
    "duration": 198,
    "start_time": "2023-02-05T15:51:39.022Z"
   },
   {
    "duration": 12,
    "start_time": "2023-02-05T15:51:39.222Z"
   },
   {
    "duration": 4,
    "start_time": "2023-02-05T15:51:39.442Z"
   },
   {
    "duration": 5,
    "start_time": "2023-02-05T15:51:39.625Z"
   },
   {
    "duration": 286,
    "start_time": "2023-02-05T15:51:39.851Z"
   },
   {
    "duration": 380,
    "start_time": "2023-02-05T15:51:40.487Z"
   },
   {
    "duration": 7,
    "start_time": "2023-02-05T15:51:41.804Z"
   },
   {
    "duration": 170,
    "start_time": "2023-02-05T15:51:42.033Z"
   },
   {
    "duration": 6,
    "start_time": "2023-02-05T15:51:42.715Z"
   },
   {
    "duration": 179,
    "start_time": "2023-02-05T15:51:44.861Z"
   },
   {
    "duration": 5,
    "start_time": "2023-02-05T15:51:45.484Z"
   },
   {
    "duration": 4,
    "start_time": "2023-02-05T15:51:45.774Z"
   },
   {
    "duration": 224,
    "start_time": "2023-02-05T15:51:47.169Z"
   },
   {
    "duration": 142,
    "start_time": "2023-02-05T15:51:49.871Z"
   },
   {
    "duration": 14,
    "start_time": "2023-02-05T15:51:51.431Z"
   },
   {
    "duration": 25,
    "start_time": "2023-02-05T15:52:04.074Z"
   },
   {
    "duration": 24,
    "start_time": "2023-02-05T15:52:23.730Z"
   },
   {
    "duration": 24,
    "start_time": "2023-02-05T15:55:33.044Z"
   },
   {
    "duration": 79,
    "start_time": "2023-02-05T16:03:59.404Z"
   },
   {
    "duration": 91,
    "start_time": "2023-02-05T16:04:18.950Z"
   },
   {
    "duration": 75,
    "start_time": "2023-02-05T16:04:33.469Z"
   },
   {
    "duration": 69,
    "start_time": "2023-02-05T16:07:49.988Z"
   },
   {
    "duration": 3,
    "start_time": "2023-02-05T16:08:32.676Z"
   },
   {
    "duration": 90,
    "start_time": "2023-02-05T16:08:32.851Z"
   },
   {
    "duration": 16,
    "start_time": "2023-02-05T16:08:33.185Z"
   },
   {
    "duration": 4,
    "start_time": "2023-02-05T16:08:33.385Z"
   },
   {
    "duration": 5,
    "start_time": "2023-02-05T16:08:33.560Z"
   },
   {
    "duration": 6,
    "start_time": "2023-02-05T16:08:33.690Z"
   },
   {
    "duration": 20,
    "start_time": "2023-02-05T16:08:34.403Z"
   },
   {
    "duration": 4,
    "start_time": "2023-02-05T16:08:34.655Z"
   },
   {
    "duration": 7,
    "start_time": "2023-02-05T16:08:34.793Z"
   },
   {
    "duration": 8,
    "start_time": "2023-02-05T16:08:35.018Z"
   },
   {
    "duration": 11,
    "start_time": "2023-02-05T16:08:35.373Z"
   },
   {
    "duration": 18,
    "start_time": "2023-02-05T16:08:35.602Z"
   },
   {
    "duration": 5,
    "start_time": "2023-02-05T16:08:35.793Z"
   },
   {
    "duration": 5,
    "start_time": "2023-02-05T16:08:36.020Z"
   },
   {
    "duration": 13,
    "start_time": "2023-02-05T16:08:36.223Z"
   },
   {
    "duration": 11,
    "start_time": "2023-02-05T16:08:37.025Z"
   },
   {
    "duration": 12,
    "start_time": "2023-02-05T16:08:37.795Z"
   },
   {
    "duration": 11,
    "start_time": "2023-02-05T16:08:38.524Z"
   },
   {
    "duration": 6,
    "start_time": "2023-02-05T16:08:39.549Z"
   },
   {
    "duration": 179,
    "start_time": "2023-02-05T16:08:39.737Z"
   },
   {
    "duration": 9,
    "start_time": "2023-02-05T16:08:39.938Z"
   },
   {
    "duration": 231,
    "start_time": "2023-02-05T16:08:40.160Z"
   },
   {
    "duration": 223,
    "start_time": "2023-02-05T16:08:40.755Z"
   },
   {
    "duration": 359,
    "start_time": "2023-02-05T16:08:41.377Z"
   },
   {
    "duration": 116,
    "start_time": "2023-02-05T16:08:42.039Z"
   },
   {
    "duration": 11,
    "start_time": "2023-02-05T16:08:42.250Z"
   },
   {
    "duration": 5,
    "start_time": "2023-02-05T16:08:42.476Z"
   },
   {
    "duration": 4,
    "start_time": "2023-02-05T16:08:42.662Z"
   },
   {
    "duration": 267,
    "start_time": "2023-02-05T16:08:42.883Z"
   },
   {
    "duration": 360,
    "start_time": "2023-02-05T16:08:43.557Z"
   },
   {
    "duration": 7,
    "start_time": "2023-02-05T16:08:44.444Z"
   },
   {
    "duration": 160,
    "start_time": "2023-02-05T16:08:44.695Z"
   },
   {
    "duration": 5,
    "start_time": "2023-02-05T16:08:45.414Z"
   },
   {
    "duration": 260,
    "start_time": "2023-02-05T16:08:47.026Z"
   },
   {
    "duration": 5,
    "start_time": "2023-02-05T16:08:48.098Z"
   },
   {
    "duration": 4,
    "start_time": "2023-02-05T16:08:48.842Z"
   },
   {
    "duration": 219,
    "start_time": "2023-02-05T16:08:51.109Z"
   },
   {
    "duration": 124,
    "start_time": "2023-02-05T16:08:52.872Z"
   },
   {
    "duration": 25,
    "start_time": "2023-02-05T16:08:55.363Z"
   },
   {
    "duration": 73,
    "start_time": "2023-02-05T16:08:58.576Z"
   },
   {
    "duration": 9,
    "start_time": "2023-02-05T16:10:05.559Z"
   },
   {
    "duration": 12,
    "start_time": "2023-02-05T16:11:35.441Z"
   },
   {
    "duration": 14,
    "start_time": "2023-02-05T16:12:35.209Z"
   },
   {
    "duration": 15,
    "start_time": "2023-02-05T16:12:53.882Z"
   },
   {
    "duration": 70,
    "start_time": "2023-02-05T16:18:17.449Z"
   },
   {
    "duration": 13,
    "start_time": "2023-02-05T16:23:42.556Z"
   },
   {
    "duration": 5,
    "start_time": "2023-02-05T16:24:09.591Z"
   },
   {
    "duration": 92,
    "start_time": "2023-02-05T16:24:09.774Z"
   },
   {
    "duration": 15,
    "start_time": "2023-02-05T16:24:10.137Z"
   },
   {
    "duration": 5,
    "start_time": "2023-02-05T16:24:10.330Z"
   },
   {
    "duration": 7,
    "start_time": "2023-02-05T16:24:10.512Z"
   },
   {
    "duration": 6,
    "start_time": "2023-02-05T16:24:10.665Z"
   },
   {
    "duration": 23,
    "start_time": "2023-02-05T16:24:11.028Z"
   },
   {
    "duration": 4,
    "start_time": "2023-02-05T16:24:11.229Z"
   },
   {
    "duration": 6,
    "start_time": "2023-02-05T16:24:11.411Z"
   },
   {
    "duration": 9,
    "start_time": "2023-02-05T16:24:11.572Z"
   },
   {
    "duration": 10,
    "start_time": "2023-02-05T16:24:11.765Z"
   },
   {
    "duration": 17,
    "start_time": "2023-02-05T16:24:11.965Z"
   },
   {
    "duration": 8,
    "start_time": "2023-02-05T16:24:12.140Z"
   },
   {
    "duration": 6,
    "start_time": "2023-02-05T16:24:12.357Z"
   },
   {
    "duration": 14,
    "start_time": "2023-02-05T16:24:12.689Z"
   },
   {
    "duration": 12,
    "start_time": "2023-02-05T16:24:13.427Z"
   },
   {
    "duration": 12,
    "start_time": "2023-02-05T16:24:13.969Z"
   },
   {
    "duration": 10,
    "start_time": "2023-02-05T16:24:14.510Z"
   },
   {
    "duration": 6,
    "start_time": "2023-02-05T16:24:15.460Z"
   },
   {
    "duration": 181,
    "start_time": "2023-02-05T16:24:15.670Z"
   },
   {
    "duration": 9,
    "start_time": "2023-02-05T16:24:15.871Z"
   },
   {
    "duration": 296,
    "start_time": "2023-02-05T16:24:16.129Z"
   },
   {
    "duration": 242,
    "start_time": "2023-02-05T16:24:16.736Z"
   },
   {
    "duration": 355,
    "start_time": "2023-02-05T16:24:17.287Z"
   },
   {
    "duration": 121,
    "start_time": "2023-02-05T16:24:17.896Z"
   },
   {
    "duration": 26,
    "start_time": "2023-02-05T16:24:18.093Z"
   },
   {
    "duration": 4,
    "start_time": "2023-02-05T16:24:18.343Z"
   },
   {
    "duration": 4,
    "start_time": "2023-02-05T16:24:18.525Z"
   },
   {
    "duration": 278,
    "start_time": "2023-02-05T16:24:18.710Z"
   },
   {
    "duration": 416,
    "start_time": "2023-02-05T16:24:19.573Z"
   },
   {
    "duration": 7,
    "start_time": "2023-02-05T16:24:20.383Z"
   },
   {
    "duration": 170,
    "start_time": "2023-02-05T16:24:20.602Z"
   },
   {
    "duration": 6,
    "start_time": "2023-02-05T16:24:21.264Z"
   },
   {
    "duration": 193,
    "start_time": "2023-02-05T16:24:21.898Z"
   },
   {
    "duration": 6,
    "start_time": "2023-02-05T16:24:22.481Z"
   },
   {
    "duration": 4,
    "start_time": "2023-02-05T16:24:22.676Z"
   },
   {
    "duration": 241,
    "start_time": "2023-02-05T16:24:23.278Z"
   },
   {
    "duration": 170,
    "start_time": "2023-02-05T16:24:23.866Z"
   },
   {
    "duration": 27,
    "start_time": "2023-02-05T16:24:24.528Z"
   },
   {
    "duration": 29,
    "start_time": "2023-02-05T16:24:26.382Z"
   },
   {
    "duration": 14,
    "start_time": "2023-02-05T16:24:31.524Z"
   },
   {
    "duration": 8,
    "start_time": "2023-02-05T16:24:34.481Z"
   },
   {
    "duration": 22,
    "start_time": "2023-02-05T16:24:35.469Z"
   },
   {
    "duration": 22,
    "start_time": "2023-02-05T16:25:02.605Z"
   },
   {
    "duration": 29,
    "start_time": "2023-02-05T16:27:33.584Z"
   },
   {
    "duration": 14,
    "start_time": "2023-02-05T16:29:54.564Z"
   },
   {
    "duration": 14,
    "start_time": "2023-02-05T16:31:31.103Z"
   },
   {
    "duration": 1212,
    "start_time": "2023-02-05T16:31:58.290Z"
   },
   {
    "duration": 16,
    "start_time": "2023-02-05T16:32:34.126Z"
   },
   {
    "duration": 15,
    "start_time": "2023-02-05T16:33:59.554Z"
   },
   {
    "duration": 1216,
    "start_time": "2023-02-05T17:34:44.161Z"
   },
   {
    "duration": 80,
    "start_time": "2023-02-05T17:34:45.380Z"
   },
   {
    "duration": 26,
    "start_time": "2023-02-05T17:34:45.461Z"
   },
   {
    "duration": 9,
    "start_time": "2023-02-05T17:34:45.489Z"
   },
   {
    "duration": 20,
    "start_time": "2023-02-05T17:34:45.500Z"
   },
   {
    "duration": 19,
    "start_time": "2023-02-05T17:34:45.522Z"
   },
   {
    "duration": 27,
    "start_time": "2023-02-05T17:34:45.543Z"
   },
   {
    "duration": 4,
    "start_time": "2023-02-05T17:34:45.573Z"
   },
   {
    "duration": 15,
    "start_time": "2023-02-05T17:34:45.578Z"
   },
   {
    "duration": 7,
    "start_time": "2023-02-05T17:34:45.597Z"
   },
   {
    "duration": 12,
    "start_time": "2023-02-05T17:34:45.606Z"
   },
   {
    "duration": 25,
    "start_time": "2023-02-05T17:34:45.620Z"
   },
   {
    "duration": 9,
    "start_time": "2023-02-05T17:34:45.647Z"
   },
   {
    "duration": 11,
    "start_time": "2023-02-05T17:34:45.658Z"
   },
   {
    "duration": 30,
    "start_time": "2023-02-05T17:34:45.671Z"
   },
   {
    "duration": 15,
    "start_time": "2023-02-05T17:34:45.703Z"
   },
   {
    "duration": 14,
    "start_time": "2023-02-05T17:34:45.719Z"
   },
   {
    "duration": 19,
    "start_time": "2023-02-05T17:34:45.735Z"
   },
   {
    "duration": 13,
    "start_time": "2023-02-05T17:34:45.756Z"
   },
   {
    "duration": 205,
    "start_time": "2023-02-05T17:34:45.771Z"
   },
   {
    "duration": 17,
    "start_time": "2023-02-05T17:34:45.977Z"
   },
   {
    "duration": 352,
    "start_time": "2023-02-05T17:34:45.996Z"
   },
   {
    "duration": 266,
    "start_time": "2023-02-05T17:34:46.350Z"
   },
   {
    "duration": 366,
    "start_time": "2023-02-05T17:34:46.618Z"
   },
   {
    "duration": 133,
    "start_time": "2023-02-05T17:34:46.986Z"
   },
   {
    "duration": 16,
    "start_time": "2023-02-05T17:34:47.120Z"
   },
   {
    "duration": 10,
    "start_time": "2023-02-05T17:34:47.138Z"
   },
   {
    "duration": 7,
    "start_time": "2023-02-05T17:34:47.151Z"
   },
   {
    "duration": 293,
    "start_time": "2023-02-05T17:34:47.160Z"
   },
   {
    "duration": 380,
    "start_time": "2023-02-05T17:34:47.457Z"
   },
   {
    "duration": 7,
    "start_time": "2023-02-05T17:34:47.839Z"
   },
   {
    "duration": 179,
    "start_time": "2023-02-05T17:34:47.848Z"
   },
   {
    "duration": 5,
    "start_time": "2023-02-05T17:34:48.029Z"
   },
   {
    "duration": 201,
    "start_time": "2023-02-05T17:34:48.036Z"
   },
   {
    "duration": 6,
    "start_time": "2023-02-05T17:34:48.239Z"
   },
   {
    "duration": 7,
    "start_time": "2023-02-05T17:34:48.247Z"
   },
   {
    "duration": 329,
    "start_time": "2023-02-05T17:34:48.255Z"
   },
   {
    "duration": 187,
    "start_time": "2023-02-05T17:34:48.586Z"
   },
   {
    "duration": 43,
    "start_time": "2023-02-05T17:34:48.775Z"
   },
   {
    "duration": 15,
    "start_time": "2023-02-05T17:34:48.819Z"
   },
   {
    "duration": 13,
    "start_time": "2023-02-05T17:34:48.836Z"
   },
   {
    "duration": 7,
    "start_time": "2023-02-05T17:34:48.851Z"
   },
   {
    "duration": 54,
    "start_time": "2023-02-05T17:34:48.860Z"
   },
   {
    "duration": 15,
    "start_time": "2023-02-05T17:34:48.915Z"
   },
   {
    "duration": 1652,
    "start_time": "2023-02-07T14:58:37.672Z"
   },
   {
    "duration": 216,
    "start_time": "2023-02-07T14:58:39.326Z"
   },
   {
    "duration": 18,
    "start_time": "2023-02-07T14:58:39.544Z"
   },
   {
    "duration": 3,
    "start_time": "2023-02-07T14:58:39.564Z"
   },
   {
    "duration": 11,
    "start_time": "2023-02-07T14:58:39.569Z"
   },
   {
    "duration": 23,
    "start_time": "2023-02-07T14:58:39.581Z"
   },
   {
    "duration": 21,
    "start_time": "2023-02-07T14:58:39.606Z"
   },
   {
    "duration": 3,
    "start_time": "2023-02-07T14:58:39.628Z"
   },
   {
    "duration": 9,
    "start_time": "2023-02-07T14:58:39.633Z"
   },
   {
    "duration": 9,
    "start_time": "2023-02-07T14:58:39.644Z"
   },
   {
    "duration": 9,
    "start_time": "2023-02-07T14:58:39.654Z"
   },
   {
    "duration": 30,
    "start_time": "2023-02-07T14:58:39.665Z"
   },
   {
    "duration": 6,
    "start_time": "2023-02-07T14:58:39.696Z"
   },
   {
    "duration": 6,
    "start_time": "2023-02-07T14:58:39.703Z"
   },
   {
    "duration": 10,
    "start_time": "2023-02-07T14:58:39.711Z"
   },
   {
    "duration": 11,
    "start_time": "2023-02-07T14:58:39.723Z"
   },
   {
    "duration": 10,
    "start_time": "2023-02-07T14:58:39.735Z"
   },
   {
    "duration": 14,
    "start_time": "2023-02-07T14:58:39.746Z"
   },
   {
    "duration": 34,
    "start_time": "2023-02-07T14:58:39.761Z"
   },
   {
    "duration": 178,
    "start_time": "2023-02-07T14:58:39.797Z"
   },
   {
    "duration": 8,
    "start_time": "2023-02-07T14:58:39.977Z"
   },
   {
    "duration": 347,
    "start_time": "2023-02-07T14:58:39.986Z"
   },
   {
    "duration": 246,
    "start_time": "2023-02-07T14:58:40.335Z"
   },
   {
    "duration": 393,
    "start_time": "2023-02-07T14:58:40.582Z"
   },
   {
    "duration": 120,
    "start_time": "2023-02-07T14:58:40.977Z"
   },
   {
    "duration": 11,
    "start_time": "2023-02-07T14:58:41.099Z"
   },
   {
    "duration": 6,
    "start_time": "2023-02-07T14:58:41.111Z"
   },
   {
    "duration": 5,
    "start_time": "2023-02-07T14:58:41.121Z"
   },
   {
    "duration": 294,
    "start_time": "2023-02-07T14:58:41.127Z"
   },
   {
    "duration": 340,
    "start_time": "2023-02-07T14:58:41.423Z"
   },
   {
    "duration": 7,
    "start_time": "2023-02-07T14:58:41.765Z"
   },
   {
    "duration": 164,
    "start_time": "2023-02-07T14:58:41.774Z"
   },
   {
    "duration": 4,
    "start_time": "2023-02-07T14:58:41.940Z"
   },
   {
    "duration": 183,
    "start_time": "2023-02-07T14:58:41.946Z"
   },
   {
    "duration": 4,
    "start_time": "2023-02-07T14:58:42.131Z"
   },
   {
    "duration": 15,
    "start_time": "2023-02-07T14:58:42.137Z"
   },
   {
    "duration": 292,
    "start_time": "2023-02-07T14:58:42.154Z"
   },
   {
    "duration": 130,
    "start_time": "2023-02-07T14:58:42.447Z"
   },
   {
    "duration": 28,
    "start_time": "2023-02-07T14:58:42.579Z"
   },
   {
    "duration": 12,
    "start_time": "2023-02-07T14:58:42.609Z"
   },
   {
    "duration": 17,
    "start_time": "2023-02-07T14:58:42.623Z"
   },
   {
    "duration": 19,
    "start_time": "2023-02-07T14:58:42.641Z"
   },
   {
    "duration": 30,
    "start_time": "2023-02-07T14:58:42.662Z"
   },
   {
    "duration": 13,
    "start_time": "2023-02-07T14:58:42.693Z"
   },
   {
    "duration": 1249,
    "start_time": "2023-02-07T15:52:26.133Z"
   },
   {
    "duration": 277,
    "start_time": "2023-02-07T15:52:27.384Z"
   },
   {
    "duration": 18,
    "start_time": "2023-02-07T15:52:27.662Z"
   },
   {
    "duration": 2,
    "start_time": "2023-02-07T15:52:27.682Z"
   },
   {
    "duration": 7,
    "start_time": "2023-02-07T15:52:27.686Z"
   },
   {
    "duration": 6,
    "start_time": "2023-02-07T15:52:27.694Z"
   },
   {
    "duration": 20,
    "start_time": "2023-02-07T15:52:28.145Z"
   },
   {
    "duration": 4,
    "start_time": "2023-02-07T15:52:28.338Z"
   },
   {
    "duration": 6,
    "start_time": "2023-02-07T15:52:28.593Z"
   },
   {
    "duration": 6,
    "start_time": "2023-02-07T15:52:28.750Z"
   },
   {
    "duration": 9,
    "start_time": "2023-02-07T15:52:28.930Z"
   },
   {
    "duration": 16,
    "start_time": "2023-02-07T15:52:29.384Z"
   },
   {
    "duration": 6,
    "start_time": "2023-02-07T15:52:29.557Z"
   },
   {
    "duration": 5,
    "start_time": "2023-02-07T15:52:29.791Z"
   },
   {
    "duration": 9,
    "start_time": "2023-02-07T15:52:29.956Z"
   },
   {
    "duration": 12,
    "start_time": "2023-02-07T15:52:31.048Z"
   },
   {
    "duration": 12,
    "start_time": "2023-02-07T15:52:31.888Z"
   },
   {
    "duration": 10,
    "start_time": "2023-02-07T15:52:32.787Z"
   },
   {
    "duration": 6,
    "start_time": "2023-02-07T15:52:35.666Z"
   },
   {
    "duration": 187,
    "start_time": "2023-02-07T15:52:35.673Z"
   },
   {
    "duration": 8,
    "start_time": "2023-02-07T15:52:35.861Z"
   },
   {
    "duration": 331,
    "start_time": "2023-02-07T15:52:35.871Z"
   },
   {
    "duration": 245,
    "start_time": "2023-02-07T15:52:37.547Z"
   },
   {
    "duration": 356,
    "start_time": "2023-02-07T15:52:40.592Z"
   },
   {
    "duration": 148,
    "start_time": "2023-02-07T15:52:43.443Z"
   },
   {
    "duration": 13,
    "start_time": "2023-02-07T15:52:43.690Z"
   },
   {
    "duration": 5,
    "start_time": "2023-02-07T15:52:44.595Z"
   },
   {
    "duration": 6,
    "start_time": "2023-02-07T15:52:45.444Z"
   },
   {
    "duration": 299,
    "start_time": "2023-02-07T15:52:45.689Z"
   },
   {
    "duration": 333,
    "start_time": "2023-02-07T15:52:59.704Z"
   },
   {
    "duration": 353,
    "start_time": "2023-02-07T15:53:16.922Z"
   },
   {
    "duration": 7,
    "start_time": "2023-02-07T15:53:36.651Z"
   },
   {
    "duration": 165,
    "start_time": "2023-02-07T15:53:40.714Z"
   },
   {
    "duration": 5,
    "start_time": "2023-02-07T15:53:43.791Z"
   },
   {
    "duration": 249,
    "start_time": "2023-02-07T15:53:46.991Z"
   },
   {
    "duration": 7,
    "start_time": "2023-02-07T15:54:12.289Z"
   },
   {
    "duration": 5,
    "start_time": "2023-02-07T15:54:12.692Z"
   },
   {
    "duration": 215,
    "start_time": "2023-02-07T15:54:16.747Z"
   },
   {
    "duration": 141,
    "start_time": "2023-02-07T15:54:19.921Z"
   },
   {
    "duration": 1152,
    "start_time": "2023-02-07T16:26:08.362Z"
   },
   {
    "duration": 70,
    "start_time": "2023-02-07T16:26:09.516Z"
   },
   {
    "duration": 19,
    "start_time": "2023-02-07T16:26:09.587Z"
   },
   {
    "duration": 2,
    "start_time": "2023-02-07T16:26:09.608Z"
   },
   {
    "duration": 7,
    "start_time": "2023-02-07T16:26:09.612Z"
   },
   {
    "duration": 9,
    "start_time": "2023-02-07T16:26:09.620Z"
   },
   {
    "duration": 23,
    "start_time": "2023-02-07T16:26:09.630Z"
   },
   {
    "duration": 3,
    "start_time": "2023-02-07T16:26:09.655Z"
   },
   {
    "duration": 8,
    "start_time": "2023-02-07T16:26:09.659Z"
   },
   {
    "duration": 6,
    "start_time": "2023-02-07T16:26:09.693Z"
   },
   {
    "duration": 15,
    "start_time": "2023-02-07T16:26:09.700Z"
   },
   {
    "duration": 19,
    "start_time": "2023-02-07T16:26:09.717Z"
   },
   {
    "duration": 8,
    "start_time": "2023-02-07T16:26:09.738Z"
   },
   {
    "duration": 10,
    "start_time": "2023-02-07T16:26:09.748Z"
   },
   {
    "duration": 34,
    "start_time": "2023-02-07T16:26:09.760Z"
   },
   {
    "duration": 13,
    "start_time": "2023-02-07T16:26:09.796Z"
   },
   {
    "duration": 10,
    "start_time": "2023-02-07T16:26:09.810Z"
   },
   {
    "duration": 11,
    "start_time": "2023-02-07T16:26:09.821Z"
   },
   {
    "duration": 11,
    "start_time": "2023-02-07T16:26:09.834Z"
   },
   {
    "duration": 208,
    "start_time": "2023-02-07T16:26:09.847Z"
   },
   {
    "duration": 8,
    "start_time": "2023-02-07T16:26:10.057Z"
   },
   {
    "duration": 315,
    "start_time": "2023-02-07T16:26:10.067Z"
   },
   {
    "duration": 251,
    "start_time": "2023-02-07T16:26:10.384Z"
   },
   {
    "duration": 312,
    "start_time": "2023-02-07T16:26:10.637Z"
   },
   {
    "duration": 127,
    "start_time": "2023-02-07T16:26:10.951Z"
   },
   {
    "duration": 23,
    "start_time": "2023-02-07T16:26:11.080Z"
   },
   {
    "duration": 4,
    "start_time": "2023-02-07T16:26:11.104Z"
   },
   {
    "duration": 6,
    "start_time": "2023-02-07T16:26:11.111Z"
   },
   {
    "duration": 331,
    "start_time": "2023-02-07T16:26:11.118Z"
   },
   {
    "duration": 357,
    "start_time": "2023-02-07T16:26:11.451Z"
   },
   {
    "duration": 7,
    "start_time": "2023-02-07T16:26:11.810Z"
   },
   {
    "duration": 177,
    "start_time": "2023-02-07T16:26:11.818Z"
   },
   {
    "duration": 5,
    "start_time": "2023-02-07T16:26:11.997Z"
   },
   {
    "duration": 198,
    "start_time": "2023-02-07T16:26:12.004Z"
   },
   {
    "duration": 5,
    "start_time": "2023-02-07T16:26:12.204Z"
   },
   {
    "duration": 7,
    "start_time": "2023-02-07T16:26:12.211Z"
   },
   {
    "duration": 331,
    "start_time": "2023-02-07T16:26:12.220Z"
   },
   {
    "duration": 132,
    "start_time": "2023-02-07T16:26:12.552Z"
   },
   {
    "duration": 30,
    "start_time": "2023-02-07T16:26:12.686Z"
   },
   {
    "duration": 12,
    "start_time": "2023-02-07T16:26:12.718Z"
   },
   {
    "duration": 11,
    "start_time": "2023-02-07T16:26:12.732Z"
   },
   {
    "duration": 6,
    "start_time": "2023-02-07T16:26:12.744Z"
   },
   {
    "duration": 48,
    "start_time": "2023-02-07T16:26:12.752Z"
   },
   {
    "duration": 14,
    "start_time": "2023-02-07T16:26:12.802Z"
   },
   {
    "duration": 3,
    "start_time": "2023-02-07T16:44:44.549Z"
   },
   {
    "duration": 79,
    "start_time": "2023-02-07T16:44:44.730Z"
   },
   {
    "duration": 19,
    "start_time": "2023-02-07T16:44:45.125Z"
   },
   {
    "duration": 3,
    "start_time": "2023-02-07T16:44:45.497Z"
   },
   {
    "duration": 6,
    "start_time": "2023-02-07T16:44:45.705Z"
   },
   {
    "duration": 5,
    "start_time": "2023-02-07T16:44:45.896Z"
   },
   {
    "duration": 19,
    "start_time": "2023-02-07T16:44:46.459Z"
   },
   {
    "duration": 3,
    "start_time": "2023-02-07T16:44:46.635Z"
   },
   {
    "duration": 8,
    "start_time": "2023-02-07T16:44:47.005Z"
   },
   {
    "duration": 8,
    "start_time": "2023-02-07T16:44:47.226Z"
   },
   {
    "duration": 10,
    "start_time": "2023-02-07T16:44:47.436Z"
   },
   {
    "duration": 16,
    "start_time": "2023-02-07T16:44:47.855Z"
   },
   {
    "duration": 6,
    "start_time": "2023-02-07T16:44:48.035Z"
   },
   {
    "duration": 5,
    "start_time": "2023-02-07T16:44:48.203Z"
   },
   {
    "duration": 9,
    "start_time": "2023-02-07T16:44:48.458Z"
   },
   {
    "duration": 11,
    "start_time": "2023-02-07T16:44:49.449Z"
   },
   {
    "duration": 11,
    "start_time": "2023-02-07T16:44:50.849Z"
   },
   {
    "duration": 10,
    "start_time": "2023-02-07T16:44:51.703Z"
   },
   {
    "duration": 6,
    "start_time": "2023-02-07T16:44:53.947Z"
   },
   {
    "duration": 174,
    "start_time": "2023-02-07T16:44:54.138Z"
   },
   {
    "duration": 9,
    "start_time": "2023-02-07T16:44:54.319Z"
   },
   {
    "duration": 205,
    "start_time": "2023-02-07T16:44:54.516Z"
   },
   {
    "duration": 227,
    "start_time": "2023-02-07T16:44:55.320Z"
   },
   {
    "duration": 356,
    "start_time": "2023-02-07T16:44:57.750Z"
   },
   {
    "duration": 140,
    "start_time": "2023-02-07T16:45:32.153Z"
   },
   {
    "duration": 12,
    "start_time": "2023-02-07T16:45:33.264Z"
   },
   {
    "duration": 4,
    "start_time": "2023-02-07T16:45:34.489Z"
   },
   {
    "duration": 5,
    "start_time": "2023-02-07T16:45:35.820Z"
   },
   {
    "duration": 283,
    "start_time": "2023-02-07T16:45:37.022Z"
   },
   {
    "duration": 365,
    "start_time": "2023-02-07T16:49:01.722Z"
   },
   {
    "duration": 382,
    "start_time": "2023-02-07T16:49:29.267Z"
   },
   {
    "duration": 355,
    "start_time": "2023-02-07T16:49:46.281Z"
   },
   {
    "duration": 324,
    "start_time": "2023-02-07T16:50:04.209Z"
   },
   {
    "duration": 312,
    "start_time": "2023-02-07T16:58:09.212Z"
   },
   {
    "duration": 1462,
    "start_time": "2023-02-07T17:59:49.046Z"
   },
   {
    "duration": 262,
    "start_time": "2023-02-07T17:59:50.511Z"
   },
   {
    "duration": 23,
    "start_time": "2023-02-07T17:59:50.776Z"
   },
   {
    "duration": 4,
    "start_time": "2023-02-07T17:59:50.801Z"
   },
   {
    "duration": 29,
    "start_time": "2023-02-07T17:59:50.807Z"
   },
   {
    "duration": 34,
    "start_time": "2023-02-07T17:59:50.838Z"
   },
   {
    "duration": 48,
    "start_time": "2023-02-07T17:59:50.874Z"
   },
   {
    "duration": 4,
    "start_time": "2023-02-07T17:59:50.924Z"
   },
   {
    "duration": 28,
    "start_time": "2023-02-07T17:59:50.929Z"
   },
   {
    "duration": 40,
    "start_time": "2023-02-07T17:59:50.959Z"
   },
   {
    "duration": 30,
    "start_time": "2023-02-07T17:59:51.001Z"
   },
   {
    "duration": 35,
    "start_time": "2023-02-07T17:59:51.033Z"
   },
   {
    "duration": 11,
    "start_time": "2023-02-07T17:59:51.070Z"
   },
   {
    "duration": 15,
    "start_time": "2023-02-07T17:59:51.084Z"
   },
   {
    "duration": 41,
    "start_time": "2023-02-07T17:59:51.101Z"
   },
   {
    "duration": 40,
    "start_time": "2023-02-07T17:59:51.145Z"
   },
   {
    "duration": 28,
    "start_time": "2023-02-07T17:59:51.187Z"
   },
   {
    "duration": 29,
    "start_time": "2023-02-07T17:59:51.217Z"
   },
   {
    "duration": 111,
    "start_time": "2023-02-07T17:59:51.248Z"
   },
   {
    "duration": 232,
    "start_time": "2023-02-07T17:59:51.362Z"
   },
   {
    "duration": 8,
    "start_time": "2023-02-07T17:59:51.596Z"
   },
   {
    "duration": 416,
    "start_time": "2023-02-07T17:59:51.606Z"
   },
   {
    "duration": 282,
    "start_time": "2023-02-07T17:59:52.024Z"
   },
   {
    "duration": 471,
    "start_time": "2023-02-07T17:59:52.307Z"
   },
   {
    "duration": 143,
    "start_time": "2023-02-07T17:59:52.780Z"
   },
   {
    "duration": 26,
    "start_time": "2023-02-07T17:59:52.925Z"
   },
   {
    "duration": 22,
    "start_time": "2023-02-07T17:59:52.953Z"
   },
   {
    "duration": 12,
    "start_time": "2023-02-07T17:59:52.977Z"
   },
   {
    "duration": 330,
    "start_time": "2023-02-07T17:59:52.990Z"
   },
   {
    "duration": 425,
    "start_time": "2023-02-07T17:59:53.322Z"
   },
   {
    "duration": 8,
    "start_time": "2023-02-07T17:59:53.749Z"
   },
   {
    "duration": 212,
    "start_time": "2023-02-07T17:59:53.759Z"
   },
   {
    "duration": 5,
    "start_time": "2023-02-07T17:59:53.973Z"
   },
   {
    "duration": 225,
    "start_time": "2023-02-07T17:59:53.980Z"
   },
   {
    "duration": 5,
    "start_time": "2023-02-07T17:59:54.207Z"
   },
   {
    "duration": 15,
    "start_time": "2023-02-07T17:59:54.213Z"
   },
   {
    "duration": 327,
    "start_time": "2023-02-07T17:59:54.229Z"
   },
   {
    "duration": 157,
    "start_time": "2023-02-07T17:59:54.559Z"
   },
   {
    "duration": 50,
    "start_time": "2023-02-07T17:59:54.718Z"
   },
   {
    "duration": 17,
    "start_time": "2023-02-07T17:59:54.770Z"
   },
   {
    "duration": 12,
    "start_time": "2023-02-07T17:59:54.792Z"
   },
   {
    "duration": 32,
    "start_time": "2023-02-07T17:59:54.806Z"
   },
   {
    "duration": 41,
    "start_time": "2023-02-07T17:59:54.840Z"
   },
   {
    "duration": 17,
    "start_time": "2023-02-07T17:59:54.883Z"
   }
  ],
  "kernelspec": {
   "display_name": "Python 3 (ipykernel)",
   "language": "python",
   "name": "python3"
  },
  "language_info": {
   "codemirror_mode": {
    "name": "ipython",
    "version": 3
   },
   "file_extension": ".py",
   "mimetype": "text/x-python",
   "name": "python",
   "nbconvert_exporter": "python",
   "pygments_lexer": "ipython3",
   "version": "3.9.13"
  },
  "toc": {
   "base_numbering": 1,
   "nav_menu": {},
   "number_sections": true,
   "sideBar": true,
   "skip_h1_title": true,
   "title_cell": "Table of Contents",
   "title_sidebar": "Contents",
   "toc_cell": false,
   "toc_position": {},
   "toc_section_display": true,
   "toc_window_display": false
  }
 },
 "nbformat": 4,
 "nbformat_minor": 2
}
